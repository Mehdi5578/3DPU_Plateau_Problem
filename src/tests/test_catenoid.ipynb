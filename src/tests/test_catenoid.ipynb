{
 "cells": [
  {
   "cell_type": "markdown",
   "metadata": {},
   "source": [
    "Connected to integrating (Python 3.11.5)"
   ]
  },
  {
   "cell_type": "code",
   "execution_count": 1,
   "metadata": {},
   "outputs": [],
   "source": [
    "import sys\n",
    "ROOT = '../'\n",
    "sys.path.append(\"/home/mehdii/projects/def-vidalthi/mehdii/3DPU_Plateau_Problem/\")\n",
    "sys.path.append(ROOT)\n",
    "\n",
    "from Final_surface import *"
   ]
  },
  {
   "cell_type": "code",
   "execution_count": 2,
   "metadata": {},
   "outputs": [
    {
     "name": "stdout",
     "output_type": "stream",
     "text": [
      "Defaulting to user installation because normal site-packages is not writeable\n",
      "Looking in links: /cvmfs/soft.computecanada.ca/custom/python/wheelhouse/gentoo2020/avx2, /cvmfs/soft.computecanada.ca/custom/python/wheelhouse/gentoo/avx2, /cvmfs/soft.computecanada.ca/custom/python/wheelhouse/gentoo2020/generic, /cvmfs/soft.computecanada.ca/custom/python/wheelhouse/gentoo/generic, /cvmfs/soft.computecanada.ca/custom/python/wheelhouse/generic\n",
      "Requirement already satisfied: ipympl in /home/mehdii/.local/lib/python3.11/site-packages (0.9.3+computecanada)\n",
      "Requirement already satisfied: ipython<9 in /home/mehdii/.local/lib/python3.11/site-packages (from ipympl) (8.20.0)\n",
      "Requirement already satisfied: numpy in /home/mehdii/.local/lib/python3.11/site-packages (from ipympl) (1.25.2+computecanada)\n",
      "Requirement already satisfied: ipython-genutils in /home/mehdii/.local/lib/python3.11/site-packages (from ipympl) (0.2.0+computecanada)\n",
      "Requirement already satisfied: pillow in /home/mehdii/.local/lib/python3.11/site-packages (from ipympl) (10.1.0+computecanada)\n",
      "Requirement already satisfied: traitlets<6 in /home/mehdii/.local/lib/python3.11/site-packages (from ipympl) (5.14.1)\n",
      "Requirement already satisfied: ipywidgets<9,>=7.6.0 in /home/mehdii/.local/lib/python3.11/site-packages (from ipympl) (8.1.1+computecanada)\n",
      "Requirement already satisfied: matplotlib<4,>=3.4.0 in /home/mehdii/.local/lib/python3.11/site-packages (from ipympl) (3.7.2+computecanada)\n",
      "Requirement already satisfied: decorator in /home/mehdii/.local/lib/python3.11/site-packages (from ipython<9->ipympl) (5.1.1+computecanada)\n",
      "Requirement already satisfied: jedi>=0.16 in /home/mehdii/.local/lib/python3.11/site-packages (from ipython<9->ipympl) (0.19.1+computecanada)\n",
      "Requirement already satisfied: matplotlib-inline in /home/mehdii/.local/lib/python3.11/site-packages (from ipython<9->ipympl) (0.1.6+computecanada)\n",
      "Requirement already satisfied: prompt-toolkit<3.1.0,>=3.0.41 in /home/mehdii/.local/lib/python3.11/site-packages (from ipython<9->ipympl) (3.0.43)\n",
      "Requirement already satisfied: pygments>=2.4.0 in /home/mehdii/.local/lib/python3.11/site-packages (from ipython<9->ipympl) (2.17.2+computecanada)\n",
      "Requirement already satisfied: stack-data in /home/mehdii/.local/lib/python3.11/site-packages (from ipython<9->ipympl) (0.6.3+computecanada)\n",
      "Requirement already satisfied: pexpect>4.3 in /home/mehdii/.local/lib/python3.11/site-packages (from ipython<9->ipympl) (4.9.0)\n",
      "Requirement already satisfied: comm>=0.1.3 in /home/mehdii/.local/lib/python3.11/site-packages (from ipywidgets<9,>=7.6.0->ipympl) (0.2.1)\n",
      "Requirement already satisfied: widgetsnbextension~=4.0.9 in /home/mehdii/.local/lib/python3.11/site-packages (from ipywidgets<9,>=7.6.0->ipympl) (4.0.9+computecanada)\n",
      "Requirement already satisfied: jupyterlab-widgets~=3.0.9 in /home/mehdii/.local/lib/python3.11/site-packages (from ipywidgets<9,>=7.6.0->ipympl) (3.0.9+computecanada)\n",
      "Requirement already satisfied: contourpy>=1.0.1 in /home/mehdii/.local/lib/python3.11/site-packages (from matplotlib<4,>=3.4.0->ipympl) (1.2.0+computecanada)\n",
      "Requirement already satisfied: cycler>=0.10 in /home/mehdii/.local/lib/python3.11/site-packages (from matplotlib<4,>=3.4.0->ipympl) (0.12.1+computecanada)\n",
      "Requirement already satisfied: fonttools>=4.22.0 in /home/mehdii/.local/lib/python3.11/site-packages (from matplotlib<4,>=3.4.0->ipympl) (4.47.2)\n",
      "Requirement already satisfied: kiwisolver>=1.0.1 in /home/mehdii/.local/lib/python3.11/site-packages (from matplotlib<4,>=3.4.0->ipympl) (1.4.5+computecanada)\n",
      "Requirement already satisfied: packaging>=20.0 in /home/mehdii/.local/lib/python3.11/site-packages (from matplotlib<4,>=3.4.0->ipympl) (23.2+computecanada)\n",
      "Requirement already satisfied: pyparsing<3.1,>=2.3.1 in /home/mehdii/.local/lib/python3.11/site-packages (from matplotlib<4,>=3.4.0->ipympl) (3.0.9+computecanada)\n",
      "Requirement already satisfied: python-dateutil>=2.7 in /home/mehdii/.local/lib/python3.11/site-packages (from matplotlib<4,>=3.4.0->ipympl) (2.8.2+computecanada)\n",
      "Requirement already satisfied: parso<0.9.0,>=0.8.3 in /home/mehdii/.local/lib/python3.11/site-packages (from jedi>=0.16->ipython<9->ipympl) (0.8.3+computecanada)\n",
      "Requirement already satisfied: ptyprocess>=0.5 in /home/mehdii/.local/lib/python3.11/site-packages (from pexpect>4.3->ipython<9->ipympl) (0.7.0+computecanada)\n",
      "Requirement already satisfied: wcwidth in /home/mehdii/.local/lib/python3.11/site-packages (from prompt-toolkit<3.1.0,>=3.0.41->ipython<9->ipympl) (0.2.13)\n",
      "Requirement already satisfied: six>=1.5 in /home/mehdii/.local/lib/python3.11/site-packages (from python-dateutil>=2.7->matplotlib<4,>=3.4.0->ipympl) (1.16.0+computecanada)\n",
      "Requirement already satisfied: executing>=1.2.0 in /home/mehdii/.local/lib/python3.11/site-packages (from stack-data->ipython<9->ipympl) (2.0.1+computecanada)\n",
      "Requirement already satisfied: asttokens>=2.1.0 in /home/mehdii/.local/lib/python3.11/site-packages (from stack-data->ipython<9->ipympl) (2.4.1+computecanada)\n",
      "Requirement already satisfied: pure-eval in /home/mehdii/.local/lib/python3.11/site-packages (from stack-data->ipython<9->ipympl) (0.2.2+computecanada)\n"
     ]
    }
   ],
   "source": [
    "!pip install ipympl"
   ]
  },
  {
   "cell_type": "code",
   "execution_count": 3,
   "metadata": {},
   "outputs": [],
   "source": [
    "from PointList import *\n",
    "%matplotlib widget \n",
    "from mpl_toolkits.mplot3d import Axes3D\n",
    "import matplotlib.pyplot as plt\n",
    "from tqdm import tqdm\n",
    "import math\n"
   ]
  },
  {
   "cell_type": "code",
   "execution_count": 3,
   "metadata": {},
   "outputs": [],
   "source": [
    "# from PointList import *\n",
    "# from Triangle import *\n",
    "# from tqdm import tqdm\n",
    "# from copy import *\n",
    "\n",
    "\n",
    "# class TriangularMesh:\n",
    "#     def __init__(self, boundary : PointList, desired_triangle_count):\n",
    "#         self.boundary = boundary \n",
    "#         self.m = desired_triangle_count\n",
    "#         self.mesh = []\n",
    "#         self.n = len(boundary.points)\n",
    "#         self.v_indexes = [] #the vertexes indices\n",
    "#         self.mapping = [] #contains the mapping from I(v_indexes) to R^3\n",
    "#         self.triangles  = []  #each triangle is a tuple\n",
    "#         self.inside_indexes  = []\n",
    "#         self.N = {} #les indices des voisins \n",
    "#         self.N_vertexes = len(self.v_indexes) # the number of nodes in the meshing\n",
    "#         self.w = np.empty((len(self.v_indexes),len(self.v_indexes)))\n",
    "#         self.dict_vertexes = {} # contains the dict of all triangles associated to an index\n",
    "#         self.edges = set()\n",
    "#         self.vertex_curvatures = dict()\n",
    "    \n",
    "\n",
    "#     def add_points_to_boundary(self,N = 10):\n",
    "#         \"adding points to the boundary\"\n",
    "#         K = deepcopy(self.boundary.points)\n",
    "#         R = []\n",
    "#         for i in tqdm(range(len(self.boundary.points))):\n",
    "            \n",
    "#             p1 = K[i-1]\n",
    "#             p2 = K[i]\n",
    "#             L = list(np.linspace(p1,p2,N+2))[1:-1]\n",
    "\n",
    "#             R.append(p1)\n",
    "#             R = R + L\n",
    "#         self.boundary.points = R\n",
    "#         self.n = len(self.boundary.points)\n",
    "\n",
    "\n",
    "\n",
    "#     def compute_central_point(self):\n",
    "#         return self.boundary.average_point()\n",
    "        \n",
    "         \n",
    "#     def create_initial_subdivisions(self):\n",
    "#         #  Create initial subdivisions using the central point\n",
    "#         C = self.compute_central_point()\n",
    "#         s = int(self.m/(2*self.n) - 1/2)\n",
    "#         triangle = self.boundary.points + [self.boundary.points[0]]\n",
    "#         P = [triangle]\n",
    "#         for j in range(1,s+1):\n",
    "#             P_j = triangle + (j / (s+1))*(C - triangle)\n",
    "#             P.append(P_j)\n",
    "        \n",
    "#         return np.array(P)\n",
    "        \n",
    "\n",
    "#     def create_quadrilaterals(self):\n",
    "#         #split the outside quadrilaterals\n",
    "#         P = self.create_initial_subdivisions()\n",
    "#         s = int(self.m/(2*self.n) - 1/2)\n",
    "#         for j in tqdm(range(s)) : \n",
    "#             for i in range(self.n) :\n",
    "#                 self.mesh.append([P[j,i],P[j+1,i+1],P[j,i+1]])\n",
    "#                 self.mesh.append([P[j,i],P[j+1,i+1],P[j+1,i]])\n",
    "        \n",
    "        \n",
    "\n",
    "\n",
    "#     def split_quadrilateral(self):\n",
    "#         C = self.compute_central_point()\n",
    "#         P = self.create_initial_subdivisions()\n",
    "#         for i in tqdm(range(self.n)) :\n",
    "#             self.mesh.append([C,P[-1,i],P[-1,i+1]])\n",
    "\n",
    "#     def further_subdivide(self):\n",
    "#         while len(self.mesh) < self.m :\n",
    "#             k = np.random.randint(0,len(self.mesh))\n",
    "#             tri = np.array(self.mesh.pop(k))\n",
    "#             C = np.mean(tri,axis = 0)\n",
    "#             tri1 = [tri[0],tri[1],C]\n",
    "#             tri2 = [tri[0],tri[2],C]\n",
    "#             tri3 = [tri[1],tri[2],C]\n",
    "#             self.mesh += [tri1,tri2,tri3]\n",
    "    \n",
    "\n",
    "\n",
    "\n",
    "#     def generate_mesh_initial(self):\n",
    "#         self.create_quadrilaterals()\n",
    "#         # self.further_subdivide()\n",
    "#         return self.mesh\n",
    "\n",
    "\n",
    "#     def modify_N(self,i):\n",
    "#         N = []\n",
    "#         for tr in self.triangles :\n",
    "#             if i in tr:\n",
    "#                 N += list(tr)\n",
    "#         self.N[i] = list(set(N))\n",
    "#         self.N[i].remove(i)\n",
    "\n",
    "\n",
    "#     def canonic_representation_from_mesh(self):\n",
    "#         K = np.array(self.mesh).reshape(-1,3)\n",
    "#         K = [tuple(x) for x in K]\n",
    "#         N = len(set(K))\n",
    "#         self.N_vertexes = N\n",
    "#         self.w = np.empty((N,N))\n",
    "#         self.v_indexes = list(range(N))\n",
    "#         self.mapping = list(set(K))\n",
    "#         for j in self.v_indexes:\n",
    "#             self.dict_vertexes[j] = []\n",
    "#         self.triangles = []\n",
    "#         for tri in self.mesh:\n",
    "#             triangle = [self.mapping.index(tuple(pt)) for pt in tri]\n",
    "#             self.triangles.append(tuple(sorted(triangle)))\n",
    "#             self.dict_vertexes[triangle[0]].append(tuple(sorted(triangle)))\n",
    "#             self.dict_vertexes[triangle[1]].append(tuple(sorted(triangle)))\n",
    "#             self.dict_vertexes[triangle[2]].append(tuple(sorted(triangle)))\n",
    "\n",
    "#         for i in self.v_indexes:\n",
    "#             self.modify_N(i)\n",
    "\n",
    "#         Outside = [tuple(k) for k in self.boundary.points]\n",
    "#         Outside_vertexes = [self.mapping.index((pt)) for pt in Outside]\n",
    "#         self.inside_indexes = list(set(self.v_indexes) - set(Outside_vertexes))\n",
    "\n",
    "    \n",
    "#     def tuple_mapping(self):\n",
    "#         self.mapping = [tuple(k) for k in self.mapping]\n",
    "\n",
    "            \n",
    "#     def clean_triangles(self):\n",
    "#         pass\n",
    "\n",
    "#     def area_3D(self,tr):\n",
    "#         v = [self.mapping[tr[0]],self.mapping[tr[1]],self.mapping[tr[2]]]\n",
    "#         return area_3D(v)\n",
    "\n",
    "\n",
    "#     def _N(self,i):\n",
    "#         N = []\n",
    "#         for tr in self.triangles :\n",
    "#             if i in tr:\n",
    "#                 N += list(tr)\n",
    "#         return list(set(N))\n",
    "\n",
    "\n",
    "\n",
    "\n",
    "\n",
    "\n",
    "\n",
    "\n",
    "#     def cotangent_angle(self, p1, p2, p3):\n",
    "#         \"\"\"Compute the cotangent of the angle between p1-p2 and p1-p3.\"\"\"\n",
    "#         v1 = np.array(self.mapping[p2]) - np.array(self.mapping[p1])\n",
    "#         v2 = np.array(self.mapping[p3]) - np.array(self.mapping[p1])\n",
    "#         dot_product = np.dot(v1, v2)\n",
    "#         cross_product_norm = np.linalg.norm(np.cross(v1, v2))\n",
    "#         return dot_product / cross_product_norm\n",
    "\n",
    "#     def voronoi(self,p1,p2,p3):\n",
    "#         \"\"\"Compute vornoi area at point p\"\"\"\n",
    "\n",
    "#         p = np.array(self.mapping[p1])\n",
    "#         q = np.array(self.mapping[p2])\n",
    "#         r = np.array(self.mapping[p3])\n",
    "#         pr = np.linalg.norm(p-r)**2\n",
    "#         pq = np.linalg.norm(p-q)**2\n",
    "#         cot_q = self.cotangent_angle(p2,p3,p1)\n",
    "#         cot_r = self.cotangent_angle(p3,p1,p2)\n",
    "    \n",
    "#         return (pr*cot_q + pq*cot_r)/8\n",
    "    \n",
    "\n",
    "#     def is_obtuse(self,p1, p2,p3):\n",
    "#         v1 = self.mapping[p1]\n",
    "#         v2 = self.mapping[p2]\n",
    "#         v3 = self.mapping[p3]\n",
    "#         # Compute squared lengths of the sides\n",
    "#         a2 = (v2[0]-v3[0])**2 + (v2[1]-v3[1])**2 + (v2[2]-v3[2])**2\n",
    "#         b2 = (v1[0]-v3[0])**2 + (v1[1]-v3[1])**2 + (v1[2]-v3[2])**2\n",
    "#         c2 = (v1[0]-v2[0])**2 + (v1[1]-v2[1])**2 + (v1[2]-v2[2])**2\n",
    "\n",
    "#         # Check if any angle is obtuse\n",
    "#         return a2 > b2 + c2 or b2 > a2 + c2 or c2 > a2 + b2\n",
    "\n",
    "\n",
    "#     def obtuse_at_point(self,p1, p2,p3):\n",
    "#         v1 = self.mapping[p1]\n",
    "#         v2 = self.mapping[p2]\n",
    "#         v3 = self.mapping[p3]\n",
    "#         # Compute squared lengths of the sides\n",
    "#         a2 = (v2[0]-v3[0])**2 + (v2[1]-v3[1])**2 + (v2[2]-v3[2])**2\n",
    "#         b2 = (v1[0]-v3[0])**2 + (v1[1]-v3[1])**2 + (v1[2]-v3[2])**2\n",
    "#         c2 = (v1[0]-v2[0])**2 + (v1[1]-v2[1])**2 + (v1[2]-v2[2])**2\n",
    "\n",
    "#         # Check if any angle is obtuse\n",
    "#         return a2 > b2 + c2 \n",
    "    \n",
    "\n",
    "#     def mixed_area(self,v1,v2,v3):\n",
    "#         \" calculate the voronoi mixed area at v1 \"\n",
    "#         if not self.is_obtuse(v1,v2,v3): # checks that the triangle is not obtuse\n",
    "#             return self.voronoi(v1,v2,v3)\n",
    "#         else:\n",
    "#             tr = (v1,v2,v3)\n",
    "#             if self.obtuse_at_point(v1,v2,v3):\n",
    "                \n",
    "#                 return self.area_3D(tr)/2\n",
    "#             else:\n",
    "#                 return self.area_3D(tr)/4\n",
    "\n",
    "#     def voronoi_area(self, vertex):\n",
    "#         \"\"\"Compute the total area of triangles adjacent to the vertex.\"\"\"\n",
    "#         area = 0\n",
    "    \n",
    "#         triangles = self.dict_vertexes[vertex]\n",
    "#         for tri in triangles:\n",
    "#             v1 = vertex\n",
    "#             v2 = [a for a in tri if a != vertex][0]\n",
    "#             v3 = [a for a in tri if a != vertex][1]\n",
    "#             tr = (v1,v2,v3)\n",
    "#             area += self.area_3D(tr)\n",
    "#         return area\n",
    "\n",
    "\n",
    "#     def compute_mean_curvature(self):\n",
    "#         \"\"\"Compute the mean curvature for each vertex in the mesh.\"\"\"\n",
    "#         self.vertex_curvatures = dict()\n",
    "#         for i in self.inside_indexes:\n",
    "\n",
    "#             A_i = self.voronoi_area(i) #We do it with simple area\n",
    "#             curvature_sum = np.zeros(3)\n",
    "#             B_i  = 0\n",
    "#             for j in self.N[i]:\n",
    "                \n",
    "#                 tr_i = set(self.dict_vertexes[i])\n",
    "#                 tr_j = set(self.dict_vertexes[j])\n",
    "\n",
    "#                 t1= list(tr_i.intersection(tr_j))[0]\n",
    "#                 t2= list(tr_i.intersection(tr_j))[1]\n",
    "                \n",
    "\n",
    "#                 alpha = [r for r in t1 if r not in (i,j)][0]\n",
    "#                 beta = [r for r in t2 if r not in (i,j)][0]\n",
    "\n",
    "#                 cot_alpha = self.cotangent_angle(alpha,i,j)\n",
    "#                 cot_beta = self.cotangent_angle(beta,j,i)\n",
    "\n",
    "#                 p_i = np.array(self.mapping[i]) \n",
    "#                 p_j = np.array(self.mapping[j]) \n",
    "\n",
    "#                 curvature_sum += (cot_alpha + cot_beta) *(p_j - p_i)\n",
    "                \n",
    "#                 if A_i < 0:\n",
    "#                     print(A_i,i)\n",
    "#                     raise Exception(\"Error this area si negative !!!\")\n",
    "                    \n",
    "\n",
    "            \n",
    "#             h_i = np.linalg.norm(curvature_sum) / (4 * A_i)\n",
    "#             self.vertex_curvatures[h_i] = i\n",
    "#         A = np.array(list(self.vertex_curvatures.keys()))\n",
    "        \n",
    "#         return np.max(A)\n",
    "\n"
   ]
  },
  {
   "cell_type": "markdown",
   "metadata": {},
   "source": [
    "## The Catenoid loop"
   ]
  },
  {
   "cell_type": "code",
   "execution_count": 4,
   "metadata": {},
   "outputs": [],
   "source": [
    "def catenoid(u,v,c=1):\n",
    "    return (c*np.cosh(v/c)*np.cos(u),c*np.cosh(v/c)*np.sin(u),v)"
   ]
  },
  {
   "cell_type": "code",
   "execution_count": 5,
   "metadata": {},
   "outputs": [],
   "source": [
    "R = []\n",
    "S2 = []\n",
    "S1 = []\n",
    "S3 = []\n",
    "S4 = []\n",
    "\n",
    "U = np.linspace(-3*np.pi/5,3*np.pi/5,2)\n",
    "V = np.linspace(-10,10,15)\n",
    "c = 5\n",
    "polygone = PointList()\n",
    "\n",
    "for u in [-3*np.pi/5]  :\n",
    "    for v in V :\n",
    "        S2.append(catenoid(u,v,c))\n",
    "S2.reverse()\n",
    "for u in [3*np.pi/5]  :\n",
    "    for v in V :\n",
    "        S3.append(catenoid(u,v,c))\n",
    "\n",
    "\n",
    "U = np.linspace(-3*np.pi/5,3*np.pi/5,65)\n",
    "V = np.linspace(-10,10,15)\n",
    "\n",
    "for u in U :\n",
    "    S1.append(catenoid(u,V[0],c))\n",
    "\n",
    "for u in U :\n",
    "    S4.append(catenoid(u,V[-1],c))\n",
    "\n",
    "S4.reverse()\n",
    "\n"
   ]
  },
  {
   "cell_type": "code",
   "execution_count": 6,
   "metadata": {},
   "outputs": [
    {
     "data": {
      "application/vnd.jupyter.widget-view+json": {
       "model_id": "4d6fca38c6234a46a505cdffba64284a",
       "version_major": 2,
       "version_minor": 0
      },
      "image/png": "[encoded data removed]",
      "text/html": [
       "\n",
       "            <div style=\"display: inline-block;\">\n",
       "                <div class=\"jupyter-widgets widget-label\" style=\"text-align: center;\">\n",
       "                    Figure\n",
       "                </div>\n",
       "                <img src='data:image/png;base64,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' width=640.0/>\n",
       "            </div>\n",
       "        "
      ],
      "text/plain": [
       "Canvas(toolbar=Toolbar(toolitems=[('Home', 'Reset original view', 'home', 'home'), ('Back', 'Back to previous …"
      ]
     },
     "metadata": {},
     "output_type": "display_data"
    }
   ],
   "source": [
    "X = []\n",
    "Y = []\n",
    "Z = []\n",
    "S = S1[1:] + S3[1:] + S4[1:] + S2[1:] \n",
    "fig = plt.figure()\n",
    "ax = fig.add_subplot(111, projection='3d')\n",
    "ax.set_aspect('equal')\n",
    "colors = plt.rcParams['axes.prop_cycle'].by_key()['color']\n",
    "\n",
    "L = np.array(S)\n",
    "xs = L[:,0]\n",
    "ys = L[:,1]\n",
    "zs = L[:,2]\n",
    "\n",
    "X = X + list(xs)\n",
    "Y = Y + list(ys)\n",
    "Z = Z + list(zs)\n",
    "\n",
    "plt.plot(xs,ys,zs)\n",
    "\n",
    "\n",
    "X = np.array(X)\n",
    "Y = np.array(Y)\n",
    "Z = np.array(Z)\n",
    "\n",
    "max_range = np.array([X.max()-X.min(), Y.max()-Y.min(), Z.max()-Z.min()]).max() / 2.0 \n",
    "\n",
    "mid_x = (X.max()+X.min()) * 0.5\n",
    "mid_y = (Y.max()+Y.min()) * 0.5\n",
    "mid_z = (Z.max()+Z.min()) * 0.5\n",
    "ax.set_xlim(mid_x - max_range, mid_x + max_range)\n",
    "ax.set_ylim(mid_y - max_range, mid_y + max_range)\n",
    "ax.set_zlim(mid_z - max_range, mid_z + max_range)\n",
    "\n",
    "\n",
    "polygone.points = S\n"
   ]
  },
  {
   "cell_type": "code",
   "execution_count": 7,
   "metadata": {},
   "outputs": [],
   "source": [
    "from Final_surface import *"
   ]
  },
  {
   "cell_type": "code",
   "execution_count": 8,
   "metadata": {},
   "outputs": [
    {
     "name": "stdout",
     "output_type": "stream",
     "text": [
      "s is 6\n"
     ]
    },
    {
     "name": "stderr",
     "output_type": "stream",
     "text": [
      "100%|██████████| 2028/2028 [00:00<00:00, 179052.09it/s]\n",
      "100%|██████████| 2028/2028 [00:00<00:00, 130197.28it/s]\n",
      "100%|██████████| 1093/1093 [00:00<00:00, 563953.04it/s]\n",
      "  0%|          | 0/937 [00:00<?, ?it/s]"
     ]
    },
    {
     "name": "stderr",
     "output_type": "stream",
     "text": [
      "100%|██████████| 937/937 [00:00<00:00, 28716.56it/s]\n"
     ]
    },
    {
     "data": {
      "text/plain": [
       "1572.7431066229049"
      ]
     },
     "execution_count": 8,
     "metadata": {},
     "output_type": "execute_result"
    }
   ],
   "source": [
    "#intialize the first mesh\n",
    "from copy import *\n",
    "\n",
    "polygone = PointList()\n",
    "for k in S:\n",
    "    polygone.add_point(k)\n",
    "\"\"\n",
    "M = Edge_Flipping(polygone,2040)\n",
    "# M.add_points_to_boundary(N = 5)\n",
    "M.create_quadrilaterals()\n",
    "M.split_quadrilateral()\n",
    "\n",
    "M.canonic_representation_from_mesh()\n",
    "M.clean_triangles()\n",
    "M.fill_edges()\n",
    "\n",
    "Outside = [tuple(k) for k in M.boundary.points]\n",
    "Outside_vertexes = [M.mapping.index((pt)) for pt in Outside]\n",
    "Inside_vertexes = list(set(M.v_indexes) - set(Outside_vertexes))\n",
    "\n",
    "centre = M.compute_central_point()\n",
    "centre = tuple(centre)\n",
    "ind = M.mapping.index(centre)\n",
    "triangle_centre = M.dict_vertexes[ind]\n",
    "M.update_weights()\n",
    "# Fliaring Laplace \n",
    "# epsilon = 0.01\n",
    "# area = M.calculate_area()\n",
    "# M.update_weights()\n",
    "# for i in Inside_vertexes:\n",
    "#     M.update_mapping(i)\n",
    "# M.lawson_flip()\n",
    "\n",
    "# new_area = M.calculate_area()\n",
    "# while area - new_area >= epsilon:\n",
    "#     area = M.calculate_area()\n",
    "#     M.update_weights()\n",
    "#     for i in Inside_vertexes:\n",
    "#         M.update_mapping(i)\n",
    "#     M.lawson_flip()\n",
    "    \n",
    "#     new_area = M.calculate_area()\n",
    "    \n",
    "#     print(new_area,area - new_area,M.compute_mean_curvature(),M.vertex_curvatures[M.compute_mean_curvature()])\n",
    "\n",
    "\n",
    "# # # M.canonic_representation()\n",
    "M.mapping = [np.array(pt) for pt in M.mapping]\n",
    "M.compute_mean_curvature()\n",
    "M.calculate_area()"
   ]
  },
  {
   "cell_type": "code",
   "execution_count": 9,
   "metadata": {},
   "outputs": [
    {
     "name": "stdout",
     "output_type": "stream",
     "text": [
      "2028\n"
     ]
    },
    {
     "name": "stderr",
     "output_type": "stream",
     "text": [
      "100%|██████████| 937/937 [00:00<00:00, 48489.96it/s]\n"
     ]
    },
    {
     "name": "stdout",
     "output_type": "stream",
     "text": [
      "1564.1490696365006 8.594036986404262 1.1163907320311917 470\n"
     ]
    },
    {
     "name": "stderr",
     "output_type": "stream",
     "text": [
      "100%|██████████| 937/937 [00:00<00:00, 28946.90it/s]\n",
      "100%|██████████| 937/937 [00:00<00:00, 49098.17it/s]\n"
     ]
    },
    {
     "name": "stdout",
     "output_type": "stream",
     "text": [
      "1556.9814990260793 7.167570610421308 2.7554775758501093 301\n"
     ]
    },
    {
     "name": "stderr",
     "output_type": "stream",
     "text": [
      "100%|██████████| 937/937 [00:00<00:00, 35574.23it/s]\n",
      "100%|██████████| 937/937 [00:00<00:00, 48761.90it/s]\n"
     ]
    },
    {
     "name": "stdout",
     "output_type": "stream",
     "text": [
      "1547.276735664171 9.704763361908363 4.038789763263937 475\n"
     ]
    },
    {
     "name": "stderr",
     "output_type": "stream",
     "text": [
      "100%|██████████| 937/937 [00:00<00:00, 34719.40it/s]\n",
      "100%|██████████| 937/937 [00:00<00:00, 48428.42it/s]\n"
     ]
    },
    {
     "name": "stdout",
     "output_type": "stream",
     "text": [
      "1532.79627739516 14.480458269011024 0.9511830510172891 53\n"
     ]
    },
    {
     "name": "stderr",
     "output_type": "stream",
     "text": [
      "100%|██████████| 937/937 [00:00<00:00, 13210.07it/s]\n",
      "100%|██████████| 937/937 [00:00<00:00, 47660.81it/s]\n"
     ]
    },
    {
     "name": "stdout",
     "output_type": "stream",
     "text": [
      "1523.8786921842047 8.917585210955167 0.7929052340480411 150\n"
     ]
    },
    {
     "name": "stderr",
     "output_type": "stream",
     "text": [
      "100%|██████████| 937/937 [00:00<00:00, 33955.08it/s]\n",
      "100%|██████████| 937/937 [00:00<00:00, 48224.00it/s]\n"
     ]
    },
    {
     "name": "stdout",
     "output_type": "stream",
     "text": [
      "1517.2081741211537 6.670518063051077 0.6334710621571275 150\n"
     ]
    },
    {
     "name": "stderr",
     "output_type": "stream",
     "text": [
      "100%|██████████| 937/937 [00:00<00:00, 34474.54it/s]\n",
      "100%|██████████| 937/937 [00:00<00:00, 48248.86it/s]\n"
     ]
    },
    {
     "name": "stdout",
     "output_type": "stream",
     "text": [
      "1511.6168617608212 5.591312360332495 0.6347064284436738 150\n"
     ]
    },
    {
     "name": "stderr",
     "output_type": "stream",
     "text": [
      "100%|██████████| 937/937 [00:00<00:00, 34329.69it/s]\n",
      "100%|██████████| 937/937 [00:00<00:00, 48540.87it/s]\n"
     ]
    },
    {
     "name": "stdout",
     "output_type": "stream",
     "text": [
      "1507.0793856867765 4.537476074044662 0.4563271900777433 150\n"
     ]
    },
    {
     "name": "stderr",
     "output_type": "stream",
     "text": [
      "100%|██████████| 937/937 [00:00<00:00, 34943.52it/s]\n",
      "100%|██████████| 937/937 [00:00<00:00, 48128.92it/s]\n"
     ]
    },
    {
     "name": "stdout",
     "output_type": "stream",
     "text": [
      "1503.057116130068 4.022269556708579 0.41749282607683563 282\n"
     ]
    },
    {
     "name": "stderr",
     "output_type": "stream",
     "text": [
      "100%|██████████| 937/937 [00:00<00:00, 34811.05it/s]\n",
      "100%|██████████| 937/937 [00:00<00:00, 48647.82it/s]\n"
     ]
    },
    {
     "name": "stdout",
     "output_type": "stream",
     "text": [
      "1499.681833800508 3.375282329559923 0.399830305595753 170\n"
     ]
    },
    {
     "name": "stderr",
     "output_type": "stream",
     "text": [
      "100%|██████████| 937/937 [00:00<00:00, 34167.92it/s]\n",
      "100%|██████████| 937/937 [00:00<00:00, 41413.11it/s]\n"
     ]
    },
    {
     "name": "stdout",
     "output_type": "stream",
     "text": [
      "1496.6883772546216 2.9934565458863744 0.3712459534300751 150\n"
     ]
    },
    {
     "name": "stderr",
     "output_type": "stream",
     "text": [
      "100%|██████████| 937/937 [00:00<00:00, 34565.80it/s]\n",
      "100%|██████████| 937/937 [00:00<00:00, 47894.89it/s]\n"
     ]
    },
    {
     "name": "stdout",
     "output_type": "stream",
     "text": [
      "1494.0606977877799 2.627679466841755 0.3612836612931519 170\n"
     ]
    },
    {
     "name": "stderr",
     "output_type": "stream",
     "text": [
      "100%|██████████| 937/937 [00:00<00:00, 34662.45it/s]\n",
      "100%|██████████| 937/937 [00:00<00:00, 48043.02it/s]\n"
     ]
    },
    {
     "name": "stdout",
     "output_type": "stream",
     "text": [
      "1491.6874491787917 2.373248608988206 0.31551258331810933 282\n"
     ]
    },
    {
     "name": "stderr",
     "output_type": "stream",
     "text": [
      "100%|██████████| 937/937 [00:00<00:00, 34628.24it/s]\n",
      "100%|██████████| 937/937 [00:00<00:00, 48483.98it/s]\n"
     ]
    },
    {
     "name": "stdout",
     "output_type": "stream",
     "text": [
      "1489.5506725651694 2.13677661362226 0.3922114727658198 170\n"
     ]
    },
    {
     "name": "stderr",
     "output_type": "stream",
     "text": [
      "100%|██████████| 937/937 [00:00<00:00, 34354.00it/s]\n",
      "100%|██████████| 937/937 [00:00<00:00, 47879.13it/s]\n"
     ]
    },
    {
     "name": "stdout",
     "output_type": "stream",
     "text": [
      "1487.598821000694 1.9518515644754189 0.3575657026875583 170\n"
     ]
    },
    {
     "name": "stderr",
     "output_type": "stream",
     "text": [
      "100%|██████████| 937/937 [00:00<00:00, 34845.62it/s]\n",
      "100%|██████████| 937/937 [00:00<00:00, 48037.73it/s]\n"
     ]
    },
    {
     "name": "stdout",
     "output_type": "stream",
     "text": [
      "1485.8477433176172 1.751077683076801 0.519269440130094 170\n"
     ]
    },
    {
     "name": "stderr",
     "output_type": "stream",
     "text": [
      "100%|██████████| 937/937 [00:00<00:00, 34502.69it/s]\n",
      "100%|██████████| 937/937 [00:00<00:00, 48385.49it/s]\n"
     ]
    },
    {
     "name": "stdout",
     "output_type": "stream",
     "text": [
      "1484.2970088926922 1.55073442492494 0.2946075848239379 170\n"
     ]
    },
    {
     "name": "stderr",
     "output_type": "stream",
     "text": [
      "100%|██████████| 937/937 [00:00<00:00, 33525.52it/s]\n",
      "100%|██████████| 937/937 [00:00<00:00, 47897.22it/s]\n"
     ]
    },
    {
     "name": "stdout",
     "output_type": "stream",
     "text": [
      "1482.9105922496615 1.3864166430307705 0.4291256003448932 170\n"
     ]
    },
    {
     "name": "stderr",
     "output_type": "stream",
     "text": [
      "100%|██████████| 937/937 [00:00<00:00, 35000.47it/s]\n",
      "100%|██████████| 937/937 [00:00<00:00, 48926.41it/s]\n"
     ]
    },
    {
     "name": "stdout",
     "output_type": "stream",
     "text": [
      "1481.684652050348 1.225940199313527 0.34604445813721113 170\n"
     ]
    },
    {
     "name": "stderr",
     "output_type": "stream",
     "text": [
      "100%|██████████| 937/937 [00:00<00:00, 34804.57it/s]\n",
      "100%|██████████| 937/937 [00:00<00:00, 48524.09it/s]\n"
     ]
    },
    {
     "name": "stdout",
     "output_type": "stream",
     "text": [
      "1480.5718323905558 1.1128196597921942 0.25355189504464126 170\n"
     ]
    },
    {
     "name": "stderr",
     "output_type": "stream",
     "text": [
      "100%|██████████| 937/937 [00:00<00:00, 34050.40it/s]\n",
      "100%|██████████| 937/937 [00:00<00:00, 48124.79it/s]\n"
     ]
    },
    {
     "name": "stdout",
     "output_type": "stream",
     "text": [
      "1479.6157336044573 0.9560987860984369 0.21523639747061646 276\n"
     ]
    },
    {
     "name": "stderr",
     "output_type": "stream",
     "text": [
      "100%|██████████| 937/937 [00:00<00:00, 34262.35it/s]\n",
      "100%|██████████| 937/937 [00:00<00:00, 47695.52it/s]\n"
     ]
    },
    {
     "name": "stdout",
     "output_type": "stream",
     "text": [
      "1478.725434609783 0.8902989946743673 0.40830294198121525 422\n"
     ]
    },
    {
     "name": "stderr",
     "output_type": "stream",
     "text": [
      "100%|██████████| 937/937 [00:00<00:00, 34256.38it/s]\n",
      "100%|██████████| 937/937 [00:00<00:00, 48118.31it/s]\n"
     ]
    },
    {
     "name": "stdout",
     "output_type": "stream",
     "text": [
      "1477.9946491606877 0.730785449095265 0.35071806661049887 276\n"
     ]
    },
    {
     "name": "stderr",
     "output_type": "stream",
     "text": [
      "100%|██████████| 937/937 [00:00<00:00, 34302.12it/s]\n",
      "100%|██████████| 937/937 [00:00<00:00, 48159.58it/s]\n"
     ]
    },
    {
     "name": "stdout",
     "output_type": "stream",
     "text": [
      "1477.2674495350614 0.7271996256263265 0.7221598826739624 388\n"
     ]
    },
    {
     "name": "stderr",
     "output_type": "stream",
     "text": [
      "100%|██████████| 937/937 [00:00<00:00, 34689.98it/s]\n",
      "100%|██████████| 937/937 [00:00<00:00, 47634.24it/s]\n"
     ]
    },
    {
     "name": "stdout",
     "output_type": "stream",
     "text": [
      "1476.643052913546 0.624396621515416 0.32091475048744 43\n"
     ]
    },
    {
     "name": "stderr",
     "output_type": "stream",
     "text": [
      "100%|██████████| 937/937 [00:00<00:00, 34555.17it/s]\n",
      "100%|██████████| 937/937 [00:00<00:00, 48277.90it/s]\n"
     ]
    },
    {
     "name": "stdout",
     "output_type": "stream",
     "text": [
      "1475.9953317606376 0.6477211529083888 0.15109551417035574 238\n"
     ]
    },
    {
     "name": "stderr",
     "output_type": "stream",
     "text": [
      "100%|██████████| 937/937 [00:00<00:00, 34541.80it/s]\n",
      "100%|██████████| 937/937 [00:00<00:00, 47943.97it/s]\n"
     ]
    },
    {
     "name": "stdout",
     "output_type": "stream",
     "text": [
      "1475.4833702200606 0.5119615405769764 0.1447426338031936 53\n"
     ]
    },
    {
     "name": "stderr",
     "output_type": "stream",
     "text": [
      "100%|██████████| 937/937 [00:00<00:00, 34028.88it/s]\n",
      "100%|██████████| 937/937 [00:00<00:00, 48358.70it/s]\n"
     ]
    },
    {
     "name": "stdout",
     "output_type": "stream",
     "text": [
      "1475.044142086799 0.43922813326162213 0.14097480407849908 164\n"
     ]
    },
    {
     "name": "stderr",
     "output_type": "stream",
     "text": [
      "100%|██████████| 937/937 [00:00<00:00, 34314.10it/s]\n",
      "100%|██████████| 937/937 [00:00<00:00, 48137.76it/s]\n"
     ]
    },
    {
     "name": "stdout",
     "output_type": "stream",
     "text": [
      "1474.6156881943818 0.4284538924171102 0.1592322724403888 99\n"
     ]
    },
    {
     "name": "stderr",
     "output_type": "stream",
     "text": [
      "100%|██████████| 937/937 [00:00<00:00, 34662.45it/s]\n",
      "100%|██████████| 937/937 [00:00<00:00, 47989.05it/s]\n"
     ]
    },
    {
     "name": "stdout",
     "output_type": "stream",
     "text": [
      "1474.2495492129954 0.3661389813864844 0.1252065489151127 381\n"
     ]
    },
    {
     "name": "stderr",
     "output_type": "stream",
     "text": [
      "100%|██████████| 937/937 [00:00<00:00, 33639.73it/s]\n",
      "100%|██████████| 937/937 [00:00<00:00, 48579.27it/s]\n"
     ]
    },
    {
     "name": "stdout",
     "output_type": "stream",
     "text": [
      "1473.9029189895361 0.3466302234592149 0.14176029049010735 99\n"
     ]
    },
    {
     "name": "stderr",
     "output_type": "stream",
     "text": [
      "100%|██████████| 937/937 [00:00<00:00, 33427.71it/s]\n",
      "100%|██████████| 937/937 [00:00<00:00, 34818.76it/s]\n"
     ]
    },
    {
     "name": "stdout",
     "output_type": "stream",
     "text": [
      "1473.6178956036779 0.2850233858582669 0.4412062863328541 1016\n"
     ]
    },
    {
     "name": "stderr",
     "output_type": "stream",
     "text": [
      "100%|██████████| 937/937 [00:00<00:00, 16898.70it/s]\n",
      "100%|██████████| 937/937 [00:00<00:00, 5916.68it/s]\n"
     ]
    },
    {
     "name": "stdout",
     "output_type": "stream",
     "text": [
      "1473.343178059236 0.2747175444419554 0.16612033044338378 130\n"
     ]
    },
    {
     "name": "stderr",
     "output_type": "stream",
     "text": [
      "100%|██████████| 937/937 [00:00<00:00, 34513.29it/s]\n",
      "100%|██████████| 937/937 [00:00<00:00, 47521.92it/s]\n"
     ]
    },
    {
     "name": "stdout",
     "output_type": "stream",
     "text": [
      "1473.100158074077 0.2430199851589805 0.12939885582187421 74\n"
     ]
    },
    {
     "name": "stderr",
     "output_type": "stream",
     "text": [
      "100%|██████████| 937/937 [00:00<00:00, 34654.19it/s]\n",
      "100%|██████████| 937/937 [00:00<00:00, 48100.64it/s]\n"
     ]
    },
    {
     "name": "stdout",
     "output_type": "stream",
     "text": [
      "1472.8446327937502 0.2555252803267649 0.17170976203952504 130\n"
     ]
    },
    {
     "name": "stderr",
     "output_type": "stream",
     "text": [
      "100%|██████████| 937/937 [00:00<00:00, 34220.58it/s]\n",
      "100%|██████████| 937/937 [00:00<00:00, 48363.46it/s]\n"
     ]
    },
    {
     "name": "stdout",
     "output_type": "stream",
     "text": [
      "1472.6702123700481 0.17442042370203126 0.13362639635623438 145\n"
     ]
    },
    {
     "name": "stderr",
     "output_type": "stream",
     "text": [
      "100%|██████████| 937/937 [00:00<00:00, 34868.18it/s]\n",
      "100%|██████████| 937/937 [00:00<00:00, 48703.28it/s]\n"
     ]
    },
    {
     "name": "stdout",
     "output_type": "stream",
     "text": [
      "1472.4889301201574 0.18128224989072805 0.1577928290974765 282\n"
     ]
    },
    {
     "name": "stderr",
     "output_type": "stream",
     "text": [
      "100%|██████████| 937/937 [00:00<00:00, 34241.16it/s]\n",
      "100%|██████████| 937/937 [00:00<00:00, 48057.70it/s]\n"
     ]
    },
    {
     "name": "stdout",
     "output_type": "stream",
     "text": [
      "1472.3873610063197 0.10156911383774059 0.2147656064588973 145\n"
     ]
    },
    {
     "name": "stderr",
     "output_type": "stream",
     "text": [
      "100%|██████████| 937/937 [00:00<00:00, 34134.39it/s]\n",
      "100%|██████████| 937/937 [00:00<00:00, 48360.48it/s]\n"
     ]
    },
    {
     "name": "stdout",
     "output_type": "stream",
     "text": [
      "1472.2815740223143 0.10578698400536268 0.2363757186757709 282\n"
     ]
    },
    {
     "name": "stderr",
     "output_type": "stream",
     "text": [
      "100%|██████████| 937/937 [00:00<00:00, 34213.73it/s]\n",
      "100%|██████████| 937/937 [00:00<00:00, 48367.03it/s]\n"
     ]
    },
    {
     "name": "stdout",
     "output_type": "stream",
     "text": [
      "1472.2110102428642 0.07056377945013992 0.4215607694096055 145\n"
     ]
    },
    {
     "name": "stderr",
     "output_type": "stream",
     "text": [
      "100%|██████████| 937/937 [00:00<00:00, 33763.72it/s]\n",
      "100%|██████████| 937/937 [00:00<00:00, 48173.75it/s]\n"
     ]
    },
    {
     "name": "stdout",
     "output_type": "stream",
     "text": [
      "1472.0750228796992 0.13598736316498616 0.24482948597342796 651\n"
     ]
    },
    {
     "name": "stderr",
     "output_type": "stream",
     "text": [
      "100%|██████████| 937/937 [00:00<00:00, 33680.96it/s]\n",
      "100%|██████████| 937/937 [00:00<00:00, 48460.66it/s]\n"
     ]
    },
    {
     "name": "stdout",
     "output_type": "stream",
     "text": [
      "1471.9485312924012 0.12649158729800547 0.1262187137573203 514\n"
     ]
    },
    {
     "name": "stderr",
     "output_type": "stream",
     "text": [
      "100%|██████████| 937/937 [00:00<00:00, 33118.97it/s]\n",
      "100%|██████████| 937/937 [00:00<00:00, 47851.15it/s]\n"
     ]
    },
    {
     "name": "stdout",
     "output_type": "stream",
     "text": [
      "1471.8882140673454 0.060317225055769086 0.18410304109603015 282\n"
     ]
    },
    {
     "name": "stderr",
     "output_type": "stream",
     "text": [
      "100%|██████████| 937/937 [00:00<00:00, 34557.29it/s]\n",
      "100%|██████████| 937/937 [00:00<00:00, 48038.32it/s]\n"
     ]
    },
    {
     "name": "stdout",
     "output_type": "stream",
     "text": [
      "1471.7919847137707 0.09622935357469942 0.1471773243173969 179\n"
     ]
    },
    {
     "name": "stderr",
     "output_type": "stream",
     "text": [
      "100%|██████████| 937/937 [00:00<00:00, 34210.45it/s]\n",
      "100%|██████████| 937/937 [00:00<00:00, 48922.15it/s]\n"
     ]
    },
    {
     "name": "stdout",
     "output_type": "stream",
     "text": [
      "1471.7376889071588 0.05429580661188993 0.1473738246695088 741\n"
     ]
    },
    {
     "name": "stderr",
     "output_type": "stream",
     "text": [
      "100%|██████████| 937/937 [00:00<00:00, 34236.68it/s]\n",
      "100%|██████████| 937/937 [00:00<00:00, 48186.75it/s]\n"
     ]
    },
    {
     "name": "stdout",
     "output_type": "stream",
     "text": [
      "1471.704074109991 0.03361479716772919 0.18184446176891728 126\n"
     ]
    },
    {
     "name": "stderr",
     "output_type": "stream",
     "text": [
      "100%|██████████| 937/937 [00:00<00:00, 34481.19it/s]\n",
      "100%|██████████| 937/937 [00:00<00:00, 48324.80it/s]\n"
     ]
    },
    {
     "name": "stdout",
     "output_type": "stream",
     "text": [
      "1471.6665152929936 0.037558816997488975 0.2152654904471884 440\n"
     ]
    },
    {
     "name": "stderr",
     "output_type": "stream",
     "text": [
      "100%|██████████| 937/937 [00:00<00:00, 34256.97it/s]\n",
      "100%|██████████| 937/937 [00:00<00:00, 48011.91it/s]\n"
     ]
    },
    {
     "name": "stdout",
     "output_type": "stream",
     "text": [
      "1471.638264271948 0.028251021045662128 0.4885252276528251 515\n"
     ]
    },
    {
     "name": "stderr",
     "output_type": "stream",
     "text": [
      "100%|██████████| 937/937 [00:00<00:00, 34203.31it/s]\n",
      "100%|██████████| 937/937 [00:00<00:00, 48296.89it/s]\n"
     ]
    },
    {
     "name": "stdout",
     "output_type": "stream",
     "text": [
      "1471.4932473141166 0.14501695783133073 0.1640150164208029 440\n"
     ]
    },
    {
     "name": "stderr",
     "output_type": "stream",
     "text": [
      "100%|██████████| 937/937 [00:00<00:00, 34011.79it/s]\n",
      "100%|██████████| 937/937 [00:00<00:00, 48031.86it/s]\n"
     ]
    },
    {
     "name": "stdout",
     "output_type": "stream",
     "text": [
      "1471.4619798016379 0.031267512478734716 0.2727740374448672 309\n"
     ]
    },
    {
     "name": "stderr",
     "output_type": "stream",
     "text": [
      "100%|██████████| 937/937 [00:00<00:00, 33634.84it/s]\n",
      "100%|██████████| 937/937 [00:00<00:00, 47792.38it/s]\n"
     ]
    },
    {
     "name": "stdout",
     "output_type": "stream",
     "text": [
      "1471.346300957699 0.11567884393889472 0.14071956343249334 282\n"
     ]
    },
    {
     "name": "stderr",
     "output_type": "stream",
     "text": [
      "100%|██████████| 937/937 [00:00<00:00, 33688.47it/s]\n",
      "100%|██████████| 937/937 [00:00<00:00, 47235.20it/s]\n"
     ]
    },
    {
     "name": "stdout",
     "output_type": "stream",
     "text": [
      "1471.2796776614143 0.06662329628466068 0.10470491343694038 536\n"
     ]
    },
    {
     "name": "stderr",
     "output_type": "stream",
     "text": [
      "100%|██████████| 937/937 [00:00<00:00, 33037.40it/s]\n",
      "100%|██████████| 937/937 [00:00<00:00, 47629.62it/s]\n"
     ]
    },
    {
     "name": "stdout",
     "output_type": "stream",
     "text": [
      "1471.1974794943108 0.08219816710357009 0.5825918990966927 483\n"
     ]
    },
    {
     "name": "stderr",
     "output_type": "stream",
     "text": [
      "100%|██████████| 937/937 [00:00<00:00, 33902.94it/s]\n",
      "100%|██████████| 937/937 [00:00<00:00, 46834.97it/s]\n"
     ]
    },
    {
     "name": "stdout",
     "output_type": "stream",
     "text": [
      "1471.1957473251366 0.0017321691741472023 0.14060354625338492 458\n"
     ]
    }
   ],
   "source": [
    "epsilon = 0.01\n",
    "area = M.calculate_area()\n",
    "print(len(M.triangles))\n",
    "for i in tqdm(M.inside_indexes):\n",
    "    M.update_mapping(i)\n",
    "# D = M.lawson_flip()\n",
    "new_area = M.calculate_area()\n",
    "print(new_area,area - new_area,M.compute_mean_curvature(),M.vertex_curvatures[M.compute_mean_curvature()])\n",
    "\n",
    "while  area - new_area > epsilon:\n",
    "    area = M.calculate_area()\n",
    "    M.update_weights()\n",
    "    for i in tqdm(M.inside_indexes):\n",
    "        M.update_mapping(i)\n",
    "    \n",
    "    M.lawson_flip()\n",
    "    new_area = M.calculate_area()\n",
    "\n",
    "    print(new_area,area - new_area,M.compute_mean_curvature(),M.vertex_curvatures[M.compute_mean_curvature()])\n"
   ]
  },
  {
   "cell_type": "code",
   "execution_count": 10,
   "metadata": {},
   "outputs": [
    {
     "name": "stdout",
     "output_type": "stream",
     "text": [
      "2028\n"
     ]
    },
    {
     "name": "stderr",
     "output_type": "stream",
     "text": [
      "100%|██████████| 937/937 [00:00<00:00, 32957.61it/s]\n",
      "100%|██████████| 937/937 [00:00<00:00, 1620.81it/s]\n"
     ]
    },
    {
     "name": "stdout",
     "output_type": "stream",
     "text": [
      "1470.900458401978 0.2952889231585232 0.05455306581878963 124\n"
     ]
    },
    {
     "name": "stderr",
     "output_type": "stream",
     "text": [
      "100%|██████████| 937/937 [00:00<00:00, 1487.78it/s]\n"
     ]
    },
    {
     "name": "stdout",
     "output_type": "stream",
     "text": [
      "1470.8040044758268 0.09645392615129822 0.042937014665031505 135\n"
     ]
    },
    {
     "name": "stderr",
     "output_type": "stream",
     "text": [
      "100%|██████████| 937/937 [00:00<00:00, 1633.48it/s]\n"
     ]
    },
    {
     "name": "stdout",
     "output_type": "stream",
     "text": [
      "1470.7369539165072 0.06705055931956849 0.038400916105464505 135\n"
     ]
    },
    {
     "name": "stderr",
     "output_type": "stream",
     "text": [
      "100%|██████████| 937/937 [00:00<00:00, 1660.16it/s]\n"
     ]
    },
    {
     "name": "stdout",
     "output_type": "stream",
     "text": [
      "1470.6806911874594 0.05626272904783036 0.0361696025827029 135\n"
     ]
    },
    {
     "name": "stderr",
     "output_type": "stream",
     "text": [
      "100%|██████████| 937/937 [00:00<00:00, 1644.80it/s]\n"
     ]
    },
    {
     "name": "stdout",
     "output_type": "stream",
     "text": [
      "1470.6299151584856 0.05077602897381439 0.034125999061412914 135\n"
     ]
    },
    {
     "name": "stderr",
     "output_type": "stream",
     "text": [
      "100%|██████████| 937/937 [00:00<00:00, 1654.38it/s]\n"
     ]
    },
    {
     "name": "stdout",
     "output_type": "stream",
     "text": [
      "1470.582634057423 0.04728110106248096 0.032452292975617816 135\n"
     ]
    },
    {
     "name": "stderr",
     "output_type": "stream",
     "text": [
      "100%|██████████| 937/937 [00:00<00:00, 1639.66it/s]\n"
     ]
    },
    {
     "name": "stdout",
     "output_type": "stream",
     "text": [
      "1470.5378358103555 0.04479824706754698 0.0310096521223153 135\n"
     ]
    },
    {
     "name": "stderr",
     "output_type": "stream",
     "text": [
      "100%|██████████| 937/937 [00:00<00:00, 1643.70it/s]\n"
     ]
    },
    {
     "name": "stdout",
     "output_type": "stream",
     "text": [
      "1470.494981679052 0.04285413130355664 0.029755225500726675 135\n"
     ]
    },
    {
     "name": "stderr",
     "output_type": "stream",
     "text": [
      "100%|██████████| 937/937 [00:00<00:00, 1651.77it/s]\n"
     ]
    },
    {
     "name": "stdout",
     "output_type": "stream",
     "text": [
      "1470.4536752493696 0.04130642968243592 0.028656627118973592 135\n"
     ]
    },
    {
     "name": "stderr",
     "output_type": "stream",
     "text": [
      "100%|██████████| 937/937 [00:00<00:00, 1653.22it/s]\n"
     ]
    },
    {
     "name": "stdout",
     "output_type": "stream",
     "text": [
      "1470.4136541728187 0.04002107655082909 0.027689033883635816 135\n"
     ]
    },
    {
     "name": "stderr",
     "output_type": "stream",
     "text": [
      "100%|██████████| 937/937 [00:00<00:00, 1635.39it/s]\n"
     ]
    },
    {
     "name": "stdout",
     "output_type": "stream",
     "text": [
      "1470.3747334123289 0.03892076048987292 0.026832740552763547 135\n"
     ]
    },
    {
     "name": "stderr",
     "output_type": "stream",
     "text": [
      "100%|██████████| 937/937 [00:00<00:00, 1640.05it/s]\n"
     ]
    },
    {
     "name": "stdout",
     "output_type": "stream",
     "text": [
      "1470.3367684151258 0.03796499720306201 0.026071722653283343 135\n"
     ]
    },
    {
     "name": "stderr",
     "output_type": "stream",
     "text": [
      "100%|██████████| 937/937 [00:00<00:00, 1642.72it/s]\n"
     ]
    },
    {
     "name": "stdout",
     "output_type": "stream",
     "text": [
      "1470.2996444873415 0.037123927784250554 0.025392835304360276 135\n"
     ]
    },
    {
     "name": "stderr",
     "output_type": "stream",
     "text": [
      "100%|██████████| 937/937 [00:00<00:00, 1639.18it/s]\n"
     ]
    },
    {
     "name": "stdout",
     "output_type": "stream",
     "text": [
      "1470.2632681748335 0.036376312508082265 0.024784974999716148 135\n"
     ]
    },
    {
     "name": "stderr",
     "output_type": "stream",
     "text": [
      "100%|██████████| 937/937 [00:00<00:00, 1637.02it/s]\n"
     ]
    },
    {
     "name": "stdout",
     "output_type": "stream",
     "text": [
      "1470.22756150813 0.03570666670339051 0.024238853909030546 135\n"
     ]
    },
    {
     "name": "stderr",
     "output_type": "stream",
     "text": [
      "100%|██████████| 937/937 [00:00<00:00, 1623.79it/s]\n"
     ]
    },
    {
     "name": "stdout",
     "output_type": "stream",
     "text": [
      "1470.192459751868 0.035101756262065464 0.02374663156557864 135\n"
     ]
    },
    {
     "name": "stderr",
     "output_type": "stream",
     "text": [
      "100%|██████████| 937/937 [00:00<00:00, 1548.50it/s]\n"
     ]
    },
    {
     "name": "stdout",
     "output_type": "stream",
     "text": [
      "1470.157904011886 0.034555739981897204 0.023301664714367502 135\n"
     ]
    },
    {
     "name": "stderr",
     "output_type": "stream",
     "text": [
      "100%|██████████| 937/937 [00:00<00:00, 1633.44it/s]\n"
     ]
    },
    {
     "name": "stdout",
     "output_type": "stream",
     "text": [
      "1470.123843818393 0.03406019349313283 0.022898295987386724 135\n"
     ]
    },
    {
     "name": "stderr",
     "output_type": "stream",
     "text": [
      "100%|██████████| 937/937 [00:00<00:00, 1627.46it/s]\n"
     ]
    },
    {
     "name": "stdout",
     "output_type": "stream",
     "text": [
      "1470.090233252105 0.033610566287961774 0.022531689576136795 135\n"
     ]
    },
    {
     "name": "stderr",
     "output_type": "stream",
     "text": [
      "100%|██████████| 937/937 [00:00<00:00, 1641.72it/s]\n"
     ]
    },
    {
     "name": "stdout",
     "output_type": "stream",
     "text": [
      "1470.0570337249842 0.03319952712081431 0.022197697346512366 135\n"
     ]
    },
    {
     "name": "stderr",
     "output_type": "stream",
     "text": [
      "100%|██████████| 937/937 [00:00<00:00, 1648.18it/s]\n"
     ]
    },
    {
     "name": "stdout",
     "output_type": "stream",
     "text": [
      "1470.0242237699754 0.03280995500881545 0.02188213549925977 135\n"
     ]
    },
    {
     "name": "stderr",
     "output_type": "stream",
     "text": [
      "100%|██████████| 937/937 [00:00<00:00, 1644.29it/s]\n"
     ]
    },
    {
     "name": "stdout",
     "output_type": "stream",
     "text": [
      "1469.991754668589 0.03246910138636849 0.021599322369003082 135\n"
     ]
    },
    {
     "name": "stderr",
     "output_type": "stream",
     "text": [
      "100%|██████████| 937/937 [00:00<00:00, 1649.42it/s]\n"
     ]
    },
    {
     "name": "stdout",
     "output_type": "stream",
     "text": [
      "1469.9595975004752 0.03215716811382663 0.021345926071302413 135\n"
     ]
    },
    {
     "name": "stderr",
     "output_type": "stream",
     "text": [
      "100%|██████████| 937/937 [00:00<00:00, 1651.40it/s]\n"
     ]
    },
    {
     "name": "stdout",
     "output_type": "stream",
     "text": [
      "1469.9277253442167 0.03187215625848694 0.021070926596742607 135\n"
     ]
    },
    {
     "name": "stderr",
     "output_type": "stream",
     "text": [
      "100%|██████████| 937/937 [00:00<00:00, 1649.22it/s]\n"
     ]
    },
    {
     "name": "stdout",
     "output_type": "stream",
     "text": [
      "1469.8961136635276 0.031611680689138666 0.020806063287028116 135\n"
     ]
    },
    {
     "name": "stderr",
     "output_type": "stream",
     "text": [
      "100%|██████████| 937/937 [00:00<00:00, 1635.30it/s]\n"
     ]
    },
    {
     "name": "stdout",
     "output_type": "stream",
     "text": [
      "1469.8647388947886 0.031374768738942294 0.020561000033772515 135\n"
     ]
    },
    {
     "name": "stderr",
     "output_type": "stream",
     "text": [
      "100%|██████████| 937/937 [00:00<00:00, 1646.98it/s]\n"
     ]
    },
    {
     "name": "stdout",
     "output_type": "stream",
     "text": [
      "1469.833567429181 0.03117146560771289 0.020334001129938377 135\n"
     ]
    },
    {
     "name": "stderr",
     "output_type": "stream",
     "text": [
      "100%|██████████| 937/937 [00:00<00:00, 1406.13it/s]\n"
     ]
    },
    {
     "name": "stdout",
     "output_type": "stream",
     "text": [
      "1469.8026079568785 0.030959472302356517 0.02012347326904901 135\n"
     ]
    },
    {
     "name": "stderr",
     "output_type": "stream",
     "text": [
      "100%|██████████| 937/937 [00:00<00:00, 1644.83it/s]\n"
     ]
    },
    {
     "name": "stdout",
     "output_type": "stream",
     "text": [
      "1469.7718273620853 0.030780594793213822 0.01992799618363379 135\n"
     ]
    },
    {
     "name": "stderr",
     "output_type": "stream",
     "text": [
      "100%|██████████| 937/937 [00:00<00:00, 1647.39it/s]\n"
     ]
    },
    {
     "name": "stdout",
     "output_type": "stream",
     "text": [
      "1469.7412090699233 0.030618292161989302 0.019746307247796 135\n"
     ]
    },
    {
     "name": "stderr",
     "output_type": "stream",
     "text": [
      "100%|██████████| 937/937 [00:00<00:00, 1647.43it/s]\n"
     ]
    },
    {
     "name": "stdout",
     "output_type": "stream",
     "text": [
      "1469.710738274581 0.030470795342353085 0.0195772816067407 135\n"
     ]
    },
    {
     "name": "stderr",
     "output_type": "stream",
     "text": [
      "100%|██████████| 937/937 [00:00<00:00, 1633.27it/s]\n"
     ]
    },
    {
     "name": "stdout",
     "output_type": "stream",
     "text": [
      "1469.680401089695 0.030337184886093382 0.01941991417964286 135\n"
     ]
    },
    {
     "name": "stderr",
     "output_type": "stream",
     "text": [
      "100%|██████████| 937/937 [00:00<00:00, 1651.65it/s]\n"
     ]
    },
    {
     "name": "stdout",
     "output_type": "stream",
     "text": [
      "1469.650184646729 0.03021644296586601 0.019273304086719418 135\n"
     ]
    },
    {
     "name": "stderr",
     "output_type": "stream",
     "text": [
      "100%|██████████| 937/937 [00:00<00:00, 1648.98it/s]\n"
     ]
    },
    {
     "name": "stdout",
     "output_type": "stream",
     "text": [
      "1469.6200770014925 0.030107645236512326 0.019136641353707958 135\n"
     ]
    },
    {
     "name": "stderr",
     "output_type": "stream",
     "text": [
      "100%|██████████| 937/937 [00:00<00:00, 1654.82it/s]\n"
     ]
    },
    {
     "name": "stdout",
     "output_type": "stream",
     "text": [
      "1469.5900669933915 0.03001000810104415 0.019009195524480545 135\n"
     ]
    },
    {
     "name": "stderr",
     "output_type": "stream",
     "text": [
      "100%|██████████| 937/937 [00:00<00:00, 1628.48it/s]\n"
     ]
    },
    {
     "name": "stdout",
     "output_type": "stream",
     "text": [
      "1469.5601455171707 0.029921476220806653 0.01889030592021572 135\n"
     ]
    },
    {
     "name": "stderr",
     "output_type": "stream",
     "text": [
      "100%|██████████| 937/937 [00:00<00:00, 1646.38it/s]\n"
     ]
    },
    {
     "name": "stdout",
     "output_type": "stream",
     "text": [
      "1469.5303017399865 0.029843777184169085 0.01877937329944761 135\n"
     ]
    },
    {
     "name": "stderr",
     "output_type": "stream",
     "text": [
      "100%|██████████| 937/937 [00:00<00:00, 1653.03it/s]\n"
     ]
    },
    {
     "name": "stdout",
     "output_type": "stream",
     "text": [
      "1469.5005268606972 0.02977487928933442 0.018675852691458668 135\n"
     ]
    },
    {
     "name": "stderr",
     "output_type": "stream",
     "text": [
      "100%|██████████| 937/937 [00:00<00:00, 1629.75it/s]\n"
     ]
    },
    {
     "name": "stdout",
     "output_type": "stream",
     "text": [
      "1469.4708126049766 0.02971425572059161 0.018579247226383017 135\n"
     ]
    },
    {
     "name": "stderr",
     "output_type": "stream",
     "text": [
      "100%|██████████| 937/937 [00:00<00:00, 1627.65it/s]\n"
     ]
    },
    {
     "name": "stdout",
     "output_type": "stream",
     "text": [
      "1469.4411512520674 0.029661352909215566 0.018489102809652172 135\n"
     ]
    },
    {
     "name": "stderr",
     "output_type": "stream",
     "text": [
      "100%|██████████| 937/937 [00:00<00:00, 1637.11it/s]\n"
     ]
    },
    {
     "name": "stdout",
     "output_type": "stream",
     "text": [
      "1469.4115356191028 0.029615632964578253 0.018405003507629008 135\n"
     ]
    },
    {
     "name": "stderr",
     "output_type": "stream",
     "text": [
      "100%|██████████| 937/937 [00:00<00:00, 1647.92it/s]\n"
     ]
    },
    {
     "name": "stdout",
     "output_type": "stream",
     "text": [
      "1469.3819590184723 0.02957660063043477 0.01832656753677436 135\n"
     ]
    },
    {
     "name": "stderr",
     "output_type": "stream",
     "text": [
      "100%|██████████| 937/937 [00:00<00:00, 1642.55it/s]\n"
     ]
    },
    {
     "name": "stdout",
     "output_type": "stream",
     "text": [
      "1469.3524152220737 0.029543796398684208 0.018253443767352526 135\n"
     ]
    },
    {
     "name": "stderr",
     "output_type": "stream",
     "text": [
      "100%|██████████| 937/937 [00:00<00:00, 1627.76it/s]\n"
     ]
    },
    {
     "name": "stdout",
     "output_type": "stream",
     "text": [
      "1469.3228984285477 0.029516793525999674 0.01818530866444757 135\n"
     ]
    },
    {
     "name": "stderr",
     "output_type": "stream",
     "text": [
      "100%|██████████| 937/937 [00:00<00:00, 1634.83it/s]\n"
     ]
    },
    {
     "name": "stdout",
     "output_type": "stream",
     "text": [
      "1469.293403233205 0.02949519534263345 0.018121863599585328 135\n"
     ]
    },
    {
     "name": "stderr",
     "output_type": "stream",
     "text": [
      "100%|██████████| 937/937 [00:00<00:00, 1635.06it/s]\n"
     ]
    },
    {
     "name": "stdout",
     "output_type": "stream",
     "text": [
      "1469.2639246003127 0.029478632892278256 0.018062832477371737 135\n"
     ]
    },
    {
     "name": "stderr",
     "output_type": "stream",
     "text": [
      "100%|██████████| 937/937 [00:00<00:00, 1641.22it/s]\n"
     ]
    },
    {
     "name": "stdout",
     "output_type": "stream",
     "text": [
      "1469.2344578375455 0.02946676276724247 0.018007959632211558 135\n"
     ]
    },
    {
     "name": "stderr",
     "output_type": "stream",
     "text": [
      "100%|██████████| 937/937 [00:00<00:00, 1649.45it/s]\n"
     ]
    },
    {
     "name": "stdout",
     "output_type": "stream",
     "text": [
      "1469.2049985723522 0.02945926519328168 0.01795700795849876 135\n"
     ]
    },
    {
     "name": "stderr",
     "output_type": "stream",
     "text": [
      "100%|██████████| 937/937 [00:00<00:00, 1651.99it/s]\n"
     ]
    },
    {
     "name": "stdout",
     "output_type": "stream",
     "text": [
      "1469.1755427301691 0.029455842183097047 0.018056147478721862 478\n"
     ]
    },
    {
     "name": "stderr",
     "output_type": "stream",
     "text": [
      "100%|██████████| 937/937 [00:00<00:00, 1611.18it/s]\n"
     ]
    },
    {
     "name": "stdout",
     "output_type": "stream",
     "text": [
      "1469.14608638744 0.02945634272919051 0.01814615836560289 14\n"
     ]
    },
    {
     "name": "stderr",
     "output_type": "stream",
     "text": [
      "100%|██████████| 937/937 [00:00<00:00, 1653.37it/s]\n"
     ]
    },
    {
     "name": "stdout",
     "output_type": "stream",
     "text": [
      "1469.1166248993832 0.02946148805676785 0.01825497847521581 14\n"
     ]
    },
    {
     "name": "stderr",
     "output_type": "stream",
     "text": [
      "100%|██████████| 937/937 [00:00<00:00, 1655.69it/s]\n"
     ]
    },
    {
     "name": "stdout",
     "output_type": "stream",
     "text": [
      "1469.0871557716753 0.029469127707898224 0.018362232889343594 14\n"
     ]
    },
    {
     "name": "stderr",
     "output_type": "stream",
     "text": [
      "100%|██████████| 937/937 [00:00<00:00, 1643.45it/s]\n"
     ]
    },
    {
     "name": "stdout",
     "output_type": "stream",
     "text": [
      "1469.057675922147 0.02947984952834304 0.0184679448602897 14\n"
     ]
    },
    {
     "name": "stderr",
     "output_type": "stream",
     "text": [
      "100%|██████████| 937/937 [00:00<00:00, 1653.79it/s]\n"
     ]
    },
    {
     "name": "stdout",
     "output_type": "stream",
     "text": [
      "1469.0281824915817 0.02949343056525322 0.018572136327785614 14\n"
     ]
    },
    {
     "name": "stderr",
     "output_type": "stream",
     "text": [
      "100%|██████████| 937/937 [00:00<00:00, 1556.61it/s]\n"
     ]
    },
    {
     "name": "stdout",
     "output_type": "stream",
     "text": [
      "1468.9986728001393 0.029509691442399344 0.01867482945320293 14\n"
     ]
    },
    {
     "name": "stderr",
     "output_type": "stream",
     "text": [
      "100%|██████████| 937/937 [00:00<00:00, 1640.26it/s]\n"
     ]
    },
    {
     "name": "stdout",
     "output_type": "stream",
     "text": [
      "1468.9691443560746 0.029528444064681025 0.018776046997006118 14\n"
     ]
    },
    {
     "name": "stderr",
     "output_type": "stream",
     "text": [
      "100%|██████████| 937/937 [00:00<00:00, 1658.67it/s]\n"
     ]
    },
    {
     "name": "stdout",
     "output_type": "stream",
     "text": [
      "1468.9395948424642 0.02954951361039093 0.018875810863324495 14\n"
     ]
    },
    {
     "name": "stderr",
     "output_type": "stream",
     "text": [
      "100%|██████████| 937/937 [00:00<00:00, 1632.14it/s]\n"
     ]
    },
    {
     "name": "stdout",
     "output_type": "stream",
     "text": [
      "1468.9100221053698 0.029572737094440527 0.018974141254763387 14\n"
     ]
    },
    {
     "name": "stderr",
     "output_type": "stream",
     "text": [
      "100%|██████████| 937/937 [00:00<00:00, 1638.05it/s]\n"
     ]
    },
    {
     "name": "stdout",
     "output_type": "stream",
     "text": [
      "1468.8804241432617 0.029597962108027787 0.019071056585582117 14\n"
     ]
    },
    {
     "name": "stderr",
     "output_type": "stream",
     "text": [
      "100%|██████████| 937/937 [00:00<00:00, 1649.46it/s]\n"
     ]
    },
    {
     "name": "stdout",
     "output_type": "stream",
     "text": [
      "1468.8507990973967 0.029625045865032007 0.019166573644595196 14\n"
     ]
    },
    {
     "name": "stderr",
     "output_type": "stream",
     "text": [
      "100%|██████████| 937/937 [00:00<00:00, 1654.74it/s]\n"
     ]
    },
    {
     "name": "stdout",
     "output_type": "stream",
     "text": [
      "1468.8211424833673 0.02965661402936348 0.018272843651788804 14\n"
     ]
    },
    {
     "name": "stderr",
     "output_type": "stream",
     "text": [
      "100%|██████████| 937/937 [00:00<00:00, 1661.40it/s]\n"
     ]
    },
    {
     "name": "stdout",
     "output_type": "stream",
     "text": [
      "1468.7913918254203 0.029750657947033687 0.018103322073567525 14\n"
     ]
    },
    {
     "name": "stderr",
     "output_type": "stream",
     "text": [
      "100%|██████████| 937/937 [00:00<00:00, 1662.04it/s]\n"
     ]
    },
    {
     "name": "stdout",
     "output_type": "stream",
     "text": [
      "1468.7616153049778 0.029776520442510446 0.018059253783817297 14\n"
     ]
    },
    {
     "name": "stderr",
     "output_type": "stream",
     "text": [
      "100%|██████████| 937/937 [00:00<00:00, 1655.73it/s]\n"
     ]
    },
    {
     "name": "stdout",
     "output_type": "stream",
     "text": [
      "1468.731807998091 0.029807306886823426 0.01805605419147337 14\n"
     ]
    },
    {
     "name": "stderr",
     "output_type": "stream",
     "text": [
      "100%|██████████| 937/937 [00:00<00:00, 1648.81it/s]\n"
     ]
    },
    {
     "name": "stdout",
     "output_type": "stream",
     "text": [
      "1468.7019687487661 0.02983924932482296 0.018060787241597903 14\n"
     ]
    },
    {
     "name": "stderr",
     "output_type": "stream",
     "text": [
      "100%|██████████| 937/937 [00:00<00:00, 1513.16it/s]\n"
     ]
    },
    {
     "name": "stdout",
     "output_type": "stream",
     "text": [
      "1468.6720961568126 0.029872591953562733 0.018070013533050322 14\n"
     ]
    },
    {
     "name": "stderr",
     "output_type": "stream",
     "text": [
      "100%|██████████| 937/937 [00:00<00:00, 1643.69it/s]\n"
     ]
    },
    {
     "name": "stdout",
     "output_type": "stream",
     "text": [
      "1468.6421889346664 0.029907222146221102 0.018081635911952516 14\n"
     ]
    },
    {
     "name": "stderr",
     "output_type": "stream",
     "text": [
      "100%|██████████| 937/937 [00:00<00:00, 1643.62it/s]\n"
     ]
    },
    {
     "name": "stdout",
     "output_type": "stream",
     "text": [
      "1468.6122459042745 0.029943030391905268 0.01809463862925394 14\n"
     ]
    },
    {
     "name": "stderr",
     "output_type": "stream",
     "text": [
      "100%|██████████| 937/937 [00:00<00:00, 1633.41it/s]\n"
     ]
    },
    {
     "name": "stdout",
     "output_type": "stream",
     "text": [
      "1468.5822659853625 0.02997991891197671 0.0181084613702987 14\n"
     ]
    },
    {
     "name": "stderr",
     "output_type": "stream",
     "text": [
      "100%|██████████| 937/937 [00:00<00:00, 1638.92it/s]\n"
     ]
    },
    {
     "name": "stdout",
     "output_type": "stream",
     "text": [
      "1468.5522481880018 0.030017797360642362 0.018122763583780788 14\n"
     ]
    },
    {
     "name": "stderr",
     "output_type": "stream",
     "text": [
      "100%|██████████| 937/937 [00:00<00:00, 1639.67it/s]\n"
     ]
    },
    {
     "name": "stdout",
     "output_type": "stream",
     "text": [
      "1468.5221916062408 0.030056581761073176 0.01813376130106093 14\n"
     ]
    },
    {
     "name": "stderr",
     "output_type": "stream",
     "text": [
      "100%|██████████| 937/937 [00:00<00:00, 1638.31it/s]\n"
     ]
    },
    {
     "name": "stdout",
     "output_type": "stream",
     "text": [
      "1468.4920954025097 0.03009620373109101 0.018125595831518612 14\n"
     ]
    },
    {
     "name": "stderr",
     "output_type": "stream",
     "text": [
      "100%|██████████| 937/937 [00:00<00:00, 1641.16it/s]\n"
     ]
    },
    {
     "name": "stdout",
     "output_type": "stream",
     "text": [
      "1468.4619576258 0.030137776709580066 0.018117922834298493 14\n"
     ]
    },
    {
     "name": "stderr",
     "output_type": "stream",
     "text": [
      "100%|██████████| 937/937 [00:00<00:00, 1646.47it/s]\n"
     ]
    },
    {
     "name": "stdout",
     "output_type": "stream",
     "text": [
      "1468.4317788521078 0.030178773692341565 0.01811063122585761 14\n"
     ]
    },
    {
     "name": "stderr",
     "output_type": "stream",
     "text": [
      "100%|██████████| 937/937 [00:00<00:00, 1648.53it/s]\n"
     ]
    },
    {
     "name": "stdout",
     "output_type": "stream",
     "text": [
      "1468.4015583949458 0.030220457161931336 0.018103630218188973 14\n"
     ]
    },
    {
     "name": "stderr",
     "output_type": "stream",
     "text": [
      "100%|██████████| 937/937 [00:00<00:00, 1650.92it/s]\n"
     ]
    },
    {
     "name": "stdout",
     "output_type": "stream",
     "text": [
      "1468.3712957060384 0.03026268890744177 0.018096843911329055 14\n"
     ]
    },
    {
     "name": "stderr",
     "output_type": "stream",
     "text": [
      "100%|██████████| 937/937 [00:00<00:00, 1654.23it/s]\n"
     ]
    },
    {
     "name": "stdout",
     "output_type": "stream",
     "text": [
      "1468.3409902834076 0.030305422630817702 0.01809020775493427 14\n"
     ]
    },
    {
     "name": "stderr",
     "output_type": "stream",
     "text": [
      "100%|██████████| 937/937 [00:00<00:00, 1651.10it/s]\n"
     ]
    },
    {
     "name": "stdout",
     "output_type": "stream",
     "text": [
      "1468.3106416827427 0.030348600664865444 0.01808366613564039 14\n"
     ]
    },
    {
     "name": "stderr",
     "output_type": "stream",
     "text": [
      "100%|██████████| 937/937 [00:00<00:00, 1647.96it/s]\n"
     ]
    },
    {
     "name": "stdout",
     "output_type": "stream",
     "text": [
      "1468.2802495125518 0.030392170190907564 0.018077170667825982 14\n"
     ]
    },
    {
     "name": "stderr",
     "output_type": "stream",
     "text": [
      "100%|██████████| 937/937 [00:00<00:00, 1646.80it/s]\n"
     ]
    },
    {
     "name": "stdout",
     "output_type": "stream",
     "text": [
      "1468.249813431209 0.030436081342713805 0.018070678953315964 14\n"
     ]
    },
    {
     "name": "stderr",
     "output_type": "stream",
     "text": [
      "100%|██████████| 937/937 [00:00<00:00, 1647.54it/s]\n"
     ]
    },
    {
     "name": "stdout",
     "output_type": "stream",
     "text": [
      "1468.219333144431 0.030480286778129084 0.018064153664775845 14\n"
     ]
    },
    {
     "name": "stderr",
     "output_type": "stream",
     "text": [
      "100%|██████████| 937/937 [00:00<00:00, 1646.36it/s]\n"
     ]
    },
    {
     "name": "stdout",
     "output_type": "stream",
     "text": [
      "1468.1888084027944 0.03052474163655461 0.01805756184390155 14\n"
     ]
    },
    {
     "name": "stderr",
     "output_type": "stream",
     "text": [
      "100%|██████████| 937/937 [00:00<00:00, 1644.53it/s]\n"
     ]
    },
    {
     "name": "stdout",
     "output_type": "stream",
     "text": [
      "1468.1582389995194 0.030569403274967044 0.01805087434191599 14\n"
     ]
    },
    {
     "name": "stderr",
     "output_type": "stream",
     "text": [
      "100%|██████████| 937/937 [00:00<00:00, 1645.26it/s]\n"
     ]
    },
    {
     "name": "stdout",
     "output_type": "stream",
     "text": [
      "1468.1276247683352 0.030614231184245 0.018044065359478424 14\n"
     ]
    },
    {
     "name": "stderr",
     "output_type": "stream",
     "text": [
      "100%|██████████| 937/937 [00:00<00:00, 1619.08it/s]\n"
     ]
    },
    {
     "name": "stdout",
     "output_type": "stream",
     "text": [
      "1468.0969655815034 0.030659186831826446 0.018037112061479982 14\n"
     ]
    },
    {
     "name": "stderr",
     "output_type": "stream",
     "text": [
      "100%|██████████| 937/937 [00:00<00:00, 1636.01it/s]\n"
     ]
    },
    {
     "name": "stdout",
     "output_type": "stream",
     "text": [
      "1468.066261347969 0.030704233534379455 0.01802999425030038 14\n"
     ]
    },
    {
     "name": "stderr",
     "output_type": "stream",
     "text": [
      "100%|██████████| 937/937 [00:00<00:00, 1646.33it/s]\n"
     ]
    },
    {
     "name": "stdout",
     "output_type": "stream",
     "text": [
      "1468.0355120115962 0.030749336372764446 0.018022694086299564 14\n"
     ]
    },
    {
     "name": "stderr",
     "output_type": "stream",
     "text": [
      "100%|██████████| 937/937 [00:00<00:00, 1650.75it/s]\n"
     ]
    },
    {
     "name": "stdout",
     "output_type": "stream",
     "text": [
      "1468.0047175146487 0.030794496947464722 0.01801519584604696 14\n"
     ]
    },
    {
     "name": "stderr",
     "output_type": "stream",
     "text": [
      "100%|██████████| 937/937 [00:00<00:00, 1657.94it/s]\n"
     ]
    },
    {
     "name": "stdout",
     "output_type": "stream",
     "text": [
      "1467.9738806481776 0.03083686647119066 0.018007485711775264 14\n"
     ]
    },
    {
     "name": "stderr",
     "output_type": "stream",
     "text": [
      "100%|██████████| 937/937 [00:00<00:00, 1655.27it/s]\n"
     ]
    },
    {
     "ename": "KeyboardInterrupt",
     "evalue": "",
     "output_type": "error",
     "traceback": [
      "\u001b[0;31m---------------------------------------------------------------------------\u001b[0m",
      "\u001b[0;31mKeyboardInterrupt\u001b[0m                         Traceback (most recent call last)",
      "Cell \u001b[0;32mIn[10], line 18\u001b[0m\n\u001b[1;32m     15\u001b[0m M\u001b[38;5;241m.\u001b[39mlawson_flip()\n\u001b[1;32m     16\u001b[0m new_area \u001b[38;5;241m=\u001b[39m M\u001b[38;5;241m.\u001b[39mcalculate_area()\n\u001b[0;32m---> 18\u001b[0m \u001b[38;5;28mprint\u001b[39m(new_area,area \u001b[38;5;241m-\u001b[39m new_area,M\u001b[38;5;241m.\u001b[39mcompute_mean_curvature(),M\u001b[38;5;241m.\u001b[39mvertex_curvatures[\u001b[43mM\u001b[49m\u001b[38;5;241;43m.\u001b[39;49m\u001b[43mcompute_mean_curvature\u001b[49m\u001b[43m(\u001b[49m\u001b[43m)\u001b[49m])\n",
      "File \u001b[0;32m~/projects/def-vidalthi/mehdii/3DPU_Plateau_Problem/Plateau_Problem/Triangulation_Meshing/Initial_triangulation.py:268\u001b[0m, in \u001b[0;36mTriangularMesh.compute_mean_curvature\u001b[0;34m(self)\u001b[0m\n\u001b[1;32m    265\u001b[0m \u001b[38;5;28mself\u001b[39m\u001b[38;5;241m.\u001b[39mvertex_curvatures \u001b[38;5;241m=\u001b[39m \u001b[38;5;28mdict\u001b[39m()\n\u001b[1;32m    266\u001b[0m \u001b[38;5;28;01mfor\u001b[39;00m i \u001b[38;5;129;01min\u001b[39;00m \u001b[38;5;28mself\u001b[39m\u001b[38;5;241m.\u001b[39minside_indexes:\n\u001b[0;32m--> 268\u001b[0m     A_i \u001b[38;5;241m=\u001b[39m \u001b[38;5;28;43mself\u001b[39;49m\u001b[38;5;241;43m.\u001b[39;49m\u001b[43mvoronoi_area\u001b[49m\u001b[43m(\u001b[49m\u001b[43mi\u001b[49m\u001b[43m)\u001b[49m \u001b[38;5;66;03m#We do it with simple area\u001b[39;00m\n\u001b[1;32m    269\u001b[0m     curvature_sum \u001b[38;5;241m=\u001b[39m np\u001b[38;5;241m.\u001b[39mzeros(\u001b[38;5;241m3\u001b[39m)\n\u001b[1;32m    270\u001b[0m     B_i  \u001b[38;5;241m=\u001b[39m \u001b[38;5;241m0\u001b[39m\n",
      "File \u001b[0;32m~/projects/def-vidalthi/mehdii/3DPU_Plateau_Problem/Plateau_Problem/Triangulation_Meshing/Initial_triangulation.py:259\u001b[0m, in \u001b[0;36mTriangularMesh.voronoi_area\u001b[0;34m(self, vertex)\u001b[0m\n\u001b[1;32m    257\u001b[0m     v2 \u001b[38;5;241m=\u001b[39m [a \u001b[38;5;28;01mfor\u001b[39;00m a \u001b[38;5;129;01min\u001b[39;00m tri \u001b[38;5;28;01mif\u001b[39;00m a \u001b[38;5;241m!=\u001b[39m vertex][\u001b[38;5;241m0\u001b[39m]\n\u001b[1;32m    258\u001b[0m     v3 \u001b[38;5;241m=\u001b[39m [a \u001b[38;5;28;01mfor\u001b[39;00m a \u001b[38;5;129;01min\u001b[39;00m tri \u001b[38;5;28;01mif\u001b[39;00m a \u001b[38;5;241m!=\u001b[39m vertex][\u001b[38;5;241m1\u001b[39m]\n\u001b[0;32m--> 259\u001b[0m     area \u001b[38;5;241m+\u001b[39m\u001b[38;5;241m=\u001b[39m \u001b[38;5;28mself\u001b[39m\u001b[38;5;241m.\u001b[39mmixed_area(v1,v2,v3)\n\u001b[1;32m    260\u001b[0m \u001b[38;5;28;01mreturn\u001b[39;00m area\n",
      "\u001b[0;31mKeyboardInterrupt\u001b[0m: "
     ]
    }
   ],
   "source": [
    "epsilon = 0.001\n",
    "area = M.calculate_area()\n",
    "print(len(M.triangles))\n",
    "M.update_weights()\n",
    "for i in tqdm(M.inside_indexes):\n",
    "    M.update_mapping_area(i)\n",
    "D = M.lawson_flip()\n",
    "new_area = M.calculate_area()\n",
    "print(new_area,area - new_area,M.compute_mean_curvature(),M.vertex_curvatures[M.compute_mean_curvature()])\n",
    "\n",
    "while  area - new_area > 0.01:\n",
    "    area = M.calculate_area()\n",
    "    for i in tqdm(M.inside_indexes):\n",
    "        M.update_mapping_area(i)\n",
    "    M.lawson_flip()\n",
    "    new_area = M.calculate_area()\n",
    "\n",
    "    print(new_area,area - new_area,M.compute_mean_curvature(),M.vertex_curvatures[M.compute_mean_curvature()])\n"
   ]
  },
  {
   "cell_type": "code",
   "execution_count": 11,
   "metadata": {},
   "outputs": [
    {
     "data": {
      "text/plain": [
       "(-18.807352460279205, 18.807352460279205)"
      ]
     },
     "execution_count": 11,
     "metadata": {},
     "output_type": "execute_result"
    },
    {
     "data": {
      "application/vnd.jupyter.widget-view+json": {
       "model_id": "14c9cdc3ba604a099938b8dec34db5ea",
       "version_major": 2,
       "version_minor": 0
      },
      "image/png": "[encoded data removed]",
      "text/html": [
       "\n",
       "            <div style=\"display: inline-block;\">\n",
       "                <div class=\"jupyter-widgets widget-label\" style=\"text-align: center;\">\n",
       "                    Figure\n",
       "                </div>\n",
       "                <img src='data:image/png;base64,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' width=640.0/>\n",
       "            </div>\n",
       "        "
      ],
      "text/plain": [
       "Canvas(toolbar=Toolbar(toolitems=[('Home', 'Reset original view', 'home', 'home'), ('Back', 'Back to previous …"
      ]
     },
     "metadata": {},
     "output_type": "display_data"
    }
   ],
   "source": [
    "#Drawing the surfaces \n",
    "\n",
    "fig = plt.figure()\n",
    "ax = fig.add_subplot(111, projection='3d')\n",
    "ax.set_aspect('equal')\n",
    "\n",
    "X = []\n",
    "Y = []\n",
    "Z = []\n",
    "for tr in M.triangles:\n",
    "    xs = [M.mapping[ind][0] for ind in tr] + [M.mapping[tr[0]][0]]\n",
    "    ys = [M.mapping[ind][1] for ind in tr] + [M.mapping[tr[0]][1]]\n",
    "    zs = [M.mapping[ind][2] for ind in tr] + [M.mapping[tr[0]][2]]\n",
    "    ax.plot(xs,ys,zs)\n",
    "    \n",
    "    X = X + list(xs)\n",
    "    Y = Y + list(ys)\n",
    "    Z = Z + list(zs)\n",
    "\n",
    "\n",
    "L = M.mapping[ind]\n",
    "x = L[0]\n",
    "y = L[1]\n",
    "z = L[2]\n",
    "\n",
    "\n",
    "plt.plot(x,y,z,'x',color='r') \n",
    "\n",
    "\n",
    "\n",
    "for k in Outside_vertexes:\n",
    "    L = M.mapping[k]\n",
    "    x = L[0]\n",
    "    y = L[1]\n",
    "    z = L[2]\n",
    "\n",
    "\n",
    "    plt.plot(x,y,z,'o',color='green') \n",
    "\n",
    "\n",
    "X = np.array(X)\n",
    "Y = np.array(Y)\n",
    "Z = np.array(Z)\n",
    "max_range = np.array([X.max()-X.min(), Y.max()-Y.min(), Z.max()-Z.min()]).max() / 2.0 \n",
    "\n",
    "mid_x = (X.max()+X.min()) * 0.5\n",
    "mid_y = (Y.max()+Y.min()) * 0.5\n",
    "mid_z = (Z.max()+Z.min()) * 0.5\n",
    "ax.set_xlim(mid_x - max_range, mid_x + max_range)\n",
    "ax.set_ylim(mid_y - max_range, mid_y + max_range)\n",
    "ax.set_zlim(mid_z - max_range, mid_z + max_range)\n",
    "\n"
   ]
  },
  {
   "cell_type": "code",
   "execution_count": 42,
   "metadata": {},
   "outputs": [],
   "source": [
    "import pickle\n",
    "with open('/home/mehdii/projects/def-vidalthi/mehdii/3dPU/3dPU/Plateau_Problem/Triangulation_Meshing/tests/test_catenoid_big.pkl', \"wb\") as file:\n",
    "    pickle.dump(M,file)"
   ]
  }
 ],
 "metadata": {
  "kernelspec": {
   "display_name": "integrating",
   "language": "python",
   "name": "python3"
  },
  "language_info": {
   "codemirror_mode": {
    "name": "ipython",
    "version": 3
   },
   "file_extension": ".py",
   "mimetype": "text/x-python",
   "name": "python",
   "nbconvert_exporter": "python",
   "pygments_lexer": "ipython3",
   "version": "3.11.5"
  }
 },
 "nbformat": 4,
 "nbformat_minor": 2
}
