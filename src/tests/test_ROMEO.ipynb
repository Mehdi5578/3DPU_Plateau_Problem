{
 "cells": [
  {
   "cell_type": "code",
<<<<<<< HEAD
   "execution_count": 23,
=======
   "execution_count": 1,
>>>>>>> origin/_mehdi_
   "metadata": {},
   "outputs": [],
   "source": [
    "import numpy as np\n",
    "import nibabel as nb\n",
    "import sys\n",
    "import os\n",
    "import yaml\n",
    "import matplotlib.pyplot as plt\n",
    "\n",
<<<<<<< HEAD
    "\n",
    "sys.path.append(\"/home/mehdii/projects/def-vidalthi/mehdii/3DPU_Plateau_Problem\")\n",
    "from src.PU3D_project._3DLoops._3dpu_using_dfs import *\n",
    "from src.PU3D_project.Block_edges.block_edges import *\n",
=======
    "sys.path.append(\"/home/mehdii/projects/def-vidalthi/mehdii/3DPU_Plateau_Problem\")\n",
>>>>>>> origin/_mehdi_
    "import src.PU3D_project.ROMEO.romeo.utils as romeo\n",
    "import src.PU3D_project.utils as utils"
   ]
  },
  {
   "cell_type": "markdown",
   "metadata": {},
   "source": [
    "## Create a data set or extract it"
   ]
  },
  {
   "cell_type": "code",
<<<<<<< HEAD
   "execution_count": 2,
=======
   "execution_count": 3,
>>>>>>> origin/_mehdi_
   "metadata": {},
   "outputs": [],
   "source": [
    "config = yaml.safe_load(open(\"/home/mehdii/projects/def-vidalthi/mehdii/3DPU_Plateau_Problem/paths.yaml\"))"
   ]
  },
  {
   "cell_type": "code",
<<<<<<< HEAD
   "execution_count": 3,
=======
   "execution_count": 4,
>>>>>>> origin/_mehdi_
   "metadata": {},
   "outputs": [],
   "source": [
    "path_data = config[\"paths\"][\"phase_data\"]\n",
    "data_brut = nb.load(path_data)\n",
    "t = 1\n",
    "phase = data_brut.get_fdata()[:,:,:,t]"
   ]
  },
  {
<<<<<<< HEAD
   "cell_type": "code",
   "execution_count": 4,
   "metadata": {},
   "outputs": [],
   "source": [
    "i1,i2,j1,j2,k1,k2 = 0, 100, 0, 100, 0, 20\n",
    "phase = phase[i1:i2,j1:j2,k1:k2]"
   ]
  },
  {
   "cell_type": "markdown",
   "metadata": {},
   "source": [
    "# Use our Method on it"
   ]
  },
  {
   "cell_type": "markdown",
   "metadata": {},
   "source": [
    "*Detect the loops*"
=======
   "cell_type": "markdown",
   "metadata": {},
   "source": [
    "## Use our Method on it"
>>>>>>> origin/_mehdi_
   ]
  },
  {
   "cell_type": "code",
<<<<<<< HEAD
   "execution_count": 10,
   "metadata": {},
   "outputs": [
    {
     "name": "stderr",
     "output_type": "stream",
     "text": [
      "100%|██████████| 98050/98050 [00:00<00:00, 303563.33it/s]\n",
      "100%|██████████| 14158/14158 [00:00<00:00, 1123230.61it/s]\n",
      "100%|██████████| 168/168 [00:00<00:00, 580430.87it/s]\n",
      "100%|██████████| 98050/98050 [00:00<00:00, 2245239.33it/s]\n",
      "100%|██████████| 2193/2193 [00:00<00:00, 13805.52it/s]\n"
     ]
    },
    {
     "name": "stdout",
     "output_type": "stream",
     "text": [
      "70\n"
     ]
    },
    {
     "name": "stderr",
     "output_type": "stream",
     "text": [
      "100%|██████████| 2510/2510 [00:00<00:00, 6400.71it/s]\n",
      "100%|██████████| 3137/3137 [00:00<00:00, 1016575.11it/s]\n"
     ]
    }
   ],
   "source": [
    "C = Resiuals(phase)\n",
    "C.map_nodes()\n",
    "C.create_graph()\n",
    "C.create_graph_networkx()\n",
    "C.untangle_graph()\n",
    "C.fill_open_paths(separate=False,num_workers= 15)\n",
    "C.detect_cycles()"
   ]
  },
  {
   "cell_type": "code",
   "execution_count": null,
   "metadata": {},
   "outputs": [],
   "source": []
  },
  {
   "cell_type": "markdown",
   "metadata": {},
   "source": [
    "*Fill in the loops*"
   ]
  },
  {
   "cell_type": "code",
   "execution_count": 28,
   "metadata": {},
   "outputs": [
    {
     "ename": "KeyError",
     "evalue": "(1.0, 4.0, 11.0, 0.0, -1.0)",
     "output_type": "error",
     "traceback": [
      "\u001b[0;31m---------------------------------------------------------------------------\u001b[0m",
      "\u001b[0;31mKeyError\u001b[0m                                  Traceback (most recent call last)",
      "Cell \u001b[0;32mIn[28], line 9\u001b[0m\n\u001b[1;32m      7\u001b[0m M\u001b[38;5;241m.\u001b[39mcreate_quadrilaterals()\n\u001b[1;32m      8\u001b[0m M\u001b[38;5;241m.\u001b[39msplit_quadrilateral()\n\u001b[0;32m----> 9\u001b[0m \u001b[43mM\u001b[49m\u001b[38;5;241;43m.\u001b[39;49m\u001b[43mcanonic_representation_from_mesh\u001b[49m\u001b[43m(\u001b[49m\u001b[43m)\u001b[49m\n\u001b[1;32m     10\u001b[0m M\u001b[38;5;241m.\u001b[39mclean_triangles()\n\u001b[1;32m     11\u001b[0m M\u001b[38;5;241m.\u001b[39mfill_edges()\n",
      "File \u001b[0;32m~/projects/def-vidalthi/mehdii/3DPU_Plateau_Problem/src/PU3D_project/Plateau_Problem/Triangulation_Meshing/Initial_triangulation.py:129\u001b[0m, in \u001b[0;36mTriangularMesh.canonic_representation_from_mesh\u001b[0;34m(self)\u001b[0m\n\u001b[1;32m    127\u001b[0m \u001b[38;5;28mself\u001b[39m\u001b[38;5;241m.\u001b[39mtriangles \u001b[38;5;241m=\u001b[39m []\n\u001b[1;32m    128\u001b[0m \u001b[38;5;28;01mfor\u001b[39;00m tr \u001b[38;5;129;01min\u001b[39;00m (\u001b[38;5;28mself\u001b[39m\u001b[38;5;241m.\u001b[39mmesh):\n\u001b[0;32m--> 129\u001b[0m     tri \u001b[38;5;241m=\u001b[39m \u001b[43m[\u001b[49m\u001b[38;5;28;43mself\u001b[39;49m\u001b[38;5;241;43m.\u001b[39;49m\u001b[43mmapping_index\u001b[49m\u001b[43m[\u001b[49m\u001b[38;5;28;43mtuple\u001b[39;49m\u001b[43m(\u001b[49m\u001b[43mpt\u001b[49m\u001b[43m)\u001b[49m\u001b[43m]\u001b[49m\u001b[43m \u001b[49m\u001b[38;5;28;43;01mfor\u001b[39;49;00m\u001b[43m \u001b[49m\u001b[43mpt\u001b[49m\u001b[43m \u001b[49m\u001b[38;5;129;43;01min\u001b[39;49;00m\u001b[43m \u001b[49m\u001b[43mtr\u001b[49m\u001b[43m]\u001b[49m\n\u001b[1;32m    130\u001b[0m     \u001b[38;5;28mself\u001b[39m\u001b[38;5;241m.\u001b[39mcommon_dict_vertexes[\u001b[38;5;28mtuple\u001b[39m(\u001b[38;5;28msorted\u001b[39m((tri[\u001b[38;5;241m0\u001b[39m],tri[\u001b[38;5;241m1\u001b[39m])))] \u001b[38;5;241m=\u001b[39m \u001b[38;5;28mset\u001b[39m()\n\u001b[1;32m    131\u001b[0m     \u001b[38;5;28mself\u001b[39m\u001b[38;5;241m.\u001b[39mcommon_dict_vertexes[\u001b[38;5;28mtuple\u001b[39m(\u001b[38;5;28msorted\u001b[39m((tri[\u001b[38;5;241m0\u001b[39m],tri[\u001b[38;5;241m2\u001b[39m])))] \u001b[38;5;241m=\u001b[39m \u001b[38;5;28mset\u001b[39m()\n",
      "File \u001b[0;32m~/projects/def-vidalthi/mehdii/3DPU_Plateau_Problem/src/PU3D_project/Plateau_Problem/Triangulation_Meshing/Initial_triangulation.py:129\u001b[0m, in \u001b[0;36m<listcomp>\u001b[0;34m(.0)\u001b[0m\n\u001b[1;32m    127\u001b[0m \u001b[38;5;28mself\u001b[39m\u001b[38;5;241m.\u001b[39mtriangles \u001b[38;5;241m=\u001b[39m []\n\u001b[1;32m    128\u001b[0m \u001b[38;5;28;01mfor\u001b[39;00m tr \u001b[38;5;129;01min\u001b[39;00m (\u001b[38;5;28mself\u001b[39m\u001b[38;5;241m.\u001b[39mmesh):\n\u001b[0;32m--> 129\u001b[0m     tri \u001b[38;5;241m=\u001b[39m [\u001b[38;5;28;43mself\u001b[39;49m\u001b[38;5;241;43m.\u001b[39;49m\u001b[43mmapping_index\u001b[49m\u001b[43m[\u001b[49m\u001b[38;5;28;43mtuple\u001b[39;49m\u001b[43m(\u001b[49m\u001b[43mpt\u001b[49m\u001b[43m)\u001b[49m\u001b[43m]\u001b[49m \u001b[38;5;28;01mfor\u001b[39;00m pt \u001b[38;5;129;01min\u001b[39;00m tr]\n\u001b[1;32m    130\u001b[0m     \u001b[38;5;28mself\u001b[39m\u001b[38;5;241m.\u001b[39mcommon_dict_vertexes[\u001b[38;5;28mtuple\u001b[39m(\u001b[38;5;28msorted\u001b[39m((tri[\u001b[38;5;241m0\u001b[39m],tri[\u001b[38;5;241m1\u001b[39m])))] \u001b[38;5;241m=\u001b[39m \u001b[38;5;28mset\u001b[39m()\n\u001b[1;32m    131\u001b[0m     \u001b[38;5;28mself\u001b[39m\u001b[38;5;241m.\u001b[39mcommon_dict_vertexes[\u001b[38;5;28mtuple\u001b[39m(\u001b[38;5;28msorted\u001b[39m((tri[\u001b[38;5;241m0\u001b[39m],tri[\u001b[38;5;241m2\u001b[39m])))] \u001b[38;5;241m=\u001b[39m \u001b[38;5;28mset\u001b[39m()\n",
      "\u001b[0;31mKeyError\u001b[0m: (1.0, 4.0, 11.0, 0.0, -1.0)"
=======
   "execution_count": 2,
   "metadata": {},
   "outputs": [
    {
     "ename": "NameError",
     "evalue": "name 'phase' is not defined",
     "output_type": "error",
     "traceback": [
      "\u001b[0;31m---------------------------------------------------------------------------\u001b[0m",
      "\u001b[0;31mNameError\u001b[0m                                 Traceback (most recent call last)",
      "Cell \u001b[0;32mIn[2], line 1\u001b[0m\n\u001b[0;32m----> 1\u001b[0m half_phase \u001b[38;5;241m=\u001b[39m \u001b[43mphase\u001b[49m\u001b[38;5;241m.\u001b[39mshape\u001b[38;5;241m/\u001b[39m\u001b[38;5;241m2\u001b[39m\n",
      "\u001b[0;31mNameError\u001b[0m: name 'phase' is not defined"
>>>>>>> origin/_mehdi_
     ]
    }
   ],
   "source": [
<<<<<<< HEAD
    "Blocked_edges = []\n",
    "for cycle in C.cycles[1:2]:\n",
    "    cycle = [C.mapping[i] for i in cycle]\n",
    "    boundary = PointList()\n",
    "    boundary.points = cycle\n",
    "    M = Final_minimization(boundary,10*len(cycle))\n",
    "    M.create_quadrilaterals()\n",
    "    M.split_quadrilateral()\n",
    "    M.canonic_representation_from_mesh()\n",
    "    M.clean_triangles()\n",
    "    M.fill_edges()\n",
    "    C = Block_edges(M.triangles,M.mapping)\n",
    "    C.block_all_the_edges()"
=======
    "half_phase = phase.shape/2"
>>>>>>> origin/_mehdi_
   ]
  },
  {
   "cell_type": "markdown",
   "metadata": {},
   "source": [
    "## Use Romeo on it"
   ]
  },
  {
   "cell_type": "code",
<<<<<<< HEAD
   "execution_count": 9,
=======
   "execution_count": 8,
>>>>>>> origin/_mehdi_
   "metadata": {},
   "outputs": [
    {
     "name": "stderr",
     "output_type": "stream",
     "text": [
<<<<<<< HEAD
      "100%|██████████| 586000/586000 [00:00<00:00, 622824.46it/s]\n"
=======
      "100%|██████████| 12376832/12376832 [00:28<00:00, 428606.36it/s]\n"
>>>>>>> origin/_mehdi_
     ]
    }
   ],
   "source": [
<<<<<<< HEAD
    "unwrapp_romeo = romeo.unwrapp_phase(phase,[])"
=======
    "unwrapp_romeo = utils.unwrapp_phase(phase,[])"
>>>>>>> origin/_mehdi_
   ]
  },
  {
   "cell_type": "code",
   "execution_count": 10,
   "metadata": {},
   "outputs": [],
   "source": [
    "N_romeo = utils.compute_absolute_phase_gradients(unwrapp_romeo,phase)"
   ]
  },
  {
   "cell_type": "code",
   "execution_count": 11,
   "metadata": {},
   "outputs": [
    {
     "data": {
      "text/plain": [
<<<<<<< HEAD
       "126333"
=======
       "2333551"
>>>>>>> origin/_mehdi_
      ]
     },
     "execution_count": 11,
     "metadata": {},
     "output_type": "execute_result"
    }
   ],
   "source": [
    "N_romeo"
   ]
  },
  {
<<<<<<< HEAD
=======
   "cell_type": "code",
   "execution_count": null,
   "metadata": {},
   "outputs": [],
   "source": [
    "im.show()"
   ]
  },
  {
>>>>>>> origin/_mehdi_
   "cell_type": "markdown",
   "metadata": {},
   "source": [
    "## Scikit learn usage"
   ]
  },
  {
   "cell_type": "code",
<<<<<<< HEAD
   "execution_count": 12,
=======
   "execution_count": 15,
>>>>>>> origin/_mehdi_
   "metadata": {},
   "outputs": [],
   "source": [
    "from skimage.restoration import unwrap_phase"
   ]
  },
  {
   "cell_type": "code",
<<<<<<< HEAD
   "execution_count": 13,
=======
   "execution_count": 16,
>>>>>>> origin/_mehdi_
   "metadata": {},
   "outputs": [],
   "source": [
    "unwrapp_scikit = unwrap_phase(phase)"
   ]
  },
  {
   "cell_type": "code",
<<<<<<< HEAD
   "execution_count": 14,
=======
   "execution_count": 17,
>>>>>>> origin/_mehdi_
   "metadata": {},
   "outputs": [
    {
     "data": {
      "text/plain": [
<<<<<<< HEAD
       "157930"
      ]
     },
     "execution_count": 14,
=======
       "2916802"
      ]
     },
     "execution_count": 17,
>>>>>>> origin/_mehdi_
     "metadata": {},
     "output_type": "execute_result"
    }
   ],
   "source": [
    "N_scikit = utils.compute_absolute_phase_gradients(unwrapp_scikit,phase)\n",
    "N_scikit"
   ]
  }
 ],
 "metadata": {
  "kernelspec": {
   "display_name": "env_gurobi_hz",
   "language": "python",
   "name": "python3"
  },
  "language_info": {
   "codemirror_mode": {
    "name": "ipython",
    "version": 3
   },
   "file_extension": ".py",
   "mimetype": "text/x-python",
   "name": "python",
   "nbconvert_exporter": "python",
   "pygments_lexer": "ipython3",
   "version": "3.11.5"
  }
 },
 "nbformat": 4,
 "nbformat_minor": 2
}
