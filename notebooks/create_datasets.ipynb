{
 "cells": [
  {
   "cell_type": "code",
   "execution_count": null,
   "metadata": {},
   "outputs": [],
   "source": [
    "import numpy as np\n",
    "import matplotlib.pyplot as plt\n",
    "from mpl_toolkits.mplot3d import Axes3D\n",
    "\n",
    "# Define parameters\n",
    "frequency_theta = 2  # Frequency along the theta angle\n",
    "frequency_phi = 3    # Frequency along the phi angle\n",
    "radius = 1           # Radius of the sphere\n",
    "\n",
    "# Generate grid points in spherical coordinates\n",
    "theta = np.linspace(0, 2*np.pi, 100)\n",
    "phi = np.linspace(0, np.pi, 100)\n",
    "Theta, Phi = np.meshgrid(theta, phi)\n",
    "\n",
    "# Convert spherical coordinates to Cartesian coordinates\n",
    "X = radius * np.sin(Phi) * np.cos(Theta)\n",
    "Y = radius * np.sin(Phi) * np.sin(Theta)\n",
    "Z = radius * np.cos(Phi)\n",
    "\n",
    "# Generate the 3D wrapped signal\n",
    "signal = np.sin(frequency_theta * Theta) * np.cos(frequency_phi * Phi)\n",
    "\n",
    "# Calculate the phase of the signal\n",
    "phase = np.angle(signal)\n",
    "\n",
    "# Plot the 3D phase\n",
    "fig = plt.figure()\n",
    "ax = fig.add_subplot(111, projection='3d')\n",
    "ax.scatter(X, Y, Z, c=phase, cmap='hsv')\n",
    "ax.set_xlabel('X')\n",
    "ax.set_ylabel('Y')\n",
    "ax.set_zlabel('Z')\n",
    "plt.show()\n"
   ]
  }
 ],
 "metadata": {
  "language_info": {
   "name": "python"
  },
  "orig_nbformat": 4
 },
 "nbformat": 4,
 "nbformat_minor": 2
}
