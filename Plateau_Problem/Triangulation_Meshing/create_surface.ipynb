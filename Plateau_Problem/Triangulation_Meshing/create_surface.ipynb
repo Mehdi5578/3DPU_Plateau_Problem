{
 "cells": [
  {
   "cell_type": "code",
   "execution_count": 1,
   "metadata": {},
   "outputs": [],
   "source": [
    "import pickle\n",
    "import sys\n",
    "import os\n",
    "sys.path.append(\"/home/mehdii/projects/def-vidalthi/mehdii/3dPU/3dPU/\")\n",
    "from Final_surface import *\n",
    "from _3DLoops._3dpu import *\n",
    "from PointList import *\n",
    "%matplotlib widget \n",
    "from mpl_toolkits.mplot3d import Axes3D\n",
    "import matplotlib.pyplot as plt\n",
    "from tqdm import tqdm\n",
    "import math"
   ]
  },
  {
   "cell_type": "code",
   "execution_count": 2,
   "metadata": {},
   "outputs": [
    {
     "name": "stderr",
     "output_type": "stream",
     "text": [
      "100%|██████████| 915/915 [00:00<00:00, 37121.68it/s]\n"
     ]
    }
   ],
   "source": [
    "# upload the loops. \n",
    "\n",
    "with open(\"/home/mehdii/projects/def-vidalthi/mehdii/3dPU/3dPU/Created_Loops/created_loops_artificial.pkl\",'rb') as file:\n",
    "    loops = pickle.load(file)\n",
    "loops_3D = []\n",
    "for loop in tqdm(loops):\n",
    "    if True:\n",
    "        C = PointList()\n",
    "        for r in loop.loop[:-1]:\n",
    "            pos = [r.res.ax] + list(r.res.pos)\n",
    "            if pos[0] == 2:\n",
    "                new_pos = [pos[1]+0.5,pos[2] + 0.5,pos[3]]\n",
    "            elif pos[0] == 1:\n",
    "                new_pos = [pos[1]+0.5,pos[2],pos[3]+0.5]\n",
    "            elif pos[0] == 0:\n",
    "                new_pos = [pos[1],pos[2] + 0.5,pos[3]+0.5]\n",
    "                \n",
    "            C.add_point(new_pos)\n",
    "    loops_3D.append(C)\n",
    "\n"
   ]
  },
  {
   "cell_type": "code",
   "execution_count": 8,
   "metadata": {},
   "outputs": [
    {
     "data": {
      "text/plain": [
       "(array([14.5, 46. , 35.5]),\n",
       " array([14.98, 45.6 , 35.5 ]),\n",
       " array([15. , 45.5, 35.5]))"
      ]
     },
     "execution_count": 8,
     "metadata": {},
     "output_type": "execute_result"
    }
   ],
   "source": [
    "(J.mesh[0])"
   ]
  },
  {
   "cell_type": "code",
   "execution_count": 16,
   "metadata": {},
   "outputs": [
    {
     "name": "stderr",
     "output_type": "stream",
     "text": [
      "  1%|          | 6/915 [00:00<00:15, 58.47it/s]"
     ]
    },
    {
     "name": "stdout",
     "output_type": "stream",
     "text": [
      "<built-in method index of list object at 0x2ac593a70040>\n",
      "<built-in method index of list object at 0x2ac593a70040>\n",
      "<built-in method index of list object at 0x2ac593a70040>\n",
      "<built-in method index of list object at 0x2ac593a70040>\n",
      "<built-in method index of list object at 0x2ac593a70040>\n",
      "<built-in method index of list object at 0x2ac593a70040>\n",
      "<built-in method index of list object at 0x2ac593a70040>\n",
      "<built-in method index of list object at 0x2ac593a70040>\n",
      "<built-in method index of list object at 0x2ac593a70040>\n",
      "<built-in method index of list object at 0x2ac593a70040>\n",
      "<built-in method index of list object at 0x2ac593a70040>\n",
      "<built-in method index of list object at 0x2ac593a70040>\n"
     ]
    },
    {
     "name": "stderr",
     "output_type": "stream",
     "text": [
      "  2%|▏         | 18/915 [00:00<00:16, 52.97it/s]"
     ]
    },
    {
     "name": "stdout",
     "output_type": "stream",
     "text": [
      "<built-in method index of list object at 0x2ac593a70040>\n",
      "<built-in method index of list object at 0x2ac593a70040>\n",
      "<built-in method index of list object at 0x2ac593a70040>\n",
      "<built-in method index of list object at 0x2ac593a70040>\n",
      "<built-in method index of list object at 0x2ac593a70040>\n",
      "<built-in method index of list object at 0x2ac593a70040>\n",
      "<built-in method index of list object at 0x2ac593a70040>\n",
      "<built-in method index of list object at 0x2ac593a70040>\n",
      "<built-in method index of list object at 0x2ac593a70040>\n",
      "<built-in method index of list object at 0x2ac593a70040>\n",
      "<built-in method index of list object at 0x2ac593a70040>\n",
      "<built-in method index of list object at 0x2ac593a70040>\n",
      "<built-in method index of list object at 0x2ac593a70040>\n"
     ]
    },
    {
     "name": "stderr",
     "output_type": "stream",
     "text": [
      "  4%|▎         | 34/915 [00:00<00:12, 67.84it/s]"
     ]
    },
    {
     "name": "stdout",
     "output_type": "stream",
     "text": [
      "<built-in method index of list object at 0x2ac593a70040>\n",
      "<built-in method index of list object at 0x2ac593a70040>\n",
      "<built-in method index of list object at 0x2ac593a70040>\n",
      "<built-in method index of list object at 0x2ac593a70040>\n",
      "<built-in method index of list object at 0x2ac593a70040>\n",
      "<built-in method index of list object at 0x2ac593a70040>\n",
      "<built-in method index of list object at 0x2ac593a70040>\n",
      "<built-in method index of list object at 0x2ac593a70040>\n",
      "<built-in method index of list object at 0x2ac593a70040>\n",
      "<built-in method index of list object at 0x2ac593a70040>\n",
      "<built-in method index of list object at 0x2ac593a70040>\n",
      "<built-in method index of list object at 0x2ac593a70040>\n"
     ]
    },
    {
     "name": "stderr",
     "output_type": "stream",
     "text": [
      "  5%|▌         | 47/915 [00:00<00:17, 50.31it/s]"
     ]
    },
    {
     "name": "stdout",
     "output_type": "stream",
     "text": [
      "<built-in method index of list object at 0x2ac593a70040>\n",
      "<built-in method index of list object at 0x2ac593a70040>\n",
      "<built-in method index of list object at 0x2ac593a70040>\n",
      "<built-in method index of list object at 0x2ac593a70040>\n",
      "<built-in method index of list object at 0x2ac593a70040>\n",
      "<built-in method index of list object at 0x2ac593a70040>\n",
      "<built-in method index of list object at 0x2ac593a70040>\n",
      "<built-in method index of list object at 0x2ac593a70040>\n",
      "<built-in method index of list object at 0x2ac593a70040>\n",
      "<built-in method index of list object at 0x2ac593a70040>\n",
      "<built-in method index of list object at 0x2ac593a70040>\n"
     ]
    },
    {
     "name": "stderr",
     "output_type": "stream",
     "text": [
      "  6%|▌         | 53/915 [00:01<00:20, 41.90it/s]"
     ]
    },
    {
     "name": "stdout",
     "output_type": "stream",
     "text": [
      "<built-in method index of list object at 0x2ac593a70040>\n",
      "<built-in method index of list object at 0x2ac593a70040>\n",
      "<built-in method index of list object at 0x2ac593a70040>\n",
      "<built-in method index of list object at 0x2ac593a70040>\n",
      "<built-in method index of list object at 0x2ac593a70040>\n",
      "<built-in method index of list object at 0x2ac593a70040>\n",
      "<built-in method index of list object at 0x2ac593a70040>\n",
      "<built-in method index of list object at 0x2ac593a70040>\n",
      "<built-in method index of list object at 0x2ac593a70040>\n",
      "<built-in method index of list object at 0x2ac593a70040>\n"
     ]
    },
    {
     "name": "stderr",
     "output_type": "stream",
     "text": [
      "  7%|▋         | 63/915 [00:01<00:32, 25.85it/s]"
     ]
    },
    {
     "name": "stdout",
     "output_type": "stream",
     "text": [
      "<built-in method index of list object at 0x2ac593a70040>\n",
      "<built-in method index of list object at 0x2ac593a70040>\n",
      "<built-in method index of list object at 0x2ac593a70040>\n",
      "<built-in method index of list object at 0x2ac593a70040>\n",
      "<built-in method index of list object at 0x2ac593a70040>\n",
      "<built-in method index of list object at 0x2ac593a70040>\n",
      "<built-in method index of list object at 0x2ac593a70040>\n"
     ]
    },
    {
     "name": "stderr",
     "output_type": "stream",
     "text": [
      "  7%|▋         | 67/915 [00:01<00:32, 26.03it/s]"
     ]
    },
    {
     "name": "stdout",
     "output_type": "stream",
     "text": [
      "<built-in method index of list object at 0x2ac593a70040>\n",
      "<built-in method index of list object at 0x2ac593a70040>\n",
      "<built-in method index of list object at 0x2ac593a70040>\n",
      "<built-in method index of list object at 0x2ac593a70040>\n",
      "<built-in method index of list object at 0x2ac593a70040>\n"
     ]
    },
    {
     "name": "stderr",
     "output_type": "stream",
     "text": [
      "  8%|▊         | 71/915 [00:02<00:54, 15.51it/s]"
     ]
    },
    {
     "name": "stdout",
     "output_type": "stream",
     "text": [
      "<built-in method index of list object at 0x2ac593a70040>\n",
      "<built-in method index of list object at 0x2ac593a70040>\n",
      "<built-in method index of list object at 0x2ac593a70040>\n",
      "<built-in method index of list object at 0x2ac593a70040>\n",
      "<built-in method index of list object at 0x2ac593a70040>\n",
      "<built-in method index of list object at 0x2ac593a70040>\n",
      "<built-in method index of list object at 0x2ac593a70040>\n",
      "<built-in method index of list object at 0x2ac593a70040>\n",
      "<built-in method index of list object at 0x2ac593a70040>\n"
     ]
    },
    {
     "name": "stderr",
     "output_type": "stream",
     "text": [
      "  9%|▉         | 82/915 [00:02<00:42, 19.82it/s]"
     ]
    },
    {
     "name": "stdout",
     "output_type": "stream",
     "text": [
      "<built-in method index of list object at 0x2ac593a70040>\n",
      "<built-in method index of list object at 0x2ac593a70040>\n",
      "<built-in method index of list object at 0x2ac593a70040>\n",
      "<built-in method index of list object at 0x2ac593a70040>\n",
      "<built-in method index of list object at 0x2ac593a70040>\n",
      "<built-in method index of list object at 0x2ac593a70040>\n",
      "<built-in method index of list object at 0x2ac593a70040>\n",
      "<built-in method index of list object at 0x2ac593a70040>\n",
      "<built-in method index of list object at 0x2ac593a70040>\n",
      "<built-in method index of list object at 0x2ac593a70040>\n",
      "<built-in method index of list object at 0x2ac593a70040>\n",
      "<built-in method index of list object at 0x2ac593a70040>\n",
      "<built-in method index of list object at 0x2ac593a70040>\n",
      "<built-in method index of list object at 0x2ac593a70040>\n"
     ]
    },
    {
     "name": "stderr",
     "output_type": "stream",
     "text": [
      " 11%|█         | 99/915 [00:03<00:26, 31.03it/s]"
     ]
    },
    {
     "name": "stdout",
     "output_type": "stream",
     "text": [
      "<built-in method index of list object at 0x2ac593a70040>\n",
      "<built-in method index of list object at 0x2ac593a70040>\n",
      "<built-in method index of list object at 0x2ac593a70040>\n",
      "<built-in method index of list object at 0x2ac593a70040>\n",
      "<built-in method index of list object at 0x2ac593a70040>\n",
      "<built-in method index of list object at 0x2ac593a70040>\n",
      "<built-in method index of list object at 0x2ac593a70040>\n",
      "<built-in method index of list object at 0x2ac593a70040>\n",
      "<built-in method index of list object at 0x2ac593a70040>\n",
      "<built-in method index of list object at 0x2ac593a70040>\n",
      "<built-in method index of list object at 0x2ac593a70040>\n",
      "<built-in method index of list object at 0x2ac593a70040>\n",
      "<built-in method index of list object at 0x2ac593a70040>\n",
      "<built-in method index of list object at 0x2ac593a70040>\n"
     ]
    },
    {
     "name": "stderr",
     "output_type": "stream",
     "text": [
      " 12%|█▏        | 114/915 [00:03<00:19, 41.38it/s]"
     ]
    },
    {
     "name": "stdout",
     "output_type": "stream",
     "text": [
      "<built-in method index of list object at 0x2ac593a70040>\n",
      "<built-in method index of list object at 0x2ac593a70040>\n",
      "<built-in method index of list object at 0x2ac593a70040>\n",
      "<built-in method index of list object at 0x2ac593a70040>\n",
      "<built-in method index of list object at 0x2ac593a70040>\n",
      "<built-in method index of list object at 0x2ac593a70040>\n",
      "<built-in method index of list object at 0x2ac593a70040>\n",
      "<built-in method index of list object at 0x2ac593a70040>\n",
      "<built-in method index of list object at 0x2ac593a70040>\n",
      "<built-in method index of list object at 0x2ac593a70040>\n",
      "<built-in method index of list object at 0x2ac593a70040>\n"
     ]
    },
    {
     "name": "stderr",
     "output_type": "stream",
     "text": [
      " 13%|█▎        | 119/915 [00:03<00:20, 39.70it/s]"
     ]
    },
    {
     "name": "stdout",
     "output_type": "stream",
     "text": [
      "<built-in method index of list object at 0x2ac593a70040>\n",
      "<built-in method index of list object at 0x2ac593a70040>\n",
      "<built-in method index of list object at 0x2ac593a70040>\n",
      "<built-in method index of list object at 0x2ac593a70040>\n",
      "<built-in method index of list object at 0x2ac593a70040>\n",
      "<built-in method index of list object at 0x2ac593a70040>\n",
      "<built-in method index of list object at 0x2ac593a70040>\n"
     ]
    },
    {
     "name": "stderr",
     "output_type": "stream",
     "text": [
      " 15%|█▍        | 134/915 [00:03<00:16, 48.28it/s]"
     ]
    },
    {
     "name": "stdout",
     "output_type": "stream",
     "text": [
      "<built-in method index of list object at 0x2ac593a70040>\n",
      "<built-in method index of list object at 0x2ac593a70040>\n",
      "<built-in method index of list object at 0x2ac593a70040>\n",
      "<built-in method index of list object at 0x2ac593a70040>\n",
      "<built-in method index of list object at 0x2ac593a70040>\n",
      "<built-in method index of list object at 0x2ac593a70040>\n",
      "<built-in method index of list object at 0x2ac593a70040>\n",
      "<built-in method index of list object at 0x2ac593a70040>\n",
      "<built-in method index of list object at 0x2ac593a70040>\n",
      "<built-in method index of list object at 0x2ac593a70040>\n",
      "<built-in method index of list object at 0x2ac593a70040>\n",
      "<built-in method index of list object at 0x2ac593a70040>\n",
      "<built-in method index of list object at 0x2ac593a70040>\n"
     ]
    },
    {
     "name": "stderr",
     "output_type": "stream",
     "text": [
      " 15%|█▌        | 140/915 [00:04<00:18, 42.59it/s]"
     ]
    },
    {
     "name": "stdout",
     "output_type": "stream",
     "text": [
      "<built-in method index of list object at 0x2ac593a70040>\n",
      "<built-in method index of list object at 0x2ac593a70040>\n",
      "<built-in method index of list object at 0x2ac593a70040>\n",
      "<built-in method index of list object at 0x2ac593a70040>\n",
      "<built-in method index of list object at 0x2ac593a70040>\n",
      "<built-in method index of list object at 0x2ac593a70040>\n",
      "<built-in method index of list object at 0x2ac593a70040>\n",
      "<built-in method index of list object at 0x2ac593a70040>\n",
      "<built-in method index of list object at 0x2ac593a70040>\n",
      "<built-in method index of list object at 0x2ac593a70040>\n",
      "<built-in method index of list object at 0x2ac593a70040>\n"
     ]
    },
    {
     "name": "stderr",
     "output_type": "stream",
     "text": [
      " 16%|█▋        | 149/915 [00:04<00:20, 37.94it/s]"
     ]
    },
    {
     "name": "stdout",
     "output_type": "stream",
     "text": [
      "<built-in method index of list object at 0x2ac593a70040>\n",
      "<built-in method index of list object at 0x2ac593a70040>\n",
      "<built-in method index of list object at 0x2ac593a70040>\n",
      "<built-in method index of list object at 0x2ac593a70040>\n",
      "<built-in method index of list object at 0x2ac593a70040>\n",
      "<built-in method index of list object at 0x2ac593a70040>\n",
      "<built-in method index of list object at 0x2ac593a70040>\n",
      "<built-in method index of list object at 0x2ac593a70040>\n",
      "<built-in method index of list object at 0x2ac593a70040>\n"
     ]
    },
    {
     "name": "stderr",
     "output_type": "stream",
     "text": [
      " 18%|█▊        | 168/915 [00:04<00:19, 38.68it/s]"
     ]
    },
    {
     "name": "stdout",
     "output_type": "stream",
     "text": [
      "<built-in method index of list object at 0x2ac593a70040>\n",
      "<built-in method index of list object at 0x2ac593a70040>\n",
      "<built-in method index of list object at 0x2ac593a70040>\n",
      "<built-in method index of list object at 0x2ac593a70040>\n",
      "<built-in method index of list object at 0x2ac593a70040>\n",
      "<built-in method index of list object at 0x2ac593a70040>\n",
      "<built-in method index of list object at 0x2ac593a70040>\n",
      "<built-in method index of list object at 0x2ac593a70040>\n",
      "<built-in method index of list object at 0x2ac593a70040>\n",
      "<built-in method index of list object at 0x2ac593a70040>\n",
      "<built-in method index of list object at 0x2ac593a70040>\n",
      "<built-in method index of list object at 0x2ac593a70040>\n",
      "<built-in method index of list object at 0x2ac593a70040>\n",
      "<built-in method index of list object at 0x2ac593a70040>\n",
      "<built-in method index of list object at 0x2ac593a70040>\n",
      "<built-in method index of list object at 0x2ac593a70040>\n",
      "<built-in method index of list object at 0x2ac593a70040>\n",
      "<built-in method index of list object at 0x2ac593a70040>\n",
      "<built-in method index of list object at 0x2ac593a70040>\n",
      "<built-in method index of list object at 0x2ac593a70040>\n",
      "<built-in method index of list object at 0x2ac593a70040>\n"
     ]
    },
    {
     "name": "stderr",
     "output_type": "stream",
     "text": [
      " 21%|██        | 188/915 [00:05<00:12, 56.57it/s]"
     ]
    },
    {
     "name": "stdout",
     "output_type": "stream",
     "text": [
      "<built-in method index of list object at 0x2ac593a70040>\n",
      "<built-in method index of list object at 0x2ac593a70040>\n",
      "<built-in method index of list object at 0x2ac593a70040>\n",
      "<built-in method index of list object at 0x2ac593a70040>\n",
      "<built-in method index of list object at 0x2ac593a70040>\n",
      "<built-in method index of list object at 0x2ac593a70040>\n",
      "<built-in method index of list object at 0x2ac593a70040>\n",
      "<built-in method index of list object at 0x2ac593a70040>\n",
      "<built-in method index of list object at 0x2ac593a70040>\n",
      "<built-in method index of list object at 0x2ac593a70040>\n",
      "<built-in method index of list object at 0x2ac593a70040>\n",
      "<built-in method index of list object at 0x2ac593a70040>\n",
      "<built-in method index of list object at 0x2ac593a70040>\n",
      "<built-in method index of list object at 0x2ac593a70040>\n",
      "<built-in method index of list object at 0x2ac593a70040>\n",
      "<built-in method index of list object at 0x2ac593a70040>\n",
      "<built-in method index of list object at 0x2ac593a70040>\n",
      "<built-in method index of list object at 0x2ac593a70040>\n",
      "<built-in method index of list object at 0x2ac593a70040>\n"
     ]
    },
    {
     "name": "stderr",
     "output_type": "stream",
     "text": [
      " 23%|██▎       | 212/915 [00:05<00:08, 81.12it/s]"
     ]
    },
    {
     "name": "stdout",
     "output_type": "stream",
     "text": [
      "<built-in method index of list object at 0x2ac593a70040>\n",
      "<built-in method index of list object at 0x2ac593a70040>\n",
      "<built-in method index of list object at 0x2ac593a70040>\n",
      "<built-in method index of list object at 0x2ac593a70040>\n",
      "<built-in method index of list object at 0x2ac593a70040>\n",
      "<built-in method index of list object at 0x2ac593a70040>\n",
      "<built-in method index of list object at 0x2ac593a70040>\n",
      "<built-in method index of list object at 0x2ac593a70040>\n",
      "<built-in method index of list object at 0x2ac593a70040>\n",
      "<built-in method index of list object at 0x2ac593a70040>\n",
      "<built-in method index of list object at 0x2ac593a70040>\n",
      "<built-in method index of list object at 0x2ac593a70040>\n",
      "<built-in method index of list object at 0x2ac593a70040>\n",
      "<built-in method index of list object at 0x2ac593a70040>\n",
      "<built-in method index of list object at 0x2ac593a70040>\n",
      "<built-in method index of list object at 0x2ac593a70040>\n",
      "<built-in method index of list object at 0x2ac593a70040>\n",
      "<built-in method index of list object at 0x2ac593a70040>\n",
      "<built-in method index of list object at 0x2ac593a70040>\n",
      "<built-in method index of list object at 0x2ac593a70040>\n",
      "<built-in method index of list object at 0x2ac593a70040>\n",
      "<built-in method index of list object at 0x2ac593a70040>\n",
      "<built-in method index of list object at 0x2ac593a70040>\n"
     ]
    },
    {
     "name": "stderr",
     "output_type": "stream",
     "text": [
      " 26%|██▌       | 236/915 [00:05<00:07, 93.41it/s]"
     ]
    },
    {
     "name": "stdout",
     "output_type": "stream",
     "text": [
      "<built-in method index of list object at 0x2ac593a70040>\n",
      "<built-in method index of list object at 0x2ac593a70040>\n",
      "<built-in method index of list object at 0x2ac593a70040>\n",
      "<built-in method index of list object at 0x2ac593a70040>\n",
      "<built-in method index of list object at 0x2ac593a70040>\n",
      "<built-in method index of list object at 0x2ac593a70040>\n",
      "<built-in method index of list object at 0x2ac593a70040>\n",
      "<built-in method index of list object at 0x2ac593a70040>\n",
      "<built-in method index of list object at 0x2ac593a70040>\n",
      "<built-in method index of list object at 0x2ac593a70040>\n",
      "<built-in method index of list object at 0x2ac593a70040>\n",
      "<built-in method index of list object at 0x2ac593a70040>\n",
      "<built-in method index of list object at 0x2ac593a70040>\n",
      "<built-in method index of list object at 0x2ac593a70040>\n",
      "<built-in method index of list object at 0x2ac593a70040>\n",
      "<built-in method index of list object at 0x2ac593a70040>\n",
      "<built-in method index of list object at 0x2ac593a70040>\n",
      "<built-in method index of list object at 0x2ac593a70040>\n",
      "<built-in method index of list object at 0x2ac593a70040>\n",
      "<built-in method index of list object at 0x2ac593a70040>\n",
      "<built-in method index of list object at 0x2ac593a70040>\n",
      "<built-in method index of list object at 0x2ac593a70040>\n",
      "<built-in method index of list object at 0x2ac593a70040>\n",
      "<built-in method index of list object at 0x2ac593a70040>\n"
     ]
    },
    {
     "name": "stderr",
     "output_type": "stream",
     "text": [
      " 28%|██▊       | 260/915 [00:05<00:06, 102.57it/s]"
     ]
    },
    {
     "name": "stdout",
     "output_type": "stream",
     "text": [
      "<built-in method index of list object at 0x2ac593a70040>\n",
      "<built-in method index of list object at 0x2ac593a70040>\n",
      "<built-in method index of list object at 0x2ac593a70040>\n",
      "<built-in method index of list object at 0x2ac593a70040>\n",
      "<built-in method index of list object at 0x2ac593a70040>\n",
      "<built-in method index of list object at 0x2ac593a70040>\n",
      "<built-in method index of list object at 0x2ac593a70040>\n",
      "<built-in method index of list object at 0x2ac593a70040>\n",
      "<built-in method index of list object at 0x2ac593a70040>\n",
      "<built-in method index of list object at 0x2ac593a70040>\n",
      "<built-in method index of list object at 0x2ac593a70040>\n",
      "<built-in method index of list object at 0x2ac593a70040>\n",
      "<built-in method index of list object at 0x2ac593a70040>\n",
      "<built-in method index of list object at 0x2ac593a70040>\n",
      "<built-in method index of list object at 0x2ac593a70040>\n",
      "<built-in method index of list object at 0x2ac593a70040>\n",
      "<built-in method index of list object at 0x2ac593a70040>\n",
      "<built-in method index of list object at 0x2ac593a70040>\n",
      "<built-in method index of list object at 0x2ac593a70040>\n",
      "<built-in method index of list object at 0x2ac593a70040>\n",
      "<built-in method index of list object at 0x2ac593a70040>\n",
      "<built-in method index of list object at 0x2ac593a70040>\n",
      "<built-in method index of list object at 0x2ac593a70040>\n",
      "<built-in method index of list object at 0x2ac593a70040>\n"
     ]
    },
    {
     "name": "stderr",
     "output_type": "stream",
     "text": [
      " 31%|███▏      | 286/915 [00:05<00:05, 113.27it/s]"
     ]
    },
    {
     "name": "stdout",
     "output_type": "stream",
     "text": [
      "<built-in method index of list object at 0x2ac593a70040>\n",
      "<built-in method index of list object at 0x2ac593a70040>\n",
      "<built-in method index of list object at 0x2ac593a70040>\n",
      "<built-in method index of list object at 0x2ac593a70040>\n",
      "<built-in method index of list object at 0x2ac593a70040>\n",
      "<built-in method index of list object at 0x2ac593a70040>\n",
      "<built-in method index of list object at 0x2ac593a70040>\n",
      "<built-in method index of list object at 0x2ac593a70040>\n",
      "<built-in method index of list object at 0x2ac593a70040>\n",
      "<built-in method index of list object at 0x2ac593a70040>\n",
      "<built-in method index of list object at 0x2ac593a70040>\n",
      "<built-in method index of list object at 0x2ac593a70040>\n",
      "<built-in method index of list object at 0x2ac593a70040>\n",
      "<built-in method index of list object at 0x2ac593a70040>\n",
      "<built-in method index of list object at 0x2ac593a70040>\n",
      "<built-in method index of list object at 0x2ac593a70040>\n",
      "<built-in method index of list object at 0x2ac593a70040>\n",
      "<built-in method index of list object at 0x2ac593a70040>\n",
      "<built-in method index of list object at 0x2ac593a70040>\n",
      "<built-in method index of list object at 0x2ac593a70040>\n",
      "<built-in method index of list object at 0x2ac593a70040>\n"
     ]
    },
    {
     "name": "stderr",
     "output_type": "stream",
     "text": [
      " 33%|███▎      | 298/915 [00:06<00:05, 104.40it/s]"
     ]
    },
    {
     "name": "stdout",
     "output_type": "stream",
     "text": [
      "<built-in method index of list object at 0x2ac593a70040>\n",
      "<built-in method index of list object at 0x2ac593a70040>\n",
      "<built-in method index of list object at 0x2ac593a70040>\n",
      "<built-in method index of list object at 0x2ac593a70040>\n",
      "<built-in method index of list object at 0x2ac593a70040>\n",
      "<built-in method index of list object at 0x2ac593a70040>\n",
      "<built-in method index of list object at 0x2ac593a70040>\n",
      "<built-in method index of list object at 0x2ac593a70040>\n",
      "<built-in method index of list object at 0x2ac593a70040>\n",
      "<built-in method index of list object at 0x2ac593a70040>\n",
      "<built-in method index of list object at 0x2ac593a70040>\n",
      "<built-in method index of list object at 0x2ac593a70040>\n",
      "<built-in method index of list object at 0x2ac593a70040>\n",
      "<built-in method index of list object at 0x2ac593a70040>\n",
      "<built-in method index of list object at 0x2ac593a70040>\n",
      "<built-in method index of list object at 0x2ac593a70040>\n",
      "<built-in method index of list object at 0x2ac593a70040>\n",
      "<built-in method index of list object at 0x2ac593a70040>\n"
     ]
    },
    {
     "name": "stderr",
     "output_type": "stream",
     "text": [
      " 34%|███▍      | 309/915 [00:06<00:06, 89.81it/s] "
     ]
    },
    {
     "name": "stdout",
     "output_type": "stream",
     "text": [
      "<built-in method index of list object at 0x2ac593a70040>\n",
      "<built-in method index of list object at 0x2ac593a70040>\n",
      "<built-in method index of list object at 0x2ac593a70040>\n",
      "<built-in method index of list object at 0x2ac593a70040>\n",
      "<built-in method index of list object at 0x2ac593a70040>\n",
      "<built-in method index of list object at 0x2ac593a70040>\n",
      "<built-in method index of list object at 0x2ac593a70040>\n",
      "<built-in method index of list object at 0x2ac593a70040>\n",
      "<built-in method index of list object at 0x2ac593a70040>\n",
      "<built-in method index of list object at 0x2ac593a70040>\n",
      "<built-in method index of list object at 0x2ac593a70040>\n"
     ]
    },
    {
     "name": "stderr",
     "output_type": "stream",
     "text": [
      " 35%|███▍      | 319/915 [00:06<00:08, 73.18it/s]"
     ]
    },
    {
     "name": "stdout",
     "output_type": "stream",
     "text": [
      "<built-in method index of list object at 0x2ac593a70040>\n",
      "<built-in method index of list object at 0x2ac593a70040>\n",
      "<built-in method index of list object at 0x2ac593a70040>\n",
      "<built-in method index of list object at 0x2ac593a70040>\n",
      "<built-in method index of list object at 0x2ac593a70040>\n",
      "<built-in method index of list object at 0x2ac593a70040>\n"
     ]
    },
    {
     "name": "stderr",
     "output_type": "stream",
     "text": [
      " 37%|███▋      | 336/915 [00:06<00:09, 61.14it/s]"
     ]
    },
    {
     "name": "stdout",
     "output_type": "stream",
     "text": [
      "<built-in method index of list object at 0x2ac593a70040>\n",
      "<built-in method index of list object at 0x2ac593a70040>\n",
      "<built-in method index of list object at 0x2ac593a70040>\n",
      "<built-in method index of list object at 0x2ac593a70040>\n",
      "<built-in method index of list object at 0x2ac593a70040>\n",
      "<built-in method index of list object at 0x2ac593a70040>\n",
      "<built-in method index of list object at 0x2ac593a70040>\n",
      "<built-in method index of list object at 0x2ac593a70040>\n",
      "<built-in method index of list object at 0x2ac593a70040>\n",
      "<built-in method index of list object at 0x2ac593a70040>\n",
      "<built-in method index of list object at 0x2ac593a70040>\n",
      "<built-in method index of list object at 0x2ac593a70040>\n",
      "<built-in method index of list object at 0x2ac593a70040>\n",
      "<built-in method index of list object at 0x2ac593a70040>\n",
      "<built-in method index of list object at 0x2ac593a70040>\n",
      "<built-in method index of list object at 0x2ac593a70040>\n",
      "<built-in method index of list object at 0x2ac593a70040>\n",
      "<built-in method index of list object at 0x2ac593a70040>\n"
     ]
    },
    {
     "name": "stderr",
     "output_type": "stream",
     "text": [
      " 39%|███▉      | 356/915 [00:07<00:07, 73.29it/s]"
     ]
    },
    {
     "name": "stdout",
     "output_type": "stream",
     "text": [
      "<built-in method index of list object at 0x2ac593a70040>\n",
      "<built-in method index of list object at 0x2ac593a70040>\n",
      "<built-in method index of list object at 0x2ac593a70040>\n",
      "<built-in method index of list object at 0x2ac593a70040>\n",
      "<built-in method index of list object at 0x2ac593a70040>\n",
      "<built-in method index of list object at 0x2ac593a70040>\n",
      "<built-in method index of list object at 0x2ac593a70040>\n",
      "<built-in method index of list object at 0x2ac593a70040>\n",
      "<built-in method index of list object at 0x2ac593a70040>\n",
      "<built-in method index of list object at 0x2ac593a70040>\n",
      "<built-in method index of list object at 0x2ac593a70040>\n",
      "<built-in method index of list object at 0x2ac593a70040>\n",
      "<built-in method index of list object at 0x2ac593a70040>\n",
      "<built-in method index of list object at 0x2ac593a70040>\n",
      "<built-in method index of list object at 0x2ac593a70040>\n",
      "<built-in method index of list object at 0x2ac593a70040>\n",
      "<built-in method index of list object at 0x2ac593a70040>\n",
      "<built-in method index of list object at 0x2ac593a70040>\n"
     ]
    },
    {
     "name": "stderr",
     "output_type": "stream",
     "text": [
      " 41%|████      | 373/915 [00:07<00:08, 67.69it/s]"
     ]
    },
    {
     "name": "stdout",
     "output_type": "stream",
     "text": [
      "<built-in method index of list object at 0x2ac593a70040>\n",
      "<built-in method index of list object at 0x2ac593a70040>\n",
      "<built-in method index of list object at 0x2ac593a70040>\n",
      "<built-in method index of list object at 0x2ac593a70040>\n",
      "<built-in method index of list object at 0x2ac593a70040>\n",
      "<built-in method index of list object at 0x2ac593a70040>\n",
      "<built-in method index of list object at 0x2ac593a70040>\n",
      "<built-in method index of list object at 0x2ac593a70040>\n",
      "<built-in method index of list object at 0x2ac593a70040>\n",
      "<built-in method index of list object at 0x2ac593a70040>\n",
      "<built-in method index of list object at 0x2ac593a70040>\n",
      "<built-in method index of list object at 0x2ac593a70040>\n",
      "<built-in method index of list object at 0x2ac593a70040>\n"
     ]
    },
    {
     "name": "stderr",
     "output_type": "stream",
     "text": [
      " 42%|████▏     | 381/915 [00:07<00:08, 59.99it/s]"
     ]
    },
    {
     "name": "stdout",
     "output_type": "stream",
     "text": [
      "<built-in method index of list object at 0x2ac593a70040>\n",
      "<built-in method index of list object at 0x2ac593a70040>\n",
      "<built-in method index of list object at 0x2ac593a70040>\n",
      "<built-in method index of list object at 0x2ac593a70040>\n",
      "<built-in method index of list object at 0x2ac593a70040>\n",
      "<built-in method index of list object at 0x2ac593a70040>\n",
      "<built-in method index of list object at 0x2ac593a70040>\n",
      "<built-in method index of list object at 0x2ac593a70040>\n",
      "<built-in method index of list object at 0x2ac593a70040>\n",
      "<built-in method index of list object at 0x2ac593a70040>\n",
      "<built-in method index of list object at 0x2ac593a70040>\n",
      "<built-in method index of list object at 0x2ac593a70040>\n",
      "<built-in method index of list object at 0x2ac593a70040>\n",
      "<built-in method index of list object at 0x2ac593a70040>\n"
     ]
    },
    {
     "name": "stderr",
     "output_type": "stream",
     "text": [
      " 43%|████▎     | 390/915 [00:07<00:07, 65.86it/s]"
     ]
    },
    {
     "name": "stdout",
     "output_type": "stream",
     "text": [
      "<built-in method index of list object at 0x2ac593a70040>\n",
      "<built-in method index of list object at 0x2ac593a70040>\n",
      "<built-in method index of list object at 0x2ac593a70040>\n",
      "<built-in method index of list object at 0x2ac593a70040>\n",
      "<built-in method index of list object at 0x2ac593a70040>\n",
      "<built-in method index of list object at 0x2ac593a70040>\n",
      "<built-in method index of list object at 0x2ac593a70040>\n",
      "<built-in method index of list object at 0x2ac593a70040>\n",
      "<built-in method index of list object at 0x2ac593a70040>\n"
     ]
    },
    {
     "name": "stderr",
     "output_type": "stream",
     "text": [
      "Exception ignored in: <function tqdm.__del__ at 0x2ac577d31300>\n",
      "Traceback (most recent call last):\n",
      "  File \"/home/mehdii/projects/def-vidalthi/mehdii/3dPU/3dPU/virtual_3dpu/lib/python3.11/site-packages/tqdm/std.py\", line 1149, in __del__\n",
      "    self.close()\n",
      "  File \"/home/mehdii/projects/def-vidalthi/mehdii/3dPU/3dPU/virtual_3dpu/lib/python3.11/site-packages/tqdm/std.py\", line 1278, in close\n",
      "    if self.last_print_t < self.start_t + self.delay:\n",
      "       ^^^^^^^^^^^^^^^^^\n",
      "AttributeError: 'tqdm' object has no attribute 'last_print_t'\n"
     ]
    },
    {
     "name": "stdout",
     "output_type": "stream",
     "text": [
      "<built-in method index of list object at 0x2ac593a70040>\n"
     ]
    },
    {
     "name": "stderr",
     "output_type": "stream",
     "text": [
      " 44%|████▍     | 404/915 [00:10<00:41, 12.25it/s]"
     ]
    },
    {
     "name": "stdout",
     "output_type": "stream",
     "text": [
      "<built-in method index of list object at 0x2ac593a70040>\n",
      "<built-in method index of list object at 0x2ac593a70040>\n",
      "<built-in method index of list object at 0x2ac593a70040>\n",
      "<built-in method index of list object at 0x2ac593a70040>\n",
      "<built-in method index of list object at 0x2ac593a70040>\n",
      "<built-in method index of list object at 0x2ac593a70040>\n",
      "<built-in method index of list object at 0x2ac593a70040>\n",
      "<built-in method index of list object at 0x2ac593a70040>\n",
      "<built-in method index of list object at 0x2ac593a70040>\n",
      "<built-in method index of list object at 0x2ac593a70040>\n",
      "<built-in method index of list object at 0x2ac593a70040>\n",
      "<built-in method index of list object at 0x2ac593a70040>\n"
     ]
    },
    {
     "name": "stderr",
     "output_type": "stream",
     "text": [
      " 45%|████▌     | 412/915 [00:10<00:30, 16.47it/s]"
     ]
    },
    {
     "name": "stdout",
     "output_type": "stream",
     "text": [
      "<built-in method index of list object at 0x2ac593a70040>\n",
      "<built-in method index of list object at 0x2ac593a70040>\n",
      "<built-in method index of list object at 0x2ac593a70040>\n",
      "<built-in method index of list object at 0x2ac593a70040>\n",
      "<built-in method index of list object at 0x2ac593a70040>\n",
      "<built-in method index of list object at 0x2ac593a70040>\n",
      "<built-in method index of list object at 0x2ac593a70040>\n"
     ]
    },
    {
     "name": "stderr",
     "output_type": "stream",
     "text": [
      " 46%|████▌     | 423/915 [00:10<00:25, 18.98it/s]"
     ]
    },
    {
     "name": "stdout",
     "output_type": "stream",
     "text": [
      "<built-in method index of list object at 0x2ac593a70040>\n",
      "<built-in method index of list object at 0x2ac593a70040>\n",
      "<built-in method index of list object at 0x2ac593a70040>\n",
      "<built-in method index of list object at 0x2ac593a70040>\n",
      "<built-in method index of list object at 0x2ac593a70040>\n",
      "<built-in method index of list object at 0x2ac593a70040>\n",
      "<built-in method index of list object at 0x2ac593a70040>\n",
      "<built-in method index of list object at 0x2ac593a70040>\n"
     ]
    },
    {
     "name": "stderr",
     "output_type": "stream",
     "text": [
      " 47%|████▋     | 428/915 [00:11<00:25, 19.35it/s]"
     ]
    },
    {
     "name": "stdout",
     "output_type": "stream",
     "text": [
      "<built-in method index of list object at 0x2ac593a70040>\n",
      "<built-in method index of list object at 0x2ac593a70040>\n",
      "<built-in method index of list object at 0x2ac593a70040>\n",
      "<built-in method index of list object at 0x2ac593a70040>\n"
     ]
    },
    {
     "name": "stderr",
     "output_type": "stream",
     "text": [
      " 47%|████▋     | 432/915 [00:11<00:24, 19.44it/s]"
     ]
    },
    {
     "name": "stdout",
     "output_type": "stream",
     "text": [
      "<built-in method index of list object at 0x2ac593a70040>\n",
      "<built-in method index of list object at 0x2ac593a70040>\n",
      "<built-in method index of list object at 0x2ac593a70040>\n",
      "<built-in method index of list object at 0x2ac593a70040>\n",
      "<built-in method index of list object at 0x2ac593a70040>\n"
     ]
    },
    {
     "name": "stderr",
     "output_type": "stream",
     "text": [
      " 48%|████▊     | 437/915 [00:11<00:21, 22.67it/s]"
     ]
    },
    {
     "name": "stdout",
     "output_type": "stream",
     "text": [
      "<built-in method index of list object at 0x2ac593a70040>\n",
      "<built-in method index of list object at 0x2ac593a70040>\n",
      "<built-in method index of list object at 0x2ac593a70040>\n",
      "<built-in method index of list object at 0x2ac593a70040>\n",
      "<built-in method index of list object at 0x2ac593a70040>\n",
      "<built-in method index of list object at 0x2ac593a70040>\n",
      "<built-in method index of list object at 0x2ac593a70040>\n"
     ]
    },
    {
     "name": "stderr",
     "output_type": "stream",
     "text": [
      " 49%|████▊     | 445/915 [00:11<00:19, 24.45it/s]"
     ]
    },
    {
     "name": "stdout",
     "output_type": "stream",
     "text": [
      "<built-in method index of list object at 0x2ac593a70040>\n",
      "<built-in method index of list object at 0x2ac593a70040>\n",
      "<built-in method index of list object at 0x2ac593a70040>\n",
      "<built-in method index of list object at 0x2ac593a70040>\n",
      "<built-in method index of list object at 0x2ac593a70040>\n",
      "<built-in method index of list object at 0x2ac593a70040>\n",
      "<built-in method index of list object at 0x2ac593a70040>\n",
      "<built-in method index of list object at 0x2ac593a70040>\n"
     ]
    },
    {
     "name": "stderr",
     "output_type": "stream",
     "text": [
      " 50%|█████     | 461/915 [00:11<00:09, 45.60it/s]"
     ]
    },
    {
     "name": "stdout",
     "output_type": "stream",
     "text": [
      "<built-in method index of list object at 0x2ac593a70040>\n",
      "<built-in method index of list object at 0x2ac593a70040>\n",
      "<built-in method index of list object at 0x2ac593a70040>\n",
      "<built-in method index of list object at 0x2ac593a70040>\n",
      "<built-in method index of list object at 0x2ac593a70040>\n",
      "<built-in method index of list object at 0x2ac593a70040>\n",
      "<built-in method index of list object at 0x2ac593a70040>\n",
      "<built-in method index of list object at 0x2ac593a70040>\n",
      "<built-in method index of list object at 0x2ac593a70040>\n",
      "<built-in method index of list object at 0x2ac593a70040>\n",
      "<built-in method index of list object at 0x2ac593a70040>\n",
      "<built-in method index of list object at 0x2ac593a70040>\n",
      "<built-in method index of list object at 0x2ac593a70040>\n",
      "<built-in method index of list object at 0x2ac593a70040>\n"
     ]
    },
    {
     "name": "stderr",
     "output_type": "stream",
     "text": [
      " 52%|█████▏    | 477/915 [00:12<00:08, 52.18it/s]"
     ]
    },
    {
     "name": "stdout",
     "output_type": "stream",
     "text": [
      "<built-in method index of list object at 0x2ac593a70040>\n",
      "<built-in method index of list object at 0x2ac593a70040>\n",
      "<built-in method index of list object at 0x2ac593a70040>\n",
      "<built-in method index of list object at 0x2ac593a70040>\n",
      "<built-in method index of list object at 0x2ac593a70040>\n",
      "<built-in method index of list object at 0x2ac593a70040>\n",
      "<built-in method index of list object at 0x2ac593a70040>\n",
      "<built-in method index of list object at 0x2ac593a70040>\n",
      "<built-in method index of list object at 0x2ac593a70040>\n",
      "<built-in method index of list object at 0x2ac593a70040>\n",
      "<built-in method index of list object at 0x2ac593a70040>\n",
      "<built-in method index of list object at 0x2ac593a70040>\n",
      "<built-in method index of list object at 0x2ac593a70040>\n",
      "<built-in method index of list object at 0x2ac593a70040>\n",
      "<built-in method index of list object at 0x2ac593a70040>\n",
      "<built-in method index of list object at 0x2ac593a70040>\n",
      "<built-in method index of list object at 0x2ac593a70040>\n"
     ]
    },
    {
     "name": "stderr",
     "output_type": "stream",
     "text": [
      " 53%|█████▎    | 484/915 [00:12<00:08, 50.50it/s]"
     ]
    },
    {
     "name": "stdout",
     "output_type": "stream",
     "text": [
      "<built-in method index of list object at 0x2ac593a70040>\n",
      "<built-in method index of list object at 0x2ac593a70040>\n",
      "<built-in method index of list object at 0x2ac593a70040>\n",
      "<built-in method index of list object at 0x2ac593a70040>\n",
      "<built-in method index of list object at 0x2ac593a70040>\n",
      "<built-in method index of list object at 0x2ac593a70040>\n",
      "<built-in method index of list object at 0x2ac593a70040>\n",
      "<built-in method index of list object at 0x2ac593a70040>\n"
     ]
    },
    {
     "name": "stderr",
     "output_type": "stream",
     "text": [
      " 54%|█████▍    | 495/915 [00:12<00:09, 42.34it/s]"
     ]
    },
    {
     "name": "stdout",
     "output_type": "stream",
     "text": [
      "<built-in method index of list object at 0x2ac593a70040>\n",
      "<built-in method index of list object at 0x2ac593a70040>\n",
      "<built-in method index of list object at 0x2ac593a70040>\n",
      "<built-in method index of list object at 0x2ac593a70040>\n",
      "<built-in method index of list object at 0x2ac593a70040>\n",
      "<built-in method index of list object at 0x2ac593a70040>\n",
      "<built-in method index of list object at 0x2ac593a70040>\n",
      "<built-in method index of list object at 0x2ac593a70040>\n",
      "<built-in method index of list object at 0x2ac593a70040>\n"
     ]
    },
    {
     "name": "stderr",
     "output_type": "stream",
     "text": [
      " 55%|█████▍    | 500/915 [00:12<00:11, 36.97it/s]"
     ]
    },
    {
     "name": "stdout",
     "output_type": "stream",
     "text": [
      "<built-in method index of list object at 0x2ac593a70040>\n",
      "<built-in method index of list object at 0x2ac593a70040>\n",
      "<built-in method index of list object at 0x2ac593a70040>\n",
      "<built-in method index of list object at 0x2ac593a70040>\n",
      "<built-in method index of list object at 0x2ac593a70040>\n",
      "<built-in method index of list object at 0x2ac593a70040>\n"
     ]
    },
    {
     "name": "stderr",
     "output_type": "stream",
     "text": [
      " 56%|█████▌    | 509/915 [00:13<00:12, 32.31it/s]"
     ]
    },
    {
     "name": "stdout",
     "output_type": "stream",
     "text": [
      "<built-in method index of list object at 0x2ac593a70040>\n",
      "<built-in method index of list object at 0x2ac593a70040>\n",
      "<built-in method index of list object at 0x2ac593a70040>\n",
      "<built-in method index of list object at 0x2ac593a70040>\n",
      "<built-in method index of list object at 0x2ac593a70040>\n",
      "<built-in method index of list object at 0x2ac593a70040>\n",
      "<built-in method index of list object at 0x2ac593a70040>\n"
     ]
    },
    {
     "name": "stderr",
     "output_type": "stream",
     "text": [
      " 56%|█████▋    | 516/915 [00:13<00:10, 39.86it/s]"
     ]
    },
    {
     "name": "stdout",
     "output_type": "stream",
     "text": [
      "<built-in method index of list object at 0x2ac593a70040>\n",
      "<built-in method index of list object at 0x2ac593a70040>\n",
      "<built-in method index of list object at 0x2ac593a70040>\n",
      "<built-in method index of list object at 0x2ac593a70040>\n",
      "<built-in method index of list object at 0x2ac593a70040>\n",
      "<built-in method index of list object at 0x2ac593a70040>\n",
      "<built-in method index of list object at 0x2ac593a70040>\n",
      "<built-in method index of list object at 0x2ac593a70040>\n",
      "<built-in method index of list object at 0x2ac593a70040>\n",
      "<built-in method index of list object at 0x2ac593a70040>\n",
      "<built-in method index of list object at 0x2ac593a70040>\n",
      "<built-in method index of list object at 0x2ac593a70040>\n",
      "<built-in method index of list object at 0x2ac593a70040>\n"
     ]
    },
    {
     "name": "stderr",
     "output_type": "stream",
     "text": [
      " 57%|█████▋    | 523/915 [00:13<00:08, 43.86it/s]"
     ]
    },
    {
     "name": "stdout",
     "output_type": "stream",
     "text": [
      "<built-in method index of list object at 0x2ac593a70040>\n",
      "<built-in method index of list object at 0x2ac593a70040>\n",
      "<built-in method index of list object at 0x2ac593a70040>\n",
      "<built-in method index of list object at 0x2ac593a70040>\n",
      "<built-in method index of list object at 0x2ac593a70040>\n",
      "<built-in method index of list object at 0x2ac593a70040>\n",
      "<built-in method index of list object at 0x2ac593a70040>\n",
      "<built-in method index of list object at 0x2ac593a70040>\n"
     ]
    },
    {
     "name": "stderr",
     "output_type": "stream",
     "text": [
      " 59%|█████▊    | 536/915 [00:13<00:10, 36.41it/s]"
     ]
    },
    {
     "name": "stdout",
     "output_type": "stream",
     "text": [
      "<built-in method index of list object at 0x2ac593a70040>\n",
      "<built-in method index of list object at 0x2ac593a70040>\n",
      "<built-in method index of list object at 0x2ac593a70040>\n",
      "<built-in method index of list object at 0x2ac593a70040>\n",
      "<built-in method index of list object at 0x2ac593a70040>\n",
      "<built-in method index of list object at 0x2ac593a70040>\n",
      "<built-in method index of list object at 0x2ac593a70040>\n",
      "<built-in method index of list object at 0x2ac593a70040>\n",
      "<built-in method index of list object at 0x2ac593a70040>\n"
     ]
    },
    {
     "name": "stderr",
     "output_type": "stream",
     "text": [
      " 60%|██████    | 550/915 [00:14<00:07, 48.65it/s]"
     ]
    },
    {
     "name": "stdout",
     "output_type": "stream",
     "text": [
      "<built-in method index of list object at 0x2ac593a70040>\n",
      "<built-in method index of list object at 0x2ac593a70040>\n",
      "<built-in method index of list object at 0x2ac593a70040>\n",
      "<built-in method index of list object at 0x2ac593a70040>\n",
      "<built-in method index of list object at 0x2ac593a70040>\n",
      "<built-in method index of list object at 0x2ac593a70040>\n",
      "<built-in method index of list object at 0x2ac593a70040>\n",
      "<built-in method index of list object at 0x2ac593a70040>\n",
      "<built-in method index of list object at 0x2ac593a70040>\n",
      "<built-in method index of list object at 0x2ac593a70040>\n",
      "<built-in method index of list object at 0x2ac593a70040>\n",
      "<built-in method index of list object at 0x2ac593a70040>\n",
      "<built-in method index of list object at 0x2ac593a70040>\n",
      "<built-in method index of list object at 0x2ac593a70040>\n",
      "<built-in method index of list object at 0x2ac593a70040>\n",
      "<built-in method index of list object at 0x2ac593a70040>\n"
     ]
    },
    {
     "name": "stderr",
     "output_type": "stream",
     "text": [
      " 62%|██████▏   | 563/915 [00:14<00:06, 55.77it/s]"
     ]
    },
    {
     "name": "stdout",
     "output_type": "stream",
     "text": [
      "<built-in method index of list object at 0x2ac593a70040>\n",
      "<built-in method index of list object at 0x2ac593a70040>\n",
      "<built-in method index of list object at 0x2ac593a70040>\n",
      "<built-in method index of list object at 0x2ac593a70040>\n",
      "<built-in method index of list object at 0x2ac593a70040>\n",
      "<built-in method index of list object at 0x2ac593a70040>\n",
      "<built-in method index of list object at 0x2ac593a70040>\n",
      "<built-in method index of list object at 0x2ac593a70040>\n",
      "<built-in method index of list object at 0x2ac593a70040>\n",
      "<built-in method index of list object at 0x2ac593a70040>\n",
      "<built-in method index of list object at 0x2ac593a70040>\n",
      "<built-in method index of list object at 0x2ac593a70040>\n"
     ]
    },
    {
     "name": "stderr",
     "output_type": "stream",
     "text": [
      " 63%|██████▎   | 575/915 [00:14<00:06, 52.00it/s]"
     ]
    },
    {
     "name": "stdout",
     "output_type": "stream",
     "text": [
      "<built-in method index of list object at 0x2ac593a70040>\n",
      "<built-in method index of list object at 0x2ac593a70040>\n",
      "<built-in method index of list object at 0x2ac593a70040>\n",
      "<built-in method index of list object at 0x2ac593a70040>\n",
      "<built-in method index of list object at 0x2ac593a70040>\n",
      "<built-in method index of list object at 0x2ac593a70040>\n",
      "<built-in method index of list object at 0x2ac593a70040>\n",
      "<built-in method index of list object at 0x2ac593a70040>\n",
      "<built-in method index of list object at 0x2ac593a70040>\n",
      "<built-in method index of list object at 0x2ac593a70040>\n"
     ]
    },
    {
     "name": "stderr",
     "output_type": "stream",
     "text": [
      " 64%|██████▍   | 590/915 [00:14<00:05, 55.51it/s]"
     ]
    },
    {
     "name": "stdout",
     "output_type": "stream",
     "text": [
      "<built-in method index of list object at 0x2ac593a70040>\n",
      "<built-in method index of list object at 0x2ac593a70040>\n",
      "<built-in method index of list object at 0x2ac593a70040>\n",
      "<built-in method index of list object at 0x2ac593a70040>\n",
      "<built-in method index of list object at 0x2ac593a70040>\n",
      "<built-in method index of list object at 0x2ac593a70040>\n",
      "<built-in method index of list object at 0x2ac593a70040>\n",
      "<built-in method index of list object at 0x2ac593a70040>\n",
      "<built-in method index of list object at 0x2ac593a70040>\n",
      "<built-in method index of list object at 0x2ac593a70040>\n",
      "<built-in method index of list object at 0x2ac593a70040>\n",
      "<built-in method index of list object at 0x2ac593a70040>\n",
      "<built-in method index of list object at 0x2ac593a70040>\n",
      "<built-in method index of list object at 0x2ac593a70040>\n",
      "<built-in method index of list object at 0x2ac593a70040>\n",
      "<built-in method index of list object at 0x2ac593a70040>\n",
      "<built-in method index of list object at 0x2ac593a70040>\n",
      "<built-in method index of list object at 0x2ac593a70040>\n",
      "<built-in method index of list object at 0x2ac593a70040>\n"
     ]
    },
    {
     "name": "stderr",
     "output_type": "stream",
     "text": [
      " 66%|██████▌   | 600/915 [00:14<00:04, 66.09it/s]"
     ]
    },
    {
     "name": "stdout",
     "output_type": "stream",
     "text": [
      "<built-in method index of list object at 0x2ac593a70040>\n",
      "<built-in method index of list object at 0x2ac593a70040>\n",
      "<built-in method index of list object at 0x2ac593a70040>\n",
      "<built-in method index of list object at 0x2ac593a70040>\n",
      "<built-in method index of list object at 0x2ac593a70040>\n",
      "<built-in method index of list object at 0x2ac593a70040>\n",
      "<built-in method index of list object at 0x2ac593a70040>\n",
      "<built-in method index of list object at 0x2ac593a70040>\n",
      "<built-in method index of list object at 0x2ac593a70040>\n",
      "<built-in method index of list object at 0x2ac593a70040>\n"
     ]
    },
    {
     "name": "stderr",
     "output_type": "stream",
     "text": [
      " 67%|██████▋   | 616/915 [00:15<00:04, 63.09it/s]"
     ]
    },
    {
     "name": "stdout",
     "output_type": "stream",
     "text": [
      "<built-in method index of list object at 0x2ac593a70040>\n",
      "<built-in method index of list object at 0x2ac593a70040>\n",
      "<built-in method index of list object at 0x2ac593a70040>\n",
      "<built-in method index of list object at 0x2ac593a70040>\n",
      "<built-in method index of list object at 0x2ac593a70040>\n",
      "<built-in method index of list object at 0x2ac593a70040>\n",
      "<built-in method index of list object at 0x2ac593a70040>\n",
      "<built-in method index of list object at 0x2ac593a70040>\n",
      "<built-in method index of list object at 0x2ac593a70040>\n",
      "<built-in method index of list object at 0x2ac593a70040>\n"
     ]
    },
    {
     "name": "stderr",
     "output_type": "stream",
     "text": [
      " 68%|██████▊   | 623/915 [00:15<00:05, 49.12it/s]"
     ]
    },
    {
     "name": "stdout",
     "output_type": "stream",
     "text": [
      "<built-in method index of list object at 0x2ac593a70040>\n",
      "<built-in method index of list object at 0x2ac593a70040>\n",
      "<built-in method index of list object at 0x2ac593a70040>\n",
      "<built-in method index of list object at 0x2ac593a70040>\n",
      "<built-in method index of list object at 0x2ac593a70040>\n",
      "<built-in method index of list object at 0x2ac593a70040>\n",
      "<built-in method index of list object at 0x2ac593a70040>\n",
      "<built-in method index of list object at 0x2ac593a70040>\n",
      "<built-in method index of list object at 0x2ac593a70040>\n",
      "<built-in method index of list object at 0x2ac593a70040>\n",
      "<built-in method index of list object at 0x2ac593a70040>\n",
      "<built-in method index of list object at 0x2ac593a70040>\n",
      "<built-in method index of list object at 0x2ac593a70040>\n",
      "<built-in method index of list object at 0x2ac593a70040>\n"
     ]
    },
    {
     "name": "stderr",
     "output_type": "stream",
     "text": [
      " 69%|██████▉   | 634/915 [00:15<00:04, 57.70it/s]"
     ]
    },
    {
     "name": "stdout",
     "output_type": "stream",
     "text": [
      "<built-in method index of list object at 0x2ac593a70040>\n",
      "<built-in method index of list object at 0x2ac593a70040>\n",
      "<built-in method index of list object at 0x2ac593a70040>\n",
      "<built-in method index of list object at 0x2ac593a70040>\n",
      "<built-in method index of list object at 0x2ac593a70040>\n",
      "<built-in method index of list object at 0x2ac593a70040>\n",
      "<built-in method index of list object at 0x2ac593a70040>\n",
      "<built-in method index of list object at 0x2ac593a70040>\n",
      "<built-in method index of list object at 0x2ac593a70040>\n",
      "<built-in method index of list object at 0x2ac593a70040>\n",
      "<built-in method index of list object at 0x2ac593a70040>\n"
     ]
    },
    {
     "name": "stderr",
     "output_type": "stream",
     "text": [
      " 70%|███████   | 642/915 [00:16<00:10, 25.73it/s]"
     ]
    },
    {
     "name": "stdout",
     "output_type": "stream",
     "text": [
      "<built-in method index of list object at 0x2ac593a70040>\n"
     ]
    },
    {
     "name": "stderr",
     "output_type": "stream",
     "text": [
      " 71%|███████▏  | 652/915 [00:16<00:12, 21.13it/s]"
     ]
    },
    {
     "name": "stdout",
     "output_type": "stream",
     "text": [
      "<built-in method index of list object at 0x2ac593a70040>\n",
      "<built-in method index of list object at 0x2ac593a70040>\n",
      "<built-in method index of list object at 0x2ac593a70040>\n",
      "<built-in method index of list object at 0x2ac593a70040>\n",
      "<built-in method index of list object at 0x2ac593a70040>\n",
      "<built-in method index of list object at 0x2ac593a70040>\n",
      "<built-in method index of list object at 0x2ac593a70040>\n",
      "<built-in method index of list object at 0x2ac593a70040>\n",
      "<built-in method index of list object at 0x2ac593a70040>\n",
      "<built-in method index of list object at 0x2ac593a70040>\n",
      "<built-in method index of list object at 0x2ac593a70040>\n",
      "<built-in method index of list object at 0x2ac593a70040>\n",
      "<built-in method index of list object at 0x2ac593a70040>\n",
      "<built-in method index of list object at 0x2ac593a70040>\n",
      "<built-in method index of list object at 0x2ac593a70040>\n"
     ]
    },
    {
     "name": "stderr",
     "output_type": "stream",
     "text": [
      " 72%|███████▏  | 658/915 [00:17<00:11, 22.60it/s]"
     ]
    },
    {
     "name": "stdout",
     "output_type": "stream",
     "text": [
      "<built-in method index of list object at 0x2ac593a70040>\n",
      "<built-in method index of list object at 0x2ac593a70040>\n",
      "<built-in method index of list object at 0x2ac593a70040>\n",
      "<built-in method index of list object at 0x2ac593a70040>\n",
      "<built-in method index of list object at 0x2ac593a70040>\n",
      "<built-in method index of list object at 0x2ac593a70040>\n"
     ]
    },
    {
     "name": "stderr",
     "output_type": "stream",
     "text": [
      " 73%|███████▎  | 669/915 [00:17<00:09, 27.01it/s]"
     ]
    },
    {
     "name": "stdout",
     "output_type": "stream",
     "text": [
      "<built-in method index of list object at 0x2ac593a70040>\n",
      "<built-in method index of list object at 0x2ac593a70040>\n",
      "<built-in method index of list object at 0x2ac593a70040>\n",
      "<built-in method index of list object at 0x2ac593a70040>\n",
      "<built-in method index of list object at 0x2ac593a70040>\n",
      "<built-in method index of list object at 0x2ac593a70040>\n",
      "<built-in method index of list object at 0x2ac593a70040>\n",
      "<built-in method index of list object at 0x2ac593a70040>\n",
      "<built-in method index of list object at 0x2ac593a70040>\n",
      "<built-in method index of list object at 0x2ac593a70040>\n"
     ]
    },
    {
     "name": "stderr",
     "output_type": "stream",
     "text": [
      " 74%|███████▍  | 678/915 [00:17<00:07, 32.00it/s]"
     ]
    },
    {
     "name": "stdout",
     "output_type": "stream",
     "text": [
      "<built-in method index of list object at 0x2ac593a70040>\n",
      "<built-in method index of list object at 0x2ac593a70040>\n",
      "<built-in method index of list object at 0x2ac593a70040>\n",
      "<built-in method index of list object at 0x2ac593a70040>\n",
      "<built-in method index of list object at 0x2ac593a70040>\n",
      "<built-in method index of list object at 0x2ac593a70040>\n",
      "<built-in method index of list object at 0x2ac593a70040>\n",
      "<built-in method index of list object at 0x2ac593a70040>\n",
      "<built-in method index of list object at 0x2ac593a70040>\n",
      "<built-in method index of list object at 0x2ac593a70040>\n",
      "<built-in method index of list object at 0x2ac593a70040>\n"
     ]
    },
    {
     "name": "stderr",
     "output_type": "stream",
     "text": [
      " 75%|███████▌  | 690/915 [00:18<00:06, 35.84it/s]"
     ]
    },
    {
     "name": "stdout",
     "output_type": "stream",
     "text": [
      "<built-in method index of list object at 0x2ac593a70040>\n",
      "<built-in method index of list object at 0x2ac593a70040>\n",
      "<built-in method index of list object at 0x2ac593a70040>\n",
      "<built-in method index of list object at 0x2ac593a70040>\n",
      "<built-in method index of list object at 0x2ac593a70040>\n",
      "<built-in method index of list object at 0x2ac593a70040>\n",
      "<built-in method index of list object at 0x2ac593a70040>\n",
      "<built-in method index of list object at 0x2ac593a70040>\n"
     ]
    },
    {
     "name": "stderr",
     "output_type": "stream",
     "text": [
      " 76%|███████▌  | 695/915 [00:18<00:06, 36.28it/s]"
     ]
    },
    {
     "name": "stdout",
     "output_type": "stream",
     "text": [
      "<built-in method index of list object at 0x2ac593a70040>\n",
      "<built-in method index of list object at 0x2ac593a70040>\n",
      "<built-in method index of list object at 0x2ac593a70040>\n",
      "<built-in method index of list object at 0x2ac593a70040>\n",
      "<built-in method index of list object at 0x2ac593a70040>\n",
      "<built-in method index of list object at 0x2ac593a70040>\n",
      "<built-in method index of list object at 0x2ac593a70040>\n",
      "<built-in method index of list object at 0x2ac593a70040>\n",
      "<built-in method index of list object at 0x2ac593a70040>\n"
     ]
    },
    {
     "name": "stderr",
     "output_type": "stream",
     "text": [
      " 77%|███████▋  | 707/915 [00:18<00:05, 40.28it/s]"
     ]
    },
    {
     "name": "stdout",
     "output_type": "stream",
     "text": [
      "<built-in method index of list object at 0x2ac593a70040>\n",
      "<built-in method index of list object at 0x2ac593a70040>\n",
      "<built-in method index of list object at 0x2ac593a70040>\n",
      "<built-in method index of list object at 0x2ac593a70040>\n",
      "<built-in method index of list object at 0x2ac593a70040>\n",
      "<built-in method index of list object at 0x2ac593a70040>\n",
      "<built-in method index of list object at 0x2ac593a70040>\n",
      "<built-in method index of list object at 0x2ac593a70040>\n",
      "<built-in method index of list object at 0x2ac593a70040>\n"
     ]
    },
    {
     "name": "stderr",
     "output_type": "stream",
     "text": [
      " 78%|███████▊  | 718/915 [00:18<00:04, 43.54it/s]"
     ]
    },
    {
     "name": "stdout",
     "output_type": "stream",
     "text": [
      "<built-in method index of list object at 0x2ac593a70040>\n",
      "<built-in method index of list object at 0x2ac593a70040>\n",
      "<built-in method index of list object at 0x2ac593a70040>\n",
      "<built-in method index of list object at 0x2ac593a70040>\n",
      "<built-in method index of list object at 0x2ac593a70040>\n",
      "<built-in method index of list object at 0x2ac593a70040>\n",
      "<built-in method index of list object at 0x2ac593a70040>\n",
      "<built-in method index of list object at 0x2ac593a70040>\n",
      "<built-in method index of list object at 0x2ac593a70040>\n",
      "<built-in method index of list object at 0x2ac593a70040>\n",
      "<built-in method index of list object at 0x2ac593a70040>\n",
      "<built-in method index of list object at 0x2ac593a70040>\n",
      "<built-in method index of list object at 0x2ac593a70040>\n",
      "<built-in method index of list object at 0x2ac593a70040>\n",
      "<built-in method index of list object at 0x2ac593a70040>\n",
      "<built-in method index of list object at 0x2ac593a70040>\n"
     ]
    },
    {
     "name": "stderr",
     "output_type": "stream",
     "text": [
      " 81%|████████▏ | 744/915 [00:18<00:02, 81.30it/s]"
     ]
    },
    {
     "name": "stdout",
     "output_type": "stream",
     "text": [
      "<built-in method index of list object at 0x2ac593a70040>\n",
      "<built-in method index of list object at 0x2ac593a70040>\n",
      "<built-in method index of list object at 0x2ac593a70040>\n",
      "<built-in method index of list object at 0x2ac593a70040>\n",
      "<built-in method index of list object at 0x2ac593a70040>\n",
      "<built-in method index of list object at 0x2ac593a70040>\n",
      "<built-in method index of list object at 0x2ac593a70040>\n",
      "<built-in method index of list object at 0x2ac593a70040>\n",
      "<built-in method index of list object at 0x2ac593a70040>\n",
      "<built-in method index of list object at 0x2ac593a70040>\n",
      "<built-in method index of list object at 0x2ac593a70040>\n",
      "<built-in method index of list object at 0x2ac593a70040>\n",
      "<built-in method index of list object at 0x2ac593a70040>\n",
      "<built-in method index of list object at 0x2ac593a70040>\n",
      "<built-in method index of list object at 0x2ac593a70040>\n",
      "<built-in method index of list object at 0x2ac593a70040>\n",
      "<built-in method index of list object at 0x2ac593a70040>\n",
      "<built-in method index of list object at 0x2ac593a70040>\n",
      "<built-in method index of list object at 0x2ac593a70040>\n",
      "<built-in method index of list object at 0x2ac593a70040>\n"
     ]
    },
    {
     "name": "stderr",
     "output_type": "stream",
     "text": [
      " 84%|████████▎ | 766/915 [00:19<00:01, 80.99it/s]"
     ]
    },
    {
     "name": "stdout",
     "output_type": "stream",
     "text": [
      "<built-in method index of list object at 0x2ac593a70040>\n",
      "<built-in method index of list object at 0x2ac593a70040>\n",
      "<built-in method index of list object at 0x2ac593a70040>\n",
      "<built-in method index of list object at 0x2ac593a70040>\n",
      "<built-in method index of list object at 0x2ac593a70040>\n",
      "<built-in method index of list object at 0x2ac593a70040>\n",
      "<built-in method index of list object at 0x2ac593a70040>\n",
      "<built-in method index of list object at 0x2ac593a70040>\n",
      "<built-in method index of list object at 0x2ac593a70040>\n",
      "<built-in method index of list object at 0x2ac593a70040>\n",
      "<built-in method index of list object at 0x2ac593a70040>\n",
      "<built-in method index of list object at 0x2ac593a70040>\n",
      "<built-in method index of list object at 0x2ac593a70040>\n",
      "<built-in method index of list object at 0x2ac593a70040>\n",
      "<built-in method index of list object at 0x2ac593a70040>\n",
      "<built-in method index of list object at 0x2ac593a70040>\n",
      "<built-in method index of list object at 0x2ac593a70040>\n",
      "<built-in method index of list object at 0x2ac593a70040>\n",
      "<built-in method index of list object at 0x2ac593a70040>\n",
      "<built-in method index of list object at 0x2ac593a70040>\n",
      "<built-in method index of list object at 0x2ac593a70040>\n",
      "<built-in method index of list object at 0x2ac593a70040>\n",
      "<built-in method index of list object at 0x2ac593a70040>\n",
      "<built-in method index of list object at 0x2ac593a70040>\n",
      "<built-in method index of list object at 0x2ac593a70040>\n",
      "<built-in method index of list object at 0x2ac593a70040>\n",
      "<built-in method index of list object at 0x2ac593a70040>\n"
     ]
    },
    {
     "name": "stderr",
     "output_type": "stream",
     "text": [
      " 87%|████████▋ | 793/915 [00:19<00:01, 102.92it/s]"
     ]
    },
    {
     "name": "stdout",
     "output_type": "stream",
     "text": [
      "<built-in method index of list object at 0x2ac593a70040>\n",
      "<built-in method index of list object at 0x2ac593a70040>\n",
      "<built-in method index of list object at 0x2ac593a70040>\n",
      "<built-in method index of list object at 0x2ac593a70040>\n",
      "<built-in method index of list object at 0x2ac593a70040>\n",
      "<built-in method index of list object at 0x2ac593a70040>\n",
      "<built-in method index of list object at 0x2ac593a70040>\n",
      "<built-in method index of list object at 0x2ac593a70040>\n",
      "<built-in method index of list object at 0x2ac593a70040>\n",
      "<built-in method index of list object at 0x2ac593a70040>\n",
      "<built-in method index of list object at 0x2ac593a70040>\n",
      "<built-in method index of list object at 0x2ac593a70040>\n",
      "<built-in method index of list object at 0x2ac593a70040>\n",
      "<built-in method index of list object at 0x2ac593a70040>\n",
      "<built-in method index of list object at 0x2ac593a70040>\n",
      "<built-in method index of list object at 0x2ac593a70040>\n",
      "<built-in method index of list object at 0x2ac593a70040>\n",
      "<built-in method index of list object at 0x2ac593a70040>\n",
      "<built-in method index of list object at 0x2ac593a70040>\n",
      "<built-in method index of list object at 0x2ac593a70040>\n",
      "<built-in method index of list object at 0x2ac593a70040>\n",
      "<built-in method index of list object at 0x2ac593a70040>\n",
      "<built-in method index of list object at 0x2ac593a70040>\n",
      "<built-in method index of list object at 0x2ac593a70040>\n",
      "<built-in method index of list object at 0x2ac593a70040>\n",
      "<built-in method index of list object at 0x2ac593a70040>\n",
      "<built-in method index of list object at 0x2ac593a70040>\n"
     ]
    },
    {
     "name": "stderr",
     "output_type": "stream",
     "text": [
      " 90%|████████▉ | 819/915 [00:19<00:00, 114.84it/s]"
     ]
    },
    {
     "name": "stdout",
     "output_type": "stream",
     "text": [
      "<built-in method index of list object at 0x2ac593a70040>\n",
      "<built-in method index of list object at 0x2ac593a70040>\n",
      "<built-in method index of list object at 0x2ac593a70040>\n",
      "<built-in method index of list object at 0x2ac593a70040>\n",
      "<built-in method index of list object at 0x2ac593a70040>\n",
      "<built-in method index of list object at 0x2ac593a70040>\n",
      "<built-in method index of list object at 0x2ac593a70040>\n",
      "<built-in method index of list object at 0x2ac593a70040>\n",
      "<built-in method index of list object at 0x2ac593a70040>\n",
      "<built-in method index of list object at 0x2ac593a70040>\n",
      "<built-in method index of list object at 0x2ac593a70040>\n",
      "<built-in method index of list object at 0x2ac593a70040>\n",
      "<built-in method index of list object at 0x2ac593a70040>\n",
      "<built-in method index of list object at 0x2ac593a70040>\n",
      "<built-in method index of list object at 0x2ac593a70040>\n",
      "<built-in method index of list object at 0x2ac593a70040>\n",
      "<built-in method index of list object at 0x2ac593a70040>\n",
      "<built-in method index of list object at 0x2ac593a70040>\n",
      "<built-in method index of list object at 0x2ac593a70040>\n",
      "<built-in method index of list object at 0x2ac593a70040>\n",
      "<built-in method index of list object at 0x2ac593a70040>\n",
      "<built-in method index of list object at 0x2ac593a70040>\n",
      "<built-in method index of list object at 0x2ac593a70040>\n",
      "<built-in method index of list object at 0x2ac593a70040>\n",
      "<built-in method index of list object at 0x2ac593a70040>\n",
      "<built-in method index of list object at 0x2ac593a70040>\n"
     ]
    },
    {
     "name": "stderr",
     "output_type": "stream",
     "text": [
      " 92%|█████████▏| 845/915 [00:19<00:00, 119.71it/s]"
     ]
    },
    {
     "name": "stdout",
     "output_type": "stream",
     "text": [
      "<built-in method index of list object at 0x2ac593a70040>\n",
      "<built-in method index of list object at 0x2ac593a70040>\n",
      "<built-in method index of list object at 0x2ac593a70040>\n",
      "<built-in method index of list object at 0x2ac593a70040>\n",
      "<built-in method index of list object at 0x2ac593a70040>\n",
      "<built-in method index of list object at 0x2ac593a70040>\n",
      "<built-in method index of list object at 0x2ac593a70040>\n",
      "<built-in method index of list object at 0x2ac593a70040>\n",
      "<built-in method index of list object at 0x2ac593a70040>\n",
      "<built-in method index of list object at 0x2ac593a70040>\n",
      "<built-in method index of list object at 0x2ac593a70040>\n",
      "<built-in method index of list object at 0x2ac593a70040>\n",
      "<built-in method index of list object at 0x2ac593a70040>\n",
      "<built-in method index of list object at 0x2ac593a70040>\n",
      "<built-in method index of list object at 0x2ac593a70040>\n",
      "<built-in method index of list object at 0x2ac593a70040>\n",
      "<built-in method index of list object at 0x2ac593a70040>\n",
      "<built-in method index of list object at 0x2ac593a70040>\n",
      "<built-in method index of list object at 0x2ac593a70040>\n",
      "<built-in method index of list object at 0x2ac593a70040>\n",
      "<built-in method index of list object at 0x2ac593a70040>\n",
      "<built-in method index of list object at 0x2ac593a70040>\n",
      "<built-in method index of list object at 0x2ac593a70040>\n",
      "<built-in method index of list object at 0x2ac593a70040>\n",
      "<built-in method index of list object at 0x2ac593a70040>\n",
      "<built-in method index of list object at 0x2ac593a70040>\n"
     ]
    },
    {
     "name": "stderr",
     "output_type": "stream",
     "text": [
      " 95%|█████████▌| 871/915 [00:19<00:00, 123.61it/s]"
     ]
    },
    {
     "name": "stdout",
     "output_type": "stream",
     "text": [
      "<built-in method index of list object at 0x2ac593a70040>\n",
      "<built-in method index of list object at 0x2ac593a70040>\n",
      "<built-in method index of list object at 0x2ac593a70040>\n",
      "<built-in method index of list object at 0x2ac593a70040>\n",
      "<built-in method index of list object at 0x2ac593a70040>\n",
      "<built-in method index of list object at 0x2ac593a70040>\n",
      "<built-in method index of list object at 0x2ac593a70040>\n",
      "<built-in method index of list object at 0x2ac593a70040>\n",
      "<built-in method index of list object at 0x2ac593a70040>\n",
      "<built-in method index of list object at 0x2ac593a70040>\n",
      "<built-in method index of list object at 0x2ac593a70040>\n",
      "<built-in method index of list object at 0x2ac593a70040>\n",
      "<built-in method index of list object at 0x2ac593a70040>\n",
      "<built-in method index of list object at 0x2ac593a70040>\n",
      "<built-in method index of list object at 0x2ac593a70040>\n",
      "<built-in method index of list object at 0x2ac593a70040>\n",
      "<built-in method index of list object at 0x2ac593a70040>\n",
      "<built-in method index of list object at 0x2ac593a70040>\n",
      "<built-in method index of list object at 0x2ac593a70040>\n",
      "<built-in method index of list object at 0x2ac593a70040>\n",
      "<built-in method index of list object at 0x2ac593a70040>\n",
      "<built-in method index of list object at 0x2ac593a70040>\n",
      "<built-in method index of list object at 0x2ac593a70040>\n",
      "<built-in method index of list object at 0x2ac593a70040>\n",
      "<built-in method index of list object at 0x2ac593a70040>\n",
      "<built-in method index of list object at 0x2ac593a70040>\n"
     ]
    },
    {
     "name": "stderr",
     "output_type": "stream",
     "text": [
      " 98%|█████████▊| 897/915 [00:20<00:00, 124.46it/s]"
     ]
    },
    {
     "name": "stdout",
     "output_type": "stream",
     "text": [
      "<built-in method index of list object at 0x2ac593a70040>\n",
      "<built-in method index of list object at 0x2ac593a70040>\n",
      "<built-in method index of list object at 0x2ac593a70040>\n",
      "<built-in method index of list object at 0x2ac593a70040>\n",
      "<built-in method index of list object at 0x2ac593a70040>\n",
      "<built-in method index of list object at 0x2ac593a70040>\n",
      "<built-in method index of list object at 0x2ac593a70040>\n",
      "<built-in method index of list object at 0x2ac593a70040>\n",
      "<built-in method index of list object at 0x2ac593a70040>\n",
      "<built-in method index of list object at 0x2ac593a70040>\n",
      "<built-in method index of list object at 0x2ac593a70040>\n",
      "<built-in method index of list object at 0x2ac593a70040>\n",
      "<built-in method index of list object at 0x2ac593a70040>\n",
      "<built-in method index of list object at 0x2ac593a70040>\n",
      "<built-in method index of list object at 0x2ac593a70040>\n",
      "<built-in method index of list object at 0x2ac593a70040>\n",
      "<built-in method index of list object at 0x2ac593a70040>\n",
      "<built-in method index of list object at 0x2ac593a70040>\n",
      "<built-in method index of list object at 0x2ac593a70040>\n",
      "<built-in method index of list object at 0x2ac593a70040>\n",
      "<built-in method index of list object at 0x2ac593a70040>\n",
      "<built-in method index of list object at 0x2ac593a70040>\n",
      "<built-in method index of list object at 0x2ac593a70040>\n",
      "<built-in method index of list object at 0x2ac593a70040>\n",
      "<built-in method index of list object at 0x2ac593a70040>\n",
      "<built-in method index of list object at 0x2ac593a70040>\n"
     ]
    },
    {
     "name": "stderr",
     "output_type": "stream",
     "text": [
      "100%|██████████| 915/915 [00:20<00:00, 45.02it/s] "
     ]
    },
    {
     "name": "stdout",
     "output_type": "stream",
     "text": [
      "<built-in method index of list object at 0x2ac593a70040>\n",
      "<built-in method index of list object at 0x2ac593a70040>\n",
      "<built-in method index of list object at 0x2ac593a70040>\n",
      "<built-in method index of list object at 0x2ac593a70040>\n",
      "<built-in method index of list object at 0x2ac593a70040>\n",
      "<built-in method index of list object at 0x2ac593a70040>\n",
      "<built-in method index of list object at 0x2ac593a70040>\n",
      "<built-in method index of list object at 0x2ac593a70040>\n",
      "<built-in method index of list object at 0x2ac593a70040>\n",
      "<built-in method index of list object at 0x2ac593a70040>\n"
     ]
    },
    {
     "name": "stderr",
     "output_type": "stream",
     "text": [
      "\n"
     ]
    }
   ],
   "source": [
    "S = []\n",
    "epsilon = 0.01\n",
    "for polygone in tqdm(loops_3D):\n",
    "    Nbre = 5*len(polygone.points)\n",
    "    M = Edge_Flipping(polygone,Nbre)\n",
    "    \n",
    "# M.add_points_to_boundary(N = 5)\n",
    "    M.create_quadrilaterals()\n",
    "    M.split_quadrilateral()\n",
    "    J = M\n",
    "    M.canonic_representation_from_mesh()\n",
    "    M.fill_edges()\n",
    "    area = M.calculate_area()\n",
    "    M.update_weights()\n",
    "    for i in (M.inside_indexes):\n",
    "        M.update_mapping(i)\n",
    "    D = M.lawson_flip()\n",
    "    new_area = M.calculate_area()\n",
    "    while  area - new_area > 0.01:\n",
    "        area = M.calculate_area()\n",
    "        M.update_weights()\n",
    "        for i in (M.inside_indexes):\n",
    "            M.update_mapping(i)\n",
    "        M.lawson_flip()\n",
    "        new_area = M.calculate_area()\n",
    "    S.append(M)\n",
    "    \n",
    "\n",
    "M = S[np.argmax(K)]\n"
   ]
  },
  {
   "cell_type": "code",
   "execution_count": 17,
   "metadata": {},
   "outputs": [
    {
     "name": "stdout",
     "output_type": "stream",
     "text": [
      "[87.5        47.08333333 46.91666667]\n",
      "(87.5, 47.0, 46.5)\n",
      "[87.5        47.06944444 47.06944444]\n",
      "[87.5        46.92824074 47.06712963]\n",
      "(87.5, 46.5, 47.0)\n",
      "[87.5        47.10387731 47.12123843]\n",
      "(87.5, 47.5, 47.0)\n",
      "[87.5        47.14057677 46.85874807]\n",
      "[87.5        46.87412391 46.84104135]\n",
      "(87.5, 47.0, 47.5)\n",
      "[87.5        46.88712666 46.95755972]\n",
      "[87.5        46.99203629 47.00270011]\n",
      "[87.5        46.86908779 47.10096613]\n"
     ]
    }
   ],
   "source": []
  },
  {
   "cell_type": "code",
   "execution_count": 12,
   "metadata": {},
   "outputs": [
    {
     "data": {
      "text/plain": [
       "[[array([16.5, 34.5, 55. ]),\n",
       "  array([17.        , 34.61111111, 55.27777778]),\n",
       "  array([17. , 34.5, 55.5])],\n",
       " [array([16.5, 34.5, 55. ]),\n",
       "  array([17.        , 34.61111111, 55.27777778]),\n",
       "  array([16.66666667, 34.61111111, 54.94444444])],\n",
       " [array([17. , 34.5, 55.5]),\n",
       "  array([17.33333333, 34.61111111, 54.94444444]),\n",
       "  array([17.5, 34.5, 55. ])],\n",
       " [array([17. , 34.5, 55.5]),\n",
       "  array([17.33333333, 34.61111111, 54.94444444]),\n",
       "  array([17.        , 34.61111111, 55.27777778])],\n",
       " [array([17.5, 34.5, 55. ]),\n",
       "  array([17.33333333, 34.94444444, 54.61111111]),\n",
       "  array([17.5, 35. , 54.5])],\n",
       " [array([17.5, 34.5, 55. ]),\n",
       "  array([17.33333333, 34.94444444, 54.61111111]),\n",
       "  array([17.33333333, 34.61111111, 54.94444444])],\n",
       " [array([17.5, 35. , 54.5]),\n",
       "  array([17.        , 35.27777778, 54.61111111]),\n",
       "  array([17. , 35.5, 54.5])],\n",
       " [array([17.5, 35. , 54.5]),\n",
       "  array([17.        , 35.27777778, 54.61111111]),\n",
       "  array([17.33333333, 34.94444444, 54.61111111])],\n",
       " [array([17. , 35.5, 54.5]),\n",
       "  array([16.66666667, 34.94444444, 54.61111111]),\n",
       "  array([16.5, 35. , 54.5])],\n",
       " [array([17. , 35.5, 54.5]),\n",
       "  array([16.66666667, 34.94444444, 54.61111111]),\n",
       "  array([17.        , 35.27777778, 54.61111111])],\n",
       " [array([16.5, 35. , 54.5]),\n",
       "  array([16.66666667, 34.61111111, 54.94444444]),\n",
       "  array([16.5, 34.5, 55. ])],\n",
       " [array([16.5, 35. , 54.5]),\n",
       "  array([16.66666667, 34.61111111, 54.94444444]),\n",
       "  array([16.66666667, 34.94444444, 54.61111111])],\n",
       " [array([16.66666667, 34.61111111, 54.94444444]),\n",
       "  array([17.        , 34.72222222, 55.05555556]),\n",
       "  array([17.        , 34.61111111, 55.27777778])],\n",
       " [array([16.66666667, 34.61111111, 54.94444444]),\n",
       "  array([17.        , 34.72222222, 55.05555556]),\n",
       "  array([16.83333333, 34.72222222, 54.88888889])],\n",
       " [array([17.        , 34.61111111, 55.27777778]),\n",
       "  array([17.16666667, 34.72222222, 54.88888889]),\n",
       "  array([17.33333333, 34.61111111, 54.94444444])],\n",
       " [array([17.        , 34.61111111, 55.27777778]),\n",
       "  array([17.16666667, 34.72222222, 54.88888889]),\n",
       "  array([17.        , 34.72222222, 55.05555556])],\n",
       " [array([17.33333333, 34.61111111, 54.94444444]),\n",
       "  array([17.16666667, 34.88888889, 54.72222222]),\n",
       "  array([17.33333333, 34.94444444, 54.61111111])],\n",
       " [array([17.33333333, 34.61111111, 54.94444444]),\n",
       "  array([17.16666667, 34.88888889, 54.72222222]),\n",
       "  array([17.16666667, 34.72222222, 54.88888889])],\n",
       " [array([17.33333333, 34.94444444, 54.61111111]),\n",
       "  array([17.        , 35.05555556, 54.72222222]),\n",
       "  array([17.        , 35.27777778, 54.61111111])],\n",
       " [array([17.33333333, 34.94444444, 54.61111111]),\n",
       "  array([17.        , 35.05555556, 54.72222222]),\n",
       "  array([17.16666667, 34.88888889, 54.72222222])],\n",
       " [array([17.        , 35.27777778, 54.61111111]),\n",
       "  array([16.83333333, 34.88888889, 54.72222222]),\n",
       "  array([16.66666667, 34.94444444, 54.61111111])],\n",
       " [array([17.        , 35.27777778, 54.61111111]),\n",
       "  array([16.83333333, 34.88888889, 54.72222222]),\n",
       "  array([17.        , 35.05555556, 54.72222222])],\n",
       " [array([16.66666667, 34.94444444, 54.61111111]),\n",
       "  array([16.83333333, 34.72222222, 54.88888889]),\n",
       "  array([16.66666667, 34.61111111, 54.94444444])],\n",
       " [array([16.66666667, 34.94444444, 54.61111111]),\n",
       "  array([16.83333333, 34.72222222, 54.88888889]),\n",
       "  array([16.83333333, 34.88888889, 54.72222222])],\n",
       " [array([17.        , 34.83333333, 54.83333333]),\n",
       "  array([16.83333333, 34.72222222, 54.88888889]),\n",
       "  array([17.        , 34.72222222, 55.05555556])],\n",
       " [array([17.        , 34.83333333, 54.83333333]),\n",
       "  array([17.        , 34.72222222, 55.05555556]),\n",
       "  array([17.16666667, 34.72222222, 54.88888889])],\n",
       " [array([17.        , 34.83333333, 54.83333333]),\n",
       "  array([17.16666667, 34.72222222, 54.88888889]),\n",
       "  array([17.16666667, 34.88888889, 54.72222222])],\n",
       " [array([17.        , 34.83333333, 54.83333333]),\n",
       "  array([17.16666667, 34.88888889, 54.72222222]),\n",
       "  array([17.        , 35.05555556, 54.72222222])],\n",
       " [array([17.        , 34.83333333, 54.83333333]),\n",
       "  array([17.        , 35.05555556, 54.72222222]),\n",
       "  array([16.83333333, 34.88888889, 54.72222222])],\n",
       " [array([17.        , 34.83333333, 54.83333333]),\n",
       "  array([16.83333333, 34.88888889, 54.72222222]),\n",
       "  array([16.83333333, 34.72222222, 54.88888889])]]"
      ]
     },
     "execution_count": 12,
     "metadata": {},
     "output_type": "execute_result"
    }
   ],
   "source": [
    "J.mesh"
   ]
  },
  {
   "cell_type": "code",
   "execution_count": 20,
   "metadata": {},
   "outputs": [
    {
     "data": {
      "text/plain": [
       "397"
      ]
     },
     "execution_count": 20,
     "metadata": {},
     "output_type": "execute_result"
    }
   ],
   "source": [
    "S = [len(l.loop) for l in loops]\n",
    "np.argmax(np.array(S))\n",
    "J = S"
   ]
  },
  {
   "cell_type": "code",
   "execution_count": 18,
   "metadata": {},
   "outputs": [
    {
     "data": {
      "text/plain": [
       "[array([14.5, 46. , 35.5]),\n",
       " array([15. , 45.5, 35.5]),\n",
       " array([15.5, 46. , 35.5]),\n",
       " array([15. , 46.5, 35.5])]"
      ]
     },
     "execution_count": 18,
     "metadata": {},
     "output_type": "execute_result"
    }
   ],
   "source": [
    "J.boundary.points"
   ]
  },
  {
   "cell_type": "code",
   "execution_count": 18,
   "metadata": {},
   "outputs": [
    {
     "data": {
      "text/plain": [
       "(5.0, 78.0)"
      ]
     },
     "execution_count": 18,
     "metadata": {},
     "output_type": "execute_result"
    },
    {
     "data": {
      "application/vnd.jupyter.widget-view+json": {
       "model_id": "75ac497e18b748d7b11971f2047d6603",
       "version_major": 2,
       "version_minor": 0
      },
      "image/png": "[encoded data removed]",
      "text/html": [
       "\n",
       "            <div style=\"display: inline-block;\">\n",
       "                <div class=\"jupyter-widgets widget-label\" style=\"text-align: center;\">\n",
       "                    Figure\n",
       "                </div>\n",
       "                <img src='data:image/png;base64,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' width=640.0/>\n",
       "            </div>\n",
       "        "
      ],
      "text/plain": [
       "Canvas(toolbar=Toolbar(toolitems=[('Home', 'Reset original view', 'home', 'home'), ('Back', 'Back to previous …"
      ]
     },
     "metadata": {},
     "output_type": "display_data"
    }
   ],
   "source": [
    "fig = plt.figure()\n",
    "ax = fig.add_subplot(111, projection='3d')\n",
    "ax.set_aspect('equal')\n",
    "\n",
    "X = []\n",
    "Y = []\n",
    "Z = []\n",
    "for tr in J.triangles:\n",
    "    xs = [M.mapping[ind][0] for ind in tr] + [M.mapping[tr[0]][0]]\n",
    "    ys = [M.mapping[ind][1] for ind in tr] + [M.mapping[tr[0]][1]]\n",
    "    zs = [M.mapping[ind][2] for ind in tr] + [M.mapping[tr[0]][2]]\n",
    "    ax.plot(xs,ys,zs)\n",
    "    \n",
    "    X = X + list(xs)\n",
    "    Y = Y + list(ys)\n",
    "    Z = Z + list(zs)\n",
    "\n",
    "\n",
    "\n",
    "for k in J.boundary.points:\n",
    "    L =  k\n",
    "    x = L[0]\n",
    "    y = L[1]\n",
    "    z = L[2]\n",
    "\n",
    "    \n",
    "    plt.plot(x,y,z,'o',color='green') \n",
    "\n",
    "    X.append(x)\n",
    "    Y.append(y)\n",
    "    Z.append(z)\n",
    "\n",
    "\n",
    "# for tr in triangles:\n",
    "#     print(tr)\n",
    "    \n",
    "#     xs = [M.mapping[ind][0] for ind in tr] + [M.mapping[tr[0]][0]]\n",
    "#     ys = [M.mapping[ind][1] for ind in tr] + [M.mapping[tr[0]][1]]\n",
    "#     zs = [M.mapping[ind][2] for ind in tr] + [M.mapping[tr[0]][2]]\n",
    "\n",
    "#     print(xs,ys,zs)\n",
    "\n",
    "#     ax.plot(xs,ys,zs,color = 'r')\n",
    "#     X = X + list(xs)\n",
    "#     Y = Y + list(ys)\n",
    "#     Z = Z + list(zs)\n",
    "\n",
    "X = np.array(X)\n",
    "Y = np.array(Y)\n",
    "Z = np.array(Z)\n",
    "max_range = np.array([X.max()-X.min(), Y.max()-Y.min(), Z.max()-Z.min()]).max() / 2.0 \n",
    "\n",
    "mid_x = (X.max()+X.min()) * 0.5\n",
    "mid_y = (Y.max()+Y.min()) * 0.5\n",
    "mid_z = (Z.max()+Z.min()) * 0.5\n",
    "ax.set_xlim(mid_x - max_range, mid_x + max_range)\n",
    "ax.set_ylim(mid_y - max_range, mid_y + max_range)\n",
    "ax.set_zlim(mid_z - max_range, mid_z + max_range)\n"
   ]
  },
  {
   "cell_type": "code",
   "execution_count": 11,
   "metadata": {},
   "outputs": [
    {
     "name": "stdout",
     "output_type": "stream",
     "text": [
      "(219, 347, 523)\n",
      "(347, 523, 1045)\n",
      "(347, 474, 1045)\n",
      "(347, 523, 523)\n",
      "(347, 347, 523)\n"
     ]
    },
    {
     "ename": "IndexError",
     "evalue": "list index out of range",
     "output_type": "error",
     "traceback": [
      "\u001b[0;31m---------------------------------------------------------------------------\u001b[0m",
      "\u001b[0;31mIndexError\u001b[0m                                Traceback (most recent call last)",
      "\u001b[1;32m/home/mehdii/projects/def-vidalthi/mehdii/3dPU/3dPU/Plateau_Problem/Triangulation_Meshing/create_surface.ipynb Cell 5\u001b[0m line \u001b[0;36m8\n\u001b[1;32m      <a href='vscode-notebook-cell://ssh-remote%2Bbeluga.computecanada.ca/home/mehdii/projects/def-vidalthi/mehdii/3dPU/3dPU/Plateau_Problem/Triangulation_Meshing/create_surface.ipynb#W5sdnNjb2RlLXJlbW90ZQ%3D%3D?line=5'>6</a>\u001b[0m v1 \u001b[39m=\u001b[39m i\n\u001b[1;32m      <a href='vscode-notebook-cell://ssh-remote%2Bbeluga.computecanada.ca/home/mehdii/projects/def-vidalthi/mehdii/3dPU/3dPU/Plateau_Problem/Triangulation_Meshing/create_surface.ipynb#W5sdnNjb2RlLXJlbW90ZQ%3D%3D?line=6'>7</a>\u001b[0m v2 \u001b[39m=\u001b[39m [a \u001b[39mfor\u001b[39;00m a \u001b[39min\u001b[39;00m tri \u001b[39mif\u001b[39;00m a \u001b[39m!=\u001b[39m i][\u001b[39m0\u001b[39m]\n\u001b[0;32m----> <a href='vscode-notebook-cell://ssh-remote%2Bbeluga.computecanada.ca/home/mehdii/projects/def-vidalthi/mehdii/3dPU/3dPU/Plateau_Problem/Triangulation_Meshing/create_surface.ipynb#W5sdnNjb2RlLXJlbW90ZQ%3D%3D?line=7'>8</a>\u001b[0m v3 \u001b[39m=\u001b[39m [a \u001b[39mfor\u001b[39;49;00m a \u001b[39min\u001b[39;49;00m tri \u001b[39mif\u001b[39;49;00m a \u001b[39m!=\u001b[39;49m i][\u001b[39m1\u001b[39;49m]\n\u001b[1;32m      <a href='vscode-notebook-cell://ssh-remote%2Bbeluga.computecanada.ca/home/mehdii/projects/def-vidalthi/mehdii/3dPU/3dPU/Plateau_Problem/Triangulation_Meshing/create_surface.ipynb#W5sdnNjb2RlLXJlbW90ZQ%3D%3D?line=8'>9</a>\u001b[0m tr \u001b[39m=\u001b[39m (v1,v2,v3)\n",
      "\u001b[0;31mIndexError\u001b[0m: list index out of range"
     ]
    }
   ],
   "source": [
    "M = S[0]\n",
    "i = 347\n",
    "triangles = M.dict_vertexes[i]\n",
    "for tri in triangles:\n",
    "    print(tri)\n",
    "    v1 = i\n",
    "    v2 = [a for a in tri if a != i][0]\n",
    "    v3 = [a for a in tri if a != i][1]\n",
    "    tr = (v1,v2,v3)"
   ]
  },
  {
   "cell_type": "code",
   "execution_count": 27,
   "metadata": {},
   "outputs": [
    {
     "ename": "IndexError",
     "evalue": "too many indices for array: array is 2-dimensional, but 3 were indexed",
     "output_type": "error",
     "traceback": [
      "\u001b[0;31m---------------------------------------------------------------------------\u001b[0m",
      "\u001b[0;31mIndexError\u001b[0m                                Traceback (most recent call last)",
      "\u001b[1;32m/home/mehdii/projects/def-vidalthi/mehdii/3dPU/3dPU/Plateau_Problem/Triangulation_Meshing/create_surface.ipynb Cell 6\u001b[0m line \u001b[0;36m3\n\u001b[1;32m     <a href='vscode-notebook-cell://ssh-remote%2Bbeluga.computecanada.ca/home/mehdii/projects/def-vidalthi/mehdii/3dPU/3dPU/Plateau_Problem/Triangulation_Meshing/create_surface.ipynb#W6sdnNjb2RlLXJlbW90ZQ%3D%3D?line=26'>27</a>\u001b[0m wrapped_phase \u001b[39m=\u001b[39m np\u001b[39m.\u001b[39mangle(np\u001b[39m.\u001b[39mexp(\u001b[39m1\u001b[39mj \u001b[39m*\u001b[39m harmonic_pattern\u001b[39m.\u001b[39mreal))\n\u001b[1;32m     <a href='vscode-notebook-cell://ssh-remote%2Bbeluga.computecanada.ca/home/mehdii/projects/def-vidalthi/mehdii/3dPU/3dPU/Plateau_Problem/Triangulation_Meshing/create_surface.ipynb#W6sdnNjb2RlLXJlbW90ZQ%3D%3D?line=29'>30</a>\u001b[0m \u001b[39m# Step 5: Visualize\u001b[39;00m\n\u001b[0;32m---> <a href='vscode-notebook-cell://ssh-remote%2Bbeluga.computecanada.ca/home/mehdii/projects/def-vidalthi/mehdii/3dPU/3dPU/Plateau_Problem/Triangulation_Meshing/create_surface.ipynb#W6sdnNjb2RlLXJlbW90ZQ%3D%3D?line=30'>31</a>\u001b[0m plt\u001b[39m.\u001b[39mimshow(wrapped_phase[:, :, \u001b[39m50\u001b[39;49m], cmap\u001b[39m=\u001b[39m\u001b[39m'\u001b[39m\u001b[39mtwilight\u001b[39m\u001b[39m'\u001b[39m, extent\u001b[39m=\u001b[39m[\u001b[39m-\u001b[39m\u001b[39m1\u001b[39m, \u001b[39m1\u001b[39m, \u001b[39m-\u001b[39m\u001b[39m1\u001b[39m, \u001b[39m1\u001b[39m])\n\u001b[1;32m     <a href='vscode-notebook-cell://ssh-remote%2Bbeluga.computecanada.ca/home/mehdii/projects/def-vidalthi/mehdii/3dPU/3dPU/Plateau_Problem/Triangulation_Meshing/create_surface.ipynb#W6sdnNjb2RlLXJlbW90ZQ%3D%3D?line=31'>32</a>\u001b[0m plt\u001b[39m.\u001b[39mcolorbar()\n\u001b[1;32m     <a href='vscode-notebook-cell://ssh-remote%2Bbeluga.computecanada.ca/home/mehdii/projects/def-vidalthi/mehdii/3dPU/3dPU/Plateau_Problem/Triangulation_Meshing/create_surface.ipynb#W6sdnNjb2RlLXJlbW90ZQ%3D%3D?line=32'>33</a>\u001b[0m plt\u001b[39m.\u001b[39mtitle(\u001b[39m'\u001b[39m\u001b[39mWrapped Phase with Discontinuity\u001b[39m\u001b[39m'\u001b[39m)\n",
      "\u001b[0;31mIndexError\u001b[0m: too many indices for array: array is 2-dimensional, but 3 were indexed"
     ]
    }
   ],
   "source": [
    "import numpy as np\n",
    "import matplotlib.pyplot as plt\n",
    "from scipy.special import sph_harm\n",
    "from mpl_toolkits.mplot3d import Axes3D\n",
    "\n",
    "degree = 3\n",
    "orders = range(-degree, degree + 1)\n",
    "\n",
    "\n",
    "# Step 1: Define the 5th-degree spherical harmonics function\n",
    "def spherical_harmonics_5th_degree(theta, phi):\n",
    "    # Select a particular harmonic, e.g., Y_5^2\n",
    "    return sph_harm(2, 5, phi, theta)\n",
    "\n",
    "# Step 2: Create a spherical mesh\n",
    "theta, phi = np.linspace(0, np.pi, 100), np.linspace(0, 2 * np.pi, 100)\n",
    "theta, phi = np.meshgrid(theta, phi)\n",
    "\n",
    "# Initialize the harmonic pattern\n",
    "harmonic_pattern = np.zeros(theta.shape, dtype=complex)\n",
    "\n",
    "# Sum over all orders for the given degree\n",
    "for order in orders:\n",
    "    harmonic_pattern += sph_harm(order, degree, phi, theta)\n",
    "\n",
    "# Take the real part and apply phase wrapping\n",
    "wrapped_phase = np.angle(np.exp(1j * harmonic_pattern.real))\n",
    "\n",
    "\n",
    "# Step 5: Visualize\n",
    "plt.imshow(wrapped_phase[:, :, 50], cmap='twilight', extent=[-1, 1, -1, 1])\n",
    "plt.colorbar()\n",
    "plt.title('Wrapped Phase with Discontinuity')\n",
    "plt.show()"
   ]
  },
  {
   "cell_type": "code",
   "execution_count": 28,
   "metadata": {},
   "outputs": [
    {
     "data": {
      "text/plain": [
       "(100, 100)"
      ]
     },
     "execution_count": 28,
     "metadata": {},
     "output_type": "execute_result"
    }
   ],
   "source": [
    "wrapped_phase.shape"
   ]
  }
 ],
 "metadata": {
  "kernelspec": {
   "display_name": "virtual_3dpu",
   "language": "python",
   "name": "python3"
  },
  "language_info": {
   "codemirror_mode": {
    "name": "ipython",
    "version": 3
   },
   "file_extension": ".py",
   "mimetype": "text/x-python",
   "name": "python",
   "nbconvert_exporter": "python",
   "pygments_lexer": "ipython3",
   "version": "3.11.5"
  }
 },
 "nbformat": 4,
 "nbformat_minor": 2
}
