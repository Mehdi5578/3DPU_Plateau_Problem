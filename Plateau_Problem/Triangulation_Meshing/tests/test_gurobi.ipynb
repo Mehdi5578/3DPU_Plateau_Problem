{
 "cells": [
  {
   "cell_type": "markdown",
   "metadata": {},
   "source": [
    "## Create the two loops"
   ]
  },
  {
   "cell_type": "code",
   "execution_count": 7,
   "metadata": {},
   "outputs": [],
   "source": [
    "import sys\n",
    "import sys\n",
    "import os\n",
    "ROOT  = \"../\"\n",
    "# Add current working directory to sys.path\n",
    "sys.path.append(ROOT)\n",
    "sys.path.append(\"/home/mehdii/projects/def-vidalthi/mehdii/3DPU_Plateau_Problem/\")\n",
    "from PointList import *\n",
    "%matplotlib widget \n",
    "import matplotlib\n",
    "from mpl_toolkits.mplot3d import Axes3D\n",
    "import matplotlib.pyplot as plt\n",
    "from tqdm import tqdm\n",
    "import math\n",
    "from _3DLoops._3dpu_using_dfs import *\n",
    "from Block_edges.block_edges import *\n",
    "import sys\n",
    "sys.path.append(\"/home/mehdii/projects/def-vidalthi/mehdii/3DPU_Plateau_Problem/MIP_constraints/Python/\")\n",
    "from CreatingCycles import *"
   ]
  },
  {
   "cell_type": "markdown",
   "metadata": {},
   "source": [
    "## The two loops"
   ]
  },
  {
   "cell_type": "code",
   "execution_count": 8,
   "metadata": {},
   "outputs": [],
   "source": [
    "def loop_create(r,O, num_points):\n",
    "    xo,yo,zo = O\n",
    "    points = PointList()\n",
    "    for n in tqdm(range(num_points)):\n",
    "        theta = n * 2 * math.pi / num_points\n",
    "        x = r * math.cos(theta) + xo\n",
    "        y = r * math.sin(theta) + yo\n",
    "        points.add_point((x,y,zo))\n",
    "    return points"
   ]
  },
  {
   "cell_type": "markdown",
   "metadata": {},
   "source": [
    "## Fill in the said loop"
   ]
  },
  {
   "cell_type": "code",
   "execution_count": 9,
   "metadata": {},
   "outputs": [
    {
     "name": "stderr",
     "output_type": "stream",
     "text": [
      "100%|██████████| 100/100 [00:00<00:00, 439194.14it/s]\n",
      "100%|██████████| 100/100 [00:00<00:00, 565270.08it/s]\n"
     ]
    },
    {
     "name": "stdout",
     "output_type": "stream",
     "text": [
      "s is 4\n"
     ]
    },
    {
     "name": "stderr",
     "output_type": "stream",
     "text": [
      "100%|██████████| 900/900 [00:00<00:00, 185470.13it/s]\n",
      "100%|██████████| 900/900 [00:00<00:00, 69167.28it/s]\n",
      "100%|██████████| 501/501 [00:00<00:00, 406607.26it/s]\n",
      "100%|██████████| 401/401 [00:00<00:00, 28270.34it/s]\n",
      "100%|██████████| 900/900 [00:01<00:00, 475.24it/s]\n"
     ]
    },
    {
     "name": "stdout",
     "output_type": "stream",
     "text": [
      "s is 4\n"
     ]
    },
    {
     "name": "stderr",
     "output_type": "stream",
     "text": [
      "100%|██████████| 900/900 [00:00<00:00, 182731.80it/s]\n",
      "100%|██████████| 900/900 [00:00<00:00, 125515.33it/s]\n",
      "100%|██████████| 501/501 [00:00<00:00, 602277.53it/s]\n",
      "100%|██████████| 401/401 [00:00<00:00, 27968.07it/s]\n",
      "100%|██████████| 900/900 [00:01<00:00, 467.49it/s]\n"
     ]
    }
   ],
   "source": [
    "r,h = 4,2\n",
    "\n",
    "points1 = loop_create(r,(0,0,0.5), 100)\n",
    "points2 = loop_create(r,(0,0,h + 0.5), 100)\n",
    "\n",
    "loops = [points1,points2]\n",
    "List_M = []\n",
    "List_edges = []\n",
    "\n",
    "for loop in loops:\n",
    "    M = Edge_Flipping(loop,10*len(loop.points))\n",
    "    M.create_quadrilaterals()\n",
    "    M.split_quadrilateral()\n",
    "    M.canonic_representation_from_mesh()\n",
    "    M.clean_triangles()\n",
    "    M.fill_edges()\n",
    "    M.update_weights()\n",
    "    M.mapping = [np.array(o) for o in M.mapping]\n",
    "    List_M.append(M)\n",
    "    E = Block_edges(M.triangles,M.mapping)\n",
    "    E.block_all_the_edges()\n",
    "    List_edges.append(E.blocked_edges)"
   ]
  },
  {
   "cell_type": "code",
   "execution_count": 13,
   "metadata": {},
   "outputs": [
    {
     "name": "stdout",
     "output_type": "stream",
     "text": [
      "900\n"
     ]
    },
    {
     "name": "stderr",
     "output_type": "stream",
     "text": [
      "100%|██████████| 401/401 [00:00<00:00, 43150.39it/s]\n",
      "1517it [00:00, 45656.34it/s]            \n",
      "1412it [00:00, 50194.57it/s]            \n",
      "100%|██████████| 1400/1400 [00:00<00:00, 52577.14it/s]"
     ]
    },
    {
     "name": "stdout",
     "output_type": "stream",
     "text": [
      "113.02293515276412"
     ]
    },
    {
     "name": "stderr",
     "output_type": "stream",
     "text": [
      "\n"
     ]
    },
    {
     "name": "stdout",
     "output_type": "stream",
     "text": [
      " -1.2363443602225743e-12 1.3087478735244698e-09 127\n"
     ]
    },
    {
     "name": "stderr",
     "output_type": "stream",
     "text": [
      "100%|██████████| 900/900 [00:02<00:00, 350.89it/s]\n"
     ]
    },
    {
     "name": "stdout",
     "output_type": "stream",
     "text": [
      "900\n"
     ]
    },
    {
     "name": "stderr",
     "output_type": "stream",
     "text": [
      "100%|██████████| 401/401 [00:00<00:00, 41735.92it/s]\n",
      "1504it [00:00, 46192.84it/s]            \n",
      "1411it [00:00, 51880.94it/s]            \n",
      "1402it [00:00, 52492.92it/s]            \n",
      "100%|██████████| 1400/1400 [00:00<00:00, 52067.12it/s]\n"
     ]
    },
    {
     "name": "stdout",
     "output_type": "stream",
     "text": [
      "113.02293515276396 -1.0800249583553523e-12 2.974279831351871e-11 346\n"
     ]
    },
    {
     "name": "stderr",
     "output_type": "stream",
     "text": [
      "100%|██████████| 900/900 [00:02<00:00, 317.80it/s]\n"
     ]
    }
   ],
   "source": [
    "# epsilon = 0.01\n",
    "# List_edges = []\n",
    "# for M in List_M:\n",
    "#     area = M.calculate_area()\n",
    "#     print(len(M.triangles))\n",
    "#     for i in tqdm(M.inside_indexes):\n",
    "#         M.update_mapping(i)\n",
    "#     D = M.lawson_flip()\n",
    "#     new_area = M.calculate_area()\n",
    "#     print(new_area,area - new_area,M.compute_mean_curvature(),M.vertex_curvatures[M.compute_mean_curvature()])\n",
    "#     while  area - new_area > epsilon:\n",
    "#         area = M.calculate_area()\n",
    "#         M.update_weights()\n",
    "#         for i in tqdm(M.inside_indexes):\n",
    "#             M.update_mapping(i)\n",
    "#         M.lawson_flip()\n",
    "#         new_area = M.calculate_area()\n",
    "#     E = Block_edges(M.triangles,M.mapping)\n",
    "#     E.block_all_the_edges()\n",
    "#     List_edges.append(E.blocked_edges)\n"
   ]
  },
  {
   "cell_type": "code",
   "execution_count": 12,
   "metadata": {},
   "outputs": [
    {
     "name": "stderr",
     "output_type": "stream",
     "text": [
      "100%|██████████| 2/2 [00:00<00:00, 1118.78it/s]\n"
     ]
    }
   ],
   "source": [
    "Edges = []\n",
    "for list_edges in tqdm(List_edges):\n",
    "    for edge in list_edges:\n",
    "        Edges.append([list(edge[0]),list(edge[1])])\n",
    "\n",
    "        \n",
    "Edges = set([tuple((tuple(edge[0]),tuple(edge[1]))) for edge in Edges])\n",
    "Edges = list(Edges)\n",
    "G = GraphGrid3D(Edges,[])"
   ]
  },
  {
   "cell_type": "code",
   "execution_count": 13,
   "metadata": {},
   "outputs": [
    {
     "data": {
      "text/plain": [
       "98"
      ]
     },
     "execution_count": 13,
     "metadata": {},
     "output_type": "execute_result"
    }
   ],
   "source": [
    "len(Edges)"
   ]
  },
  {
   "cell_type": "code",
   "execution_count": 6,
   "metadata": {},
   "outputs": [],
   "source": [
    "import pickle\n",
    "# Specify the path to the pickle file\n",
    "filepath = 'marked_edges.pickle'\n",
    "\n",
    "# Load the edges from the pickle file\n",
    "with open(filepath, 'rb') as f:\n",
    "    Marked_edges = pickle.load(f)\n"
   ]
  },
  {
   "cell_type": "code",
   "execution_count": 6,
   "metadata": {},
   "outputs": [
    {
     "data": {
      "application/vnd.jupyter.widget-view+json": {
       "model_id": "8c82753794f145a7989d1c09c95b978a",
       "version_major": 2,
       "version_minor": 0
      },
      "image/png": "[encoded data removed]",
      "text/html": [
       "\n",
       "            <div style=\"display: inline-block;\">\n",
       "                <div class=\"jupyter-widgets widget-label\" style=\"text-align: center;\">\n",
       "                    Figure\n",
       "                </div>\n",
       "                <img src='data:image/png;base64,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' width=640.0/>\n",
       "            </div>\n",
       "        "
      ],
      "text/plain": [
       "Canvas(toolbar=Toolbar(toolitems=[('Home', 'Reset original view', 'home', 'home'), ('Back', 'Back to previous …"
      ]
     },
     "metadata": {},
     "output_type": "display_data"
    }
   ],
   "source": [
    "fig = plt.figure()\n",
    "ax = fig.add_subplot(111, projection='3d')\n",
    "ax.set_aspect('equal')\n",
    "\n",
    "X = []\n",
    "Y = []\n",
    "Z = []\n",
    "\n",
    "# Draw loop of points\n",
    "for point in points1.points:\n",
    "    x, y, z = point\n",
    "    X.append(x)\n",
    "    Y.append(y)\n",
    "    Z.append(z)\n",
    "\n",
    "ax.plot(X, Y, Z, color='b')\n",
    "\n",
    "X1,Y1,Z1 = [],[],[]\n",
    "\n",
    "for point in points2.points:\n",
    "    x, y, z = point\n",
    "    X1.append(x)\n",
    "    Y1.append(y)\n",
    "    Z1.append(z)\n",
    "ax.plot(X1, Y1, Z1, color='red')\n",
    "\n",
    "\n",
    "A,B,C = [],[],[]\n",
    "\n",
    "# for point in cycle:\n",
    "#     x, y, z = G.mapping[point]\n",
    "#     A.append(x)\n",
    "#     B.append(y)\n",
    "#     C.append(z)\n",
    "# ax.plot(A, B, C, color='green')\n",
    "\n",
    "# for cycle in cycles[110:111]:\n",
    "#     A,B,C = [],[],[]\n",
    "#     for point in cycle:\n",
    "#         x, y, z = G.mapping[point]\n",
    "#         A.append(x)\n",
    "#         B.append(y)\n",
    "#         C.append(z)\n",
    "#     ax.plot(A, B, C, color='green')\n",
    "# cycle = cycles[110]\n",
    "# Blockii_edges = []\n",
    "# for i in range(len(cycle)):\n",
    "#     edge = min(cycle[i],cycle[(i+1)%len(cycle)]),max(cycle[i],cycle[(i+1)%len(cycle)])\n",
    "\n",
    "#     Blockii_edges.append(edge)\n",
    "    \n",
    "# for edge in Blockii_edges:\n",
    "#     x,y,z = G.mapping[edge[0]]\n",
    "#     x1,y1,z1 = G.mapping[edge[1]]\n",
    "#     ax.plot([x,x1],[y,y1],[z,z1],color=\"black\")\n",
    "\n",
    "for edge in Edges:\n",
    "    ax.plot([edge[0][0],edge[1][0]],[edge[0][1],edge[1][1]],[edge[0][2],edge[1][2]],color='black')\n",
    "    \n",
    "Marked_edges = [[(-4, -1, 1), (-3, -1, 1)], [(-4, -2, 1), (-3, -2, 1)], [(-1, 3, 2), (-1, 4, 2)], [(3, -2, 1), (4, -2, 1)], [(-3, -3, 2), (-2, -3, 2)], [(-3, -3, 1), (-3, -2, 1)], [(-4, 0, 0), (-4, 0, 1)], [(-2, 3, 2), (-2, 4, 2)], [(2, 3, 1), (3, 3, 1)], [(4, 0, 0), (4, 0, 1)], [(3, 1, 1), (4, 1, 1)], [(-2, -4, 1), (-2, -3, 1)], [(3, 2, 1), (3, 3, 1)], [(-1, 3, 1), (-1, 4, 1)], [(0, -4, 2), (0, -4, 3)], [(-4, 1, 2), (-3, 1, 2)], [(2, 3, 2), (2, 4, 2)], [(4, 0, 2), (4, 0, 3)], [(1, 3, 2), (1, 4, 2)], [(3, -3, 2), (3, -2, 2)], [(-4, -2, 2), (-3, -2, 2)], [(3, 1, 2), (4, 1, 2)], [(-3, -3, 2), (-3, -2, 2)], [(-3, 3, 2), (-2, 3, 2)], [(3, 2, 1), (4, 2, 1)], [(3, 2, 2), (3, 3, 2)], [(0, -4, 0), (0, -4, 1)], [(3, -1, 1), (4, -1, 1)], [(-3, 2, 2), (-3, 3, 2)], [(3, -1, 2), (4, -1, 2)], [(3, -3, 1), (3, -2, 1)], [(-4, 1, 1), (-3, 1, 1)], [(-4, 2, 1), (-3, 2, 1)], [(-4, 0, 1), (-3, 0, 1)], [(2, -3, 2), (3, -3, 2)], [(1, 3, 1), (1, 4, 1)], [(3, 2, 2), (4, 2, 2)], [(3, 0, 2), (4, 0, 2)], [(2, -4, 2), (2, -3, 2)], [(0, -4, 1), (0, -3, 1)], [(-3, 2, 1), (-3, 3, 1)], [(-1, -4, 2), (-1, -3, 2)], [(3, -2, 2), (4, -2, 2)], [(0, -4, 2), (0, -3, 2)], [(-3, 3, 1), (-2, 3, 1)], [(0, 3, 2), (0, 4, 2)], [(1, -4, 2), (1, -3, 2)], [(3, 0, 1), (4, 0, 1)], [(-2, 3, 1), (-2, 4, 1)], [(-4, 2, 2), (-3, 2, 2)], [(2, -3, 1), (3, -3, 1)], [(0, 4, 2), (0, 4, 3)], [(-4, -1, 2), (-3, -1, 2)], [(-3, -3, 1), (-2, -3, 1)], [(-4, 0, 2), (-4, 0, 3)], [(2, -4, 1), (2, -3, 1)], [(-2, -4, 2), (-2, -3, 2)], [(2, 3, 1), (2, 4, 1)], [(0, 4, 0), (0, 4, 1)], [(1, -4, 1), (1, -3, 1)], [(-1, -4, 1), (-1, -3, 1)], [(2, 3, 2), (3, 3, 2)], [(-4, 0, 2), (-3, 0, 2)], [(0, 3, 1), (0, 4, 1)]]\n",
    "\n",
    "for edge in Marked_edges:\n",
    "    ax.plot([edge[0][0],edge[1][0]],[edge[0][1],edge[1][1]],[edge[0][2],edge[1][2]],color='red')\n",
    "\n",
    "# for point in Points:\n",
    "#     for point2 in  Points:\n",
    "#         if point != point2:\n",
    "#             ax.plot([point[0],point2[0]],[point[1],point2[1]],[point[2],point2[2]],color='green')\n",
    "#             X.append(point[0])\n",
    "#             Y.append(point[1])\n",
    "#             Z.append(point[2])\n",
    "\n",
    "X = np.concatenate((X,X1))\n",
    "Y = np.concatenate((Y,Y1))\n",
    "Z = np.concatenate((Z,Z1))\n",
    "\n",
    "max_range = np.array([X.max()-X.min(), Y.max()-Y.min(), Z.max()-Z.min()]).max() / 2.0 \n",
    "\n",
    "mid_x = (X.max()+X.min()) * 0.5\n",
    "mid_y = (Y.max()+Y.min()) * 0.5\n",
    "mid_z = (Z.max()+Z.min()) * 0.5\n",
    "ax.set_xlim(mid_x - max_range, mid_x + max_range)\n",
    "ax.set_ylim(mid_y - max_range, mid_y + max_range)\n",
    "ax.set_zlim(mid_z - max_range, mid_z + max_range)\n",
    "\n",
    "plt.show()\n"
   ]
  },
  {
   "cell_type": "code",
   "execution_count": 15,
   "metadata": {},
   "outputs": [],
   "source": [
    "\n",
    "file_path = \"/home/mehdii/projects/def-vidalthi/mehdii/3DPU_Plateau_Problem/scripts_folder/r.4__h.3_all/Marked_edges.txt\"\n",
    "\n",
    "with open(file_path, \"r\") as file:\n",
    "    text = file.read()"
   ]
  },
  {
   "cell_type": "code",
   "execution_count": 17,
   "metadata": {},
   "outputs": [
    {
     "name": "stdout",
     "output_type": "stream",
     "text": [
      "[0, 0, 0, 0, 1, 1, 1, 2, 2, 2, 3, 3, 7, 6, 9, 12, 9, 10, 60, 17, 52, 78, 73, 165, 187, 961, 393, 502, 1752, 1464, 1482, 647, 2795, 1797, 1946, 3762, 3029, 10593, 6694, 26885, 33984, 31826]\n"
     ]
    }
   ],
   "source": [
    "import re\n",
    "\n",
    "pattern1 = \"le temps d'execution est (\\d+)\"\n",
    "pattern2 = \"le nombre de marked edges est (\\d+)\"\n",
    "pattern3 = \"le nombre de cycles est (\\d+)\"\n",
    "\n",
    "numbers__of_cycles = re.findall(pattern3, text)\n",
    "number_of_marked_edges = re.findall(pattern2, text)\n",
    "execution_time = re.findall(pattern1, text)\n",
    "\n",
    "# Conversion des nombres trouvés en entiers\n",
    "\n",
    "numbers__of_cycles = [int(number) for number in numbers__of_cycles]\n",
    "number_of_marked_edges = [int(number) for number in number_of_marked_edges]\n",
    "execution_time = [int(number) for number in execution_time]\n",
    "\n",
    "\n",
    "print(execution_time)"
   ]
  },
  {
   "cell_type": "code",
   "execution_count": null,
   "metadata": {},
   "outputs": [],
   "source": []
  },
  {
   "cell_type": "code",
   "execution_count": 43,
   "metadata": {},
   "outputs": [],
   "source": [
    "G = GraphGrid3D(Edges,[])\n",
    "x_min,x_max,y_min,y_max,z_min,z_max = G.x_min,G.x_max,G.y_min,G.y_max,G.z_min,G.z_max\n",
    "Points = []\n",
    "for i in [x_min,x_max]:\n",
    "    for j in [y_min,y_max]:\n",
    "        for k in [z_min,z_max]:\n",
    "            Points.append((i,j,k))"
   ]
  },
  {
   "cell_type": "code",
   "execution_count": 30,
   "metadata": {},
   "outputs": [
    {
     "data": {
      "text/plain": [
       "433"
      ]
     },
     "execution_count": 30,
     "metadata": {},
     "output_type": "execute_result"
    }
   ],
   "source": [
    "GC = Graph_Cycles(Edges,Marked_edges)\n",
    "len(next(iter(GC.b_1)))\n",
    "L = [len(cycle) for cycle in GC.b_1]\n",
    "indice1 = np.argmin(L)\n",
    "indice2 = np.argmax(L)\n",
    "cycle2 = list(GC.b_1)[indice2]\n",
    "cycle1 = list(GC.b_1)[indice1]\n",
    "len(cycle2)"
   ]
  },
  {
   "cell_type": "markdown",
   "metadata": {},
   "source": [
    "## Gurobi Model"
   ]
  },
  {
   "cell_type": "code",
   "execution_count": 16,
   "metadata": {},
   "outputs": [],
   "source": [
    "import sys\n",
    "sys.path.append(\"/home/mehdii/projects/def-vidalthi/mehdii/3DPU_Plateau_Problem/MIP_constraints/Python/\")\n",
    "from CreatingCycles import *"
   ]
  },
  {
   "cell_type": "markdown",
   "metadata": {},
   "source": [
    "## Filling the MIP for problem constraints"
   ]
  },
  {
   "cell_type": "code",
   "execution_count": 17,
   "metadata": {},
   "outputs": [
    {
     "name": "stderr",
     "output_type": "stream",
     "text": [
      "100%|██████████| 356/356 [00:00<00:00, 8767.69it/s]"
     ]
    },
    {
     "name": "stdout",
     "output_type": "stream",
     "text": [
      "9\n"
     ]
    },
    {
     "name": "stderr",
     "output_type": "stream",
     "text": [
      "\n"
     ]
    },
    {
     "data": {
      "text/plain": [
       "1"
      ]
     },
     "execution_count": 17,
     "metadata": {},
     "output_type": "execute_result"
    }
   ],
   "source": [
    "Blocked_edges = Edges\n",
    "Marked_edges = Edges[:-1]\n",
    "GC = Graph_Cycles(Blocked_edges,Marked_edges)\n",
    "print(len(Marked_edges))\n",
    "len(Blocked_edges) - len(Marked_edges)"
   ]
  },
  {
   "cell_type": "code",
   "execution_count": 16,
   "metadata": {},
   "outputs": [],
   "source": [
    "def find_cycle_impair(GC):\n",
    "    path = nx.shortest_path(GC.Graph_cycles,0,1)\n",
    "    tried_paths = set()\n",
    "    while not GC.get_full_cycle(path) and tuple(path) not in tried_paths:\n",
    "        cpt1 = np.random.randint(0,len(GC.dict_blocked_edges))\n",
    "        blocked_edge = list(GC.dict_blocked_edges.keys())[cpt1]\n",
    "        cycle_blocked = GC.dict_blocked_edges[blocked_edge]\n",
    "        if len(cycle_blocked) == 0:\n",
    "            print(\"---------------------\")\n",
    "            print(cpt1)\n",
    "            print(\"--------------------\")\n",
    "        cycle_blocked_index = GC.cycles_index[cycle_blocked[np.random.randint(0,len(cycle_blocked))]]\n",
    "        cycle_index = np.random.randint(0,len(GC.cycles))\n",
    "        tried_paths.add(tuple(path))\n",
    "        path = nx.shortest_path(GC.Graph_cycles,cycle_index,cycle_blocked_index)\n",
    "    return GC.get_full_cycle(path)"
   ]
  },
  {
   "cell_type": "code",
   "execution_count": 32,
   "metadata": {},
   "outputs": [],
   "source": [
    "import pickle\n",
    "\n",
    "# Specify the path to the pickle file\n",
    "filepath = '/home/mehdii/projects/def-vidalthi/mehdii/3DPU_Plateau_Problem/scripts_folder/r.3_h.6/cycles.pkl'\n",
    "\n",
    "# Load the cycles from the pickle file\n",
    "with open(filepath, 'rb') as f:\n",
    "    cycles = pickle.load(f)\n"
   ]
  },
  {
   "cell_type": "code",
   "execution_count": 28,
   "metadata": {},
   "outputs": [],
   "source": [
    "def resolve_MIP(cycles,Blocked_edges,Marked_edges):\n",
    "    problem = pulp.LpProblem(\"Graph Problem\", pulp.LpMinimize)\n",
    "    GC = Graph_Cycles(Blocked_edges,Marked_edges)\n",
    "    G = GraphGrid3D(Blocked_edges,[])\n",
    "    # Define the decision variables\n",
    "    x = pulp.LpVariable.dicts(\"x\", G.edges, cat=pulp.LpBinary)\n",
    "\n",
    "    # Define the objective function\n",
    "    problem += pulp.lpSum([x[i] for i in G.edges])\n",
    "\n",
    "    # detect a constraints\n",
    "    new_cycles = GC.b_1\n",
    "    for cycle in new_cycles:\n",
    "        cycles.append(cycle)\n",
    "    E = []\n",
    "    for cycle in tqdm(cycles):\n",
    "        edges = []\n",
    "        for point in range(len(cycle)-1):\n",
    "            node = cycle[point]\n",
    "            next_node = cycle[(point+1)]\n",
    "            edge = (min(node,next_node),max(node,next_node))\n",
    "            edges.append(edge)\n",
    "        E.append(edges)\n",
    "    print(E)\n",
    "    for edge in E:\n",
    "\n",
    "        problem += pulp.lpSum(x[i] for i in edge) >= 1\n",
    "\n",
    "    # Solve the MIP problem\n",
    "    print(\"begin solving\")\n",
    "    problem.solve(pulp.PULP_CBC_CMD())\n",
    "    \n",
    "    # Print the optimal solution\n",
    "    print(\"Optimal Solution:\")\n",
    "    new_marked = []\n",
    "    for i in G.edges:\n",
    "        if pulp.value(x[i]) == 1:\n",
    "            n,m = i\n",
    "            new_marked.append([G.mapping[n],G.mapping[m]])\n",
    "    # Print the objective value\n",
    "    print(\"Objective Value:\", pulp.value(problem.objective))\n",
    "    return cycles,new_marked"
   ]
  },
  {
   "cell_type": "code",
   "execution_count": 38,
   "metadata": {},
   "outputs": [
    {
     "name": "stdout",
     "output_type": "stream",
     "text": [
      "['GLPK_CMD', 'PYGLPK', 'CPLEX_CMD', 'CPLEX_PY', 'GUROBI', 'GUROBI_CMD', 'MOSEK', 'XPRESS', 'XPRESS', 'XPRESS_PY', 'PULP_CBC_CMD', 'COIN_CMD', 'COINMP_DLL', 'CHOCO_CMD', 'MIPCL_CMD', 'SCIP_CMD', 'FSCIP_CMD', 'SCIP_PY', 'HiGHS', 'HiGHS_CMD', 'COPT', 'COPT_DLL', 'COPT_CMD']\n"
     ]
    }
   ],
   "source": [
    "import pulp as pl\n",
    "solver_list = pl.listSolvers(onlyAvailable=True)\n",
    "print(solver_list)"
   ]
  },
  {
   "cell_type": "code",
   "execution_count": 34,
   "metadata": {},
   "outputs": [
    {
     "name": "stderr",
     "output_type": "stream",
     "text": [
      "/home/mehdii/.local/lib/python3.11/site-packages/pulp/pulp.py:1316: UserWarning: Spaces are not permitted in the name. Converted to '_'\n",
      "  warnings.warn(\"Spaces are not permitted in the name. Converted to '_'\")\n",
      "100%|██████████| 9436/9436 [00:00<00:00, 16994.79it/s]\n"
     ]
    },
    {
     "name": "stdout",
     "output_type": "stream",
     "text": [
      "begin solving\n"
     ]
    },
    {
     "ename": "KeyboardInterrupt",
     "evalue": "",
     "output_type": "error",
     "traceback": [
      "\u001b[0;31m---------------------------------------------------------------------------\u001b[0m",
      "\u001b[0;31mKeyboardInterrupt\u001b[0m                         Traceback (most recent call last)",
      "Cell \u001b[0;32mIn[34], line 7\u001b[0m\n\u001b[1;32m      5\u001b[0m \u001b[38;5;28;01mwhile\u001b[39;00m GC\u001b[38;5;241m.\u001b[39mb_1 :\n\u001b[1;32m      6\u001b[0m     GC \u001b[38;5;241m=\u001b[39m Graph_Cycles(Blocked_edges,Marked_edges)\n\u001b[0;32m----> 7\u001b[0m     cycles,new_marked \u001b[38;5;241m=\u001b[39m \u001b[43mresolve_MIP\u001b[49m\u001b[43m(\u001b[49m\u001b[43mcycles\u001b[49m\u001b[43m,\u001b[49m\u001b[43mBlocked_edges\u001b[49m\u001b[43m,\u001b[49m\u001b[43mMarked_edges\u001b[49m\u001b[43m)\u001b[49m\n\u001b[1;32m      8\u001b[0m     Marked_edges \u001b[38;5;241m=\u001b[39m new_marked\n",
      "Cell \u001b[0;32mIn[28], line 31\u001b[0m, in \u001b[0;36mresolve_MIP\u001b[0;34m(cycles, Blocked_edges, Marked_edges)\u001b[0m\n\u001b[1;32m     29\u001b[0m \u001b[38;5;66;03m# Solve the MIP problem\u001b[39;00m\n\u001b[1;32m     30\u001b[0m \u001b[38;5;28mprint\u001b[39m(\u001b[38;5;124m\"\u001b[39m\u001b[38;5;124mbegin solving\u001b[39m\u001b[38;5;124m\"\u001b[39m)\n\u001b[0;32m---> 31\u001b[0m \u001b[43mproblem\u001b[49m\u001b[38;5;241;43m.\u001b[39;49m\u001b[43msolve\u001b[49m\u001b[43m(\u001b[49m\u001b[43mpulp\u001b[49m\u001b[38;5;241;43m.\u001b[39;49m\u001b[43mPULP_CBC_CMD\u001b[49m\u001b[43m(\u001b[49m\u001b[43m)\u001b[49m\u001b[43m)\u001b[49m\n\u001b[1;32m     33\u001b[0m \u001b[38;5;66;03m# Print the optimal solution\u001b[39;00m\n\u001b[1;32m     34\u001b[0m \u001b[38;5;28mprint\u001b[39m(\u001b[38;5;124m\"\u001b[39m\u001b[38;5;124mOptimal Solution:\u001b[39m\u001b[38;5;124m\"\u001b[39m)\n",
      "File \u001b[0;32m~/.local/lib/python3.11/site-packages/pulp/pulp.py:1883\u001b[0m, in \u001b[0;36mLpProblem.solve\u001b[0;34m(self, solver, **kwargs)\u001b[0m\n\u001b[1;32m   1881\u001b[0m \u001b[38;5;66;03m# time it\u001b[39;00m\n\u001b[1;32m   1882\u001b[0m \u001b[38;5;28mself\u001b[39m\u001b[38;5;241m.\u001b[39mstartClock()\n\u001b[0;32m-> 1883\u001b[0m status \u001b[38;5;241m=\u001b[39m \u001b[43msolver\u001b[49m\u001b[38;5;241;43m.\u001b[39;49m\u001b[43mactualSolve\u001b[49m\u001b[43m(\u001b[49m\u001b[38;5;28;43mself\u001b[39;49m\u001b[43m,\u001b[49m\u001b[43m \u001b[49m\u001b[38;5;241;43m*\u001b[39;49m\u001b[38;5;241;43m*\u001b[39;49m\u001b[43mkwargs\u001b[49m\u001b[43m)\u001b[49m\n\u001b[1;32m   1884\u001b[0m \u001b[38;5;28mself\u001b[39m\u001b[38;5;241m.\u001b[39mstopClock()\n\u001b[1;32m   1885\u001b[0m \u001b[38;5;28mself\u001b[39m\u001b[38;5;241m.\u001b[39mrestoreObjective(wasNone, dummyVar)\n",
      "File \u001b[0;32m~/.local/lib/python3.11/site-packages/pulp/apis/coin_api.py:112\u001b[0m, in \u001b[0;36mCOIN_CMD.actualSolve\u001b[0;34m(self, lp, **kwargs)\u001b[0m\n\u001b[1;32m    110\u001b[0m \u001b[38;5;28;01mdef\u001b[39;00m \u001b[38;5;21mactualSolve\u001b[39m(\u001b[38;5;28mself\u001b[39m, lp, \u001b[38;5;241m*\u001b[39m\u001b[38;5;241m*\u001b[39mkwargs):\n\u001b[1;32m    111\u001b[0m \u001b[38;5;250m    \u001b[39m\u001b[38;5;124;03m\"\"\"Solve a well formulated lp problem\"\"\"\u001b[39;00m\n\u001b[0;32m--> 112\u001b[0m     \u001b[38;5;28;01mreturn\u001b[39;00m \u001b[38;5;28;43mself\u001b[39;49m\u001b[38;5;241;43m.\u001b[39;49m\u001b[43msolve_CBC\u001b[49m\u001b[43m(\u001b[49m\u001b[43mlp\u001b[49m\u001b[43m,\u001b[49m\u001b[43m \u001b[49m\u001b[38;5;241;43m*\u001b[39;49m\u001b[38;5;241;43m*\u001b[39;49m\u001b[43mkwargs\u001b[49m\u001b[43m)\u001b[49m\n",
      "File \u001b[0;32m~/.local/lib/python3.11/site-packages/pulp/apis/coin_api.py:178\u001b[0m, in \u001b[0;36mCOIN_CMD.solve_CBC\u001b[0;34m(self, lp, use_mps)\u001b[0m\n\u001b[1;32m    176\u001b[0m \u001b[38;5;28;01melse\u001b[39;00m:\n\u001b[1;32m    177\u001b[0m     cbc \u001b[38;5;241m=\u001b[39m subprocess\u001b[38;5;241m.\u001b[39mPopen(args, stdout\u001b[38;5;241m=\u001b[39mpipe, stderr\u001b[38;5;241m=\u001b[39mpipe, stdin\u001b[38;5;241m=\u001b[39mdevnull)\n\u001b[0;32m--> 178\u001b[0m \u001b[38;5;28;01mif\u001b[39;00m \u001b[43mcbc\u001b[49m\u001b[38;5;241;43m.\u001b[39;49m\u001b[43mwait\u001b[49m\u001b[43m(\u001b[49m\u001b[43m)\u001b[49m \u001b[38;5;241m!=\u001b[39m \u001b[38;5;241m0\u001b[39m:\n\u001b[1;32m    179\u001b[0m     \u001b[38;5;28;01mif\u001b[39;00m pipe:\n\u001b[1;32m    180\u001b[0m         pipe\u001b[38;5;241m.\u001b[39mclose()\n",
      "File \u001b[0;32m/cvmfs/soft.computecanada.ca/easybuild/software/2020/avx2/Core/python/3.11.5/lib/python3.11/subprocess.py:1264\u001b[0m, in \u001b[0;36mPopen.wait\u001b[0;34m(self, timeout)\u001b[0m\n\u001b[1;32m   1262\u001b[0m     endtime \u001b[38;5;241m=\u001b[39m _time() \u001b[38;5;241m+\u001b[39m timeout\n\u001b[1;32m   1263\u001b[0m \u001b[38;5;28;01mtry\u001b[39;00m:\n\u001b[0;32m-> 1264\u001b[0m     \u001b[38;5;28;01mreturn\u001b[39;00m \u001b[38;5;28;43mself\u001b[39;49m\u001b[38;5;241;43m.\u001b[39;49m\u001b[43m_wait\u001b[49m\u001b[43m(\u001b[49m\u001b[43mtimeout\u001b[49m\u001b[38;5;241;43m=\u001b[39;49m\u001b[43mtimeout\u001b[49m\u001b[43m)\u001b[49m\n\u001b[1;32m   1265\u001b[0m \u001b[38;5;28;01mexcept\u001b[39;00m \u001b[38;5;167;01mKeyboardInterrupt\u001b[39;00m:\n\u001b[1;32m   1266\u001b[0m     \u001b[38;5;66;03m# https://bugs.python.org/issue25942\u001b[39;00m\n\u001b[1;32m   1267\u001b[0m     \u001b[38;5;66;03m# The first keyboard interrupt waits briefly for the child to\u001b[39;00m\n\u001b[1;32m   1268\u001b[0m     \u001b[38;5;66;03m# exit under the common assumption that it also received the ^C\u001b[39;00m\n\u001b[1;32m   1269\u001b[0m     \u001b[38;5;66;03m# generated SIGINT and will exit rapidly.\u001b[39;00m\n\u001b[1;32m   1270\u001b[0m     \u001b[38;5;28;01mif\u001b[39;00m timeout \u001b[38;5;129;01mis\u001b[39;00m \u001b[38;5;129;01mnot\u001b[39;00m \u001b[38;5;28;01mNone\u001b[39;00m:\n",
      "File \u001b[0;32m/cvmfs/soft.computecanada.ca/easybuild/software/2020/avx2/Core/python/3.11.5/lib/python3.11/subprocess.py:2046\u001b[0m, in \u001b[0;36mPopen._wait\u001b[0;34m(self, timeout)\u001b[0m\n\u001b[1;32m   2044\u001b[0m \u001b[38;5;28;01mif\u001b[39;00m \u001b[38;5;28mself\u001b[39m\u001b[38;5;241m.\u001b[39mreturncode \u001b[38;5;129;01mis\u001b[39;00m \u001b[38;5;129;01mnot\u001b[39;00m \u001b[38;5;28;01mNone\u001b[39;00m:\n\u001b[1;32m   2045\u001b[0m     \u001b[38;5;28;01mbreak\u001b[39;00m  \u001b[38;5;66;03m# Another thread waited.\u001b[39;00m\n\u001b[0;32m-> 2046\u001b[0m (pid, sts) \u001b[38;5;241m=\u001b[39m \u001b[38;5;28;43mself\u001b[39;49m\u001b[38;5;241;43m.\u001b[39;49m\u001b[43m_try_wait\u001b[49m\u001b[43m(\u001b[49m\u001b[38;5;241;43m0\u001b[39;49m\u001b[43m)\u001b[49m\n\u001b[1;32m   2047\u001b[0m \u001b[38;5;66;03m# Check the pid and loop as waitpid has been known to\u001b[39;00m\n\u001b[1;32m   2048\u001b[0m \u001b[38;5;66;03m# return 0 even without WNOHANG in odd situations.\u001b[39;00m\n\u001b[1;32m   2049\u001b[0m \u001b[38;5;66;03m# http://bugs.python.org/issue14396.\u001b[39;00m\n\u001b[1;32m   2050\u001b[0m \u001b[38;5;28;01mif\u001b[39;00m pid \u001b[38;5;241m==\u001b[39m \u001b[38;5;28mself\u001b[39m\u001b[38;5;241m.\u001b[39mpid:\n",
      "File \u001b[0;32m/cvmfs/soft.computecanada.ca/easybuild/software/2020/avx2/Core/python/3.11.5/lib/python3.11/subprocess.py:2004\u001b[0m, in \u001b[0;36mPopen._try_wait\u001b[0;34m(self, wait_flags)\u001b[0m\n\u001b[1;32m   2002\u001b[0m \u001b[38;5;250m\u001b[39m\u001b[38;5;124;03m\"\"\"All callers to this function MUST hold self._waitpid_lock.\"\"\"\u001b[39;00m\n\u001b[1;32m   2003\u001b[0m \u001b[38;5;28;01mtry\u001b[39;00m:\n\u001b[0;32m-> 2004\u001b[0m     (pid, sts) \u001b[38;5;241m=\u001b[39m os\u001b[38;5;241m.\u001b[39mwaitpid(\u001b[38;5;28mself\u001b[39m\u001b[38;5;241m.\u001b[39mpid, wait_flags)\n\u001b[1;32m   2005\u001b[0m \u001b[38;5;28;01mexcept\u001b[39;00m \u001b[38;5;167;01mChildProcessError\u001b[39;00m:\n\u001b[1;32m   2006\u001b[0m     \u001b[38;5;66;03m# This happens if SIGCLD is set to be ignored or waiting\u001b[39;00m\n\u001b[1;32m   2007\u001b[0m     \u001b[38;5;66;03m# for child processes has otherwise been disabled for our\u001b[39;00m\n\u001b[1;32m   2008\u001b[0m     \u001b[38;5;66;03m# process.  This child is dead, we can't get the status.\u001b[39;00m\n\u001b[1;32m   2009\u001b[0m     pid \u001b[38;5;241m=\u001b[39m \u001b[38;5;28mself\u001b[39m\u001b[38;5;241m.\u001b[39mpid\n",
      "\u001b[0;31mKeyboardInterrupt\u001b[0m: "
     ]
    }
   ],
   "source": [
    "Blocked_edges = Edges\n",
    "Marked_edges = [[(-2, -6, 3), (-2, -6, 4)], [(1, -6, 4), (1, -5, 4)], [(-1, 5, 1), (-1, 6, 1)], [(-5, -3, 0), (-5, -3, 1)], [(-6, 2, 1), (-5, 2, 1)], [(-5, -2, 0), (-5, -2, 1)], [(1, 5, 0), (1, 5, 1)], [(2, -6, 1), (2, -5, 1)], [(2, -1, -1), (2, 0, -1)], [(-5, 3, 0), (-5, 3, 1)], [(-6, -1, 3), (-6, -1, 4)], [(2, 5, 3), (2, 5, 4)], [(-3, 5, 0), (-3, 5, 1)], [(-1, -6, 0), (-1, -6, 1)], [(-1, 5, 3), (-1, 6, 3)], [(-5, -3, 3), (-5, -3, 4)], [(0, -6, 0), (0, -6, 1)], [(5, 4, 0), (5, 4, 1)], [(-3, 5, 3), (-3, 5, 4)], [(0, -6, 3), (0, -6, 4)], [(5, -2, -1), (6, -2, -1)], [(-5, -1, 0), (-5, -1, 1)], [(5, 3, 3), (5, 3, 4)], [(5, -2, 1), (6, -2, 1)], [(5, 4, 3), (5, 4, 4)], [(3, 5, 3), (3, 5, 4)], [(4, -4, 0), (4, -4, 1)], [(2, 4, -1), (2, 5, -1)], [(-5, -3, 0), (-4, -3, 0)], [(-5, -2, 3), (-5, -2, 4)], [(-6, 3, 3), (-5, 3, 3)], [(6, 0, 3), (6, 0, 4)], [(-6, 0, 4), (-6, 0, 5)], [(-5, 4, 3), (-5, 4, 4)], [(4, 3, 3), (5, 3, 3)], [(-6, 7, 5), (-5, 7, 5)], [(3, -5, 0), (3, -5, 1)], [(-5, 1, 0), (-5, 1, 1)], [(6, -1, 0), (6, -1, 1)], [(5, -1, 2), (6, -1, 2)], [(5, -5, 3), (5, -4, 3)], [(-2, 6, 0), (-2, 6, 1)], [(-6, 3, 2), (-5, 3, 2)], [(-6, 0, 0), (-6, 0, 1)], [(3, 7, 3), (3, 7, 4)], [(5, -3, 3), (6, -3, 3)], [(1, 5, 4), (1, 6, 4)], [(5, 2, 1), (6, 2, 1)], [(-3, -5, 0), (-3, -5, 1)], [(0, 5, 2), (0, 5, 3)], [(-2, -6, 1), (-2, -5, 1)], [(-4, 4, 0), (-4, 4, 1)], [(5, -2, 3), (6, -2, 3)], [(5, 3, 1), (6, 3, 1)], [(-6, 2, 3), (-6, 2, 4)], [(-5, 4, 1), (-5, 4, 2)], [(-2, -7, 3), (-2, -7, 4)], [(6, 1, 3), (6, 1, 4)], [(-7, 2, 3), (-7, 2, 4)], [(5, -1, 4), (6, -1, 4)], [(-6, 0, 1), (-5, 0, 1)], [(7, -2, 0), (7, -1, 0)], [(2, 5, 0), (2, 5, 1)], [(4, 4, 4), (4, 5, 4)], [(6, 2, 3), (6, 2, 4)], [(4, 4, 4), (5, 4, 4)], [(4, -5, -1), (4, -5, 0)], [(1, -6, 0), (1, -5, 0)], [(-3, -5, 3), (-3, -5, 4)], [(-5, 3, 0), (-5, 4, 0)], [(-1, 4, 3), (0, 4, 3)], [(0, -7, 0), (0, -7, 1)], [(-5, 3, 1), (-4, 3, 1)], [(6, 0, 1), (7, 0, 1)], [(3, -4, 0), (3, -4, 1)], [(-2, 5, 0), (-2, 5, 1)], [(1, -6, 2), (1, -5, 2)], [(5, -3, 0), (5, -3, 1)], [(-4, -6, -1), (-3, -6, -1)], [(0, 6, 0), (0, 6, 1)], [(6, 1, 0), (6, 1, 1)], [(-3, -7, 1), (-2, -7, 1)], [(2, -6, 3), (2, -5, 3)], [(-7, 6, 0), (-6, 6, 0)], [(3, 3, 4), (3, 3, 5)], [(4, -5, 3), (4, -4, 3)], [(4, -2, 1), (4, -2, 2)], [(0, 6, 3), (0, 6, 4)], [(-4, -5, 4), (-4, -5, 5)], [(-1, -6, 2), (-1, -5, 2)], [(-4, 4, 4), (-4, 5, 4)], [(5, 1, 4), (6, 1, 4)], [(2, 4, 2), (3, 4, 2)], [(3, 1, 2), (4, 1, 2)], [(3, -5, 3), (3, -5, 4)], [(-5, 1, 3), (-5, 1, 4)], [(3, 5, 0), (3, 5, 1)], [(-4, -4, 0), (-4, -4, 1)], [(4, 4, 0), (4, 4, 1)], [(5, -4, 3), (5, -4, 4)], [(0, -7, 3), (0, -7, 4)], [(7, 7, 1), (7, 7, 2)]]\n",
    "cycles = cycles\n",
    "GC = Graph_Cycles(Blocked_edges,Marked_edges)\n",
    "while GC.b_1 :\n",
    "    GC = Graph_Cycles(Blocked_edges,Marked_edges)\n",
    "    cycles,new_marked = resolve_MIP(cycles,Blocked_edges,Marked_edges)\n",
    "    Marked_edges = new_marked"
   ]
  },
  {
   "cell_type": "code",
   "execution_count": 19,
   "metadata": {},
   "outputs": [
    {
     "data": {
      "text/plain": [
       "(1.0, 5.0)"
      ]
     },
     "execution_count": 19,
     "metadata": {},
     "output_type": "execute_result"
    },
    {
     "data": {
      "application/vnd.jupyter.widget-view+json": {
       "model_id": "d58328db8294466e975f22cfa1ba08f8",
       "version_major": 2,
       "version_minor": 0
      },
      "image/png": "[encoded data removed]",
      "text/html": [
       "\n",
       "            <div style=\"display: inline-block;\">\n",
       "                <div class=\"jupyter-widgets widget-label\" style=\"text-align: center;\">\n",
       "                    Figure\n",
       "                </div>\n",
       "                <img src='data:image/png;base64,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' width=640.0/>\n",
       "            </div>\n",
       "        "
      ],
      "text/plain": [
       "Canvas(toolbar=Toolbar(toolitems=[('Home', 'Reset original view', 'home', 'home'), ('Back', 'Back to previous …"
      ]
     },
     "metadata": {},
     "output_type": "display_data"
    }
   ],
   "source": [
    "fig = plt.figure()\n",
    "ax = fig.add_subplot(111, projection='3d')\n",
    "ax.set_aspect('equal')\n",
    "X,Y,Z = [],[],[]\n",
    "cpt1 = np.random.randint(0,len(GC.dict_blocked_edges))\n",
    "blocked_edge = list(GC.dict_blocked_edges.keys())[cpt1]\n",
    "cycle_blocked = GC.dict_blocked_edges[blocked_edge]\n",
    "cycle = cycle_blocked[np.random.randint(0,len(cycle_blocked))]\n",
    "# for cycle in GC.dict_blocked_edges[(62, 63)]:\n",
    "A,B,C = [],[],[]\n",
    "for point in cycle:\n",
    "    x, y, z = G.mapping[point]\n",
    "    A.append(x)\n",
    "    B.append(y)\n",
    "    C.append(z)\n",
    "    ##########\n",
    "    X.append(x)\n",
    "    Y.append(y)\n",
    "    Z.append(z)\n",
    "\n",
    "ax.plot(A, B, C,marker = \"o\") \n",
    "\n",
    "Blockii_edges = []\n",
    "for i in range(len(cycle)):\n",
    "    edge = min(cycle[i],cycle[(i+1)%len(cycle)]),max(cycle[i],cycle[(i+1)%len(cycle)])\n",
    "    if edge in G.blocked_edges:\n",
    "        Blockii_edges.append(edge)\n",
    "    \n",
    "for edge in Blockii_edges:\n",
    "    x,y,z = G.mapping[edge[0]]\n",
    "    x1,y1,z1 = G.mapping[edge[1]]\n",
    "    ax.plot([x,x1],[y,y1],[z,z1],color=\"black\")\n",
    "\n",
    "\n",
    "# origin = 180\n",
    "# x,y,z = G.mapping[origin]\n",
    "# ax.plot(x,y,z,color=\"black\",marker=\"x\")\n",
    "\n",
    "X,Y,Z = np.array(X),np.array(Y),np.array(Z)\n",
    "max_range = np.array([X.max()-X.min(), Y.max()-Y.min(), Z.max()-Z.min()]).max() / 2.0 \n",
    "\n",
    "mid_x = (X.max()+X.min()) * 0.5\n",
    "mid_y = (Y.max()+Y.min()) * 0.5\n",
    "mid_z = (Z.max()+Z.min()) * 0.5\n",
    "ax.set_xlim(mid_x - max_range, mid_x + max_range)\n",
    "ax.set_ylim(mid_y - max_range, mid_y + max_range)\n",
    "ax.set_zlim(mid_z - max_range, mid_z + max_range)"
   ]
  },
  {
   "cell_type": "markdown",
   "metadata": {},
   "source": [
    "## Resolving the MIP problem"
   ]
  },
  {
   "cell_type": "code",
   "execution_count": 9,
   "metadata": {},
   "outputs": [],
   "source": [
    "import pulp\n",
    "\n",
    "# Create a MIP problem\n",
    "def resolve_MIP(cycles,Blocked_edges,Marked_edges):\n",
    "    problem = pulp.LpProblem(\"Graph Problem\", pulp.LpMinimize)\n",
    "    GC = Graph_Cycles(Blocked_edges,Marked_edges)\n",
    "    G = GraphGrid3D(Blocked_edges,[])\n",
    "    # Define the decision variables\n",
    "    x = pulp.LpVariable.dicts(\"x\", G.edges, cat=pulp.LpBinary)\n",
    "\n",
    "    # Define the objective function\n",
    "    problem += pulp.lpSum([x[i] for i in G.edges])\n",
    "\n",
    "    # detect a constraints\n",
    "    cycle = find_cycle_impair(GC)\n",
    "    cycles.append(cycle)\n",
    "    E = []\n",
    "    for cycle in cycles:\n",
    "        edges = []\n",
    "        for point in range(len(cycle)-1):\n",
    "            node = cycle[point]\n",
    "            next_node = cycle[(point+1)]\n",
    "            edge = (min(node,next_node),max(node,next_node))\n",
    "            edges.append(edge)\n",
    "        E.append(edges)\n",
    "\n",
    "    for edge in E:\n",
    "\n",
    "        problem += pulp.lpSum(x[i] for i in edge) >= 1\n",
    "\n",
    "    # Solve the MIP problem\n",
    "    problem.solve(pulp.PULP_CBC_CMD())\n",
    "    \n",
    "    # Print the optimal solution\n",
    "    print(\"Optimal Solution:\")\n",
    "    new_marked = []\n",
    "    for i in G.edges:\n",
    "        if pulp.value(x[i]) == 1:\n",
    "            print(i)\n",
    "            n,m = i\n",
    "            new_marked.append([G.mapping[n],G.mapping[m]])\n",
    "    # Print the objective value\n",
    "    print(\"Objective Value:\", pulp.value(problem.objective))\n",
    "    return cycles,new_marked\n",
    "\n"
   ]
  },
  {
   "cell_type": "code",
   "execution_count": 53,
   "metadata": {},
   "outputs": [
    {
     "name": "stderr",
     "output_type": "stream",
     "text": [
      "100%|██████████| 749/749 [00:00<00:00, 2284.14it/s]\n"
     ]
    },
    {
     "data": {
      "text/plain": [
       "25"
      ]
     },
     "execution_count": 53,
     "metadata": {},
     "output_type": "execute_result"
    }
   ],
   "source": [
    "GC = Graph_Cycles(Edges,[])\n",
    "len(GC.dict_blocked_edges)"
   ]
  },
  {
   "cell_type": "code",
   "execution_count": 54,
   "metadata": {},
   "outputs": [
    {
     "name": "stderr",
     "output_type": "stream",
     "text": [
      "100%|██████████| 739/739 [00:00<00:00, 1968.42it/s]\n",
      "/home/mehdii/.local/lib/python3.11/site-packages/pulp/pulp.py:1316: UserWarning: Spaces are not permitted in the name. Converted to '_'\n",
      "  warnings.warn(\"Spaces are not permitted in the name. Converted to '_'\")\n",
      "100%|██████████| 739/739 [00:00<00:00, 2016.71it/s]\n"
     ]
    },
    {
     "name": "stdout",
     "output_type": "stream",
     "text": [
      "Optimal Solution:\n",
      "(219, 225)\n",
      "Objective Value: 1.0\n"
     ]
    },
    {
     "name": "stderr",
     "output_type": "stream",
     "text": [
      "100%|██████████| 748/748 [00:00<00:00, 2156.64it/s]\n",
      "100%|██████████| 748/748 [00:00<00:00, 2162.58it/s]\n"
     ]
    },
    {
     "name": "stdout",
     "output_type": "stream",
     "text": [
      "Optimal Solution:\n",
      "(278, 279)\n",
      "Objective Value: 1.0\n"
     ]
    },
    {
     "name": "stderr",
     "output_type": "stream",
     "text": [
      "100%|██████████| 748/748 [00:00<00:00, 2258.44it/s]\n",
      "100%|██████████| 748/748 [00:00<00:00, 2264.25it/s]\n"
     ]
    },
    {
     "name": "stdout",
     "output_type": "stream",
     "text": [
      "Optimal Solution:\n",
      "(227, 269)\n",
      "Objective Value: 1.0\n"
     ]
    },
    {
     "name": "stderr",
     "output_type": "stream",
     "text": [
      "100%|██████████| 748/748 [00:00<00:00, 1540.21it/s]\n",
      "100%|██████████| 748/748 [00:00<00:00, 1534.99it/s]\n"
     ]
    },
    {
     "name": "stdout",
     "output_type": "stream",
     "text": [
      "Optimal Solution:\n",
      "(197, 203)\n",
      "(219, 220)\n",
      "Objective Value: 2.0\n"
     ]
    },
    {
     "name": "stderr",
     "output_type": "stream",
     "text": [
      "100%|██████████| 747/747 [00:00<00:00, 1998.41it/s]\n",
      "100%|██████████| 747/747 [00:00<00:00, 1993.19it/s]\n"
     ]
    },
    {
     "name": "stdout",
     "output_type": "stream",
     "text": [
      "Optimal Solution:\n",
      "(262, 263)\n",
      "(197, 203)\n",
      "Objective Value: 2.0\n"
     ]
    },
    {
     "name": "stderr",
     "output_type": "stream",
     "text": [
      "100%|██████████| 747/747 [00:00<00:00, 1830.77it/s]\n",
      "100%|██████████| 747/747 [00:00<00:00, 1823.72it/s]\n"
     ]
    },
    {
     "name": "stdout",
     "output_type": "stream",
     "text": [
      "Optimal Solution:\n",
      "(141, 142)\n",
      "(58, 100)\n",
      "Objective Value: 2.0\n"
     ]
    },
    {
     "name": "stderr",
     "output_type": "stream",
     "text": [
      "100%|██████████| 747/747 [00:00<00:00, 1905.79it/s]\n",
      "100%|██████████| 747/747 [00:00<00:00, 1913.12it/s]\n"
     ]
    },
    {
     "name": "stdout",
     "output_type": "stream",
     "text": [
      "Optimal Solution:\n",
      "(141, 142)\n",
      "(250, 292)\n",
      "Objective Value: 2.0\n"
     ]
    },
    {
     "name": "stderr",
     "output_type": "stream",
     "text": [
      "100%|██████████| 747/747 [00:00<00:00, 2638.60it/s]\n",
      "100%|██████████| 747/747 [00:00<00:00, 2569.56it/s]\n"
     ]
    },
    {
     "name": "stdout",
     "output_type": "stream",
     "text": [
      "Optimal Solution:\n",
      "(139, 181)\n",
      "(141, 142)\n",
      "(244, 250)\n",
      "Objective Value: 3.0\n"
     ]
    },
    {
     "name": "stderr",
     "output_type": "stream",
     "text": [
      "100%|██████████| 746/746 [00:00<00:00, 1838.63it/s]\n",
      "100%|██████████| 746/746 [00:00<00:00, 1831.27it/s]\n"
     ]
    },
    {
     "name": "stdout",
     "output_type": "stream",
     "text": [
      "Optimal Solution:\n",
      "(290, 291)\n",
      "(118, 160)\n",
      "(99, 141)\n",
      "Objective Value: 3.0\n"
     ]
    },
    {
     "name": "stderr",
     "output_type": "stream",
     "text": [
      "100%|██████████| 746/746 [00:00<00:00, 3101.22it/s]\n",
      "100%|██████████| 746/746 [00:00<00:00, 3102.22it/s]\n"
     ]
    },
    {
     "name": "stdout",
     "output_type": "stream",
     "text": [
      "Optimal Solution:\n",
      "(141, 142)\n",
      "(118, 160)\n",
      "(244, 250)\n",
      "Objective Value: 3.0\n"
     ]
    },
    {
     "name": "stderr",
     "output_type": "stream",
     "text": [
      "100%|██████████| 746/746 [00:00<00:00, 1992.89it/s]\n",
      "100%|██████████| 746/746 [00:00<00:00, 1984.55it/s]\n"
     ]
    },
    {
     "name": "stdout",
     "output_type": "stream",
     "text": [
      "Optimal Solution:\n",
      "(279, 280)\n",
      "(98, 99)\n",
      "(59, 65)\n",
      "Objective Value: 3.0\n"
     ]
    },
    {
     "name": "stderr",
     "output_type": "stream",
     "text": [
      "100%|██████████| 746/746 [00:00<00:00, 3681.19it/s]\n",
      "100%|██████████| 746/746 [00:00<00:00, 3597.81it/s]\n"
     ]
    },
    {
     "name": "stdout",
     "output_type": "stream",
     "text": [
      "Optimal Solution:\n",
      "(141, 142)\n",
      "(112, 118)\n",
      "(244, 250)\n",
      "Objective Value: 3.0\n"
     ]
    },
    {
     "name": "stderr",
     "output_type": "stream",
     "text": [
      "100%|██████████| 746/746 [00:00<00:00, 2005.82it/s]\n",
      "100%|██████████| 746/746 [00:00<00:00, 2019.21it/s]\n"
     ]
    },
    {
     "name": "stdout",
     "output_type": "stream",
     "text": [
      "Optimal Solution:\n",
      "(192, 234)\n",
      "(141, 142)\n",
      "(175, 217)\n",
      "(244, 250)\n",
      "Objective Value: 4.0\n"
     ]
    },
    {
     "name": "stderr",
     "output_type": "stream",
     "text": [
      "100%|██████████| 745/745 [00:00<00:00, 1921.04it/s]\n",
      "100%|██████████| 745/745 [00:00<00:00, 1929.16it/s]\n"
     ]
    },
    {
     "name": "stdout",
     "output_type": "stream",
     "text": [
      "Optimal Solution:\n",
      "(141, 142)\n",
      "(244, 250)\n",
      "(238, 239)\n",
      "(277, 278)\n",
      "Objective Value: 4.0\n"
     ]
    },
    {
     "name": "stderr",
     "output_type": "stream",
     "text": [
      "100%|██████████| 745/745 [00:00<00:00, 2221.00it/s]\n",
      "100%|██████████| 745/745 [00:00<00:00, 2213.75it/s]\n"
     ]
    },
    {
     "name": "stdout",
     "output_type": "stream",
     "text": [
      "Optimal Solution:\n",
      "(192, 234)\n",
      "(141, 142)\n",
      "(220, 262)\n",
      "(244, 250)\n",
      "Objective Value: 4.0\n"
     ]
    },
    {
     "name": "stderr",
     "output_type": "stream",
     "text": [
      "100%|██████████| 745/745 [00:00<00:00, 2723.81it/s]\n",
      "100%|██████████| 745/745 [00:00<00:00, 2700.61it/s]\n"
     ]
    },
    {
     "name": "stdout",
     "output_type": "stream",
     "text": [
      "Optimal Solution:\n",
      "(64, 106)\n",
      "(282, 283)\n",
      "(244, 250)\n",
      "(184, 185)\n",
      "Objective Value: 4.0\n"
     ]
    },
    {
     "name": "stderr",
     "output_type": "stream",
     "text": [
      "100%|██████████| 745/745 [00:00<00:00, 2165.33it/s]\n",
      "100%|██████████| 745/745 [00:00<00:00, 2154.94it/s]\n"
     ]
    },
    {
     "name": "stdout",
     "output_type": "stream",
     "text": [
      "Optimal Solution:\n",
      "(65, 71)\n",
      "(282, 283)\n",
      "(244, 250)\n",
      "(184, 185)\n",
      "Objective Value: 4.0\n"
     ]
    },
    {
     "name": "stderr",
     "output_type": "stream",
     "text": [
      "100%|██████████| 745/745 [00:00<00:00, 2155.63it/s]\n",
      "100%|██████████| 745/745 [00:00<00:00, 2158.07it/s]\n"
     ]
    },
    {
     "name": "stdout",
     "output_type": "stream",
     "text": [
      "Optimal Solution:\n",
      "(18, 19)\n",
      "(282, 283)\n",
      "(244, 245)\n",
      "(184, 185)\n",
      "Objective Value: 4.0\n"
     ]
    },
    {
     "name": "stderr",
     "output_type": "stream",
     "text": [
      "100%|██████████| 745/745 [00:00<00:00, 1827.35it/s]\n",
      "100%|██████████| 745/745 [00:00<00:00, 1834.25it/s]\n"
     ]
    },
    {
     "name": "stdout",
     "output_type": "stream",
     "text": [
      "Optimal Solution:\n",
      "(98, 104)\n",
      "(112, 118)\n",
      "(19, 20)\n",
      "(230, 231)\n",
      "Objective Value: 4.0\n"
     ]
    },
    {
     "name": "stderr",
     "output_type": "stream",
     "text": [
      "100%|██████████| 745/745 [00:00<00:00, 2970.09it/s]\n",
      "100%|██████████| 745/745 [00:00<00:00, 2935.64it/s]\n"
     ]
    },
    {
     "name": "stdout",
     "output_type": "stream",
     "text": [
      "Optimal Solution:\n",
      "(279, 280)\n",
      "(133, 175)\n",
      "(19, 20)\n",
      "(277, 278)\n",
      "(184, 185)\n",
      "Objective Value: 5.0\n"
     ]
    },
    {
     "name": "stderr",
     "output_type": "stream",
     "text": [
      "100%|██████████| 744/744 [00:00<00:00, 2214.03it/s]\n",
      "100%|██████████| 744/744 [00:00<00:00, 2220.55it/s]\n"
     ]
    },
    {
     "name": "stdout",
     "output_type": "stream",
     "text": [
      "Optimal Solution:\n",
      "(141, 142)\n",
      "(19, 20)\n",
      "(244, 250)\n",
      "(277, 278)\n",
      "(184, 185)\n",
      "Objective Value: 5.0\n"
     ]
    },
    {
     "name": "stderr",
     "output_type": "stream",
     "text": [
      "100%|██████████| 744/744 [00:00<00:00, 2153.39it/s]\n",
      "100%|██████████| 744/744 [00:00<00:00, 2150.76it/s]\n"
     ]
    },
    {
     "name": "stdout",
     "output_type": "stream",
     "text": [
      "Optimal Solution:\n",
      "(49, 55)\n",
      "(111, 153)\n",
      "(277, 278)\n",
      "(100, 106)\n",
      "(184, 185)\n",
      "Objective Value: 5.0\n"
     ]
    },
    {
     "name": "stderr",
     "output_type": "stream",
     "text": [
      "100%|██████████| 744/744 [00:00<00:00, 2474.22it/s]\n",
      "100%|██████████| 744/744 [00:00<00:00, 2483.13it/s]\n"
     ]
    },
    {
     "name": "stdout",
     "output_type": "stream",
     "text": [
      "Optimal Solution:\n",
      "(18, 19)\n",
      "(290, 291)\n",
      "(111, 153)\n",
      "(277, 278)\n",
      "(184, 185)\n",
      "Objective Value: 5.0\n"
     ]
    },
    {
     "name": "stderr",
     "output_type": "stream",
     "text": [
      "100%|██████████| 744/744 [00:00<00:00, 2437.31it/s]\n",
      "100%|██████████| 744/744 [00:00<00:00, 2435.67it/s]\n"
     ]
    },
    {
     "name": "stdout",
     "output_type": "stream",
     "text": [
      "Optimal Solution:\n",
      "(55, 97)\n",
      "(280, 281)\n",
      "(277, 278)\n",
      "(184, 185)\n",
      "(91, 133)\n",
      "Objective Value: 5.0\n"
     ]
    },
    {
     "name": "stderr",
     "output_type": "stream",
     "text": [
      "100%|██████████| 744/744 [00:00<00:00, 2370.98it/s]\n",
      "100%|██████████| 744/744 [00:00<00:00, 2367.86it/s]\n"
     ]
    },
    {
     "name": "stdout",
     "output_type": "stream",
     "text": [
      "Optimal Solution:\n",
      "(280, 281)\n",
      "(277, 278)\n",
      "(184, 185)\n",
      "(133, 139)\n",
      "(14, 20)\n",
      "Objective Value: 5.0\n"
     ]
    },
    {
     "name": "stderr",
     "output_type": "stream",
     "text": [
      "100%|██████████| 744/744 [00:00<00:00, 1711.38it/s]\n",
      "100%|██████████| 744/744 [00:00<00:00, 1705.69it/s]\n"
     ]
    },
    {
     "name": "stdout",
     "output_type": "stream",
     "text": [
      "Optimal Solution:\n",
      "(266, 272)\n",
      "(141, 142)\n",
      "(112, 118)\n",
      "(236, 278)\n",
      "(133, 139)\n",
      "(14, 56)\n",
      "Objective Value: 6.0\n"
     ]
    },
    {
     "name": "stderr",
     "output_type": "stream",
     "text": [
      "100%|██████████| 743/743 [00:00<00:00, 2141.17it/s]\n",
      "100%|██████████| 743/743 [00:00<00:00, 2134.92it/s]\n"
     ]
    },
    {
     "name": "stdout",
     "output_type": "stream",
     "text": [
      "Optimal Solution:\n",
      "(279, 280)\n",
      "(260, 266)\n",
      "(12, 54)\n",
      "(277, 278)\n",
      "(184, 185)\n",
      "(133, 139)\n",
      "Objective Value: 6.0\n"
     ]
    },
    {
     "name": "stderr",
     "output_type": "stream",
     "text": [
      "100%|██████████| 743/743 [00:00<00:00, 1699.81it/s]\n",
      "100%|██████████| 743/743 [00:00<00:00, 1691.54it/s]\n"
     ]
    },
    {
     "name": "stdout",
     "output_type": "stream",
     "text": [
      "Optimal Solution:\n",
      "(279, 280)\n",
      "(190, 232)\n",
      "(198, 199)\n",
      "(12, 54)\n",
      "(277, 278)\n",
      "(184, 185)\n",
      "Objective Value: 6.0\n"
     ]
    },
    {
     "name": "stderr",
     "output_type": "stream",
     "text": [
      "100%|██████████| 743/743 [00:00<00:00, 1891.91it/s]\n",
      "100%|██████████| 743/743 [00:00<00:00, 1893.08it/s]\n"
     ]
    },
    {
     "name": "stdout",
     "output_type": "stream",
     "text": [
      "Optimal Solution:\n",
      "(279, 280)\n",
      "(141, 142)\n",
      "(277, 278)\n",
      "(184, 185)\n",
      "(133, 139)\n",
      "(14, 56)\n",
      "Objective Value: 6.0\n"
     ]
    },
    {
     "name": "stderr",
     "output_type": "stream",
     "text": [
      "100%|██████████| 743/743 [00:00<00:00, 1645.82it/s]\n",
      "100%|██████████| 743/743 [00:01<00:00, 480.99it/s]\n"
     ]
    },
    {
     "name": "stdout",
     "output_type": "stream",
     "text": [
      "Optimal Solution:\n",
      "(279, 280)\n",
      "(12, 54)\n",
      "(277, 278)\n",
      "(33, 39)\n",
      "(184, 185)\n",
      "(133, 139)\n",
      "Objective Value: 6.0\n"
     ]
    },
    {
     "name": "stderr",
     "output_type": "stream",
     "text": [
      "100%|██████████| 743/743 [00:00<00:00, 1734.27it/s]\n",
      "100%|██████████| 743/743 [00:00<00:00, 1741.13it/s]\n"
     ]
    },
    {
     "name": "stdout",
     "output_type": "stream",
     "text": [
      "Optimal Solution:\n",
      "(49, 55)\n",
      "(190, 232)\n",
      "(198, 199)\n",
      "(111, 153)\n",
      "(277, 278)\n",
      "(184, 185)\n",
      "Objective Value: 6.0\n"
     ]
    },
    {
     "name": "stderr",
     "output_type": "stream",
     "text": [
      "100%|██████████| 743/743 [00:00<00:00, 1714.65it/s]\n",
      "100%|██████████| 743/743 [00:00<00:00, 1695.81it/s]\n"
     ]
    },
    {
     "name": "stdout",
     "output_type": "stream",
     "text": [
      "Optimal Solution:\n",
      "(198, 199)\n",
      "(12, 54)\n",
      "(244, 250)\n",
      "(185, 191)\n",
      "(277, 278)\n",
      "(184, 185)\n",
      "Objective Value: 6.0\n"
     ]
    },
    {
     "name": "stderr",
     "output_type": "stream",
     "text": [
      "100%|██████████| 743/743 [00:00<00:00, 1787.31it/s]\n",
      "100%|██████████| 743/743 [00:00<00:00, 1781.09it/s]\n"
     ]
    },
    {
     "name": "stdout",
     "output_type": "stream",
     "text": [
      "Optimal Solution:\n",
      "(279, 280)\n",
      "(12, 54)\n",
      "(38, 39)\n",
      "(277, 278)\n",
      "(184, 185)\n",
      "(133, 139)\n",
      "Objective Value: 6.0\n"
     ]
    },
    {
     "name": "stderr",
     "output_type": "stream",
     "text": [
      "100%|██████████| 743/743 [00:00<00:00, 1457.88it/s]\n",
      "100%|██████████| 743/743 [00:00<00:00, 1775.95it/s]\n"
     ]
    },
    {
     "name": "stdout",
     "output_type": "stream",
     "text": [
      "Optimal Solution:\n",
      "(49, 55)\n",
      "(190, 232)\n",
      "(198, 199)\n",
      "(112, 118)\n",
      "(277, 278)\n",
      "(184, 185)\n",
      "Objective Value: 6.0\n"
     ]
    },
    {
     "name": "stderr",
     "output_type": "stream",
     "text": [
      "100%|██████████| 743/743 [00:00<00:00, 2098.22it/s]\n",
      "100%|██████████| 743/743 [00:00<00:00, 2100.36it/s]\n"
     ]
    },
    {
     "name": "stdout",
     "output_type": "stream",
     "text": [
      "Optimal Solution:\n",
      "(140, 141)\n",
      "(283, 289)\n",
      "(12, 54)\n",
      "(244, 245)\n",
      "(277, 278)\n",
      "(184, 185)\n",
      "Objective Value: 6.0\n"
     ]
    },
    {
     "name": "stderr",
     "output_type": "stream",
     "text": [
      "100%|██████████| 743/743 [00:00<00:00, 2170.79it/s]\n",
      "100%|██████████| 743/743 [00:00<00:00, 2156.23it/s]\n"
     ]
    },
    {
     "name": "stdout",
     "output_type": "stream",
     "text": [
      "Optimal Solution:\n",
      "(185, 227)\n",
      "(283, 289)\n",
      "(12, 54)\n",
      "(38, 39)\n",
      "(112, 118)\n",
      "(277, 278)\n",
      "Objective Value: 6.0\n"
     ]
    },
    {
     "name": "stderr",
     "output_type": "stream",
     "text": [
      "100%|██████████| 743/743 [00:00<00:00, 1776.13it/s]\n",
      "100%|██████████| 743/743 [00:00<00:00, 1772.68it/s]\n"
     ]
    },
    {
     "name": "stdout",
     "output_type": "stream",
     "text": [
      "Optimal Solution:\n",
      "(198, 199)\n",
      "(130, 172)\n",
      "(12, 54)\n",
      "(112, 118)\n",
      "(236, 278)\n",
      "(184, 185)\n",
      "(224, 266)\n",
      "Objective Value: 7.0\n"
     ]
    },
    {
     "name": "stderr",
     "output_type": "stream",
     "text": [
      "100%|██████████| 742/742 [00:00<00:00, 2239.67it/s]\n",
      "100%|██████████| 742/742 [00:00<00:00, 2332.03it/s]\n"
     ]
    },
    {
     "name": "stdout",
     "output_type": "stream",
     "text": [
      "Optimal Solution:\n",
      "(283, 289)\n",
      "(12, 54)\n",
      "(38, 39)\n",
      "(111, 153)\n",
      "(171, 172)\n",
      "(277, 278)\n",
      "(184, 185)\n",
      "Objective Value: 7.0\n"
     ]
    },
    {
     "name": "stderr",
     "output_type": "stream",
     "text": [
      "100%|██████████| 742/742 [00:00<00:00, 1891.56it/s]\n",
      "100%|██████████| 742/742 [00:00<00:00, 1895.30it/s]\n"
     ]
    },
    {
     "name": "stdout",
     "output_type": "stream",
     "text": [
      "Optimal Solution:\n",
      "(141, 142)\n",
      "(283, 289)\n",
      "(130, 172)\n",
      "(12, 54)\n",
      "(112, 118)\n",
      "(230, 231)\n",
      "(224, 266)\n",
      "Objective Value: 7.0\n"
     ]
    },
    {
     "name": "stderr",
     "output_type": "stream",
     "text": [
      "100%|██████████| 742/742 [00:00<00:00, 2079.16it/s]\n",
      "100%|██████████| 742/742 [00:00<00:00, 2068.82it/s]\n"
     ]
    },
    {
     "name": "stdout",
     "output_type": "stream",
     "text": [
      "Optimal Solution:\n",
      "(141, 142)\n",
      "(283, 289)\n",
      "(130, 172)\n",
      "(12, 54)\n",
      "(112, 118)\n",
      "(230, 231)\n",
      "(277, 278)\n",
      "Objective Value: 7.0\n"
     ]
    },
    {
     "name": "stderr",
     "output_type": "stream",
     "text": [
      "100%|██████████| 742/742 [00:00<00:00, 1739.32it/s]\n",
      "100%|██████████| 742/742 [00:00<00:00, 1734.97it/s]\n"
     ]
    },
    {
     "name": "stdout",
     "output_type": "stream",
     "text": [
      "Optimal Solution:\n",
      "(141, 142)\n",
      "(112, 118)\n",
      "(236, 278)\n",
      "(171, 172)\n",
      "(277, 278)\n",
      "(133, 139)\n",
      "(14, 56)\n",
      "Objective Value: 7.0\n"
     ]
    },
    {
     "name": "stderr",
     "output_type": "stream",
     "text": [
      "100%|██████████| 742/742 [00:00<00:00, 1837.28it/s]\n",
      "100%|██████████| 742/742 [00:00<00:00, 1803.06it/s]\n"
     ]
    },
    {
     "name": "stdout",
     "output_type": "stream",
     "text": [
      "Optimal Solution:\n",
      "(279, 280)\n",
      "(264, 270)\n",
      "(12, 54)\n",
      "(171, 172)\n",
      "(277, 278)\n",
      "(33, 39)\n",
      "(184, 185)\n",
      "Objective Value: 7.0\n"
     ]
    },
    {
     "name": "stderr",
     "output_type": "stream",
     "text": [
      "100%|██████████| 742/742 [00:00<00:00, 1540.59it/s]\n",
      "100%|██████████| 742/742 [00:00<00:00, 1516.65it/s]\n"
     ]
    },
    {
     "name": "stdout",
     "output_type": "stream",
     "text": [
      "Optimal Solution:\n",
      "(279, 280)\n",
      "(264, 270)\n",
      "(12, 54)\n",
      "(38, 39)\n",
      "(171, 177)\n",
      "(277, 278)\n",
      "(184, 185)\n",
      "Objective Value: 7.0\n"
     ]
    },
    {
     "name": "stderr",
     "output_type": "stream",
     "text": [
      "100%|██████████| 742/742 [00:00<00:00, 2951.20it/s]\n",
      "100%|██████████| 742/742 [00:00<00:00, 2903.59it/s]\n"
     ]
    },
    {
     "name": "stdout",
     "output_type": "stream",
     "text": [
      "Optimal Solution:\n",
      "(141, 142)\n",
      "(130, 172)\n",
      "(112, 118)\n",
      "(230, 231)\n",
      "(133, 139)\n",
      "(224, 266)\n",
      "(14, 56)\n",
      "Objective Value: 7.0\n"
     ]
    },
    {
     "name": "stderr",
     "output_type": "stream",
     "text": [
      "100%|██████████| 742/742 [00:00<00:00, 1945.33it/s]\n",
      "100%|██████████| 742/742 [00:00<00:00, 1951.51it/s]\n"
     ]
    },
    {
     "name": "stdout",
     "output_type": "stream",
     "text": [
      "Optimal Solution:\n",
      "(141, 142)\n",
      "(112, 118)\n",
      "(230, 231)\n",
      "(171, 172)\n",
      "(133, 139)\n",
      "(224, 266)\n",
      "(14, 56)\n",
      "Objective Value: 7.0\n"
     ]
    },
    {
     "name": "stderr",
     "output_type": "stream",
     "text": [
      "100%|██████████| 742/742 [00:00<00:00, 1545.61it/s]\n",
      "100%|██████████| 742/742 [00:00<00:00, 1547.94it/s]\n"
     ]
    },
    {
     "name": "stdout",
     "output_type": "stream",
     "text": [
      "Optimal Solution:\n",
      "(49, 55)\n",
      "(171, 177)\n",
      "(244, 245)\n",
      "(193, 199)\n",
      "(277, 278)\n",
      "(184, 185)\n",
      "(133, 139)\n",
      "Objective Value: 7.0\n"
     ]
    },
    {
     "name": "stderr",
     "output_type": "stream",
     "text": [
      "100%|██████████| 742/742 [00:00<00:00, 2670.14it/s]\n",
      "100%|██████████| 742/742 [00:00<00:00, 2667.46it/s]\n"
     ]
    },
    {
     "name": "stdout",
     "output_type": "stream",
     "text": [
      "Optimal Solution:\n",
      "(283, 289)\n",
      "(139, 140)\n",
      "(12, 54)\n",
      "(171, 177)\n",
      "(244, 250)\n",
      "(277, 278)\n",
      "(184, 185)\n",
      "Objective Value: 7.0\n"
     ]
    },
    {
     "name": "stderr",
     "output_type": "stream",
     "text": [
      "100%|██████████| 742/742 [00:00<00:00, 3022.96it/s]\n",
      "100%|██████████| 742/742 [00:00<00:00, 3081.06it/s]\n"
     ]
    },
    {
     "name": "stdout",
     "output_type": "stream",
     "text": [
      "Optimal Solution:\n",
      "(229, 230)\n",
      "(98, 104)\n",
      "(190, 232)\n",
      "(198, 199)\n",
      "(130, 172)\n",
      "(12, 54)\n",
      "(112, 118)\n",
      "Objective Value: 7.0\n"
     ]
    },
    {
     "name": "stderr",
     "output_type": "stream",
     "text": [
      "100%|██████████| 742/742 [00:00<00:00, 3370.54it/s]\n",
      "100%|██████████| 742/742 [00:00<00:00, 3366.98it/s]\n"
     ]
    },
    {
     "name": "stdout",
     "output_type": "stream",
     "text": [
      "Optimal Solution:\n",
      "(279, 280)\n",
      "(171, 172)\n",
      "(59, 65)\n",
      "(277, 278)\n",
      "(33, 39)\n",
      "(184, 185)\n",
      "(133, 139)\n",
      "(14, 56)\n",
      "Objective Value: 8.0\n"
     ]
    },
    {
     "name": "stderr",
     "output_type": "stream",
     "text": [
      "100%|██████████| 741/741 [00:00<00:00, 1327.28it/s]\n",
      "100%|██████████| 741/741 [00:00<00:00, 1324.99it/s]\n"
     ]
    },
    {
     "name": "stdout",
     "output_type": "stream",
     "text": [
      "Optimal Solution:\n",
      "(279, 280)\n",
      "(141, 142)\n",
      "(283, 289)\n",
      "(171, 177)\n",
      "(277, 278)\n",
      "(184, 185)\n",
      "(133, 139)\n",
      "(14, 56)\n",
      "Objective Value: 8.0\n"
     ]
    },
    {
     "name": "stderr",
     "output_type": "stream",
     "text": [
      "100%|██████████| 741/741 [00:00<00:00, 2343.71it/s]\n",
      "100%|██████████| 741/741 [00:00<00:00, 2390.88it/s]\n"
     ]
    },
    {
     "name": "stdout",
     "output_type": "stream",
     "text": [
      "Optimal Solution:\n",
      "(279, 280)\n",
      "(283, 289)\n",
      "(139, 140)\n",
      "(130, 172)\n",
      "(59, 65)\n",
      "(277, 278)\n",
      "(184, 185)\n",
      "(14, 56)\n",
      "Objective Value: 8.0\n"
     ]
    },
    {
     "name": "stderr",
     "output_type": "stream",
     "text": [
      "100%|██████████| 741/741 [00:00<00:00, 1681.59it/s]\n",
      "100%|██████████| 741/741 [00:00<00:00, 1668.81it/s]\n"
     ]
    },
    {
     "name": "stdout",
     "output_type": "stream",
     "text": [
      "Optimal Solution:\n",
      "(279, 280)\n",
      "(65, 71)\n",
      "(283, 289)\n",
      "(139, 140)\n",
      "(171, 172)\n",
      "(277, 278)\n",
      "(184, 185)\n",
      "(14, 56)\n",
      "Objective Value: 8.0\n"
     ]
    },
    {
     "name": "stderr",
     "output_type": "stream",
     "text": [
      "100%|██████████| 741/741 [00:00<00:00, 1588.73it/s]\n",
      "100%|██████████| 741/741 [00:00<00:00, 1590.95it/s]\n"
     ]
    },
    {
     "name": "stdout",
     "output_type": "stream",
     "text": [
      "Optimal Solution:\n",
      "(141, 142)\n",
      "(171, 177)\n",
      "(111, 153)\n",
      "(277, 278)\n",
      "(278, 279)\n",
      "(117, 159)\n",
      "(133, 139)\n",
      "(14, 56)\n",
      "Objective Value: 8.0\n"
     ]
    },
    {
     "name": "stderr",
     "output_type": "stream",
     "text": [
      "100%|██████████| 741/741 [00:00<00:00, 2633.20it/s]\n",
      "100%|██████████| 741/741 [00:00<00:00, 2645.33it/s]\n"
     ]
    },
    {
     "name": "stdout",
     "output_type": "stream",
     "text": [
      "Optimal Solution:\n",
      "(114, 156)\n",
      "(283, 289)\n",
      "(130, 172)\n",
      "(245, 251)\n",
      "(277, 278)\n",
      "(184, 185)\n",
      "(133, 139)\n",
      "(14, 20)\n",
      "Objective Value: 8.0\n"
     ]
    },
    {
     "name": "stderr",
     "output_type": "stream",
     "text": [
      "100%|██████████| 741/741 [00:00<00:00, 2031.82it/s]\n",
      "100%|██████████| 741/741 [00:00<00:00, 2033.10it/s]\n"
     ]
    },
    {
     "name": "stdout",
     "output_type": "stream",
     "text": [
      "Optimal Solution:\n",
      "(279, 280)\n",
      "(114, 156)\n",
      "(158, 164)\n",
      "(171, 172)\n",
      "(277, 278)\n",
      "(184, 185)\n",
      "(91, 133)\n",
      "(14, 20)\n",
      "Objective Value: 8.0\n"
     ]
    },
    {
     "name": "stderr",
     "output_type": "stream",
     "text": [
      "100%|██████████| 741/741 [00:00<00:00, 1451.37it/s]\n",
      "100%|██████████| 741/741 [00:00<00:00, 1472.93it/s]\n"
     ]
    },
    {
     "name": "stdout",
     "output_type": "stream",
     "text": [
      "Optimal Solution:\n",
      "(135, 177)\n",
      "(111, 112)\n",
      "(12, 54)\n",
      "(277, 278)\n",
      "(278, 279)\n",
      "(117, 159)\n",
      "(73, 79)\n",
      "(133, 139)\n",
      "Objective Value: 8.0\n"
     ]
    },
    {
     "name": "stderr",
     "output_type": "stream",
     "text": [
      "100%|██████████| 741/741 [00:00<00:00, 1778.67it/s]\n",
      "100%|██████████| 741/741 [00:00<00:00, 1779.98it/s]\n"
     ]
    },
    {
     "name": "stdout",
     "output_type": "stream",
     "text": [
      "Optimal Solution:\n",
      "(111, 112)\n",
      "(98, 104)\n",
      "(198, 199)\n",
      "(130, 172)\n",
      "(12, 54)\n",
      "(277, 278)\n",
      "(278, 279)\n",
      "(117, 159)\n",
      "Objective Value: 8.0\n"
     ]
    },
    {
     "name": "stderr",
     "output_type": "stream",
     "text": [
      "100%|██████████| 741/741 [00:00<00:00, 3367.74it/s]\n",
      "100%|██████████| 741/741 [00:00<00:00, 3372.63it/s]\n"
     ]
    },
    {
     "name": "stdout",
     "output_type": "stream",
     "text": [
      "Optimal Solution:\n",
      "(65, 71)\n",
      "(98, 104)\n",
      "(283, 289)\n",
      "(112, 118)\n",
      "(144, 186)\n",
      "(171, 172)\n",
      "(277, 278)\n",
      "(14, 56)\n",
      "Objective Value: 8.0\n"
     ]
    },
    {
     "name": "stderr",
     "output_type": "stream",
     "text": [
      "100%|██████████| 741/741 [00:00<00:00, 1843.87it/s]\n",
      "100%|██████████| 741/741 [00:00<00:00, 1863.13it/s]\n"
     ]
    },
    {
     "name": "stdout",
     "output_type": "stream",
     "text": [
      "Optimal Solution:\n",
      "(65, 71)\n",
      "(98, 104)\n",
      "(283, 289)\n",
      "(130, 172)\n",
      "(112, 118)\n",
      "(144, 186)\n",
      "(277, 278)\n",
      "(14, 56)\n",
      "Objective Value: 8.0\n"
     ]
    },
    {
     "name": "stderr",
     "output_type": "stream",
     "text": [
      "100%|██████████| 741/741 [00:00<00:00, 1679.79it/s]\n",
      "100%|██████████| 741/741 [00:00<00:00, 1684.19it/s]\n"
     ]
    },
    {
     "name": "stdout",
     "output_type": "stream",
     "text": [
      "Optimal Solution:\n",
      "(141, 142)\n",
      "(135, 177)\n",
      "(111, 153)\n",
      "(144, 186)\n",
      "(277, 278)\n",
      "(278, 279)\n",
      "(117, 159)\n",
      "(133, 139)\n",
      "(14, 20)\n",
      "Objective Value: 9.0\n"
     ]
    },
    {
     "name": "stderr",
     "output_type": "stream",
     "text": [
      "100%|██████████| 740/740 [00:00<00:00, 2383.90it/s]\n",
      "100%|██████████| 740/740 [00:00<00:00, 2605.20it/s]\n"
     ]
    },
    {
     "name": "stdout",
     "output_type": "stream",
     "text": [
      "Optimal Solution:\n",
      "(279, 280)\n",
      "(135, 177)\n",
      "(142, 184)\n",
      "(144, 186)\n",
      "(230, 231)\n",
      "(277, 278)\n",
      "(117, 159)\n",
      "(133, 139)\n",
      "(14, 20)\n",
      "Objective Value: 9.0\n"
     ]
    },
    {
     "name": "stderr",
     "output_type": "stream",
     "text": [
      "100%|██████████| 740/740 [00:00<00:00, 1999.77it/s]\n",
      "100%|██████████| 740/740 [00:00<00:00, 1994.46it/s]\n"
     ]
    },
    {
     "name": "stdout",
     "output_type": "stream",
     "text": [
      "Optimal Solution:\n",
      "(135, 177)\n",
      "(111, 112)\n",
      "(139, 140)\n",
      "(104, 146)\n",
      "(230, 231)\n",
      "(277, 278)\n",
      "(117, 159)\n",
      "(91, 133)\n",
      "(14, 56)\n",
      "Objective Value: 9.0\n"
     ]
    },
    {
     "name": "stderr",
     "output_type": "stream",
     "text": [
      "100%|██████████| 740/740 [00:00<00:00, 2614.15it/s]\n",
      "100%|██████████| 740/740 [00:00<00:00, 2545.40it/s]\n"
     ]
    },
    {
     "name": "stdout",
     "output_type": "stream",
     "text": [
      "Optimal Solution:\n",
      "(135, 177)\n",
      "(111, 112)\n",
      "(12, 54)\n",
      "(104, 146)\n",
      "(144, 186)\n",
      "(230, 231)\n",
      "(277, 278)\n",
      "(117, 159)\n",
      "(133, 139)\n",
      "Objective Value: 9.0\n"
     ]
    },
    {
     "name": "stderr",
     "output_type": "stream",
     "text": [
      "100%|██████████| 740/740 [00:00<00:00, 2075.74it/s]\n",
      "100%|██████████| 740/740 [00:00<00:00, 2044.96it/s]\n"
     ]
    },
    {
     "name": "stdout",
     "output_type": "stream",
     "text": [
      "Optimal Solution:\n",
      "(17, 23)\n",
      "(98, 104)\n",
      "(139, 140)\n",
      "(130, 172)\n",
      "(12, 54)\n",
      "(112, 118)\n",
      "(230, 231)\n",
      "(271, 277)\n",
      "(91, 133)\n",
      "Objective Value: 9.0\n"
     ]
    },
    {
     "name": "stderr",
     "output_type": "stream",
     "text": [
      "100%|██████████| 740/740 [00:00<00:00, 2981.21it/s]\n",
      "100%|██████████| 740/740 [00:00<00:00, 2975.60it/s]\n"
     ]
    },
    {
     "name": "stdout",
     "output_type": "stream",
     "text": [
      "Optimal Solution:\n",
      "(17, 23)\n",
      "(98, 104)\n",
      "(283, 289)\n",
      "(130, 172)\n",
      "(12, 54)\n",
      "(112, 118)\n",
      "(144, 186)\n",
      "(230, 231)\n",
      "(277, 278)\n",
      "Objective Value: 9.0\n"
     ]
    },
    {
     "name": "stderr",
     "output_type": "stream",
     "text": [
      "100%|██████████| 740/740 [00:00<00:00, 3047.04it/s]\n",
      "100%|██████████| 740/740 [00:00<00:00, 3064.03it/s]\n"
     ]
    },
    {
     "name": "stdout",
     "output_type": "stream",
     "text": [
      "Optimal Solution:\n",
      "(111, 112)\n",
      "(98, 104)\n",
      "(283, 289)\n",
      "(130, 172)\n",
      "(12, 54)\n",
      "(144, 186)\n",
      "(230, 231)\n",
      "(277, 278)\n",
      "(117, 159)\n",
      "Objective Value: 9.0\n"
     ]
    },
    {
     "name": "stderr",
     "output_type": "stream",
     "text": [
      "100%|██████████| 740/740 [00:00<00:00, 2518.73it/s]\n",
      "100%|██████████| 740/740 [00:00<00:00, 2535.59it/s]\n"
     ]
    },
    {
     "name": "stdout",
     "output_type": "stream",
     "text": [
      "Optimal Solution:\n",
      "(98, 104)\n",
      "(165, 166)\n",
      "(283, 289)\n",
      "(130, 172)\n",
      "(144, 186)\n",
      "(277, 278)\n",
      "(117, 159)\n",
      "(91, 133)\n",
      "(14, 20)\n",
      "Objective Value: 9.0\n"
     ]
    },
    {
     "name": "stderr",
     "output_type": "stream",
     "text": [
      "100%|██████████| 740/740 [00:00<00:00, 3146.00it/s]\n",
      "100%|██████████| 740/740 [00:00<00:00, 3144.14it/s]\n"
     ]
    },
    {
     "name": "stdout",
     "output_type": "stream",
     "text": [
      "Optimal Solution:\n",
      "(114, 156)\n",
      "(63, 64)\n",
      "(98, 104)\n",
      "(283, 289)\n",
      "(130, 172)\n",
      "(12, 54)\n",
      "(112, 118)\n",
      "(230, 231)\n",
      "(271, 277)\n",
      "Objective Value: 9.0\n"
     ]
    },
    {
     "name": "stderr",
     "output_type": "stream",
     "text": [
      "100%|██████████| 740/740 [00:00<00:00, 1700.38it/s]\n",
      "100%|██████████| 740/740 [00:00<00:00, 1689.38it/s]\n"
     ]
    },
    {
     "name": "stdout",
     "output_type": "stream",
     "text": [
      "Optimal Solution:\n",
      "(98, 104)\n",
      "(130, 172)\n",
      "(12, 54)\n",
      "(111, 153)\n",
      "(144, 186)\n",
      "(230, 231)\n",
      "(277, 278)\n",
      "(117, 159)\n",
      "(14, 20)\n",
      "Objective Value: 9.0\n"
     ]
    },
    {
     "name": "stderr",
     "output_type": "stream",
     "text": [
      "100%|██████████| 740/740 [00:00<00:00, 2050.72it/s]\n",
      "100%|██████████| 740/740 [00:00<00:00, 2008.11it/s]\n"
     ]
    },
    {
     "name": "stdout",
     "output_type": "stream",
     "text": [
      "Optimal Solution:\n",
      "(279, 280)\n",
      "(114, 156)\n",
      "(98, 104)\n",
      "(165, 166)\n",
      "(130, 172)\n",
      "(271, 277)\n",
      "(117, 159)\n",
      "(91, 133)\n",
      "(14, 20)\n",
      "Objective Value: 9.0\n"
     ]
    },
    {
     "name": "stderr",
     "output_type": "stream",
     "text": [
      "100%|██████████| 740/740 [00:00<00:00, 3045.00it/s]\n",
      "100%|██████████| 740/740 [00:00<00:00, 3046.79it/s]\n"
     ]
    },
    {
     "name": "stdout",
     "output_type": "stream",
     "text": [
      "Optimal Solution:\n",
      "(98, 104)\n",
      "(165, 166)\n",
      "(130, 172)\n",
      "(144, 186)\n",
      "(230, 231)\n",
      "(277, 278)\n",
      "(117, 159)\n",
      "(133, 139)\n",
      "(14, 20)\n",
      "Objective Value: 9.0\n"
     ]
    },
    {
     "name": "stderr",
     "output_type": "stream",
     "text": [
      "100%|██████████| 740/740 [00:00<00:00, 1836.34it/s]\n",
      "100%|██████████| 740/740 [00:00<00:00, 1831.47it/s]\n"
     ]
    },
    {
     "name": "stdout",
     "output_type": "stream",
     "text": [
      "Optimal Solution:\n",
      "(135, 177)\n",
      "(111, 112)\n",
      "(139, 140)\n",
      "(12, 54)\n",
      "(104, 146)\n",
      "(277, 278)\n",
      "(278, 279)\n",
      "(117, 159)\n",
      "(91, 133)\n",
      "Objective Value: 9.0\n"
     ]
    },
    {
     "name": "stderr",
     "output_type": "stream",
     "text": [
      "100%|██████████| 740/740 [00:00<00:00, 1955.31it/s]\n",
      "100%|██████████| 740/740 [00:00<00:00, 1978.06it/s]\n"
     ]
    },
    {
     "name": "stdout",
     "output_type": "stream",
     "text": [
      "Optimal Solution:\n",
      "(114, 156)\n",
      "(90, 91)\n",
      "(63, 64)\n",
      "(130, 172)\n",
      "(104, 146)\n",
      "(112, 118)\n",
      "(271, 277)\n",
      "(278, 279)\n",
      "(14, 20)\n",
      "Objective Value: 9.0\n"
     ]
    },
    {
     "name": "stderr",
     "output_type": "stream",
     "text": [
      "100%|██████████| 740/740 [00:00<00:00, 2138.10it/s]\n",
      "100%|██████████| 740/740 [00:00<00:00, 1840.78it/s]\n"
     ]
    },
    {
     "name": "stdout",
     "output_type": "stream",
     "text": [
      "Optimal Solution:\n",
      "(63, 64)\n",
      "(130, 172)\n",
      "(12, 54)\n",
      "(104, 146)\n",
      "(112, 118)\n",
      "(277, 278)\n",
      "(278, 279)\n",
      "(33, 39)\n",
      "(84, 126)\n",
      "Objective Value: 9.0\n"
     ]
    },
    {
     "name": "stderr",
     "output_type": "stream",
     "text": [
      "100%|██████████| 740/740 [00:00<00:00, 1880.61it/s]\n",
      "100%|██████████| 740/740 [00:00<00:00, 1953.93it/s]\n"
     ]
    },
    {
     "name": "stdout",
     "output_type": "stream",
     "text": [
      "Optimal Solution:\n",
      "(63, 64)\n",
      "(84, 90)\n",
      "(130, 172)\n",
      "(12, 54)\n",
      "(104, 146)\n",
      "(112, 118)\n",
      "(277, 278)\n",
      "(278, 279)\n",
      "(33, 39)\n",
      "Objective Value: 9.0\n"
     ]
    },
    {
     "name": "stderr",
     "output_type": "stream",
     "text": [
      "100%|██████████| 740/740 [00:00<00:00, 1908.65it/s]\n",
      "100%|██████████| 740/740 [00:00<00:00, 1917.28it/s]\n"
     ]
    },
    {
     "name": "stdout",
     "output_type": "stream",
     "text": [
      "Optimal Solution:\n",
      "(63, 64)\n",
      "(103, 104)\n",
      "(130, 172)\n",
      "(12, 54)\n",
      "(104, 146)\n",
      "(229, 271)\n",
      "(112, 118)\n",
      "(230, 231)\n",
      "(33, 39)\n",
      "Objective Value: 9.0\n"
     ]
    },
    {
     "name": "stderr",
     "output_type": "stream",
     "text": [
      "100%|██████████| 740/740 [00:00<00:00, 2847.51it/s]\n",
      "100%|██████████| 740/740 [00:00<00:00, 2891.77it/s]\n"
     ]
    },
    {
     "name": "stdout",
     "output_type": "stream",
     "text": [
      "Optimal Solution:\n",
      "(63, 64)\n",
      "(103, 104)\n",
      "(98, 104)\n",
      "(130, 172)\n",
      "(12, 54)\n",
      "(229, 271)\n",
      "(112, 118)\n",
      "(230, 231)\n",
      "(33, 39)\n",
      "Objective Value: 9.0\n"
     ]
    },
    {
     "name": "stderr",
     "output_type": "stream",
     "text": [
      "100%|██████████| 740/740 [00:00<00:00, 1849.88it/s]\n",
      "100%|██████████| 740/740 [00:00<00:00, 1880.44it/s]\n"
     ]
    },
    {
     "name": "stdout",
     "output_type": "stream",
     "text": [
      "Optimal Solution:\n",
      "(135, 177)\n",
      "(111, 112)\n",
      "(116, 158)\n",
      "(139, 140)\n",
      "(230, 231)\n",
      "(145, 146)\n",
      "(277, 278)\n",
      "(117, 159)\n",
      "(91, 133)\n",
      "(14, 56)\n",
      "Objective Value: 10.0\n"
     ]
    },
    {
     "name": "stderr",
     "output_type": "stream",
     "text": [
      "100%|██████████| 739/739 [00:00<00:00, 2500.86it/s]\n",
      "100%|██████████| 739/739 [00:00<00:00, 2531.25it/s]\n"
     ]
    },
    {
     "name": "stdout",
     "output_type": "stream",
     "text": [
      "Optimal Solution:\n",
      "(133, 134)\n",
      "(135, 177)\n",
      "(12, 54)\n",
      "(111, 153)\n",
      "(271, 277)\n",
      "(277, 278)\n",
      "(278, 279)\n",
      "(33, 39)\n",
      "(117, 159)\n",
      "(14, 56)\n",
      "Objective Value: 10.0\n"
     ]
    },
    {
     "name": "stderr",
     "output_type": "stream",
     "text": [
      "100%|██████████| 739/739 [00:00<00:00, 1672.90it/s]\n",
      "100%|██████████| 739/739 [00:00<00:00, 1665.28it/s]\n"
     ]
    },
    {
     "name": "stdout",
     "output_type": "stream",
     "text": [
      "Optimal Solution:\n",
      "(63, 64)\n",
      "(84, 90)\n",
      "(130, 172)\n",
      "(12, 54)\n",
      "(111, 153)\n",
      "(145, 146)\n",
      "(277, 278)\n",
      "(278, 279)\n",
      "(33, 39)\n",
      "(117, 159)\n",
      "Objective Value: 10.0\n"
     ]
    },
    {
     "name": "stderr",
     "output_type": "stream",
     "text": [
      "100%|██████████| 739/739 [00:00<00:00, 1860.83it/s]\n",
      "100%|██████████| 739/739 [00:00<00:00, 1858.85it/s]\n"
     ]
    },
    {
     "name": "stdout",
     "output_type": "stream",
     "text": [
      "Optimal Solution:\n",
      "(135, 177)\n",
      "(143, 185)\n",
      "(111, 153)\n",
      "(171, 172)\n",
      "(271, 277)\n",
      "(278, 279)\n",
      "(33, 39)\n",
      "(150, 192)\n",
      "(91, 133)\n",
      "(14, 56)\n",
      "Objective Value: 10.0\n"
     ]
    },
    {
     "name": "stderr",
     "output_type": "stream",
     "text": [
      "100%|██████████| 739/739 [00:00<00:00, 1617.35it/s]\n",
      "100%|██████████| 739/739 [00:00<00:00, 1598.51it/s]\n"
     ]
    },
    {
     "name": "stdout",
     "output_type": "stream",
     "text": [
      "Optimal Solution:\n",
      "(206, 248)\n",
      "(139, 140)\n",
      "(130, 172)\n",
      "(12, 54)\n",
      "(111, 153)\n",
      "(230, 231)\n",
      "(145, 146)\n",
      "(277, 278)\n",
      "(184, 185)\n",
      "(14, 56)\n",
      "Objective Value: 10.0\n"
     ]
    },
    {
     "name": "stderr",
     "output_type": "stream",
     "text": [
      "100%|██████████| 739/739 [00:00<00:00, 2676.98it/s]\n",
      "100%|██████████| 739/739 [00:00<00:00, 2679.89it/s]\n"
     ]
    },
    {
     "name": "stdout",
     "output_type": "stream",
     "text": [
      "Optimal Solution:\n",
      "(133, 134)\n",
      "(141, 142)\n",
      "(135, 177)\n",
      "(12, 54)\n",
      "(111, 153)\n",
      "(271, 277)\n",
      "(278, 279)\n",
      "(117, 159)\n",
      "(150, 192)\n",
      "(14, 56)\n",
      "Objective Value: 10.0\n"
     ]
    },
    {
     "name": "stderr",
     "output_type": "stream",
     "text": [
      "100%|██████████| 739/739 [00:00<00:00, 2300.76it/s]\n",
      "100%|██████████| 739/739 [00:00<00:00, 2323.70it/s]\n"
     ]
    },
    {
     "name": "stdout",
     "output_type": "stream",
     "text": [
      "Optimal Solution:\n",
      "(133, 134)\n",
      "(135, 177)\n",
      "(111, 112)\n",
      "(84, 90)\n",
      "(12, 54)\n",
      "(104, 146)\n",
      "(277, 278)\n",
      "(278, 279)\n",
      "(33, 39)\n",
      "(117, 159)\n",
      "Objective Value: 10.0\n"
     ]
    },
    {
     "name": "stderr",
     "output_type": "stream",
     "text": [
      "100%|██████████| 739/739 [00:00<00:00, 1996.79it/s]\n",
      "100%|██████████| 739/739 [00:00<00:00, 1992.89it/s]\n"
     ]
    },
    {
     "name": "stdout",
     "output_type": "stream",
     "text": [
      "Optimal Solution:\n",
      "(90, 91)\n",
      "(135, 177)\n",
      "(111, 112)\n",
      "(249, 250)\n",
      "(12, 54)\n",
      "(231, 232)\n",
      "(104, 146)\n",
      "(277, 278)\n",
      "(33, 39)\n",
      "(117, 159)\n",
      "Objective Value: 10.0\n"
     ]
    },
    {
     "name": "stderr",
     "output_type": "stream",
     "text": [
      "100%|██████████| 739/739 [00:00<00:00, 1575.82it/s]\n",
      "100%|██████████| 739/739 [00:00<00:00, 1587.29it/s]\n"
     ]
    },
    {
     "name": "stdout",
     "output_type": "stream",
     "text": [
      "Optimal Solution:\n",
      "(49, 55)\n",
      "(90, 91)\n",
      "(135, 177)\n",
      "(111, 112)\n",
      "(249, 250)\n",
      "(231, 232)\n",
      "(104, 146)\n",
      "(193, 199)\n",
      "(277, 278)\n",
      "(117, 159)\n",
      "Objective Value: 10.0\n"
     ]
    },
    {
     "name": "stderr",
     "output_type": "stream",
     "text": [
      "100%|██████████| 739/739 [00:00<00:00, 1481.11it/s]\n",
      "100%|██████████| 739/739 [00:00<00:00, 1465.91it/s]\n"
     ]
    },
    {
     "name": "stdout",
     "output_type": "stream",
     "text": [
      "Optimal Solution:\n",
      "(90, 91)\n",
      "(135, 177)\n",
      "(111, 112)\n",
      "(12, 54)\n",
      "(231, 232)\n",
      "(145, 146)\n",
      "(277, 278)\n",
      "(33, 39)\n",
      "(117, 159)\n",
      "(165, 207)\n",
      "Objective Value: 10.0\n"
     ]
    },
    {
     "name": "stderr",
     "output_type": "stream",
     "text": [
      "100%|██████████| 739/739 [00:00<00:00, 1518.30it/s]\n",
      "100%|██████████| 739/739 [00:00<00:00, 1568.82it/s]\n"
     ]
    },
    {
     "name": "stdout",
     "output_type": "stream",
     "text": [
      "Optimal Solution:\n",
      "(126, 168)\n",
      "(206, 248)\n",
      "(111, 112)\n",
      "(130, 172)\n",
      "(12, 54)\n",
      "(231, 232)\n",
      "(145, 146)\n",
      "(277, 278)\n",
      "(33, 39)\n",
      "(184, 185)\n",
      "Objective Value: 10.0\n"
     ]
    },
    {
     "name": "stderr",
     "output_type": "stream",
     "text": [
      "100%|██████████| 739/739 [00:00<00:00, 3192.44it/s]\n",
      "100%|██████████| 739/739 [00:00<00:00, 3182.61it/s]\n"
     ]
    },
    {
     "name": "stdout",
     "output_type": "stream",
     "text": [
      "Optimal Solution:\n",
      "(206, 248)\n",
      "(90, 91)\n",
      "(111, 112)\n",
      "(130, 172)\n",
      "(12, 54)\n",
      "(231, 232)\n",
      "(145, 146)\n",
      "(277, 278)\n",
      "(33, 39)\n",
      "(184, 185)\n",
      "Objective Value: 10.0\n"
     ]
    },
    {
     "name": "stderr",
     "output_type": "stream",
     "text": [
      "100%|██████████| 739/739 [00:00<00:00, 3187.09it/s]\n",
      "100%|██████████| 739/739 [00:00<00:00, 3176.42it/s]\n"
     ]
    },
    {
     "name": "stdout",
     "output_type": "stream",
     "text": [
      "Optimal Solution:\n",
      "(143, 185)\n",
      "(224, 230)\n",
      "(98, 104)\n",
      "(130, 172)\n",
      "(12, 54)\n",
      "(278, 279)\n",
      "(158, 200)\n",
      "(66, 67)\n",
      "(165, 207)\n",
      "(14, 56)\n",
      "Objective Value: 10.0\n"
     ]
    },
    {
     "name": "stderr",
     "output_type": "stream",
     "text": [
      "100%|██████████| 739/739 [00:00<00:00, 1933.69it/s]\n",
      "100%|██████████| 739/739 [00:00<00:00, 1901.89it/s]\n"
     ]
    },
    {
     "name": "stdout",
     "output_type": "stream",
     "text": [
      "Optimal Solution:\n",
      "(111, 112)\n",
      "(143, 185)\n",
      "(116, 158)\n",
      "(224, 230)\n",
      "(98, 104)\n",
      "(198, 199)\n",
      "(130, 172)\n",
      "(12, 54)\n",
      "(104, 146)\n",
      "(278, 279)\n",
      "Objective Value: 10.0\n"
     ]
    },
    {
     "name": "stderr",
     "output_type": "stream",
     "text": [
      "100%|██████████| 739/739 [00:00<00:00, 2874.38it/s]\n",
      "100%|██████████| 739/739 [00:00<00:00, 2862.46it/s]\n"
     ]
    },
    {
     "name": "stdout",
     "output_type": "stream",
     "text": [
      "Optimal Solution:\n",
      "(229, 230)\n",
      "(98, 104)\n",
      "(190, 232)\n",
      "(130, 172)\n",
      "(158, 200)\n",
      "(117, 159)\n",
      "(91, 133)\n",
      "(14, 20)\n",
      "(66, 67)\n",
      "(165, 207)\n",
      "Objective Value: 10.0\n"
     ]
    },
    {
     "name": "stderr",
     "output_type": "stream",
     "text": [
      "100%|██████████| 739/739 [00:00<00:00, 3147.29it/s]\n",
      "100%|██████████| 739/739 [00:00<00:00, 3154.49it/s]\n"
     ]
    },
    {
     "name": "stdout",
     "output_type": "stream",
     "text": [
      "Optimal Solution:\n",
      "(90, 91)\n",
      "(111, 112)\n",
      "(75, 117)\n",
      "(98, 104)\n",
      "(130, 172)\n",
      "(12, 54)\n",
      "(231, 232)\n",
      "(112, 118)\n",
      "(230, 231)\n",
      "(271, 277)\n",
      "(66, 67)\n",
      "Objective Value: 11.0\n"
     ]
    },
    {
     "name": "stderr",
     "output_type": "stream",
     "text": [
      "100%|██████████| 738/738 [00:00<00:00, 2248.52it/s]\n",
      "100%|██████████| 738/738 [00:00<00:00, 2252.44it/s]\n"
     ]
    },
    {
     "name": "stdout",
     "output_type": "stream",
     "text": [
      "Optimal Solution:\n",
      "(133, 134)\n",
      "(135, 177)\n",
      "(229, 230)\n",
      "(143, 185)\n",
      "(157, 158)\n",
      "(79, 80)\n",
      "(244, 250)\n",
      "(278, 279)\n",
      "(158, 200)\n",
      "(184, 185)\n",
      "(14, 56)\n",
      "Objective Value: 11.0\n"
     ]
    },
    {
     "name": "stderr",
     "output_type": "stream",
     "text": [
      "100%|██████████| 738/738 [00:00<00:00, 1720.97it/s]\n",
      "100%|██████████| 738/738 [00:00<00:00, 1705.91it/s]\n"
     ]
    },
    {
     "name": "stdout",
     "output_type": "stream",
     "text": [
      "Optimal Solution:\n",
      "(133, 134)\n",
      "(135, 177)\n",
      "(229, 230)\n",
      "(143, 185)\n",
      "(157, 158)\n",
      "(171, 177)\n",
      "(244, 250)\n",
      "(278, 279)\n",
      "(158, 200)\n",
      "(73, 79)\n",
      "(14, 56)\n",
      "Objective Value: 11.0\n"
     ]
    },
    {
     "name": "stderr",
     "output_type": "stream",
     "text": [
      "100%|██████████| 738/738 [00:00<00:00, 2310.19it/s]\n",
      "100%|██████████| 738/738 [00:00<00:00, 2301.30it/s]\n"
     ]
    },
    {
     "name": "stdout",
     "output_type": "stream",
     "text": [
      "Optimal Solution:\n",
      "(135, 177)\n",
      "(143, 185)\n",
      "(171, 177)\n",
      "(111, 153)\n",
      "(230, 231)\n",
      "(271, 277)\n",
      "(278, 279)\n",
      "(150, 192)\n",
      "(73, 79)\n",
      "(14, 20)\n",
      "(66, 67)\n",
      "Objective Value: 11.0\n"
     ]
    },
    {
     "name": "stderr",
     "output_type": "stream",
     "text": [
      "100%|██████████| 738/738 [00:00<00:00, 2449.86it/s]\n",
      "100%|██████████| 738/738 [00:00<00:00, 2455.14it/s]\n"
     ]
    },
    {
     "name": "stdout",
     "output_type": "stream",
     "text": [
      "Optimal Solution:\n",
      "(135, 177)\n",
      "(98, 104)\n",
      "(171, 177)\n",
      "(111, 153)\n",
      "(230, 231)\n",
      "(271, 277)\n",
      "(278, 279)\n",
      "(33, 39)\n",
      "(117, 159)\n",
      "(14, 20)\n",
      "(66, 67)\n",
      "Objective Value: 11.0\n"
     ]
    },
    {
     "name": "stderr",
     "output_type": "stream",
     "text": [
      "100%|██████████| 738/738 [00:00<00:00, 2361.65it/s]\n",
      "100%|██████████| 738/738 [00:00<00:00, 2437.87it/s]\n"
     ]
    },
    {
     "name": "stdout",
     "output_type": "stream",
     "text": [
      "Optimal Solution:\n",
      "(253, 254)\n",
      "(143, 185)\n",
      "(98, 104)\n",
      "(130, 172)\n",
      "(111, 153)\n",
      "(230, 231)\n",
      "(271, 277)\n",
      "(278, 279)\n",
      "(33, 39)\n",
      "(14, 20)\n",
      "(66, 67)\n",
      "Objective Value: 11.0\n"
     ]
    },
    {
     "name": "stderr",
     "output_type": "stream",
     "text": [
      "100%|██████████| 738/738 [00:00<00:00, 2868.65it/s]\n",
      "100%|██████████| 738/738 [00:00<00:00, 2859.53it/s]\n"
     ]
    },
    {
     "name": "stdout",
     "output_type": "stream",
     "text": [
      "Optimal Solution:\n",
      "(139, 145)\n",
      "(98, 104)\n",
      "(157, 158)\n",
      "(171, 177)\n",
      "(144, 186)\n",
      "(230, 231)\n",
      "(244, 250)\n",
      "(59, 101)\n",
      "(184, 185)\n",
      "(14, 20)\n",
      "(224, 266)\n",
      "Objective Value: 11.0\n"
     ]
    },
    {
     "name": "stderr",
     "output_type": "stream",
     "text": [
      "100%|██████████| 738/738 [00:00<00:00, 3240.41it/s]\n",
      "100%|██████████| 738/738 [00:00<00:00, 3351.82it/s]\n"
     ]
    },
    {
     "name": "stdout",
     "output_type": "stream",
     "text": [
      "Optimal Solution:\n",
      "(126, 168)\n",
      "(229, 230)\n",
      "(190, 232)\n",
      "(104, 146)\n",
      "(171, 177)\n",
      "(112, 118)\n",
      "(138, 139)\n",
      "(59, 101)\n",
      "(33, 75)\n",
      "(99, 141)\n",
      "(14, 56)\n",
      "Objective Value: 11.0\n"
     ]
    },
    {
     "name": "stderr",
     "output_type": "stream",
     "text": [
      "100%|██████████| 738/738 [00:00<00:00, 1911.85it/s]\n",
      "100%|██████████| 738/738 [00:00<00:00, 1915.72it/s]\n"
     ]
    },
    {
     "name": "stdout",
     "output_type": "stream",
     "text": [
      "Optimal Solution:\n",
      "(103, 104)\n",
      "(58, 59)\n",
      "(189, 231)\n",
      "(190, 232)\n",
      "(165, 166)\n",
      "(171, 177)\n",
      "(117, 159)\n",
      "(99, 141)\n",
      "(14, 20)\n",
      "(224, 266)\n",
      "(66, 67)\n",
      "Objective Value: 11.0\n"
     ]
    },
    {
     "name": "stderr",
     "output_type": "stream",
     "text": [
      "100%|██████████| 738/738 [00:00<00:00, 2357.98it/s]\n",
      "100%|██████████| 738/738 [00:00<00:00, 2382.98it/s]\n"
     ]
    },
    {
     "name": "stdout",
     "output_type": "stream",
     "text": [
      "Optimal Solution:\n",
      "(206, 248)\n",
      "(90, 91)\n",
      "(229, 230)\n",
      "(111, 112)\n",
      "(98, 104)\n",
      "(130, 172)\n",
      "(12, 54)\n",
      "(278, 279)\n",
      "(217, 259)\n",
      "(158, 200)\n",
      "(100, 106)\n",
      "(66, 67)\n",
      "Objective Value: 12.0\n"
     ]
    },
    {
     "name": "stderr",
     "output_type": "stream",
     "text": [
      "100%|██████████| 737/737 [00:00<00:00, 3260.42it/s]\n",
      "100%|██████████| 737/737 [00:00<00:00, 3234.52it/s]\n"
     ]
    },
    {
     "name": "stdout",
     "output_type": "stream",
     "text": [
      "Optimal Solution:\n",
      "(49, 55)\n",
      "(116, 158)\n",
      "(198, 199)\n",
      "(171, 177)\n",
      "(53, 59)\n",
      "(230, 231)\n",
      "(244, 250)\n",
      "(158, 200)\n",
      "(117, 159)\n",
      "(99, 141)\n",
      "(150, 192)\n",
      "(224, 266)\n",
      "Objective Value: 12.0\n"
     ]
    },
    {
     "name": "stderr",
     "output_type": "stream",
     "text": [
      "100%|██████████| 737/737 [00:00<00:00, 3198.42it/s]\n",
      "100%|██████████| 737/737 [00:00<00:00, 3160.15it/s]\n"
     ]
    },
    {
     "name": "stdout",
     "output_type": "stream",
     "text": [
      "Optimal Solution:\n",
      "(49, 55)\n",
      "(114, 156)\n",
      "(283, 289)\n",
      "(171, 177)\n",
      "(53, 59)\n",
      "(230, 231)\n",
      "(244, 250)\n",
      "(158, 200)\n",
      "(117, 159)\n",
      "(99, 141)\n",
      "(150, 192)\n",
      "(224, 266)\n",
      "Objective Value: 12.0\n"
     ]
    },
    {
     "name": "stderr",
     "output_type": "stream",
     "text": [
      "100%|██████████| 737/737 [00:00<00:00, 2056.63it/s]\n",
      "100%|██████████| 737/737 [00:00<00:00, 2061.98it/s]\n"
     ]
    },
    {
     "name": "stdout",
     "output_type": "stream",
     "text": [
      "Optimal Solution:\n",
      "(133, 134)\n",
      "(135, 177)\n",
      "(58, 59)\n",
      "(157, 158)\n",
      "(138, 139)\n",
      "(230, 231)\n",
      "(244, 250)\n",
      "(277, 278)\n",
      "(158, 200)\n",
      "(117, 159)\n",
      "(99, 141)\n",
      "(14, 56)\n",
      "Objective Value: 12.0\n"
     ]
    },
    {
     "name": "stderr",
     "output_type": "stream",
     "text": [
      "100%|██████████| 737/737 [00:00<00:00, 3008.05it/s]\n",
      "100%|██████████| 737/737 [00:00<00:00, 2958.63it/s]\n"
     ]
    },
    {
     "name": "stdout",
     "output_type": "stream",
     "text": [
      "Optimal Solution:\n",
      "(133, 134)\n",
      "(58, 59)\n",
      "(198, 199)\n",
      "(157, 158)\n",
      "(171, 177)\n",
      "(138, 139)\n",
      "(230, 231)\n",
      "(271, 277)\n",
      "(244, 250)\n",
      "(117, 159)\n",
      "(99, 141)\n",
      "(14, 20)\n",
      "Objective Value: 12.0\n"
     ]
    },
    {
     "name": "stderr",
     "output_type": "stream",
     "text": [
      "100%|██████████| 737/737 [00:00<00:00, 2941.22it/s]\n",
      "100%|██████████| 737/737 [00:00<00:00, 2876.02it/s]\n"
     ]
    },
    {
     "name": "stdout",
     "output_type": "stream",
     "text": [
      "Optimal Solution:\n",
      "(114, 156)\n",
      "(175, 217)\n",
      "(98, 104)\n",
      "(190, 232)\n",
      "(12, 18)\n",
      "(111, 153)\n",
      "(105, 106)\n",
      "(230, 231)\n",
      "(171, 172)\n",
      "(271, 277)\n",
      "(117, 159)\n",
      "(150, 192)\n",
      "Objective Value: 12.0\n"
     ]
    },
    {
     "name": "stderr",
     "output_type": "stream",
     "text": [
      "100%|██████████| 737/737 [00:00<00:00, 2421.96it/s]\n",
      "100%|██████████| 737/737 [00:00<00:00, 2377.35it/s]\n"
     ]
    },
    {
     "name": "stdout",
     "output_type": "stream",
     "text": [
      "Optimal Solution:\n",
      "(232, 274)\n",
      "(229, 230)\n",
      "(58, 59)\n",
      "(98, 104)\n",
      "(165, 166)\n",
      "(130, 172)\n",
      "(278, 279)\n",
      "(217, 259)\n",
      "(158, 200)\n",
      "(117, 159)\n",
      "(14, 20)\n",
      "(66, 67)\n",
      "Objective Value: 12.0\n"
     ]
    },
    {
     "name": "stderr",
     "output_type": "stream",
     "text": [
      "100%|██████████| 737/737 [00:00<00:00, 3001.88it/s]\n",
      "100%|██████████| 737/737 [00:00<00:00, 3006.15it/s]\n"
     ]
    },
    {
     "name": "stdout",
     "output_type": "stream",
     "text": [
      "Optimal Solution:\n",
      "(49, 55)\n",
      "(232, 274)\n",
      "(114, 156)\n",
      "(229, 230)\n",
      "(175, 217)\n",
      "(290, 291)\n",
      "(171, 177)\n",
      "(53, 59)\n",
      "(158, 200)\n",
      "(117, 159)\n",
      "(99, 141)\n",
      "(165, 207)\n",
      "Objective Value: 12.0\n"
     ]
    },
    {
     "name": "stderr",
     "output_type": "stream",
     "text": [
      "100%|██████████| 737/737 [00:00<00:00, 2173.61it/s]\n",
      "100%|██████████| 737/737 [00:00<00:00, 2169.27it/s]\n"
     ]
    },
    {
     "name": "stdout",
     "output_type": "stream",
     "text": [
      "Optimal Solution:\n",
      "(229, 230)\n",
      "(111, 112)\n",
      "(75, 117)\n",
      "(142, 184)\n",
      "(175, 217)\n",
      "(190, 232)\n",
      "(264, 270)\n",
      "(130, 172)\n",
      "(12, 54)\n",
      "(104, 146)\n",
      "(100, 106)\n",
      "(33, 34)\n",
      "Objective Value: 12.0\n"
     ]
    },
    {
     "name": "stderr",
     "output_type": "stream",
     "text": [
      "100%|██████████| 737/737 [00:00<00:00, 2355.47it/s]\n",
      "100%|██████████| 737/737 [00:00<00:00, 2353.75it/s]\n"
     ]
    },
    {
     "name": "stdout",
     "output_type": "stream",
     "text": [
      "Optimal Solution:\n",
      "(274, 280)\n",
      "(229, 230)\n",
      "(111, 112)\n",
      "(98, 104)\n",
      "(157, 158)\n",
      "(12, 54)\n",
      "(171, 177)\n",
      "(105, 106)\n",
      "(138, 139)\n",
      "(244, 250)\n",
      "(277, 283)\n",
      "(117, 159)\n",
      "(99, 141)\n",
      "Objective Value: 13.0\n"
     ]
    },
    {
     "name": "stderr",
     "output_type": "stream",
     "text": [
      "100%|██████████| 736/736 [00:00<00:00, 2538.50it/s]\n",
      "100%|██████████| 736/736 [00:00<00:00, 2489.64it/s]\n"
     ]
    },
    {
     "name": "stdout",
     "output_type": "stream",
     "text": [
      "Optimal Solution:\n",
      "(114, 156)\n",
      "(229, 230)\n",
      "(175, 217)\n",
      "(190, 232)\n",
      "(165, 166)\n",
      "(130, 172)\n",
      "(104, 146)\n",
      "(53, 59)\n",
      "(244, 250)\n",
      "(158, 200)\n",
      "(117, 159)\n",
      "(91, 133)\n",
      "(14, 20)\n",
      "Objective Value: 13.0\n"
     ]
    },
    {
     "name": "stderr",
     "output_type": "stream",
     "text": [
      "100%|██████████| 736/736 [00:00<00:00, 2200.15it/s]\n",
      "100%|██████████| 736/736 [00:00<00:00, 2199.64it/s]\n"
     ]
    },
    {
     "name": "stdout",
     "output_type": "stream",
     "text": [
      "Optimal Solution:\n",
      "(90, 91)\n",
      "(111, 112)\n",
      "(175, 217)\n",
      "(58, 59)\n",
      "(98, 104)\n",
      "(189, 231)\n",
      "(190, 232)\n",
      "(130, 172)\n",
      "(271, 277)\n",
      "(33, 39)\n",
      "(117, 159)\n",
      "(14, 20)\n",
      "(66, 67)\n",
      "Objective Value: 13.0\n"
     ]
    },
    {
     "name": "stderr",
     "output_type": "stream",
     "text": [
      "100%|██████████| 736/736 [00:00<00:00, 1708.17it/s]\n",
      "100%|██████████| 736/736 [00:00<00:00, 3135.24it/s]\n"
     ]
    },
    {
     "name": "stdout",
     "output_type": "stream",
     "text": [
      "Optimal Solution:\n",
      "(90, 91)\n",
      "(111, 112)\n",
      "(157, 158)\n",
      "(231, 237)\n",
      "(12, 54)\n",
      "(171, 177)\n",
      "(105, 106)\n",
      "(138, 139)\n",
      "(230, 231)\n",
      "(271, 277)\n",
      "(277, 278)\n",
      "(117, 159)\n",
      "(99, 141)\n",
      "Objective Value: 13.0\n"
     ]
    },
    {
     "name": "stderr",
     "output_type": "stream",
     "text": [
      "100%|██████████| 736/736 [00:00<00:00, 2418.36it/s]\n",
      "100%|██████████| 736/736 [00:00<00:00, 2376.41it/s]\n"
     ]
    },
    {
     "name": "stdout",
     "output_type": "stream",
     "text": [
      "Optimal Solution:\n",
      "(232, 274)\n",
      "(114, 156)\n",
      "(229, 230)\n",
      "(111, 112)\n",
      "(157, 158)\n",
      "(12, 54)\n",
      "(171, 177)\n",
      "(105, 106)\n",
      "(138, 139)\n",
      "(277, 283)\n",
      "(278, 279)\n",
      "(117, 159)\n",
      "(99, 141)\n",
      "Objective Value: 13.0\n"
     ]
    },
    {
     "name": "stderr",
     "output_type": "stream",
     "text": [
      "100%|██████████| 736/736 [00:00<00:00, 2173.24it/s]\n",
      "100%|██████████| 736/736 [00:00<00:00, 2191.04it/s]\n"
     ]
    },
    {
     "name": "stdout",
     "output_type": "stream",
     "text": [
      "Optimal Solution:\n",
      "(229, 230)\n",
      "(111, 112)\n",
      "(103, 104)\n",
      "(175, 217)\n",
      "(190, 232)\n",
      "(130, 172)\n",
      "(105, 106)\n",
      "(33, 39)\n",
      "(117, 159)\n",
      "(250, 292)\n",
      "(99, 141)\n",
      "(14, 20)\n",
      "(66, 67)\n",
      "Objective Value: 13.0\n"
     ]
    },
    {
     "name": "stderr",
     "output_type": "stream",
     "text": [
      "100%|██████████| 736/736 [00:00<00:00, 1871.14it/s]\n",
      "100%|██████████| 736/736 [00:00<00:00, 1904.07it/s]\n"
     ]
    },
    {
     "name": "stdout",
     "output_type": "stream",
     "text": [
      "Optimal Solution:\n",
      "(141, 142)\n",
      "(229, 230)\n",
      "(111, 112)\n",
      "(175, 217)\n",
      "(98, 104)\n",
      "(190, 232)\n",
      "(283, 289)\n",
      "(130, 172)\n",
      "(12, 54)\n",
      "(104, 146)\n",
      "(33, 75)\n",
      "(250, 292)\n",
      "(100, 106)\n",
      "Objective Value: 13.0\n"
     ]
    },
    {
     "name": "stderr",
     "output_type": "stream",
     "text": [
      "100%|██████████| 736/736 [00:00<00:00, 2602.27it/s]\n",
      "100%|██████████| 736/736 [00:00<00:00, 2600.25it/s]\n"
     ]
    },
    {
     "name": "stdout",
     "output_type": "stream",
     "text": [
      "Optimal Solution:\n",
      "(90, 91)\n",
      "(229, 230)\n",
      "(111, 112)\n",
      "(190, 232)\n",
      "(12, 54)\n",
      "(171, 177)\n",
      "(105, 106)\n",
      "(138, 139)\n",
      "(271, 277)\n",
      "(33, 75)\n",
      "(117, 159)\n",
      "(99, 141)\n",
      "(150, 192)\n",
      "Objective Value: 13.0\n"
     ]
    },
    {
     "name": "stderr",
     "output_type": "stream",
     "text": [
      "100%|██████████| 736/736 [00:00<00:00, 2469.36it/s]\n",
      "100%|██████████| 736/736 [00:00<00:00, 2432.93it/s]\n"
     ]
    },
    {
     "name": "stdout",
     "output_type": "stream",
     "text": [
      "Optimal Solution:\n",
      "(229, 230)\n",
      "(111, 112)\n",
      "(175, 217)\n",
      "(98, 104)\n",
      "(190, 232)\n",
      "(283, 289)\n",
      "(130, 172)\n",
      "(12, 54)\n",
      "(104, 146)\n",
      "(138, 139)\n",
      "(33, 75)\n",
      "(100, 106)\n",
      "(150, 192)\n",
      "Objective Value: 13.0\n"
     ]
    },
    {
     "name": "stderr",
     "output_type": "stream",
     "text": [
      "100%|██████████| 736/736 [00:00<00:00, 2238.84it/s]\n",
      "100%|██████████| 736/736 [00:00<00:00, 2230.03it/s]\n"
     ]
    },
    {
     "name": "stdout",
     "output_type": "stream",
     "text": [
      "Optimal Solution:\n",
      "(49, 55)\n",
      "(114, 156)\n",
      "(111, 112)\n",
      "(139, 145)\n",
      "(190, 232)\n",
      "(197, 203)\n",
      "(171, 177)\n",
      "(105, 106)\n",
      "(230, 231)\n",
      "(271, 277)\n",
      "(117, 159)\n",
      "(99, 141)\n",
      "(150, 192)\n",
      "Objective Value: 13.0\n"
     ]
    },
    {
     "name": "stderr",
     "output_type": "stream",
     "text": [
      "100%|██████████| 736/736 [00:00<00:00, 1612.01it/s]\n",
      "100%|██████████| 736/736 [00:00<00:00, 1625.23it/s]\n"
     ]
    },
    {
     "name": "stdout",
     "output_type": "stream",
     "text": [
      "Optimal Solution:\n",
      "(229, 230)\n",
      "(111, 112)\n",
      "(103, 104)\n",
      "(175, 217)\n",
      "(190, 232)\n",
      "(130, 172)\n",
      "(12, 54)\n",
      "(105, 106)\n",
      "(244, 250)\n",
      "(66, 108)\n",
      "(117, 159)\n",
      "(99, 141)\n",
      "(150, 192)\n",
      "Objective Value: 13.0\n"
     ]
    },
    {
     "name": "stderr",
     "output_type": "stream",
     "text": [
      "100%|██████████| 736/736 [00:00<00:00, 3975.95it/s]\n",
      "100%|██████████| 736/736 [00:00<00:00, 3965.30it/s]\n"
     ]
    },
    {
     "name": "stdout",
     "output_type": "stream",
     "text": [
      "Optimal Solution:\n",
      "(229, 230)\n",
      "(111, 112)\n",
      "(175, 217)\n",
      "(58, 59)\n",
      "(190, 232)\n",
      "(130, 172)\n",
      "(244, 250)\n",
      "(66, 108)\n",
      "(158, 200)\n",
      "(117, 159)\n",
      "(99, 141)\n",
      "(150, 192)\n",
      "(14, 20)\n",
      "Objective Value: 13.0\n"
     ]
    },
    {
     "name": "stderr",
     "output_type": "stream",
     "text": [
      "100%|██████████| 736/736 [00:00<00:00, 2624.41it/s]\n",
      "100%|██████████| 736/736 [00:00<00:00, 2637.10it/s]\n"
     ]
    },
    {
     "name": "stdout",
     "output_type": "stream",
     "text": [
      "Optimal Solution:\n",
      "(141, 142)\n",
      "(63, 64)\n",
      "(229, 230)\n",
      "(175, 217)\n",
      "(130, 172)\n",
      "(12, 54)\n",
      "(152, 158)\n",
      "(244, 250)\n",
      "(33, 75)\n",
      "(193, 194)\n",
      "(100, 106)\n",
      "(150, 192)\n",
      "(225, 231)\n",
      "Objective Value: 13.0\n"
     ]
    },
    {
     "name": "stderr",
     "output_type": "stream",
     "text": [
      "100%|██████████| 736/736 [00:00<00:00, 1712.67it/s]\n",
      "100%|██████████| 736/736 [00:00<00:00, 1716.83it/s]\n"
     ]
    },
    {
     "ename": "KeyboardInterrupt",
     "evalue": "",
     "output_type": "error",
     "traceback": [
      "\u001b[0;31m---------------------------------------------------------------------------\u001b[0m",
      "\u001b[0;31mKeyboardInterrupt\u001b[0m                         Traceback (most recent call last)",
      "Cell \u001b[0;32mIn[54], line 5\u001b[0m\n\u001b[1;32m      3\u001b[0m \u001b[38;5;28;01mwhile\u001b[39;00m GC\u001b[38;5;241m.\u001b[39mdict_blocked_edges :\n\u001b[1;32m      4\u001b[0m     GC \u001b[38;5;241m=\u001b[39m Graph_Cycles(Blocked_edges,Marked_edges)\n\u001b[0;32m----> 5\u001b[0m     cycles,new_marked \u001b[38;5;241m=\u001b[39m \u001b[43mresolve_MIP\u001b[49m\u001b[43m(\u001b[49m\u001b[43mcycles\u001b[49m\u001b[43m,\u001b[49m\u001b[43mBlocked_edges\u001b[49m\u001b[43m,\u001b[49m\u001b[43mMarked_edges\u001b[49m\u001b[43m)\u001b[49m\n\u001b[1;32m      6\u001b[0m     Marked_edges \u001b[38;5;241m=\u001b[39m new_marked\n",
      "Cell \u001b[0;32mIn[30], line 32\u001b[0m, in \u001b[0;36mresolve_MIP\u001b[0;34m(cycles, Blocked_edges, Marked_edges)\u001b[0m\n\u001b[1;32m     29\u001b[0m     problem \u001b[38;5;241m+\u001b[39m\u001b[38;5;241m=\u001b[39m pulp\u001b[38;5;241m.\u001b[39mlpSum(x[i] \u001b[38;5;28;01mfor\u001b[39;00m i \u001b[38;5;129;01min\u001b[39;00m edge) \u001b[38;5;241m>\u001b[39m\u001b[38;5;241m=\u001b[39m \u001b[38;5;241m1\u001b[39m\n\u001b[1;32m     31\u001b[0m \u001b[38;5;66;03m# Solve the MIP problem\u001b[39;00m\n\u001b[0;32m---> 32\u001b[0m \u001b[43mproblem\u001b[49m\u001b[38;5;241;43m.\u001b[39;49m\u001b[43msolve\u001b[49m\u001b[43m(\u001b[49m\u001b[43mpulp\u001b[49m\u001b[38;5;241;43m.\u001b[39;49m\u001b[43mPULP_CBC_CMD\u001b[49m\u001b[43m(\u001b[49m\u001b[43mmsg\u001b[49m\u001b[38;5;241;43m=\u001b[39;49m\u001b[38;5;28;43;01mFalse\u001b[39;49;00m\u001b[43m)\u001b[49m\u001b[43m)\u001b[49m\n\u001b[1;32m     34\u001b[0m \u001b[38;5;66;03m# Print the optimal solution\u001b[39;00m\n\u001b[1;32m     35\u001b[0m \u001b[38;5;28mprint\u001b[39m(\u001b[38;5;124m\"\u001b[39m\u001b[38;5;124mOptimal Solution:\u001b[39m\u001b[38;5;124m\"\u001b[39m)\n",
      "File \u001b[0;32m~/.local/lib/python3.11/site-packages/pulp/pulp.py:1883\u001b[0m, in \u001b[0;36mLpProblem.solve\u001b[0;34m(self, solver, **kwargs)\u001b[0m\n\u001b[1;32m   1881\u001b[0m \u001b[38;5;66;03m# time it\u001b[39;00m\n\u001b[1;32m   1882\u001b[0m \u001b[38;5;28mself\u001b[39m\u001b[38;5;241m.\u001b[39mstartClock()\n\u001b[0;32m-> 1883\u001b[0m status \u001b[38;5;241m=\u001b[39m \u001b[43msolver\u001b[49m\u001b[38;5;241;43m.\u001b[39;49m\u001b[43mactualSolve\u001b[49m\u001b[43m(\u001b[49m\u001b[38;5;28;43mself\u001b[39;49m\u001b[43m,\u001b[49m\u001b[43m \u001b[49m\u001b[38;5;241;43m*\u001b[39;49m\u001b[38;5;241;43m*\u001b[39;49m\u001b[43mkwargs\u001b[49m\u001b[43m)\u001b[49m\n\u001b[1;32m   1884\u001b[0m \u001b[38;5;28mself\u001b[39m\u001b[38;5;241m.\u001b[39mstopClock()\n\u001b[1;32m   1885\u001b[0m \u001b[38;5;28mself\u001b[39m\u001b[38;5;241m.\u001b[39mrestoreObjective(wasNone, dummyVar)\n",
      "File \u001b[0;32m~/.local/lib/python3.11/site-packages/pulp/apis/coin_api.py:112\u001b[0m, in \u001b[0;36mCOIN_CMD.actualSolve\u001b[0;34m(self, lp, **kwargs)\u001b[0m\n\u001b[1;32m    110\u001b[0m \u001b[38;5;28;01mdef\u001b[39;00m \u001b[38;5;21mactualSolve\u001b[39m(\u001b[38;5;28mself\u001b[39m, lp, \u001b[38;5;241m*\u001b[39m\u001b[38;5;241m*\u001b[39mkwargs):\n\u001b[1;32m    111\u001b[0m \u001b[38;5;250m    \u001b[39m\u001b[38;5;124;03m\"\"\"Solve a well formulated lp problem\"\"\"\u001b[39;00m\n\u001b[0;32m--> 112\u001b[0m     \u001b[38;5;28;01mreturn\u001b[39;00m \u001b[38;5;28;43mself\u001b[39;49m\u001b[38;5;241;43m.\u001b[39;49m\u001b[43msolve_CBC\u001b[49m\u001b[43m(\u001b[49m\u001b[43mlp\u001b[49m\u001b[43m,\u001b[49m\u001b[43m \u001b[49m\u001b[38;5;241;43m*\u001b[39;49m\u001b[38;5;241;43m*\u001b[39;49m\u001b[43mkwargs\u001b[49m\u001b[43m)\u001b[49m\n",
      "File \u001b[0;32m~/.local/lib/python3.11/site-packages/pulp/apis/coin_api.py:178\u001b[0m, in \u001b[0;36mCOIN_CMD.solve_CBC\u001b[0;34m(self, lp, use_mps)\u001b[0m\n\u001b[1;32m    176\u001b[0m \u001b[38;5;28;01melse\u001b[39;00m:\n\u001b[1;32m    177\u001b[0m     cbc \u001b[38;5;241m=\u001b[39m subprocess\u001b[38;5;241m.\u001b[39mPopen(args, stdout\u001b[38;5;241m=\u001b[39mpipe, stderr\u001b[38;5;241m=\u001b[39mpipe, stdin\u001b[38;5;241m=\u001b[39mdevnull)\n\u001b[0;32m--> 178\u001b[0m \u001b[38;5;28;01mif\u001b[39;00m \u001b[43mcbc\u001b[49m\u001b[38;5;241;43m.\u001b[39;49m\u001b[43mwait\u001b[49m\u001b[43m(\u001b[49m\u001b[43m)\u001b[49m \u001b[38;5;241m!=\u001b[39m \u001b[38;5;241m0\u001b[39m:\n\u001b[1;32m    179\u001b[0m     \u001b[38;5;28;01mif\u001b[39;00m pipe:\n\u001b[1;32m    180\u001b[0m         pipe\u001b[38;5;241m.\u001b[39mclose()\n",
      "File \u001b[0;32m/cvmfs/soft.computecanada.ca/easybuild/software/2020/avx2/Core/python/3.11.5/lib/python3.11/subprocess.py:1264\u001b[0m, in \u001b[0;36mPopen.wait\u001b[0;34m(self, timeout)\u001b[0m\n\u001b[1;32m   1262\u001b[0m     endtime \u001b[38;5;241m=\u001b[39m _time() \u001b[38;5;241m+\u001b[39m timeout\n\u001b[1;32m   1263\u001b[0m \u001b[38;5;28;01mtry\u001b[39;00m:\n\u001b[0;32m-> 1264\u001b[0m     \u001b[38;5;28;01mreturn\u001b[39;00m \u001b[38;5;28;43mself\u001b[39;49m\u001b[38;5;241;43m.\u001b[39;49m\u001b[43m_wait\u001b[49m\u001b[43m(\u001b[49m\u001b[43mtimeout\u001b[49m\u001b[38;5;241;43m=\u001b[39;49m\u001b[43mtimeout\u001b[49m\u001b[43m)\u001b[49m\n\u001b[1;32m   1265\u001b[0m \u001b[38;5;28;01mexcept\u001b[39;00m \u001b[38;5;167;01mKeyboardInterrupt\u001b[39;00m:\n\u001b[1;32m   1266\u001b[0m     \u001b[38;5;66;03m# https://bugs.python.org/issue25942\u001b[39;00m\n\u001b[1;32m   1267\u001b[0m     \u001b[38;5;66;03m# The first keyboard interrupt waits briefly for the child to\u001b[39;00m\n\u001b[1;32m   1268\u001b[0m     \u001b[38;5;66;03m# exit under the common assumption that it also received the ^C\u001b[39;00m\n\u001b[1;32m   1269\u001b[0m     \u001b[38;5;66;03m# generated SIGINT and will exit rapidly.\u001b[39;00m\n\u001b[1;32m   1270\u001b[0m     \u001b[38;5;28;01mif\u001b[39;00m timeout \u001b[38;5;129;01mis\u001b[39;00m \u001b[38;5;129;01mnot\u001b[39;00m \u001b[38;5;28;01mNone\u001b[39;00m:\n",
      "File \u001b[0;32m/cvmfs/soft.computecanada.ca/easybuild/software/2020/avx2/Core/python/3.11.5/lib/python3.11/subprocess.py:2046\u001b[0m, in \u001b[0;36mPopen._wait\u001b[0;34m(self, timeout)\u001b[0m\n\u001b[1;32m   2044\u001b[0m \u001b[38;5;28;01mif\u001b[39;00m \u001b[38;5;28mself\u001b[39m\u001b[38;5;241m.\u001b[39mreturncode \u001b[38;5;129;01mis\u001b[39;00m \u001b[38;5;129;01mnot\u001b[39;00m \u001b[38;5;28;01mNone\u001b[39;00m:\n\u001b[1;32m   2045\u001b[0m     \u001b[38;5;28;01mbreak\u001b[39;00m  \u001b[38;5;66;03m# Another thread waited.\u001b[39;00m\n\u001b[0;32m-> 2046\u001b[0m (pid, sts) \u001b[38;5;241m=\u001b[39m \u001b[38;5;28;43mself\u001b[39;49m\u001b[38;5;241;43m.\u001b[39;49m\u001b[43m_try_wait\u001b[49m\u001b[43m(\u001b[49m\u001b[38;5;241;43m0\u001b[39;49m\u001b[43m)\u001b[49m\n\u001b[1;32m   2047\u001b[0m \u001b[38;5;66;03m# Check the pid and loop as waitpid has been known to\u001b[39;00m\n\u001b[1;32m   2048\u001b[0m \u001b[38;5;66;03m# return 0 even without WNOHANG in odd situations.\u001b[39;00m\n\u001b[1;32m   2049\u001b[0m \u001b[38;5;66;03m# http://bugs.python.org/issue14396.\u001b[39;00m\n\u001b[1;32m   2050\u001b[0m \u001b[38;5;28;01mif\u001b[39;00m pid \u001b[38;5;241m==\u001b[39m \u001b[38;5;28mself\u001b[39m\u001b[38;5;241m.\u001b[39mpid:\n",
      "File \u001b[0;32m/cvmfs/soft.computecanada.ca/easybuild/software/2020/avx2/Core/python/3.11.5/lib/python3.11/subprocess.py:2004\u001b[0m, in \u001b[0;36mPopen._try_wait\u001b[0;34m(self, wait_flags)\u001b[0m\n\u001b[1;32m   2002\u001b[0m \u001b[38;5;250m\u001b[39m\u001b[38;5;124;03m\"\"\"All callers to this function MUST hold self._waitpid_lock.\"\"\"\u001b[39;00m\n\u001b[1;32m   2003\u001b[0m \u001b[38;5;28;01mtry\u001b[39;00m:\n\u001b[0;32m-> 2004\u001b[0m     (pid, sts) \u001b[38;5;241m=\u001b[39m os\u001b[38;5;241m.\u001b[39mwaitpid(\u001b[38;5;28mself\u001b[39m\u001b[38;5;241m.\u001b[39mpid, wait_flags)\n\u001b[1;32m   2005\u001b[0m \u001b[38;5;28;01mexcept\u001b[39;00m \u001b[38;5;167;01mChildProcessError\u001b[39;00m:\n\u001b[1;32m   2006\u001b[0m     \u001b[38;5;66;03m# This happens if SIGCLD is set to be ignored or waiting\u001b[39;00m\n\u001b[1;32m   2007\u001b[0m     \u001b[38;5;66;03m# for child processes has otherwise been disabled for our\u001b[39;00m\n\u001b[1;32m   2008\u001b[0m     \u001b[38;5;66;03m# process.  This child is dead, we can't get the status.\u001b[39;00m\n\u001b[1;32m   2009\u001b[0m     pid \u001b[38;5;241m=\u001b[39m \u001b[38;5;28mself\u001b[39m\u001b[38;5;241m.\u001b[39mpid\n",
      "\u001b[0;31mKeyboardInterrupt\u001b[0m: "
     ]
    }
   ],
   "source": [
    "Blocked_edges = Edges\n",
    "cycles = []\n",
    "while GC.dict_blocked_edges :\n",
    "    GC = Graph_Cycles(Blocked_edges,Marked_edges)\n",
    "    cycles,new_marked = resolve_MIP(cycles,Blocked_edges,Marked_edges)\n",
    "    Marked_edges = new_marked\n",
    "    "
   ]
  },
  {
   "cell_type": "markdown",
   "metadata": {},
   "source": [
    "## Debuggage"
   ]
  },
  {
   "cell_type": "code",
   "execution_count": 5,
   "metadata": {},
   "outputs": [],
   "source": [
    "import pickle\n",
    "\n",
    "# Pickle Edges\n",
    "with open('edges.pickle', 'rb') as f:\n",
    "    Edges = pickle.load(f)\n"
   ]
  },
  {
   "cell_type": "code",
   "execution_count": 6,
   "metadata": {},
   "outputs": [
    {
     "data": {
      "text/plain": [
       "26"
      ]
     },
     "execution_count": 6,
     "metadata": {},
     "output_type": "execute_result"
    }
   ],
   "source": [
    "def find_cycle_impair(GC):\n",
    "    path = nx.shortest_path(GC.Graph_cycles,0,1)\n",
    "    tried_paths = set()\n",
    "    while not GC.get_full_cycle(path) and tuple(path) not in tried_paths:\n",
    "        cpt1 = np.random.randint(0,len(GC.dict_blocked_edges))\n",
    "        blocked_edge = list(GC.dict_blocked_edges.keys())[cpt1]\n",
    "        cycle_blocked = GC.dict_blocked_edges[blocked_edge]\n",
    "        if len(cycle_blocked) == 0:\n",
    "            print(\"---------------------\")\n",
    "            print(cpt1)\n",
    "            print(\"--------------------\")\n",
    "        cycle_blocked_index = GC.cycles_index[cycle_blocked[np.random.randint(0,len(cycle_blocked))]]\n",
    "        cycle_index = np.random.randint(0,len(GC.cycles))\n",
    "        tried_paths.add(tuple(path))\n",
    "        path = nx.shortest_path(GC.Graph_cycles,cycle_index,cycle_blocked_index)\n",
    "    return GC.get_full_cycle(path)"
   ]
  },
  {
   "cell_type": "code",
   "execution_count": null,
   "metadata": {},
   "outputs": [],
   "source": [
    "def find_impair_cycle(GC):\n",
    "    \n",
    "    for path in GC."
   ]
  },
  {
   "cell_type": "code",
   "execution_count": null,
   "metadata": {},
   "outputs": [],
   "source": []
  },
  {
   "cell_type": "code",
   "execution_count": 25,
   "metadata": {},
   "outputs": [],
   "source": [
    "Marked_edges = [[(-2, 0, 0), (-2, 0, 1)], [(0, -2, 2), (0, -1, 2)], [(1, 1, -1), (2, 1, -1)], [(1, -2, 2), (1, -1, 2)], [(2, 0, 0), (2, 0, 1)], [(1, 1, 2), (1, 1, 3)], [(-2, 0, 3), (-1, 0, 3)], [(-1, 2, 2), (-1, 2, 3)], [(0, 3, 2), (0, 3, 3)], [(-1, -1, 1), (-1, -1, 2)], [(-3, 3, 1), (-2, 3, 1)], [(2, 0, 2), (2, 0, 3)], [(1, -3, 2), (1, -3, 3)], [(1, -1, 4), (1, 0, 4)], [(2, 1, 2), (2, 1, 3)], [(-2, -1, 4), (-1, -1, 4)], [(3, -3, -1), (3, -3, 0)], [(1, 1, 0), (1, 1, 1)], [(-2, -1, 3), (-1, -1, 3)], [(-1, -2, 0), (0, -2, 0)]]\n"
   ]
  },
  {
   "cell_type": "code",
   "execution_count": 26,
   "metadata": {},
   "outputs": [
    {
     "name": "stderr",
     "output_type": "stream",
     "text": [
      " 64%|██████▍   | 467/729 [00:00<00:00, 2260.69it/s]"
     ]
    },
    {
     "name": "stderr",
     "output_type": "stream",
     "text": [
      "100%|██████████| 729/729 [00:00<00:00, 1787.85it/s]\n"
     ]
    }
   ],
   "source": [
    "GC = Graph_Cycles(Edges,Marked_edges)\n",
    "G = GraphGrid3D(Edges,[])\n",
    "cycle = find_cycle_impair(GC)"
   ]
  },
  {
   "cell_type": "code",
   "execution_count": 27,
   "metadata": {},
   "outputs": [
    {
     "data": {
      "text/plain": [
       "(-1.0, 4.0)"
      ]
     },
     "execution_count": 27,
     "metadata": {},
     "output_type": "execute_result"
    },
    {
     "data": {
      "application/vnd.jupyter.widget-view+json": {
       "model_id": "4443296247fb40869f908588372dfe19",
       "version_major": 2,
       "version_minor": 0
      },
      "image/png": "[encoded data removed]",
      "text/html": [
       "\n",
       "            <div style=\"display: inline-block;\">\n",
       "                <div class=\"jupyter-widgets widget-label\" style=\"text-align: center;\">\n",
       "                    Figure\n",
       "                </div>\n",
       "                <img src='data:image/png;base64,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' width=640.0/>\n",
       "            </div>\n",
       "        "
      ],
      "text/plain": [
       "Canvas(toolbar=Toolbar(toolitems=[('Home', 'Reset original view', 'home', 'home'), ('Back', 'Back to previous …"
      ]
     },
     "metadata": {},
     "output_type": "display_data"
    }
   ],
   "source": [
    "fig = plt.figure()\n",
    "ax = fig.add_subplot(111, projection='3d')\n",
    "ax.set_aspect('equal')\n",
    "X,Y,Z = [],[],[]\n",
    "\n",
    "# for cycle in GC.dict_blocked_edges[(62, 63)]:\n",
    "A,B,C = [],[],[]\n",
    "for point in cycle:\n",
    "    x, y, z = G.mapping[point]\n",
    "    A.append(x)\n",
    "    B.append(y)\n",
    "    C.append(z)\n",
    "    ##########\n",
    "    X.append(x)\n",
    "    Y.append(y)\n",
    "    Z.append(z)\n",
    "\n",
    "ax.plot(A, B, C,marker = \"o\") \n",
    "\n",
    "Blockii_edges = []\n",
    "for i in range(len(cycle)):\n",
    "    edge = min(cycle[i],cycle[(i+1)%len(cycle)]),max(cycle[i],cycle[(i+1)%len(cycle)])\n",
    "    if edge in G.blocked_edges:\n",
    "        Blockii_edges.append(edge)\n",
    "    \n",
    "for edge in Blockii_edges:\n",
    "    x,y,z = G.mapping[edge[0]]\n",
    "    x1,y1,z1 = G.mapping[edge[1]]\n",
    "    ax.plot([x,x1],[y,y1],[z,z1],color=\"black\")\n",
    "\n",
    "\n",
    "# origin = 180\n",
    "# x,y,z = G.mapping[origin]\n",
    "# ax.plot(x,y,z,color=\"black\",marker=\"x\")\n",
    "\n",
    "X,Y,Z = np.array(X),np.array(Y),np.array(Z)\n",
    "max_range = np.array([X.max()-X.min(), Y.max()-Y.min(), Z.max()-Z.min()]).max() / 2.0 \n",
    "\n",
    "mid_x = (X.max()+X.min()) * 0.5\n",
    "mid_y = (Y.max()+Y.min()) * 0.5\n",
    "mid_z = (Z.max()+Z.min()) * 0.5\n",
    "ax.set_xlim(mid_x - max_range, mid_x + max_range)\n",
    "ax.set_ylim(mid_y - max_range, mid_y + max_range)\n",
    "ax.set_zlim(mid_z - max_range, mid_z + max_range)"
   ]
  },
  {
   "cell_type": "code",
   "execution_count": 48,
   "metadata": {},
   "outputs": [
    {
     "name": "stderr",
     "output_type": "stream",
     "text": [
      "100%|██████████| 600/600 [00:00<00:00, 3724.61it/s]\n"
     ]
    }
   ],
   "source": [
    "G = GraphGrid3D(Edges,[])\n",
    "GC = Graph_Cycles(Edges,Marked_edges)"
   ]
  }
 ],
 "metadata": {
  "kernelspec": {
   "display_name": "Python 3",
   "language": "python",
   "name": "python3"
  },
  "language_info": {
   "codemirror_mode": {
    "name": "ipython",
    "version": 3
   },
   "file_extension": ".py",
   "mimetype": "text/x-python",
   "name": "python",
   "nbconvert_exporter": "python",
   "pygments_lexer": "ipython3",
   "version": "3.11.5"
  }
 },
 "nbformat": 4,
 "nbformat_minor": 2
}
