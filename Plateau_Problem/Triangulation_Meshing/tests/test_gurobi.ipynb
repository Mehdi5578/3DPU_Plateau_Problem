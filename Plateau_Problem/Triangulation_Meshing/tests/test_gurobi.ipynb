{
 "cells": [
  {
   "cell_type": "markdown",
   "metadata": {},
   "source": [
    "## Create the two loops"
   ]
  },
  {
   "cell_type": "code",
   "execution_count": 1,
   "metadata": {},
   "outputs": [],
   "source": [
    "import sys\n",
    "import sys\n",
    "import os\n",
    "ROOT  = \"../\"\n",
    "# Add current working directory to sys.path\n",
    "sys.path.append(ROOT)\n",
    "sys.path.append(\"/home/mehdii/projects/def-vidalthi/mehdii/3DPU_Plateau_Problem/\")\n",
    "from PointList import *\n",
    "%matplotlib widget \n",
    "import matplotlib\n",
    "from mpl_toolkits.mplot3d import Axes3D\n",
    "import matplotlib.pyplot as plt\n",
    "from tqdm import tqdm\n",
    "import math\n",
    "from _3DLoops._3dpu_using_dfs import *\n",
    "from Block_edges.block_edges import *\n",
    "import sys\n",
    "sys.path.append(\"/home/mehdii/projects/def-vidalthi/mehdii/3DPU_Plateau_Problem/MIP_constraints/Python/\")\n",
    "from CreatingCycles import *"
   ]
  },
  {
   "cell_type": "markdown",
   "metadata": {},
   "source": [
    "## The two loops"
   ]
  },
  {
   "cell_type": "code",
   "execution_count": 32,
   "metadata": {},
   "outputs": [],
   "source": [
    "def loop(r,O, num_points):\n",
    "    xo,yo,zo = O\n",
    "    points = PointList()\n",
    "    for n in tqdm(range(num_points)):\n",
    "        theta = n * 2 * math.pi / num_points\n",
    "        x = r * math.cos(theta) + xo\n",
    "        y = r * math.sin(theta) + yo\n",
    "        points.add_point((x,y,zo))\n",
    "    return points"
   ]
  },
  {
   "cell_type": "code",
   "execution_count": 33,
   "metadata": {},
   "outputs": [
    {
     "name": "stderr",
     "output_type": "stream",
     "text": [
      "100%|██████████| 100/100 [00:00<00:00, 22785.22it/s]\n",
      "100%|██████████| 100/100 [00:00<00:00, 524944.18it/s]\n",
      "100%|██████████| 100/100 [00:00<00:00, 177199.16it/s]\n",
      "100%|██████████| 100/100 [00:00<00:00, 557012.48it/s]\n"
     ]
    }
   ],
   "source": [
    "points1 = loop(2,(0,0,0.5), 100)\n",
    "points2 = loop(2,(0,0,1.5), 100)\n",
    "points3 = loop(2,(0,0,1), 100)\n",
    "points4 = loop(2,(0,0,2), 100)"
   ]
  },
  {
   "cell_type": "markdown",
   "metadata": {},
   "source": [
    "## Fill in the said loop"
   ]
  },
  {
   "cell_type": "code",
   "execution_count": 34,
   "metadata": {},
   "outputs": [
    {
     "name": "stdout",
     "output_type": "stream",
     "text": [
      "s is 4\n"
     ]
    },
    {
     "name": "stderr",
     "output_type": "stream",
     "text": [
      "100%|██████████| 900/900 [00:00<00:00, 193593.19it/s]\n",
      "100%|██████████| 900/900 [00:00<00:00, 128166.01it/s]\n",
      "100%|██████████| 501/501 [00:00<00:00, 592429.18it/s]\n",
      "100%|██████████| 401/401 [00:00<00:00, 29470.59it/s]\n"
     ]
    },
    {
     "name": "stdout",
     "output_type": "stream",
     "text": [
      "s is 4\n"
     ]
    },
    {
     "name": "stderr",
     "output_type": "stream",
     "text": [
      "100%|██████████| 900/900 [00:00<00:00, 196178.86it/s]\n",
      "100%|██████████| 900/900 [00:00<00:00, 140963.95it/s]\n",
      "100%|██████████| 501/501 [00:00<00:00, 675022.91it/s]\n",
      "100%|██████████| 401/401 [00:00<00:00, 29625.28it/s]\n"
     ]
    }
   ],
   "source": [
    "loops = [points1,points2]\n",
    "List_M = []\n",
    "for loop in loops:\n",
    "    M = Edge_Flipping(loop,10*len(loop.points))\n",
    "    M.create_quadrilaterals()\n",
    "    M.split_quadrilateral()\n",
    "    M.canonic_representation_from_mesh()\n",
    "    M.clean_triangles()\n",
    "    M.fill_edges()\n",
    "    M.update_weights()\n",
    "    M.mapping = [np.array(o) for o in M.mapping]\n",
    "    List_M.append(M)"
   ]
  },
  {
   "cell_type": "code",
   "execution_count": 35,
   "metadata": {},
   "outputs": [
    {
     "name": "stdout",
     "output_type": "stream",
     "text": [
      "900\n"
     ]
    },
    {
     "name": "stderr",
     "output_type": "stream",
     "text": [
      "100%|██████████| 401/401 [00:00<00:00, 47416.65it/s]\n",
      "1498it [00:00, 47383.97it/s]            \n",
      "1411it [00:00, 52787.95it/s]            \n",
      "100%|██████████| 1400/1400 [00:00<00:00, 53323.40it/s]\n"
     ]
    },
    {
     "name": "stdout",
     "output_type": "stream",
     "text": [
      "12.558103905862684 -2.398081733190338e-13 2.3898849947520095e-10 28\n"
     ]
    },
    {
     "name": "stderr",
     "output_type": "stream",
     "text": [
      "100%|██████████| 900/900 [00:01<00:00, 585.63it/s]\n"
     ]
    },
    {
     "name": "stdout",
     "output_type": "stream",
     "text": [
      "900\n"
     ]
    },
    {
     "name": "stderr",
     "output_type": "stream",
     "text": [
      "100%|██████████| 401/401 [00:00<00:00, 46294.24it/s]\n",
      "1514it [00:00, 47154.31it/s]            \n",
      "1409it [00:00, 53025.76it/s]            \n",
      "1401it [00:00, 52947.98it/s]            \n",
      "100%|██████████| 1400/1400 [00:00<00:00, 53679.24it/s]\n"
     ]
    },
    {
     "name": "stdout",
     "output_type": "stream",
     "text": [
      "12.558103905862692 -2.504663143554353e-13 8.558618758185621e-11 483\n"
     ]
    },
    {
     "name": "stderr",
     "output_type": "stream",
     "text": [
      "100%|██████████| 900/900 [00:01<00:00, 597.89it/s]\n"
     ]
    }
   ],
   "source": [
    "epsilon = 0.01\n",
    "List_edges = []\n",
    "for M in List_M:\n",
    "    area = M.calculate_area()\n",
    "    print(len(M.triangles))\n",
    "    for i in tqdm(M.inside_indexes):\n",
    "        M.update_mapping(i)\n",
    "    D = M.lawson_flip()\n",
    "    new_area = M.calculate_area()\n",
    "    print(new_area,area - new_area,M.compute_mean_curvature(),M.vertex_curvatures[M.compute_mean_curvature()])\n",
    "    while  area - new_area > epsilon:\n",
    "        area = M.calculate_area()\n",
    "        M.update_weights()\n",
    "        for i in tqdm(M.inside_indexes):\n",
    "            M.update_mapping(i)\n",
    "        M.lawson_flip()\n",
    "        new_area = M.calculate_area()\n",
    "    E = Block_edges(M.triangles,M.mapping)\n",
    "    E.block_all_the_edges()\n",
    "    List_edges.append(E.blocked_edges)\n"
   ]
  },
  {
   "cell_type": "code",
   "execution_count": 36,
   "metadata": {},
   "outputs": [
    {
     "name": "stderr",
     "output_type": "stream",
     "text": [
      "100%|██████████| 2/2 [00:00<00:00, 12671.61it/s]\n"
     ]
    }
   ],
   "source": [
    "Edges = []\n",
    "for list_edges in tqdm(List_edges):\n",
    "    for edge in list_edges:\n",
    "        \n",
    "        Edges.append([list(edge[0]),list(edge[1])])\n",
    "\n",
    "        \n",
    "Edges = set([tuple((tuple(edge[0]),tuple(edge[1]))) for edge in Edges])\n",
    "Edges = list(Edges)\n",
    "G = GraphGrid3D(Edges,[])"
   ]
  },
  {
   "cell_type": "code",
   "execution_count": 37,
   "metadata": {},
   "outputs": [],
   "source": [
    "import pickle\n",
    "\n",
    "# Dump Edges into a pickle file\n",
    "with open('edges.pickle', 'wb') as f:\n",
    "    pickle.dump(Edges, f)\n"
   ]
  },
  {
   "cell_type": "code",
   "execution_count": 49,
   "metadata": {},
   "outputs": [
    {
     "name": "stderr",
     "output_type": "stream",
     "text": [
      "/tmp/ipykernel_2828445/3971362852.py:1: RuntimeWarning: More than 20 figures have been opened. Figures created through the pyplot interface (`matplotlib.pyplot.figure`) are retained until explicitly closed and may consume too much memory. (To control this warning, see the rcParam `figure.max_open_warning`). Consider using `matplotlib.pyplot.close()`.\n",
      "  fig = plt.figure()\n"
     ]
    },
    {
     "data": {
      "application/vnd.jupyter.widget-view+json": {
       "model_id": "b592e1929c4644928a2a62f42978076a",
       "version_major": 2,
       "version_minor": 0
      },
      "image/png": "[encoded data removed]",
      "text/html": [
       "\n",
       "            <div style=\"display: inline-block;\">\n",
       "                <div class=\"jupyter-widgets widget-label\" style=\"text-align: center;\">\n",
       "                    Figure\n",
       "                </div>\n",
       "                <img src='data:image/png;base64,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' width=640.0/>\n",
       "            </div>\n",
       "        "
      ],
      "text/plain": [
       "Canvas(toolbar=Toolbar(toolitems=[('Home', 'Reset original view', 'home', 'home'), ('Back', 'Back to previous …"
      ]
     },
     "metadata": {},
     "output_type": "display_data"
    }
   ],
   "source": [
    "fig = plt.figure()\n",
    "ax = fig.add_subplot(111, projection='3d')\n",
    "ax.set_aspect('equal')\n",
    "\n",
    "X = []\n",
    "Y = []\n",
    "Z = []\n",
    "\n",
    "# Draw loop of points\n",
    "for point in points1.points:\n",
    "    x, y, z = point\n",
    "    X.append(x)\n",
    "    Y.append(y)\n",
    "    Z.append(z)\n",
    "\n",
    "ax.plot(X, Y, Z, color='b')\n",
    "\n",
    "X1,Y1,Z1 = [],[],[]\n",
    "\n",
    "for point in points2.points:\n",
    "    x, y, z = point\n",
    "    X1.append(x)\n",
    "    Y1.append(y)\n",
    "    Z1.append(z)\n",
    "ax.plot(X1, Y1, Z1, color='red')\n",
    "\n",
    "\n",
    "A,B,C = [],[],[]\n",
    "\n",
    "# for point in cycle:\n",
    "#     x, y, z = G.mapping[point]\n",
    "#     A.append(x)\n",
    "#     B.append(y)\n",
    "#     C.append(z)\n",
    "# ax.plot(A, B, C, color='green')\n",
    "\n",
    "# for cycle in cycles[110:111]:\n",
    "#     A,B,C = [],[],[]\n",
    "#     for point in cycle:\n",
    "#         x, y, z = G.mapping[point]\n",
    "#         A.append(x)\n",
    "#         B.append(y)\n",
    "#         C.append(z)\n",
    "#     ax.plot(A, B, C, color='green')\n",
    "# cycle = cycles[110]\n",
    "# Blockii_edges = []\n",
    "# for i in range(len(cycle)):\n",
    "#     edge = min(cycle[i],cycle[(i+1)%len(cycle)]),max(cycle[i],cycle[(i+1)%len(cycle)])\n",
    "\n",
    "#     Blockii_edges.append(edge)\n",
    "    \n",
    "# for edge in Blockii_edges:\n",
    "#     x,y,z = G.mapping[edge[0]]\n",
    "#     x1,y1,z1 = G.mapping[edge[1]]\n",
    "#     ax.plot([x,x1],[y,y1],[z,z1],color=\"black\")\n",
    "\n",
    "for edge in Edges:\n",
    "    ax.plot([edge[0][0],edge[1][0]],[edge[0][1],edge[1][1]],[edge[0][2],edge[1][2]],color='black')\n",
    "\n",
    "Marked_edges =[[(0, -2, 2), (0, -2, 3)], [(-1, -2, -1), (-1, -1, -1)], [(-2, -3, 1), (-2, -3, 2)], [(2, 0, 0), (3, 0, 0)], [(3, 0, 2), (3, 0, 3)], [(0, 1, 3), (0, 2, 3)], [(-2, 0, 0), (-2, 0, 1)], [(-1, 1, 0), (-1, 1, 1)], [(1, 3, 1), (1, 3, 2)], [(-1, 3, -1), (0, 3, -1)], [(-2, 0, 1), (-2, 0, 2)], [(2, 2, 3), (2, 3, 3)], [(1, -2, -1), (1, -1, -1)], [(0, 0, 1), (1, 0, 1)], [(2, 0, 2), (2, 0, 3)], [(-1, 1, 1), (-1, 1, 2)], [(-3, 2, -1), (-3, 3, -1)]]\n",
    "\n",
    "for edge in Marked_edges:\n",
    "    ax.plot([edge[0][0],edge[1][0]],[edge[0][1],edge[1][1]],[edge[0][2],edge[1][2]],color='red')\n",
    "\n",
    "# for point in Points:\n",
    "#     for point2 in  Points:\n",
    "#         if point != point2:\n",
    "#             ax.plot([point[0],point2[0]],[point[1],point2[1]],[point[2],point2[2]],color='green')\n",
    "#             X.append(point[0])\n",
    "#             Y.append(point[1])\n",
    "#             Z.append(point[2])\n",
    "\n",
    "X = np.concatenate((X,X1))\n",
    "Y = np.concatenate((Y,Y1))\n",
    "Z = np.concatenate((Z,Z1))\n",
    "\n",
    "max_range = np.array([X.max()-X.min(), Y.max()-Y.min(), Z.max()-Z.min()]).max() / 2.0 \n",
    "\n",
    "mid_x = (X.max()+X.min()) * 0.5\n",
    "mid_y = (Y.max()+Y.min()) * 0.5\n",
    "mid_z = (Z.max()+Z.min()) * 0.5\n",
    "ax.set_xlim(mid_x - max_range, mid_x + max_range)\n",
    "ax.set_ylim(mid_y - max_range, mid_y + max_range)\n",
    "ax.set_zlim(mid_z - max_range, mid_z + max_range)\n",
    "\n",
    "plt.show()\n"
   ]
  },
  {
   "cell_type": "code",
   "execution_count": 43,
   "metadata": {},
   "outputs": [],
   "source": [
    "G = GraphGrid3D(Edges,[])\n",
    "x_min,x_max,y_min,y_max,z_min,z_max = G.x_min,G.x_max,G.y_min,G.y_max,G.z_min,G.z_max\n",
    "Points = []\n",
    "for i in [x_min,x_max]:\n",
    "    for j in [y_min,y_max]:\n",
    "        for k in [z_min,z_max]:\n",
    "            Points.append((i,j,k))"
   ]
  },
  {
   "cell_type": "code",
   "execution_count": 13,
   "metadata": {},
   "outputs": [
    {
     "data": {
      "text/plain": [
       "[[(-2, 0, 0), (-2, 0, 1)],\n",
       " [(0, -2, 2), (0, -1, 2)],\n",
       " [(1, 1, -1), (2, 1, -1)],\n",
       " [(1, -2, 2), (1, -1, 2)],\n",
       " [(2, 0, 0), (2, 0, 1)],\n",
       " [(1, 1, 2), (1, 1, 3)],\n",
       " [(-2, 0, 3), (-1, 0, 3)],\n",
       " [(-1, 2, 2), (-1, 2, 3)],\n",
       " [(0, 3, 2), (0, 3, 3)],\n",
       " [(-1, -1, 1), (-1, -1, 2)],\n",
       " [(-3, 3, 1), (-2, 3, 1)],\n",
       " [(2, 0, 2), (2, 0, 3)],\n",
       " [(1, -3, 2), (1, -3, 3)],\n",
       " [(1, -1, 4), (1, 0, 4)],\n",
       " [(2, 1, 2), (2, 1, 3)],\n",
       " [(-2, -1, 4), (-1, -1, 4)],\n",
       " [(3, -3, -1), (3, -3, 0)],\n",
       " [(1, 1, 0), (1, 1, 1)],\n",
       " [(-2, -1, 3), (-1, -1, 3)],\n",
       " [(-1, -2, 0), (0, -2, 0)]]"
      ]
     },
     "execution_count": 13,
     "metadata": {},
     "output_type": "execute_result"
    }
   ],
   "source": [
    "Marked_edges"
   ]
  },
  {
   "cell_type": "markdown",
   "metadata": {},
   "source": [
    "## Gurobi Model"
   ]
  },
  {
   "cell_type": "code",
   "execution_count": 16,
   "metadata": {},
   "outputs": [],
   "source": [
    "import sys\n",
    "sys.path.append(\"/home/mehdii/projects/def-vidalthi/mehdii/3DPU_Plateau_Problem/MIP_constraints/Python/\")\n",
    "from CreatingCycles import *"
   ]
  },
  {
   "cell_type": "markdown",
   "metadata": {},
   "source": [
    "## Filling the MIP for problem constraints"
   ]
  },
  {
   "cell_type": "code",
   "execution_count": 17,
   "metadata": {},
   "outputs": [
    {
     "name": "stderr",
     "output_type": "stream",
     "text": [
      "100%|██████████| 356/356 [00:00<00:00, 8767.69it/s]"
     ]
    },
    {
     "name": "stdout",
     "output_type": "stream",
     "text": [
      "9\n"
     ]
    },
    {
     "name": "stderr",
     "output_type": "stream",
     "text": [
      "\n"
     ]
    },
    {
     "data": {
      "text/plain": [
       "1"
      ]
     },
     "execution_count": 17,
     "metadata": {},
     "output_type": "execute_result"
    }
   ],
   "source": [
    "Blocked_edges = Edges\n",
    "Marked_edges = Edges[:-1]\n",
    "GC = Graph_Cycles(Blocked_edges,Marked_edges)\n",
    "print(len(Marked_edges))\n",
    "len(Blocked_edges) - len(Marked_edges)"
   ]
  },
  {
   "cell_type": "code",
   "execution_count": 16,
   "metadata": {},
   "outputs": [],
   "source": [
    "def find_cycle_impair(GC):\n",
    "    path = nx.shortest_path(GC.Graph_cycles,0,1)\n",
    "    tried_paths = set()\n",
    "    while not GC.get_full_cycle(path) and tuple(path) not in tried_paths:\n",
    "        cpt1 = np.random.randint(0,len(GC.dict_blocked_edges))\n",
    "        blocked_edge = list(GC.dict_blocked_edges.keys())[cpt1]\n",
    "        cycle_blocked = GC.dict_blocked_edges[blocked_edge]\n",
    "        if len(cycle_blocked) == 0:\n",
    "            print(\"---------------------\")\n",
    "            print(cpt1)\n",
    "            print(\"--------------------\")\n",
    "        cycle_blocked_index = GC.cycles_index[cycle_blocked[np.random.randint(0,len(cycle_blocked))]]\n",
    "        cycle_index = np.random.randint(0,len(GC.cycles))\n",
    "        tried_paths.add(tuple(path))\n",
    "        path = nx.shortest_path(GC.Graph_cycles,cycle_index,cycle_blocked_index)\n",
    "    return GC.get_full_cycle(path)"
   ]
  },
  {
   "cell_type": "code",
   "execution_count": 42,
   "metadata": {},
   "outputs": [
    {
     "name": "stderr",
     "output_type": "stream",
     "text": [
      "100%|██████████| 67/67 [00:00<00:00, 55275.05it/s]\n"
     ]
    }
   ],
   "source": [
    "Marked_edges = [[(1, -1, 2), (1, -1, 3)], [(-1, 1, 0), (-1, 1, 1)], [(1, 1, 0), (1, 1, 1)], [(-1, -1, 0), (-1, -1, 1)], [(-1, 1, 2), (-1, 1, 3)], [(1, -1, 0), (1, -1, 1)], [(1, 1, 2), (1, 1, 3)], [(-1, -1, 2), (-1, -1, 3)]]\n",
    "GC = Graph_Cycles(Edges,Marked_edges)\n"
   ]
  },
  {
   "cell_type": "code",
   "execution_count": 48,
   "metadata": {},
   "outputs": [
    {
     "name": "stdout",
     "output_type": "stream",
     "text": [
      "[(22, 23, 19, 15, 14, 2, 6, 10)]\n"
     ]
    }
   ],
   "source": [
    "print(cycle)"
   ]
  },
  {
   "cell_type": "code",
   "execution_count": 19,
   "metadata": {},
   "outputs": [
    {
     "data": {
      "text/plain": [
       "(1.0, 5.0)"
      ]
     },
     "execution_count": 19,
     "metadata": {},
     "output_type": "execute_result"
    },
    {
     "data": {
      "application/vnd.jupyter.widget-view+json": {
       "model_id": "d58328db8294466e975f22cfa1ba08f8",
       "version_major": 2,
       "version_minor": 0
      },
      "image/png": "[encoded data removed]",
      "text/html": [
       "\n",
       "            <div style=\"display: inline-block;\">\n",
       "                <div class=\"jupyter-widgets widget-label\" style=\"text-align: center;\">\n",
       "                    Figure\n",
       "                </div>\n",
       "                <img src='data:image/png;base64,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' width=640.0/>\n",
       "            </div>\n",
       "        "
      ],
      "text/plain": [
       "Canvas(toolbar=Toolbar(toolitems=[('Home', 'Reset original view', 'home', 'home'), ('Back', 'Back to previous …"
      ]
     },
     "metadata": {},
     "output_type": "display_data"
    }
   ],
   "source": [
    "fig = plt.figure()\n",
    "ax = fig.add_subplot(111, projection='3d')\n",
    "ax.set_aspect('equal')\n",
    "X,Y,Z = [],[],[]\n",
    "cpt1 = np.random.randint(0,len(GC.dict_blocked_edges))\n",
    "blocked_edge = list(GC.dict_blocked_edges.keys())[cpt1]\n",
    "cycle_blocked = GC.dict_blocked_edges[blocked_edge]\n",
    "cycle = cycle_blocked[np.random.randint(0,len(cycle_blocked))]\n",
    "# for cycle in GC.dict_blocked_edges[(62, 63)]:\n",
    "A,B,C = [],[],[]\n",
    "for point in cycle:\n",
    "    x, y, z = G.mapping[point]\n",
    "    A.append(x)\n",
    "    B.append(y)\n",
    "    C.append(z)\n",
    "    ##########\n",
    "    X.append(x)\n",
    "    Y.append(y)\n",
    "    Z.append(z)\n",
    "\n",
    "ax.plot(A, B, C,marker = \"o\") \n",
    "\n",
    "Blockii_edges = []\n",
    "for i in range(len(cycle)):\n",
    "    edge = min(cycle[i],cycle[(i+1)%len(cycle)]),max(cycle[i],cycle[(i+1)%len(cycle)])\n",
    "    if edge in G.blocked_edges:\n",
    "        Blockii_edges.append(edge)\n",
    "    \n",
    "for edge in Blockii_edges:\n",
    "    x,y,z = G.mapping[edge[0]]\n",
    "    x1,y1,z1 = G.mapping[edge[1]]\n",
    "    ax.plot([x,x1],[y,y1],[z,z1],color=\"black\")\n",
    "\n",
    "\n",
    "# origin = 180\n",
    "# x,y,z = G.mapping[origin]\n",
    "# ax.plot(x,y,z,color=\"black\",marker=\"x\")\n",
    "\n",
    "X,Y,Z = np.array(X),np.array(Y),np.array(Z)\n",
    "max_range = np.array([X.max()-X.min(), Y.max()-Y.min(), Z.max()-Z.min()]).max() / 2.0 \n",
    "\n",
    "mid_x = (X.max()+X.min()) * 0.5\n",
    "mid_y = (Y.max()+Y.min()) * 0.5\n",
    "mid_z = (Z.max()+Z.min()) * 0.5\n",
    "ax.set_xlim(mid_x - max_range, mid_x + max_range)\n",
    "ax.set_ylim(mid_y - max_range, mid_y + max_range)\n",
    "ax.set_zlim(mid_z - max_range, mid_z + max_range)"
   ]
  },
  {
   "cell_type": "markdown",
   "metadata": {},
   "source": [
    "## Resolving the MIP problem"
   ]
  },
  {
   "cell_type": "code",
   "execution_count": 52,
   "metadata": {},
   "outputs": [],
   "source": [
    "import pulp\n",
    "\n",
    "# Create a MIP problem\n",
    "def resolve_MIP(cycles,Blocked_edges,Marked_edges):\n",
    "    problem = pulp.LpProblem(\"Graph Problem\", pulp.LpMinimize)\n",
    "    GC = Graph_Cycles(Blocked_edges,Marked_edges)\n",
    "    G = GraphGrid3D(Blocked_edges,[])\n",
    "    # Define the decision variables\n",
    "    x = pulp.LpVariable.dicts(\"x\", G.edges, cat=pulp.LpBinary)\n",
    "\n",
    "    # Define the objective function\n",
    "    problem += pulp.lpSum([x[i] for i in G.edges])\n",
    "\n",
    "    # detect a constraints\n",
    "    cycle = find_cycle_impair(GC)\n",
    "    cycles.append(cycle)\n",
    "    E = []\n",
    "    for cycle in cycles:\n",
    "        edges = []\n",
    "        for point in range(len(cycle)-1):\n",
    "            node = cycle[point]\n",
    "            next_node = cycle[(point+1)]\n",
    "            edge = (min(node,next_node),max(node,next_node))\n",
    "            edges.append(edge)\n",
    "        E.append(edges)\n",
    "\n",
    "    for edge in E:\n",
    "\n",
    "        problem += pulp.lpSum(x[i] for i in edge) >= 1\n",
    "\n",
    "    # Solve the MIP problem\n",
    "    problem.solve(pulp.PULP_CBC_CMD(msg=False))\n",
    "    \n",
    "    # Print the optimal solution\n",
    "    print(\"Optimal Solution:\")\n",
    "    new_marked = []\n",
    "    for i in G.edges:\n",
    "        if pulp.value(x[i]) == 1:\n",
    "            print(i)\n",
    "            n,m = i\n",
    "            new_marked.append([G.mapping[n],G.mapping[m]])\n",
    "    # Print the objective value\n",
    "    print(\"Objective Value:\", pulp.value(problem.objective))\n",
    "    return cycles,new_marked\n",
    "\n"
   ]
  },
  {
   "cell_type": "code",
   "execution_count": 53,
   "metadata": {},
   "outputs": [
    {
     "name": "stderr",
     "output_type": "stream",
     "text": [
      "100%|██████████| 749/749 [00:00<00:00, 2284.14it/s]\n"
     ]
    },
    {
     "data": {
      "text/plain": [
       "25"
      ]
     },
     "execution_count": 53,
     "metadata": {},
     "output_type": "execute_result"
    }
   ],
   "source": [
    "GC = Graph_Cycles(Edges,[])\n",
    "len(GC.dict_blocked_edges)"
   ]
  },
  {
   "cell_type": "code",
   "execution_count": 54,
   "metadata": {},
   "outputs": [
    {
     "name": "stderr",
     "output_type": "stream",
     "text": [
      "100%|██████████| 739/739 [00:00<00:00, 1968.42it/s]\n",
      "/home/mehdii/.local/lib/python3.11/site-packages/pulp/pulp.py:1316: UserWarning: Spaces are not permitted in the name. Converted to '_'\n",
      "  warnings.warn(\"Spaces are not permitted in the name. Converted to '_'\")\n",
      "100%|██████████| 739/739 [00:00<00:00, 2016.71it/s]\n"
     ]
    },
    {
     "name": "stdout",
     "output_type": "stream",
     "text": [
      "Optimal Solution:\n",
      "(219, 225)\n",
      "Objective Value: 1.0\n"
     ]
    },
    {
     "name": "stderr",
     "output_type": "stream",
     "text": [
      "100%|██████████| 748/748 [00:00<00:00, 2156.64it/s]\n",
      "100%|██████████| 748/748 [00:00<00:00, 2162.58it/s]\n"
     ]
    },
    {
     "name": "stdout",
     "output_type": "stream",
     "text": [
      "Optimal Solution:\n",
      "(278, 279)\n",
      "Objective Value: 1.0\n"
     ]
    },
    {
     "name": "stderr",
     "output_type": "stream",
     "text": [
      "100%|██████████| 748/748 [00:00<00:00, 2258.44it/s]\n",
      "100%|██████████| 748/748 [00:00<00:00, 2264.25it/s]\n"
     ]
    },
    {
     "name": "stdout",
     "output_type": "stream",
     "text": [
      "Optimal Solution:\n",
      "(227, 269)\n",
      "Objective Value: 1.0\n"
     ]
    },
    {
     "name": "stderr",
     "output_type": "stream",
     "text": [
      "100%|██████████| 748/748 [00:00<00:00, 1540.21it/s]\n",
      "100%|██████████| 748/748 [00:00<00:00, 1534.99it/s]\n"
     ]
    },
    {
     "name": "stdout",
     "output_type": "stream",
     "text": [
      "Optimal Solution:\n",
      "(197, 203)\n",
      "(219, 220)\n",
      "Objective Value: 2.0\n"
     ]
    },
    {
     "name": "stderr",
     "output_type": "stream",
     "text": [
      "100%|██████████| 747/747 [00:00<00:00, 1998.41it/s]\n",
      "100%|██████████| 747/747 [00:00<00:00, 1993.19it/s]\n"
     ]
    },
    {
     "name": "stdout",
     "output_type": "stream",
     "text": [
      "Optimal Solution:\n",
      "(262, 263)\n",
      "(197, 203)\n",
      "Objective Value: 2.0\n"
     ]
    },
    {
     "name": "stderr",
     "output_type": "stream",
     "text": [
      "100%|██████████| 747/747 [00:00<00:00, 1830.77it/s]\n",
      "100%|██████████| 747/747 [00:00<00:00, 1823.72it/s]\n"
     ]
    },
    {
     "name": "stdout",
     "output_type": "stream",
     "text": [
      "Optimal Solution:\n",
      "(141, 142)\n",
      "(58, 100)\n",
      "Objective Value: 2.0\n"
     ]
    },
    {
     "name": "stderr",
     "output_type": "stream",
     "text": [
      "100%|██████████| 747/747 [00:00<00:00, 1905.79it/s]\n",
      "100%|██████████| 747/747 [00:00<00:00, 1913.12it/s]\n"
     ]
    },
    {
     "name": "stdout",
     "output_type": "stream",
     "text": [
      "Optimal Solution:\n",
      "(141, 142)\n",
      "(250, 292)\n",
      "Objective Value: 2.0\n"
     ]
    },
    {
     "name": "stderr",
     "output_type": "stream",
     "text": [
      "100%|██████████| 747/747 [00:00<00:00, 2638.60it/s]\n",
      "100%|██████████| 747/747 [00:00<00:00, 2569.56it/s]\n"
     ]
    },
    {
     "name": "stdout",
     "output_type": "stream",
     "text": [
      "Optimal Solution:\n",
      "(139, 181)\n",
      "(141, 142)\n",
      "(244, 250)\n",
      "Objective Value: 3.0\n"
     ]
    },
    {
     "name": "stderr",
     "output_type": "stream",
     "text": [
      "100%|██████████| 746/746 [00:00<00:00, 1838.63it/s]\n",
      "100%|██████████| 746/746 [00:00<00:00, 1831.27it/s]\n"
     ]
    },
    {
     "name": "stdout",
     "output_type": "stream",
     "text": [
      "Optimal Solution:\n",
      "(290, 291)\n",
      "(118, 160)\n",
      "(99, 141)\n",
      "Objective Value: 3.0\n"
     ]
    },
    {
     "name": "stderr",
     "output_type": "stream",
     "text": [
      "100%|██████████| 746/746 [00:00<00:00, 3101.22it/s]\n",
      "100%|██████████| 746/746 [00:00<00:00, 3102.22it/s]\n"
     ]
    },
    {
     "name": "stdout",
     "output_type": "stream",
     "text": [
      "Optimal Solution:\n",
      "(141, 142)\n",
      "(118, 160)\n",
      "(244, 250)\n",
      "Objective Value: 3.0\n"
     ]
    },
    {
     "name": "stderr",
     "output_type": "stream",
     "text": [
      "100%|██████████| 746/746 [00:00<00:00, 1992.89it/s]\n",
      "100%|██████████| 746/746 [00:00<00:00, 1984.55it/s]\n"
     ]
    },
    {
     "name": "stdout",
     "output_type": "stream",
     "text": [
      "Optimal Solution:\n",
      "(279, 280)\n",
      "(98, 99)\n",
      "(59, 65)\n",
      "Objective Value: 3.0\n"
     ]
    },
    {
     "name": "stderr",
     "output_type": "stream",
     "text": [
      "100%|██████████| 746/746 [00:00<00:00, 3681.19it/s]\n",
      "100%|██████████| 746/746 [00:00<00:00, 3597.81it/s]\n"
     ]
    },
    {
     "name": "stdout",
     "output_type": "stream",
     "text": [
      "Optimal Solution:\n",
      "(141, 142)\n",
      "(112, 118)\n",
      "(244, 250)\n",
      "Objective Value: 3.0\n"
     ]
    },
    {
     "name": "stderr",
     "output_type": "stream",
     "text": [
      "100%|██████████| 746/746 [00:00<00:00, 2005.82it/s]\n",
      "100%|██████████| 746/746 [00:00<00:00, 2019.21it/s]\n"
     ]
    },
    {
     "name": "stdout",
     "output_type": "stream",
     "text": [
      "Optimal Solution:\n",
      "(192, 234)\n",
      "(141, 142)\n",
      "(175, 217)\n",
      "(244, 250)\n",
      "Objective Value: 4.0\n"
     ]
    },
    {
     "name": "stderr",
     "output_type": "stream",
     "text": [
      "100%|██████████| 745/745 [00:00<00:00, 1921.04it/s]\n",
      "100%|██████████| 745/745 [00:00<00:00, 1929.16it/s]\n"
     ]
    },
    {
     "name": "stdout",
     "output_type": "stream",
     "text": [
      "Optimal Solution:\n",
      "(141, 142)\n",
      "(244, 250)\n",
      "(238, 239)\n",
      "(277, 278)\n",
      "Objective Value: 4.0\n"
     ]
    },
    {
     "name": "stderr",
     "output_type": "stream",
     "text": [
      "100%|██████████| 745/745 [00:00<00:00, 2221.00it/s]\n",
      "100%|██████████| 745/745 [00:00<00:00, 2213.75it/s]\n"
     ]
    },
    {
     "name": "stdout",
     "output_type": "stream",
     "text": [
      "Optimal Solution:\n",
      "(192, 234)\n",
      "(141, 142)\n",
      "(220, 262)\n",
      "(244, 250)\n",
      "Objective Value: 4.0\n"
     ]
    },
    {
     "name": "stderr",
     "output_type": "stream",
     "text": [
      "100%|██████████| 745/745 [00:00<00:00, 2723.81it/s]\n",
      "100%|██████████| 745/745 [00:00<00:00, 2700.61it/s]\n"
     ]
    },
    {
     "name": "stdout",
     "output_type": "stream",
     "text": [
      "Optimal Solution:\n",
      "(64, 106)\n",
      "(282, 283)\n",
      "(244, 250)\n",
      "(184, 185)\n",
      "Objective Value: 4.0\n"
     ]
    },
    {
     "name": "stderr",
     "output_type": "stream",
     "text": [
      "100%|██████████| 745/745 [00:00<00:00, 2165.33it/s]\n",
      "100%|██████████| 745/745 [00:00<00:00, 2154.94it/s]\n"
     ]
    },
    {
     "name": "stdout",
     "output_type": "stream",
     "text": [
      "Optimal Solution:\n",
      "(65, 71)\n",
      "(282, 283)\n",
      "(244, 250)\n",
      "(184, 185)\n",
      "Objective Value: 4.0\n"
     ]
    },
    {
     "name": "stderr",
     "output_type": "stream",
     "text": [
      "100%|██████████| 745/745 [00:00<00:00, 2155.63it/s]\n",
      "100%|██████████| 745/745 [00:00<00:00, 2158.07it/s]\n"
     ]
    },
    {
     "name": "stdout",
     "output_type": "stream",
     "text": [
      "Optimal Solution:\n",
      "(18, 19)\n",
      "(282, 283)\n",
      "(244, 245)\n",
      "(184, 185)\n",
      "Objective Value: 4.0\n"
     ]
    },
    {
     "name": "stderr",
     "output_type": "stream",
     "text": [
      "100%|██████████| 745/745 [00:00<00:00, 1827.35it/s]\n",
      "100%|██████████| 745/745 [00:00<00:00, 1834.25it/s]\n"
     ]
    },
    {
     "name": "stdout",
     "output_type": "stream",
     "text": [
      "Optimal Solution:\n",
      "(98, 104)\n",
      "(112, 118)\n",
      "(19, 20)\n",
      "(230, 231)\n",
      "Objective Value: 4.0\n"
     ]
    },
    {
     "name": "stderr",
     "output_type": "stream",
     "text": [
      "100%|██████████| 745/745 [00:00<00:00, 2970.09it/s]\n",
      "100%|██████████| 745/745 [00:00<00:00, 2935.64it/s]\n"
     ]
    },
    {
     "name": "stdout",
     "output_type": "stream",
     "text": [
      "Optimal Solution:\n",
      "(279, 280)\n",
      "(133, 175)\n",
      "(19, 20)\n",
      "(277, 278)\n",
      "(184, 185)\n",
      "Objective Value: 5.0\n"
     ]
    },
    {
     "name": "stderr",
     "output_type": "stream",
     "text": [
      "100%|██████████| 744/744 [00:00<00:00, 2214.03it/s]\n",
      "100%|██████████| 744/744 [00:00<00:00, 2220.55it/s]\n"
     ]
    },
    {
     "name": "stdout",
     "output_type": "stream",
     "text": [
      "Optimal Solution:\n",
      "(141, 142)\n",
      "(19, 20)\n",
      "(244, 250)\n",
      "(277, 278)\n",
      "(184, 185)\n",
      "Objective Value: 5.0\n"
     ]
    },
    {
     "name": "stderr",
     "output_type": "stream",
     "text": [
      "100%|██████████| 744/744 [00:00<00:00, 2153.39it/s]\n",
      "100%|██████████| 744/744 [00:00<00:00, 2150.76it/s]\n"
     ]
    },
    {
     "name": "stdout",
     "output_type": "stream",
     "text": [
      "Optimal Solution:\n",
      "(49, 55)\n",
      "(111, 153)\n",
      "(277, 278)\n",
      "(100, 106)\n",
      "(184, 185)\n",
      "Objective Value: 5.0\n"
     ]
    },
    {
     "name": "stderr",
     "output_type": "stream",
     "text": [
      "100%|██████████| 744/744 [00:00<00:00, 2474.22it/s]\n",
      "100%|██████████| 744/744 [00:00<00:00, 2483.13it/s]\n"
     ]
    },
    {
     "name": "stdout",
     "output_type": "stream",
     "text": [
      "Optimal Solution:\n",
      "(18, 19)\n",
      "(290, 291)\n",
      "(111, 153)\n",
      "(277, 278)\n",
      "(184, 185)\n",
      "Objective Value: 5.0\n"
     ]
    },
    {
     "name": "stderr",
     "output_type": "stream",
     "text": [
      "100%|██████████| 744/744 [00:00<00:00, 2437.31it/s]\n",
      "100%|██████████| 744/744 [00:00<00:00, 2435.67it/s]\n"
     ]
    },
    {
     "name": "stdout",
     "output_type": "stream",
     "text": [
      "Optimal Solution:\n",
      "(55, 97)\n",
      "(280, 281)\n",
      "(277, 278)\n",
      "(184, 185)\n",
      "(91, 133)\n",
      "Objective Value: 5.0\n"
     ]
    },
    {
     "name": "stderr",
     "output_type": "stream",
     "text": [
      "100%|██████████| 744/744 [00:00<00:00, 2370.98it/s]\n",
      "100%|██████████| 744/744 [00:00<00:00, 2367.86it/s]\n"
     ]
    },
    {
     "name": "stdout",
     "output_type": "stream",
     "text": [
      "Optimal Solution:\n",
      "(280, 281)\n",
      "(277, 278)\n",
      "(184, 185)\n",
      "(133, 139)\n",
      "(14, 20)\n",
      "Objective Value: 5.0\n"
     ]
    },
    {
     "name": "stderr",
     "output_type": "stream",
     "text": [
      "100%|██████████| 744/744 [00:00<00:00, 1711.38it/s]\n",
      "100%|██████████| 744/744 [00:00<00:00, 1705.69it/s]\n"
     ]
    },
    {
     "name": "stdout",
     "output_type": "stream",
     "text": [
      "Optimal Solution:\n",
      "(266, 272)\n",
      "(141, 142)\n",
      "(112, 118)\n",
      "(236, 278)\n",
      "(133, 139)\n",
      "(14, 56)\n",
      "Objective Value: 6.0\n"
     ]
    },
    {
     "name": "stderr",
     "output_type": "stream",
     "text": [
      "100%|██████████| 743/743 [00:00<00:00, 2141.17it/s]\n",
      "100%|██████████| 743/743 [00:00<00:00, 2134.92it/s]\n"
     ]
    },
    {
     "name": "stdout",
     "output_type": "stream",
     "text": [
      "Optimal Solution:\n",
      "(279, 280)\n",
      "(260, 266)\n",
      "(12, 54)\n",
      "(277, 278)\n",
      "(184, 185)\n",
      "(133, 139)\n",
      "Objective Value: 6.0\n"
     ]
    },
    {
     "name": "stderr",
     "output_type": "stream",
     "text": [
      "100%|██████████| 743/743 [00:00<00:00, 1699.81it/s]\n",
      "100%|██████████| 743/743 [00:00<00:00, 1691.54it/s]\n"
     ]
    },
    {
     "name": "stdout",
     "output_type": "stream",
     "text": [
      "Optimal Solution:\n",
      "(279, 280)\n",
      "(190, 232)\n",
      "(198, 199)\n",
      "(12, 54)\n",
      "(277, 278)\n",
      "(184, 185)\n",
      "Objective Value: 6.0\n"
     ]
    },
    {
     "name": "stderr",
     "output_type": "stream",
     "text": [
      "100%|██████████| 743/743 [00:00<00:00, 1891.91it/s]\n",
      "100%|██████████| 743/743 [00:00<00:00, 1893.08it/s]\n"
     ]
    },
    {
     "name": "stdout",
     "output_type": "stream",
     "text": [
      "Optimal Solution:\n",
      "(279, 280)\n",
      "(141, 142)\n",
      "(277, 278)\n",
      "(184, 185)\n",
      "(133, 139)\n",
      "(14, 56)\n",
      "Objective Value: 6.0\n"
     ]
    },
    {
     "name": "stderr",
     "output_type": "stream",
     "text": [
      "100%|██████████| 743/743 [00:00<00:00, 1645.82it/s]\n",
      "100%|██████████| 743/743 [00:01<00:00, 480.99it/s]\n"
     ]
    },
    {
     "name": "stdout",
     "output_type": "stream",
     "text": [
      "Optimal Solution:\n",
      "(279, 280)\n",
      "(12, 54)\n",
      "(277, 278)\n",
      "(33, 39)\n",
      "(184, 185)\n",
      "(133, 139)\n",
      "Objective Value: 6.0\n"
     ]
    },
    {
     "name": "stderr",
     "output_type": "stream",
     "text": [
      "100%|██████████| 743/743 [00:00<00:00, 1734.27it/s]\n",
      "100%|██████████| 743/743 [00:00<00:00, 1741.13it/s]\n"
     ]
    },
    {
     "name": "stdout",
     "output_type": "stream",
     "text": [
      "Optimal Solution:\n",
      "(49, 55)\n",
      "(190, 232)\n",
      "(198, 199)\n",
      "(111, 153)\n",
      "(277, 278)\n",
      "(184, 185)\n",
      "Objective Value: 6.0\n"
     ]
    },
    {
     "name": "stderr",
     "output_type": "stream",
     "text": [
      "100%|██████████| 743/743 [00:00<00:00, 1714.65it/s]\n",
      "100%|██████████| 743/743 [00:00<00:00, 1695.81it/s]\n"
     ]
    },
    {
     "name": "stdout",
     "output_type": "stream",
     "text": [
      "Optimal Solution:\n",
      "(198, 199)\n",
      "(12, 54)\n",
      "(244, 250)\n",
      "(185, 191)\n",
      "(277, 278)\n",
      "(184, 185)\n",
      "Objective Value: 6.0\n"
     ]
    },
    {
     "name": "stderr",
     "output_type": "stream",
     "text": [
      "100%|██████████| 743/743 [00:00<00:00, 1787.31it/s]\n",
      "100%|██████████| 743/743 [00:00<00:00, 1781.09it/s]\n"
     ]
    },
    {
     "name": "stdout",
     "output_type": "stream",
     "text": [
      "Optimal Solution:\n",
      "(279, 280)\n",
      "(12, 54)\n",
      "(38, 39)\n",
      "(277, 278)\n",
      "(184, 185)\n",
      "(133, 139)\n",
      "Objective Value: 6.0\n"
     ]
    },
    {
     "name": "stderr",
     "output_type": "stream",
     "text": [
      "100%|██████████| 743/743 [00:00<00:00, 1457.88it/s]\n",
      "100%|██████████| 743/743 [00:00<00:00, 1775.95it/s]\n"
     ]
    },
    {
     "name": "stdout",
     "output_type": "stream",
     "text": [
      "Optimal Solution:\n",
      "(49, 55)\n",
      "(190, 232)\n",
      "(198, 199)\n",
      "(112, 118)\n",
      "(277, 278)\n",
      "(184, 185)\n",
      "Objective Value: 6.0\n"
     ]
    },
    {
     "name": "stderr",
     "output_type": "stream",
     "text": [
      "100%|██████████| 743/743 [00:00<00:00, 2098.22it/s]\n",
      "100%|██████████| 743/743 [00:00<00:00, 2100.36it/s]\n"
     ]
    },
    {
     "name": "stdout",
     "output_type": "stream",
     "text": [
      "Optimal Solution:\n",
      "(140, 141)\n",
      "(283, 289)\n",
      "(12, 54)\n",
      "(244, 245)\n",
      "(277, 278)\n",
      "(184, 185)\n",
      "Objective Value: 6.0\n"
     ]
    },
    {
     "name": "stderr",
     "output_type": "stream",
     "text": [
      "100%|██████████| 743/743 [00:00<00:00, 2170.79it/s]\n",
      "100%|██████████| 743/743 [00:00<00:00, 2156.23it/s]\n"
     ]
    },
    {
     "name": "stdout",
     "output_type": "stream",
     "text": [
      "Optimal Solution:\n",
      "(185, 227)\n",
      "(283, 289)\n",
      "(12, 54)\n",
      "(38, 39)\n",
      "(112, 118)\n",
      "(277, 278)\n",
      "Objective Value: 6.0\n"
     ]
    },
    {
     "name": "stderr",
     "output_type": "stream",
     "text": [
      "100%|██████████| 743/743 [00:00<00:00, 1776.13it/s]\n",
      "100%|██████████| 743/743 [00:00<00:00, 1772.68it/s]\n"
     ]
    },
    {
     "name": "stdout",
     "output_type": "stream",
     "text": [
      "Optimal Solution:\n",
      "(198, 199)\n",
      "(130, 172)\n",
      "(12, 54)\n",
      "(112, 118)\n",
      "(236, 278)\n",
      "(184, 185)\n",
      "(224, 266)\n",
      "Objective Value: 7.0\n"
     ]
    },
    {
     "name": "stderr",
     "output_type": "stream",
     "text": [
      "100%|██████████| 742/742 [00:00<00:00, 2239.67it/s]\n",
      "100%|██████████| 742/742 [00:00<00:00, 2332.03it/s]\n"
     ]
    },
    {
     "name": "stdout",
     "output_type": "stream",
     "text": [
      "Optimal Solution:\n",
      "(283, 289)\n",
      "(12, 54)\n",
      "(38, 39)\n",
      "(111, 153)\n",
      "(171, 172)\n",
      "(277, 278)\n",
      "(184, 185)\n",
      "Objective Value: 7.0\n"
     ]
    },
    {
     "name": "stderr",
     "output_type": "stream",
     "text": [
      "100%|██████████| 742/742 [00:00<00:00, 1891.56it/s]\n",
      "100%|██████████| 742/742 [00:00<00:00, 1895.30it/s]\n"
     ]
    },
    {
     "name": "stdout",
     "output_type": "stream",
     "text": [
      "Optimal Solution:\n",
      "(141, 142)\n",
      "(283, 289)\n",
      "(130, 172)\n",
      "(12, 54)\n",
      "(112, 118)\n",
      "(230, 231)\n",
      "(224, 266)\n",
      "Objective Value: 7.0\n"
     ]
    },
    {
     "name": "stderr",
     "output_type": "stream",
     "text": [
      "100%|██████████| 742/742 [00:00<00:00, 2079.16it/s]\n",
      "100%|██████████| 742/742 [00:00<00:00, 2068.82it/s]\n"
     ]
    },
    {
     "name": "stdout",
     "output_type": "stream",
     "text": [
      "Optimal Solution:\n",
      "(141, 142)\n",
      "(283, 289)\n",
      "(130, 172)\n",
      "(12, 54)\n",
      "(112, 118)\n",
      "(230, 231)\n",
      "(277, 278)\n",
      "Objective Value: 7.0\n"
     ]
    },
    {
     "name": "stderr",
     "output_type": "stream",
     "text": [
      "100%|██████████| 742/742 [00:00<00:00, 1739.32it/s]\n",
      "100%|██████████| 742/742 [00:00<00:00, 1734.97it/s]\n"
     ]
    },
    {
     "name": "stdout",
     "output_type": "stream",
     "text": [
      "Optimal Solution:\n",
      "(141, 142)\n",
      "(112, 118)\n",
      "(236, 278)\n",
      "(171, 172)\n",
      "(277, 278)\n",
      "(133, 139)\n",
      "(14, 56)\n",
      "Objective Value: 7.0\n"
     ]
    },
    {
     "name": "stderr",
     "output_type": "stream",
     "text": [
      "100%|██████████| 742/742 [00:00<00:00, 1837.28it/s]\n",
      "100%|██████████| 742/742 [00:00<00:00, 1803.06it/s]\n"
     ]
    },
    {
     "name": "stdout",
     "output_type": "stream",
     "text": [
      "Optimal Solution:\n",
      "(279, 280)\n",
      "(264, 270)\n",
      "(12, 54)\n",
      "(171, 172)\n",
      "(277, 278)\n",
      "(33, 39)\n",
      "(184, 185)\n",
      "Objective Value: 7.0\n"
     ]
    },
    {
     "name": "stderr",
     "output_type": "stream",
     "text": [
      "100%|██████████| 742/742 [00:00<00:00, 1540.59it/s]\n",
      "100%|██████████| 742/742 [00:00<00:00, 1516.65it/s]\n"
     ]
    },
    {
     "name": "stdout",
     "output_type": "stream",
     "text": [
      "Optimal Solution:\n",
      "(279, 280)\n",
      "(264, 270)\n",
      "(12, 54)\n",
      "(38, 39)\n",
      "(171, 177)\n",
      "(277, 278)\n",
      "(184, 185)\n",
      "Objective Value: 7.0\n"
     ]
    },
    {
     "name": "stderr",
     "output_type": "stream",
     "text": [
      "100%|██████████| 742/742 [00:00<00:00, 2951.20it/s]\n",
      "100%|██████████| 742/742 [00:00<00:00, 2903.59it/s]\n"
     ]
    },
    {
     "name": "stdout",
     "output_type": "stream",
     "text": [
      "Optimal Solution:\n",
      "(141, 142)\n",
      "(130, 172)\n",
      "(112, 118)\n",
      "(230, 231)\n",
      "(133, 139)\n",
      "(224, 266)\n",
      "(14, 56)\n",
      "Objective Value: 7.0\n"
     ]
    },
    {
     "name": "stderr",
     "output_type": "stream",
     "text": [
      "100%|██████████| 742/742 [00:00<00:00, 1945.33it/s]\n",
      "100%|██████████| 742/742 [00:00<00:00, 1951.51it/s]\n"
     ]
    },
    {
     "name": "stdout",
     "output_type": "stream",
     "text": [
      "Optimal Solution:\n",
      "(141, 142)\n",
      "(112, 118)\n",
      "(230, 231)\n",
      "(171, 172)\n",
      "(133, 139)\n",
      "(224, 266)\n",
      "(14, 56)\n",
      "Objective Value: 7.0\n"
     ]
    },
    {
     "name": "stderr",
     "output_type": "stream",
     "text": [
      "100%|██████████| 742/742 [00:00<00:00, 1545.61it/s]\n",
      "100%|██████████| 742/742 [00:00<00:00, 1547.94it/s]\n"
     ]
    },
    {
     "name": "stdout",
     "output_type": "stream",
     "text": [
      "Optimal Solution:\n",
      "(49, 55)\n",
      "(171, 177)\n",
      "(244, 245)\n",
      "(193, 199)\n",
      "(277, 278)\n",
      "(184, 185)\n",
      "(133, 139)\n",
      "Objective Value: 7.0\n"
     ]
    },
    {
     "name": "stderr",
     "output_type": "stream",
     "text": [
      "100%|██████████| 742/742 [00:00<00:00, 2670.14it/s]\n",
      "100%|██████████| 742/742 [00:00<00:00, 2667.46it/s]\n"
     ]
    },
    {
     "name": "stdout",
     "output_type": "stream",
     "text": [
      "Optimal Solution:\n",
      "(283, 289)\n",
      "(139, 140)\n",
      "(12, 54)\n",
      "(171, 177)\n",
      "(244, 250)\n",
      "(277, 278)\n",
      "(184, 185)\n",
      "Objective Value: 7.0\n"
     ]
    },
    {
     "name": "stderr",
     "output_type": "stream",
     "text": [
      "100%|██████████| 742/742 [00:00<00:00, 3022.96it/s]\n",
      "100%|██████████| 742/742 [00:00<00:00, 3081.06it/s]\n"
     ]
    },
    {
     "name": "stdout",
     "output_type": "stream",
     "text": [
      "Optimal Solution:\n",
      "(229, 230)\n",
      "(98, 104)\n",
      "(190, 232)\n",
      "(198, 199)\n",
      "(130, 172)\n",
      "(12, 54)\n",
      "(112, 118)\n",
      "Objective Value: 7.0\n"
     ]
    },
    {
     "name": "stderr",
     "output_type": "stream",
     "text": [
      "100%|██████████| 742/742 [00:00<00:00, 3370.54it/s]\n",
      "100%|██████████| 742/742 [00:00<00:00, 3366.98it/s]\n"
     ]
    },
    {
     "name": "stdout",
     "output_type": "stream",
     "text": [
      "Optimal Solution:\n",
      "(279, 280)\n",
      "(171, 172)\n",
      "(59, 65)\n",
      "(277, 278)\n",
      "(33, 39)\n",
      "(184, 185)\n",
      "(133, 139)\n",
      "(14, 56)\n",
      "Objective Value: 8.0\n"
     ]
    },
    {
     "name": "stderr",
     "output_type": "stream",
     "text": [
      "100%|██████████| 741/741 [00:00<00:00, 1327.28it/s]\n",
      "100%|██████████| 741/741 [00:00<00:00, 1324.99it/s]\n"
     ]
    },
    {
     "name": "stdout",
     "output_type": "stream",
     "text": [
      "Optimal Solution:\n",
      "(279, 280)\n",
      "(141, 142)\n",
      "(283, 289)\n",
      "(171, 177)\n",
      "(277, 278)\n",
      "(184, 185)\n",
      "(133, 139)\n",
      "(14, 56)\n",
      "Objective Value: 8.0\n"
     ]
    },
    {
     "name": "stderr",
     "output_type": "stream",
     "text": [
      "100%|██████████| 741/741 [00:00<00:00, 2343.71it/s]\n",
      "100%|██████████| 741/741 [00:00<00:00, 2390.88it/s]\n"
     ]
    },
    {
     "name": "stdout",
     "output_type": "stream",
     "text": [
      "Optimal Solution:\n",
      "(279, 280)\n",
      "(283, 289)\n",
      "(139, 140)\n",
      "(130, 172)\n",
      "(59, 65)\n",
      "(277, 278)\n",
      "(184, 185)\n",
      "(14, 56)\n",
      "Objective Value: 8.0\n"
     ]
    },
    {
     "name": "stderr",
     "output_type": "stream",
     "text": [
      "100%|██████████| 741/741 [00:00<00:00, 1681.59it/s]\n",
      "100%|██████████| 741/741 [00:00<00:00, 1668.81it/s]\n"
     ]
    },
    {
     "name": "stdout",
     "output_type": "stream",
     "text": [
      "Optimal Solution:\n",
      "(279, 280)\n",
      "(65, 71)\n",
      "(283, 289)\n",
      "(139, 140)\n",
      "(171, 172)\n",
      "(277, 278)\n",
      "(184, 185)\n",
      "(14, 56)\n",
      "Objective Value: 8.0\n"
     ]
    },
    {
     "name": "stderr",
     "output_type": "stream",
     "text": [
      "100%|██████████| 741/741 [00:00<00:00, 1588.73it/s]\n",
      "100%|██████████| 741/741 [00:00<00:00, 1590.95it/s]\n"
     ]
    },
    {
     "name": "stdout",
     "output_type": "stream",
     "text": [
      "Optimal Solution:\n",
      "(141, 142)\n",
      "(171, 177)\n",
      "(111, 153)\n",
      "(277, 278)\n",
      "(278, 279)\n",
      "(117, 159)\n",
      "(133, 139)\n",
      "(14, 56)\n",
      "Objective Value: 8.0\n"
     ]
    },
    {
     "name": "stderr",
     "output_type": "stream",
     "text": [
      "100%|██████████| 741/741 [00:00<00:00, 2633.20it/s]\n",
      "100%|██████████| 741/741 [00:00<00:00, 2645.33it/s]\n"
     ]
    },
    {
     "name": "stdout",
     "output_type": "stream",
     "text": [
      "Optimal Solution:\n",
      "(114, 156)\n",
      "(283, 289)\n",
      "(130, 172)\n",
      "(245, 251)\n",
      "(277, 278)\n",
      "(184, 185)\n",
      "(133, 139)\n",
      "(14, 20)\n",
      "Objective Value: 8.0\n"
     ]
    },
    {
     "name": "stderr",
     "output_type": "stream",
     "text": [
      "100%|██████████| 741/741 [00:00<00:00, 2031.82it/s]\n",
      "100%|██████████| 741/741 [00:00<00:00, 2033.10it/s]\n"
     ]
    },
    {
     "name": "stdout",
     "output_type": "stream",
     "text": [
      "Optimal Solution:\n",
      "(279, 280)\n",
      "(114, 156)\n",
      "(158, 164)\n",
      "(171, 172)\n",
      "(277, 278)\n",
      "(184, 185)\n",
      "(91, 133)\n",
      "(14, 20)\n",
      "Objective Value: 8.0\n"
     ]
    },
    {
     "name": "stderr",
     "output_type": "stream",
     "text": [
      "100%|██████████| 741/741 [00:00<00:00, 1451.37it/s]\n",
      "100%|██████████| 741/741 [00:00<00:00, 1472.93it/s]\n"
     ]
    },
    {
     "name": "stdout",
     "output_type": "stream",
     "text": [
      "Optimal Solution:\n",
      "(135, 177)\n",
      "(111, 112)\n",
      "(12, 54)\n",
      "(277, 278)\n",
      "(278, 279)\n",
      "(117, 159)\n",
      "(73, 79)\n",
      "(133, 139)\n",
      "Objective Value: 8.0\n"
     ]
    },
    {
     "name": "stderr",
     "output_type": "stream",
     "text": [
      "100%|██████████| 741/741 [00:00<00:00, 1778.67it/s]\n",
      "100%|██████████| 741/741 [00:00<00:00, 1779.98it/s]\n"
     ]
    },
    {
     "name": "stdout",
     "output_type": "stream",
     "text": [
      "Optimal Solution:\n",
      "(111, 112)\n",
      "(98, 104)\n",
      "(198, 199)\n",
      "(130, 172)\n",
      "(12, 54)\n",
      "(277, 278)\n",
      "(278, 279)\n",
      "(117, 159)\n",
      "Objective Value: 8.0\n"
     ]
    },
    {
     "name": "stderr",
     "output_type": "stream",
     "text": [
      "100%|██████████| 741/741 [00:00<00:00, 3367.74it/s]\n",
      "100%|██████████| 741/741 [00:00<00:00, 3372.63it/s]\n"
     ]
    },
    {
     "name": "stdout",
     "output_type": "stream",
     "text": [
      "Optimal Solution:\n",
      "(65, 71)\n",
      "(98, 104)\n",
      "(283, 289)\n",
      "(112, 118)\n",
      "(144, 186)\n",
      "(171, 172)\n",
      "(277, 278)\n",
      "(14, 56)\n",
      "Objective Value: 8.0\n"
     ]
    },
    {
     "name": "stderr",
     "output_type": "stream",
     "text": [
      "100%|██████████| 741/741 [00:00<00:00, 1843.87it/s]\n",
      "100%|██████████| 741/741 [00:00<00:00, 1863.13it/s]\n"
     ]
    },
    {
     "name": "stdout",
     "output_type": "stream",
     "text": [
      "Optimal Solution:\n",
      "(65, 71)\n",
      "(98, 104)\n",
      "(283, 289)\n",
      "(130, 172)\n",
      "(112, 118)\n",
      "(144, 186)\n",
      "(277, 278)\n",
      "(14, 56)\n",
      "Objective Value: 8.0\n"
     ]
    },
    {
     "name": "stderr",
     "output_type": "stream",
     "text": [
      "100%|██████████| 741/741 [00:00<00:00, 1679.79it/s]\n",
      "100%|██████████| 741/741 [00:00<00:00, 1684.19it/s]\n"
     ]
    },
    {
     "name": "stdout",
     "output_type": "stream",
     "text": [
      "Optimal Solution:\n",
      "(141, 142)\n",
      "(135, 177)\n",
      "(111, 153)\n",
      "(144, 186)\n",
      "(277, 278)\n",
      "(278, 279)\n",
      "(117, 159)\n",
      "(133, 139)\n",
      "(14, 20)\n",
      "Objective Value: 9.0\n"
     ]
    },
    {
     "name": "stderr",
     "output_type": "stream",
     "text": [
      "100%|██████████| 740/740 [00:00<00:00, 2383.90it/s]\n",
      "100%|██████████| 740/740 [00:00<00:00, 2605.20it/s]\n"
     ]
    },
    {
     "name": "stdout",
     "output_type": "stream",
     "text": [
      "Optimal Solution:\n",
      "(279, 280)\n",
      "(135, 177)\n",
      "(142, 184)\n",
      "(144, 186)\n",
      "(230, 231)\n",
      "(277, 278)\n",
      "(117, 159)\n",
      "(133, 139)\n",
      "(14, 20)\n",
      "Objective Value: 9.0\n"
     ]
    },
    {
     "name": "stderr",
     "output_type": "stream",
     "text": [
      "100%|██████████| 740/740 [00:00<00:00, 1999.77it/s]\n",
      "100%|██████████| 740/740 [00:00<00:00, 1994.46it/s]\n"
     ]
    },
    {
     "name": "stdout",
     "output_type": "stream",
     "text": [
      "Optimal Solution:\n",
      "(135, 177)\n",
      "(111, 112)\n",
      "(139, 140)\n",
      "(104, 146)\n",
      "(230, 231)\n",
      "(277, 278)\n",
      "(117, 159)\n",
      "(91, 133)\n",
      "(14, 56)\n",
      "Objective Value: 9.0\n"
     ]
    },
    {
     "name": "stderr",
     "output_type": "stream",
     "text": [
      "100%|██████████| 740/740 [00:00<00:00, 2614.15it/s]\n",
      "100%|██████████| 740/740 [00:00<00:00, 2545.40it/s]\n"
     ]
    },
    {
     "name": "stdout",
     "output_type": "stream",
     "text": [
      "Optimal Solution:\n",
      "(135, 177)\n",
      "(111, 112)\n",
      "(12, 54)\n",
      "(104, 146)\n",
      "(144, 186)\n",
      "(230, 231)\n",
      "(277, 278)\n",
      "(117, 159)\n",
      "(133, 139)\n",
      "Objective Value: 9.0\n"
     ]
    },
    {
     "name": "stderr",
     "output_type": "stream",
     "text": [
      "100%|██████████| 740/740 [00:00<00:00, 2075.74it/s]\n",
      "100%|██████████| 740/740 [00:00<00:00, 2044.96it/s]\n"
     ]
    },
    {
     "name": "stdout",
     "output_type": "stream",
     "text": [
      "Optimal Solution:\n",
      "(17, 23)\n",
      "(98, 104)\n",
      "(139, 140)\n",
      "(130, 172)\n",
      "(12, 54)\n",
      "(112, 118)\n",
      "(230, 231)\n",
      "(271, 277)\n",
      "(91, 133)\n",
      "Objective Value: 9.0\n"
     ]
    },
    {
     "name": "stderr",
     "output_type": "stream",
     "text": [
      "100%|██████████| 740/740 [00:00<00:00, 2981.21it/s]\n",
      "100%|██████████| 740/740 [00:00<00:00, 2975.60it/s]\n"
     ]
    },
    {
     "name": "stdout",
     "output_type": "stream",
     "text": [
      "Optimal Solution:\n",
      "(17, 23)\n",
      "(98, 104)\n",
      "(283, 289)\n",
      "(130, 172)\n",
      "(12, 54)\n",
      "(112, 118)\n",
      "(144, 186)\n",
      "(230, 231)\n",
      "(277, 278)\n",
      "Objective Value: 9.0\n"
     ]
    },
    {
     "name": "stderr",
     "output_type": "stream",
     "text": [
      "100%|██████████| 740/740 [00:00<00:00, 3047.04it/s]\n",
      "100%|██████████| 740/740 [00:00<00:00, 3064.03it/s]\n"
     ]
    },
    {
     "name": "stdout",
     "output_type": "stream",
     "text": [
      "Optimal Solution:\n",
      "(111, 112)\n",
      "(98, 104)\n",
      "(283, 289)\n",
      "(130, 172)\n",
      "(12, 54)\n",
      "(144, 186)\n",
      "(230, 231)\n",
      "(277, 278)\n",
      "(117, 159)\n",
      "Objective Value: 9.0\n"
     ]
    },
    {
     "name": "stderr",
     "output_type": "stream",
     "text": [
      "100%|██████████| 740/740 [00:00<00:00, 2518.73it/s]\n",
      "100%|██████████| 740/740 [00:00<00:00, 2535.59it/s]\n"
     ]
    },
    {
     "name": "stdout",
     "output_type": "stream",
     "text": [
      "Optimal Solution:\n",
      "(98, 104)\n",
      "(165, 166)\n",
      "(283, 289)\n",
      "(130, 172)\n",
      "(144, 186)\n",
      "(277, 278)\n",
      "(117, 159)\n",
      "(91, 133)\n",
      "(14, 20)\n",
      "Objective Value: 9.0\n"
     ]
    },
    {
     "name": "stderr",
     "output_type": "stream",
     "text": [
      "100%|██████████| 740/740 [00:00<00:00, 3146.00it/s]\n",
      "100%|██████████| 740/740 [00:00<00:00, 3144.14it/s]\n"
     ]
    },
    {
     "name": "stdout",
     "output_type": "stream",
     "text": [
      "Optimal Solution:\n",
      "(114, 156)\n",
      "(63, 64)\n",
      "(98, 104)\n",
      "(283, 289)\n",
      "(130, 172)\n",
      "(12, 54)\n",
      "(112, 118)\n",
      "(230, 231)\n",
      "(271, 277)\n",
      "Objective Value: 9.0\n"
     ]
    },
    {
     "name": "stderr",
     "output_type": "stream",
     "text": [
      "100%|██████████| 740/740 [00:00<00:00, 1700.38it/s]\n",
      "100%|██████████| 740/740 [00:00<00:00, 1689.38it/s]\n"
     ]
    },
    {
     "name": "stdout",
     "output_type": "stream",
     "text": [
      "Optimal Solution:\n",
      "(98, 104)\n",
      "(130, 172)\n",
      "(12, 54)\n",
      "(111, 153)\n",
      "(144, 186)\n",
      "(230, 231)\n",
      "(277, 278)\n",
      "(117, 159)\n",
      "(14, 20)\n",
      "Objective Value: 9.0\n"
     ]
    },
    {
     "name": "stderr",
     "output_type": "stream",
     "text": [
      "100%|██████████| 740/740 [00:00<00:00, 2050.72it/s]\n",
      "100%|██████████| 740/740 [00:00<00:00, 2008.11it/s]\n"
     ]
    },
    {
     "name": "stdout",
     "output_type": "stream",
     "text": [
      "Optimal Solution:\n",
      "(279, 280)\n",
      "(114, 156)\n",
      "(98, 104)\n",
      "(165, 166)\n",
      "(130, 172)\n",
      "(271, 277)\n",
      "(117, 159)\n",
      "(91, 133)\n",
      "(14, 20)\n",
      "Objective Value: 9.0\n"
     ]
    },
    {
     "name": "stderr",
     "output_type": "stream",
     "text": [
      "100%|██████████| 740/740 [00:00<00:00, 3045.00it/s]\n",
      "100%|██████████| 740/740 [00:00<00:00, 3046.79it/s]\n"
     ]
    },
    {
     "name": "stdout",
     "output_type": "stream",
     "text": [
      "Optimal Solution:\n",
      "(98, 104)\n",
      "(165, 166)\n",
      "(130, 172)\n",
      "(144, 186)\n",
      "(230, 231)\n",
      "(277, 278)\n",
      "(117, 159)\n",
      "(133, 139)\n",
      "(14, 20)\n",
      "Objective Value: 9.0\n"
     ]
    },
    {
     "name": "stderr",
     "output_type": "stream",
     "text": [
      "100%|██████████| 740/740 [00:00<00:00, 1836.34it/s]\n",
      "100%|██████████| 740/740 [00:00<00:00, 1831.47it/s]\n"
     ]
    },
    {
     "name": "stdout",
     "output_type": "stream",
     "text": [
      "Optimal Solution:\n",
      "(135, 177)\n",
      "(111, 112)\n",
      "(139, 140)\n",
      "(12, 54)\n",
      "(104, 146)\n",
      "(277, 278)\n",
      "(278, 279)\n",
      "(117, 159)\n",
      "(91, 133)\n",
      "Objective Value: 9.0\n"
     ]
    },
    {
     "name": "stderr",
     "output_type": "stream",
     "text": [
      "100%|██████████| 740/740 [00:00<00:00, 1955.31it/s]\n",
      "100%|██████████| 740/740 [00:00<00:00, 1978.06it/s]\n"
     ]
    },
    {
     "name": "stdout",
     "output_type": "stream",
     "text": [
      "Optimal Solution:\n",
      "(114, 156)\n",
      "(90, 91)\n",
      "(63, 64)\n",
      "(130, 172)\n",
      "(104, 146)\n",
      "(112, 118)\n",
      "(271, 277)\n",
      "(278, 279)\n",
      "(14, 20)\n",
      "Objective Value: 9.0\n"
     ]
    },
    {
     "name": "stderr",
     "output_type": "stream",
     "text": [
      "100%|██████████| 740/740 [00:00<00:00, 2138.10it/s]\n",
      "100%|██████████| 740/740 [00:00<00:00, 1840.78it/s]\n"
     ]
    },
    {
     "name": "stdout",
     "output_type": "stream",
     "text": [
      "Optimal Solution:\n",
      "(63, 64)\n",
      "(130, 172)\n",
      "(12, 54)\n",
      "(104, 146)\n",
      "(112, 118)\n",
      "(277, 278)\n",
      "(278, 279)\n",
      "(33, 39)\n",
      "(84, 126)\n",
      "Objective Value: 9.0\n"
     ]
    },
    {
     "name": "stderr",
     "output_type": "stream",
     "text": [
      "100%|██████████| 740/740 [00:00<00:00, 1880.61it/s]\n",
      "100%|██████████| 740/740 [00:00<00:00, 1953.93it/s]\n"
     ]
    },
    {
     "name": "stdout",
     "output_type": "stream",
     "text": [
      "Optimal Solution:\n",
      "(63, 64)\n",
      "(84, 90)\n",
      "(130, 172)\n",
      "(12, 54)\n",
      "(104, 146)\n",
      "(112, 118)\n",
      "(277, 278)\n",
      "(278, 279)\n",
      "(33, 39)\n",
      "Objective Value: 9.0\n"
     ]
    },
    {
     "name": "stderr",
     "output_type": "stream",
     "text": [
      "100%|██████████| 740/740 [00:00<00:00, 1908.65it/s]\n",
      "100%|██████████| 740/740 [00:00<00:00, 1917.28it/s]\n"
     ]
    },
    {
     "name": "stdout",
     "output_type": "stream",
     "text": [
      "Optimal Solution:\n",
      "(63, 64)\n",
      "(103, 104)\n",
      "(130, 172)\n",
      "(12, 54)\n",
      "(104, 146)\n",
      "(229, 271)\n",
      "(112, 118)\n",
      "(230, 231)\n",
      "(33, 39)\n",
      "Objective Value: 9.0\n"
     ]
    },
    {
     "name": "stderr",
     "output_type": "stream",
     "text": [
      "100%|██████████| 740/740 [00:00<00:00, 2847.51it/s]\n",
      "100%|██████████| 740/740 [00:00<00:00, 2891.77it/s]\n"
     ]
    },
    {
     "name": "stdout",
     "output_type": "stream",
     "text": [
      "Optimal Solution:\n",
      "(63, 64)\n",
      "(103, 104)\n",
      "(98, 104)\n",
      "(130, 172)\n",
      "(12, 54)\n",
      "(229, 271)\n",
      "(112, 118)\n",
      "(230, 231)\n",
      "(33, 39)\n",
      "Objective Value: 9.0\n"
     ]
    },
    {
     "name": "stderr",
     "output_type": "stream",
     "text": [
      "100%|██████████| 740/740 [00:00<00:00, 1849.88it/s]\n",
      "100%|██████████| 740/740 [00:00<00:00, 1880.44it/s]\n"
     ]
    },
    {
     "name": "stdout",
     "output_type": "stream",
     "text": [
      "Optimal Solution:\n",
      "(135, 177)\n",
      "(111, 112)\n",
      "(116, 158)\n",
      "(139, 140)\n",
      "(230, 231)\n",
      "(145, 146)\n",
      "(277, 278)\n",
      "(117, 159)\n",
      "(91, 133)\n",
      "(14, 56)\n",
      "Objective Value: 10.0\n"
     ]
    },
    {
     "name": "stderr",
     "output_type": "stream",
     "text": [
      "100%|██████████| 739/739 [00:00<00:00, 2500.86it/s]\n",
      "100%|██████████| 739/739 [00:00<00:00, 2531.25it/s]\n"
     ]
    },
    {
     "name": "stdout",
     "output_type": "stream",
     "text": [
      "Optimal Solution:\n",
      "(133, 134)\n",
      "(135, 177)\n",
      "(12, 54)\n",
      "(111, 153)\n",
      "(271, 277)\n",
      "(277, 278)\n",
      "(278, 279)\n",
      "(33, 39)\n",
      "(117, 159)\n",
      "(14, 56)\n",
      "Objective Value: 10.0\n"
     ]
    },
    {
     "name": "stderr",
     "output_type": "stream",
     "text": [
      "100%|██████████| 739/739 [00:00<00:00, 1672.90it/s]\n",
      "100%|██████████| 739/739 [00:00<00:00, 1665.28it/s]\n"
     ]
    },
    {
     "name": "stdout",
     "output_type": "stream",
     "text": [
      "Optimal Solution:\n",
      "(63, 64)\n",
      "(84, 90)\n",
      "(130, 172)\n",
      "(12, 54)\n",
      "(111, 153)\n",
      "(145, 146)\n",
      "(277, 278)\n",
      "(278, 279)\n",
      "(33, 39)\n",
      "(117, 159)\n",
      "Objective Value: 10.0\n"
     ]
    },
    {
     "name": "stderr",
     "output_type": "stream",
     "text": [
      "100%|██████████| 739/739 [00:00<00:00, 1860.83it/s]\n",
      "100%|██████████| 739/739 [00:00<00:00, 1858.85it/s]\n"
     ]
    },
    {
     "name": "stdout",
     "output_type": "stream",
     "text": [
      "Optimal Solution:\n",
      "(135, 177)\n",
      "(143, 185)\n",
      "(111, 153)\n",
      "(171, 172)\n",
      "(271, 277)\n",
      "(278, 279)\n",
      "(33, 39)\n",
      "(150, 192)\n",
      "(91, 133)\n",
      "(14, 56)\n",
      "Objective Value: 10.0\n"
     ]
    },
    {
     "name": "stderr",
     "output_type": "stream",
     "text": [
      "100%|██████████| 739/739 [00:00<00:00, 1617.35it/s]\n",
      "100%|██████████| 739/739 [00:00<00:00, 1598.51it/s]\n"
     ]
    },
    {
     "name": "stdout",
     "output_type": "stream",
     "text": [
      "Optimal Solution:\n",
      "(206, 248)\n",
      "(139, 140)\n",
      "(130, 172)\n",
      "(12, 54)\n",
      "(111, 153)\n",
      "(230, 231)\n",
      "(145, 146)\n",
      "(277, 278)\n",
      "(184, 185)\n",
      "(14, 56)\n",
      "Objective Value: 10.0\n"
     ]
    },
    {
     "name": "stderr",
     "output_type": "stream",
     "text": [
      "100%|██████████| 739/739 [00:00<00:00, 2676.98it/s]\n",
      "100%|██████████| 739/739 [00:00<00:00, 2679.89it/s]\n"
     ]
    },
    {
     "name": "stdout",
     "output_type": "stream",
     "text": [
      "Optimal Solution:\n",
      "(133, 134)\n",
      "(141, 142)\n",
      "(135, 177)\n",
      "(12, 54)\n",
      "(111, 153)\n",
      "(271, 277)\n",
      "(278, 279)\n",
      "(117, 159)\n",
      "(150, 192)\n",
      "(14, 56)\n",
      "Objective Value: 10.0\n"
     ]
    },
    {
     "name": "stderr",
     "output_type": "stream",
     "text": [
      "100%|██████████| 739/739 [00:00<00:00, 2300.76it/s]\n",
      "100%|██████████| 739/739 [00:00<00:00, 2323.70it/s]\n"
     ]
    },
    {
     "name": "stdout",
     "output_type": "stream",
     "text": [
      "Optimal Solution:\n",
      "(133, 134)\n",
      "(135, 177)\n",
      "(111, 112)\n",
      "(84, 90)\n",
      "(12, 54)\n",
      "(104, 146)\n",
      "(277, 278)\n",
      "(278, 279)\n",
      "(33, 39)\n",
      "(117, 159)\n",
      "Objective Value: 10.0\n"
     ]
    },
    {
     "name": "stderr",
     "output_type": "stream",
     "text": [
      "100%|██████████| 739/739 [00:00<00:00, 1996.79it/s]\n",
      "100%|██████████| 739/739 [00:00<00:00, 1992.89it/s]\n"
     ]
    },
    {
     "name": "stdout",
     "output_type": "stream",
     "text": [
      "Optimal Solution:\n",
      "(90, 91)\n",
      "(135, 177)\n",
      "(111, 112)\n",
      "(249, 250)\n",
      "(12, 54)\n",
      "(231, 232)\n",
      "(104, 146)\n",
      "(277, 278)\n",
      "(33, 39)\n",
      "(117, 159)\n",
      "Objective Value: 10.0\n"
     ]
    },
    {
     "name": "stderr",
     "output_type": "stream",
     "text": [
      "100%|██████████| 739/739 [00:00<00:00, 1575.82it/s]\n",
      "100%|██████████| 739/739 [00:00<00:00, 1587.29it/s]\n"
     ]
    },
    {
     "name": "stdout",
     "output_type": "stream",
     "text": [
      "Optimal Solution:\n",
      "(49, 55)\n",
      "(90, 91)\n",
      "(135, 177)\n",
      "(111, 112)\n",
      "(249, 250)\n",
      "(231, 232)\n",
      "(104, 146)\n",
      "(193, 199)\n",
      "(277, 278)\n",
      "(117, 159)\n",
      "Objective Value: 10.0\n"
     ]
    },
    {
     "name": "stderr",
     "output_type": "stream",
     "text": [
      "100%|██████████| 739/739 [00:00<00:00, 1481.11it/s]\n",
      "100%|██████████| 739/739 [00:00<00:00, 1465.91it/s]\n"
     ]
    },
    {
     "name": "stdout",
     "output_type": "stream",
     "text": [
      "Optimal Solution:\n",
      "(90, 91)\n",
      "(135, 177)\n",
      "(111, 112)\n",
      "(12, 54)\n",
      "(231, 232)\n",
      "(145, 146)\n",
      "(277, 278)\n",
      "(33, 39)\n",
      "(117, 159)\n",
      "(165, 207)\n",
      "Objective Value: 10.0\n"
     ]
    },
    {
     "name": "stderr",
     "output_type": "stream",
     "text": [
      "100%|██████████| 739/739 [00:00<00:00, 1518.30it/s]\n",
      "100%|██████████| 739/739 [00:00<00:00, 1568.82it/s]\n"
     ]
    },
    {
     "name": "stdout",
     "output_type": "stream",
     "text": [
      "Optimal Solution:\n",
      "(126, 168)\n",
      "(206, 248)\n",
      "(111, 112)\n",
      "(130, 172)\n",
      "(12, 54)\n",
      "(231, 232)\n",
      "(145, 146)\n",
      "(277, 278)\n",
      "(33, 39)\n",
      "(184, 185)\n",
      "Objective Value: 10.0\n"
     ]
    },
    {
     "name": "stderr",
     "output_type": "stream",
     "text": [
      "100%|██████████| 739/739 [00:00<00:00, 3192.44it/s]\n",
      "100%|██████████| 739/739 [00:00<00:00, 3182.61it/s]\n"
     ]
    },
    {
     "name": "stdout",
     "output_type": "stream",
     "text": [
      "Optimal Solution:\n",
      "(206, 248)\n",
      "(90, 91)\n",
      "(111, 112)\n",
      "(130, 172)\n",
      "(12, 54)\n",
      "(231, 232)\n",
      "(145, 146)\n",
      "(277, 278)\n",
      "(33, 39)\n",
      "(184, 185)\n",
      "Objective Value: 10.0\n"
     ]
    },
    {
     "name": "stderr",
     "output_type": "stream",
     "text": [
      "100%|██████████| 739/739 [00:00<00:00, 3187.09it/s]\n",
      "100%|██████████| 739/739 [00:00<00:00, 3176.42it/s]\n"
     ]
    },
    {
     "name": "stdout",
     "output_type": "stream",
     "text": [
      "Optimal Solution:\n",
      "(143, 185)\n",
      "(224, 230)\n",
      "(98, 104)\n",
      "(130, 172)\n",
      "(12, 54)\n",
      "(278, 279)\n",
      "(158, 200)\n",
      "(66, 67)\n",
      "(165, 207)\n",
      "(14, 56)\n",
      "Objective Value: 10.0\n"
     ]
    },
    {
     "name": "stderr",
     "output_type": "stream",
     "text": [
      "100%|██████████| 739/739 [00:00<00:00, 1933.69it/s]\n",
      "100%|██████████| 739/739 [00:00<00:00, 1901.89it/s]\n"
     ]
    },
    {
     "name": "stdout",
     "output_type": "stream",
     "text": [
      "Optimal Solution:\n",
      "(111, 112)\n",
      "(143, 185)\n",
      "(116, 158)\n",
      "(224, 230)\n",
      "(98, 104)\n",
      "(198, 199)\n",
      "(130, 172)\n",
      "(12, 54)\n",
      "(104, 146)\n",
      "(278, 279)\n",
      "Objective Value: 10.0\n"
     ]
    },
    {
     "name": "stderr",
     "output_type": "stream",
     "text": [
      "100%|██████████| 739/739 [00:00<00:00, 2874.38it/s]\n",
      "100%|██████████| 739/739 [00:00<00:00, 2862.46it/s]\n"
     ]
    },
    {
     "name": "stdout",
     "output_type": "stream",
     "text": [
      "Optimal Solution:\n",
      "(229, 230)\n",
      "(98, 104)\n",
      "(190, 232)\n",
      "(130, 172)\n",
      "(158, 200)\n",
      "(117, 159)\n",
      "(91, 133)\n",
      "(14, 20)\n",
      "(66, 67)\n",
      "(165, 207)\n",
      "Objective Value: 10.0\n"
     ]
    },
    {
     "name": "stderr",
     "output_type": "stream",
     "text": [
      "100%|██████████| 739/739 [00:00<00:00, 3147.29it/s]\n",
      "100%|██████████| 739/739 [00:00<00:00, 3154.49it/s]\n"
     ]
    },
    {
     "name": "stdout",
     "output_type": "stream",
     "text": [
      "Optimal Solution:\n",
      "(90, 91)\n",
      "(111, 112)\n",
      "(75, 117)\n",
      "(98, 104)\n",
      "(130, 172)\n",
      "(12, 54)\n",
      "(231, 232)\n",
      "(112, 118)\n",
      "(230, 231)\n",
      "(271, 277)\n",
      "(66, 67)\n",
      "Objective Value: 11.0\n"
     ]
    },
    {
     "name": "stderr",
     "output_type": "stream",
     "text": [
      "100%|██████████| 738/738 [00:00<00:00, 2248.52it/s]\n",
      "100%|██████████| 738/738 [00:00<00:00, 2252.44it/s]\n"
     ]
    },
    {
     "name": "stdout",
     "output_type": "stream",
     "text": [
      "Optimal Solution:\n",
      "(133, 134)\n",
      "(135, 177)\n",
      "(229, 230)\n",
      "(143, 185)\n",
      "(157, 158)\n",
      "(79, 80)\n",
      "(244, 250)\n",
      "(278, 279)\n",
      "(158, 200)\n",
      "(184, 185)\n",
      "(14, 56)\n",
      "Objective Value: 11.0\n"
     ]
    },
    {
     "name": "stderr",
     "output_type": "stream",
     "text": [
      "100%|██████████| 738/738 [00:00<00:00, 1720.97it/s]\n",
      "100%|██████████| 738/738 [00:00<00:00, 1705.91it/s]\n"
     ]
    },
    {
     "name": "stdout",
     "output_type": "stream",
     "text": [
      "Optimal Solution:\n",
      "(133, 134)\n",
      "(135, 177)\n",
      "(229, 230)\n",
      "(143, 185)\n",
      "(157, 158)\n",
      "(171, 177)\n",
      "(244, 250)\n",
      "(278, 279)\n",
      "(158, 200)\n",
      "(73, 79)\n",
      "(14, 56)\n",
      "Objective Value: 11.0\n"
     ]
    },
    {
     "name": "stderr",
     "output_type": "stream",
     "text": [
      "100%|██████████| 738/738 [00:00<00:00, 2310.19it/s]\n",
      "100%|██████████| 738/738 [00:00<00:00, 2301.30it/s]\n"
     ]
    },
    {
     "name": "stdout",
     "output_type": "stream",
     "text": [
      "Optimal Solution:\n",
      "(135, 177)\n",
      "(143, 185)\n",
      "(171, 177)\n",
      "(111, 153)\n",
      "(230, 231)\n",
      "(271, 277)\n",
      "(278, 279)\n",
      "(150, 192)\n",
      "(73, 79)\n",
      "(14, 20)\n",
      "(66, 67)\n",
      "Objective Value: 11.0\n"
     ]
    },
    {
     "name": "stderr",
     "output_type": "stream",
     "text": [
      "100%|██████████| 738/738 [00:00<00:00, 2449.86it/s]\n",
      "100%|██████████| 738/738 [00:00<00:00, 2455.14it/s]\n"
     ]
    },
    {
     "name": "stdout",
     "output_type": "stream",
     "text": [
      "Optimal Solution:\n",
      "(135, 177)\n",
      "(98, 104)\n",
      "(171, 177)\n",
      "(111, 153)\n",
      "(230, 231)\n",
      "(271, 277)\n",
      "(278, 279)\n",
      "(33, 39)\n",
      "(117, 159)\n",
      "(14, 20)\n",
      "(66, 67)\n",
      "Objective Value: 11.0\n"
     ]
    },
    {
     "name": "stderr",
     "output_type": "stream",
     "text": [
      "100%|██████████| 738/738 [00:00<00:00, 2361.65it/s]\n",
      "100%|██████████| 738/738 [00:00<00:00, 2437.87it/s]\n"
     ]
    },
    {
     "name": "stdout",
     "output_type": "stream",
     "text": [
      "Optimal Solution:\n",
      "(253, 254)\n",
      "(143, 185)\n",
      "(98, 104)\n",
      "(130, 172)\n",
      "(111, 153)\n",
      "(230, 231)\n",
      "(271, 277)\n",
      "(278, 279)\n",
      "(33, 39)\n",
      "(14, 20)\n",
      "(66, 67)\n",
      "Objective Value: 11.0\n"
     ]
    },
    {
     "name": "stderr",
     "output_type": "stream",
     "text": [
      "100%|██████████| 738/738 [00:00<00:00, 2868.65it/s]\n",
      "100%|██████████| 738/738 [00:00<00:00, 2859.53it/s]\n"
     ]
    },
    {
     "name": "stdout",
     "output_type": "stream",
     "text": [
      "Optimal Solution:\n",
      "(139, 145)\n",
      "(98, 104)\n",
      "(157, 158)\n",
      "(171, 177)\n",
      "(144, 186)\n",
      "(230, 231)\n",
      "(244, 250)\n",
      "(59, 101)\n",
      "(184, 185)\n",
      "(14, 20)\n",
      "(224, 266)\n",
      "Objective Value: 11.0\n"
     ]
    },
    {
     "name": "stderr",
     "output_type": "stream",
     "text": [
      "100%|██████████| 738/738 [00:00<00:00, 3240.41it/s]\n",
      "100%|██████████| 738/738 [00:00<00:00, 3351.82it/s]\n"
     ]
    },
    {
     "name": "stdout",
     "output_type": "stream",
     "text": [
      "Optimal Solution:\n",
      "(126, 168)\n",
      "(229, 230)\n",
      "(190, 232)\n",
      "(104, 146)\n",
      "(171, 177)\n",
      "(112, 118)\n",
      "(138, 139)\n",
      "(59, 101)\n",
      "(33, 75)\n",
      "(99, 141)\n",
      "(14, 56)\n",
      "Objective Value: 11.0\n"
     ]
    },
    {
     "name": "stderr",
     "output_type": "stream",
     "text": [
      "100%|██████████| 738/738 [00:00<00:00, 1911.85it/s]\n",
      "100%|██████████| 738/738 [00:00<00:00, 1915.72it/s]\n"
     ]
    },
    {
     "name": "stdout",
     "output_type": "stream",
     "text": [
      "Optimal Solution:\n",
      "(103, 104)\n",
      "(58, 59)\n",
      "(189, 231)\n",
      "(190, 232)\n",
      "(165, 166)\n",
      "(171, 177)\n",
      "(117, 159)\n",
      "(99, 141)\n",
      "(14, 20)\n",
      "(224, 266)\n",
      "(66, 67)\n",
      "Objective Value: 11.0\n"
     ]
    },
    {
     "name": "stderr",
     "output_type": "stream",
     "text": [
      "100%|██████████| 738/738 [00:00<00:00, 2357.98it/s]\n",
      "100%|██████████| 738/738 [00:00<00:00, 2382.98it/s]\n"
     ]
    },
    {
     "name": "stdout",
     "output_type": "stream",
     "text": [
      "Optimal Solution:\n",
      "(206, 248)\n",
      "(90, 91)\n",
      "(229, 230)\n",
      "(111, 112)\n",
      "(98, 104)\n",
      "(130, 172)\n",
      "(12, 54)\n",
      "(278, 279)\n",
      "(217, 259)\n",
      "(158, 200)\n",
      "(100, 106)\n",
      "(66, 67)\n",
      "Objective Value: 12.0\n"
     ]
    },
    {
     "name": "stderr",
     "output_type": "stream",
     "text": [
      "100%|██████████| 737/737 [00:00<00:00, 3260.42it/s]\n",
      "100%|██████████| 737/737 [00:00<00:00, 3234.52it/s]\n"
     ]
    },
    {
     "name": "stdout",
     "output_type": "stream",
     "text": [
      "Optimal Solution:\n",
      "(49, 55)\n",
      "(116, 158)\n",
      "(198, 199)\n",
      "(171, 177)\n",
      "(53, 59)\n",
      "(230, 231)\n",
      "(244, 250)\n",
      "(158, 200)\n",
      "(117, 159)\n",
      "(99, 141)\n",
      "(150, 192)\n",
      "(224, 266)\n",
      "Objective Value: 12.0\n"
     ]
    },
    {
     "name": "stderr",
     "output_type": "stream",
     "text": [
      "100%|██████████| 737/737 [00:00<00:00, 3198.42it/s]\n",
      "100%|██████████| 737/737 [00:00<00:00, 3160.15it/s]\n"
     ]
    },
    {
     "name": "stdout",
     "output_type": "stream",
     "text": [
      "Optimal Solution:\n",
      "(49, 55)\n",
      "(114, 156)\n",
      "(283, 289)\n",
      "(171, 177)\n",
      "(53, 59)\n",
      "(230, 231)\n",
      "(244, 250)\n",
      "(158, 200)\n",
      "(117, 159)\n",
      "(99, 141)\n",
      "(150, 192)\n",
      "(224, 266)\n",
      "Objective Value: 12.0\n"
     ]
    },
    {
     "name": "stderr",
     "output_type": "stream",
     "text": [
      "100%|██████████| 737/737 [00:00<00:00, 2056.63it/s]\n",
      "100%|██████████| 737/737 [00:00<00:00, 2061.98it/s]\n"
     ]
    },
    {
     "name": "stdout",
     "output_type": "stream",
     "text": [
      "Optimal Solution:\n",
      "(133, 134)\n",
      "(135, 177)\n",
      "(58, 59)\n",
      "(157, 158)\n",
      "(138, 139)\n",
      "(230, 231)\n",
      "(244, 250)\n",
      "(277, 278)\n",
      "(158, 200)\n",
      "(117, 159)\n",
      "(99, 141)\n",
      "(14, 56)\n",
      "Objective Value: 12.0\n"
     ]
    },
    {
     "name": "stderr",
     "output_type": "stream",
     "text": [
      "100%|██████████| 737/737 [00:00<00:00, 3008.05it/s]\n",
      "100%|██████████| 737/737 [00:00<00:00, 2958.63it/s]\n"
     ]
    },
    {
     "name": "stdout",
     "output_type": "stream",
     "text": [
      "Optimal Solution:\n",
      "(133, 134)\n",
      "(58, 59)\n",
      "(198, 199)\n",
      "(157, 158)\n",
      "(171, 177)\n",
      "(138, 139)\n",
      "(230, 231)\n",
      "(271, 277)\n",
      "(244, 250)\n",
      "(117, 159)\n",
      "(99, 141)\n",
      "(14, 20)\n",
      "Objective Value: 12.0\n"
     ]
    },
    {
     "name": "stderr",
     "output_type": "stream",
     "text": [
      "100%|██████████| 737/737 [00:00<00:00, 2941.22it/s]\n",
      "100%|██████████| 737/737 [00:00<00:00, 2876.02it/s]\n"
     ]
    },
    {
     "name": "stdout",
     "output_type": "stream",
     "text": [
      "Optimal Solution:\n",
      "(114, 156)\n",
      "(175, 217)\n",
      "(98, 104)\n",
      "(190, 232)\n",
      "(12, 18)\n",
      "(111, 153)\n",
      "(105, 106)\n",
      "(230, 231)\n",
      "(171, 172)\n",
      "(271, 277)\n",
      "(117, 159)\n",
      "(150, 192)\n",
      "Objective Value: 12.0\n"
     ]
    },
    {
     "name": "stderr",
     "output_type": "stream",
     "text": [
      "100%|██████████| 737/737 [00:00<00:00, 2421.96it/s]\n",
      "100%|██████████| 737/737 [00:00<00:00, 2377.35it/s]\n"
     ]
    },
    {
     "name": "stdout",
     "output_type": "stream",
     "text": [
      "Optimal Solution:\n",
      "(232, 274)\n",
      "(229, 230)\n",
      "(58, 59)\n",
      "(98, 104)\n",
      "(165, 166)\n",
      "(130, 172)\n",
      "(278, 279)\n",
      "(217, 259)\n",
      "(158, 200)\n",
      "(117, 159)\n",
      "(14, 20)\n",
      "(66, 67)\n",
      "Objective Value: 12.0\n"
     ]
    },
    {
     "name": "stderr",
     "output_type": "stream",
     "text": [
      "100%|██████████| 737/737 [00:00<00:00, 3001.88it/s]\n",
      "100%|██████████| 737/737 [00:00<00:00, 3006.15it/s]\n"
     ]
    },
    {
     "name": "stdout",
     "output_type": "stream",
     "text": [
      "Optimal Solution:\n",
      "(49, 55)\n",
      "(232, 274)\n",
      "(114, 156)\n",
      "(229, 230)\n",
      "(175, 217)\n",
      "(290, 291)\n",
      "(171, 177)\n",
      "(53, 59)\n",
      "(158, 200)\n",
      "(117, 159)\n",
      "(99, 141)\n",
      "(165, 207)\n",
      "Objective Value: 12.0\n"
     ]
    },
    {
     "name": "stderr",
     "output_type": "stream",
     "text": [
      "100%|██████████| 737/737 [00:00<00:00, 2173.61it/s]\n",
      "100%|██████████| 737/737 [00:00<00:00, 2169.27it/s]\n"
     ]
    },
    {
     "name": "stdout",
     "output_type": "stream",
     "text": [
      "Optimal Solution:\n",
      "(229, 230)\n",
      "(111, 112)\n",
      "(75, 117)\n",
      "(142, 184)\n",
      "(175, 217)\n",
      "(190, 232)\n",
      "(264, 270)\n",
      "(130, 172)\n",
      "(12, 54)\n",
      "(104, 146)\n",
      "(100, 106)\n",
      "(33, 34)\n",
      "Objective Value: 12.0\n"
     ]
    },
    {
     "name": "stderr",
     "output_type": "stream",
     "text": [
      "100%|██████████| 737/737 [00:00<00:00, 2355.47it/s]\n",
      "100%|██████████| 737/737 [00:00<00:00, 2353.75it/s]\n"
     ]
    },
    {
     "name": "stdout",
     "output_type": "stream",
     "text": [
      "Optimal Solution:\n",
      "(274, 280)\n",
      "(229, 230)\n",
      "(111, 112)\n",
      "(98, 104)\n",
      "(157, 158)\n",
      "(12, 54)\n",
      "(171, 177)\n",
      "(105, 106)\n",
      "(138, 139)\n",
      "(244, 250)\n",
      "(277, 283)\n",
      "(117, 159)\n",
      "(99, 141)\n",
      "Objective Value: 13.0\n"
     ]
    },
    {
     "name": "stderr",
     "output_type": "stream",
     "text": [
      "100%|██████████| 736/736 [00:00<00:00, 2538.50it/s]\n",
      "100%|██████████| 736/736 [00:00<00:00, 2489.64it/s]\n"
     ]
    },
    {
     "name": "stdout",
     "output_type": "stream",
     "text": [
      "Optimal Solution:\n",
      "(114, 156)\n",
      "(229, 230)\n",
      "(175, 217)\n",
      "(190, 232)\n",
      "(165, 166)\n",
      "(130, 172)\n",
      "(104, 146)\n",
      "(53, 59)\n",
      "(244, 250)\n",
      "(158, 200)\n",
      "(117, 159)\n",
      "(91, 133)\n",
      "(14, 20)\n",
      "Objective Value: 13.0\n"
     ]
    },
    {
     "name": "stderr",
     "output_type": "stream",
     "text": [
      "100%|██████████| 736/736 [00:00<00:00, 2200.15it/s]\n",
      "100%|██████████| 736/736 [00:00<00:00, 2199.64it/s]\n"
     ]
    },
    {
     "name": "stdout",
     "output_type": "stream",
     "text": [
      "Optimal Solution:\n",
      "(90, 91)\n",
      "(111, 112)\n",
      "(175, 217)\n",
      "(58, 59)\n",
      "(98, 104)\n",
      "(189, 231)\n",
      "(190, 232)\n",
      "(130, 172)\n",
      "(271, 277)\n",
      "(33, 39)\n",
      "(117, 159)\n",
      "(14, 20)\n",
      "(66, 67)\n",
      "Objective Value: 13.0\n"
     ]
    },
    {
     "name": "stderr",
     "output_type": "stream",
     "text": [
      "100%|██████████| 736/736 [00:00<00:00, 1708.17it/s]\n",
      "100%|██████████| 736/736 [00:00<00:00, 3135.24it/s]\n"
     ]
    },
    {
     "name": "stdout",
     "output_type": "stream",
     "text": [
      "Optimal Solution:\n",
      "(90, 91)\n",
      "(111, 112)\n",
      "(157, 158)\n",
      "(231, 237)\n",
      "(12, 54)\n",
      "(171, 177)\n",
      "(105, 106)\n",
      "(138, 139)\n",
      "(230, 231)\n",
      "(271, 277)\n",
      "(277, 278)\n",
      "(117, 159)\n",
      "(99, 141)\n",
      "Objective Value: 13.0\n"
     ]
    },
    {
     "name": "stderr",
     "output_type": "stream",
     "text": [
      "100%|██████████| 736/736 [00:00<00:00, 2418.36it/s]\n",
      "100%|██████████| 736/736 [00:00<00:00, 2376.41it/s]\n"
     ]
    },
    {
     "name": "stdout",
     "output_type": "stream",
     "text": [
      "Optimal Solution:\n",
      "(232, 274)\n",
      "(114, 156)\n",
      "(229, 230)\n",
      "(111, 112)\n",
      "(157, 158)\n",
      "(12, 54)\n",
      "(171, 177)\n",
      "(105, 106)\n",
      "(138, 139)\n",
      "(277, 283)\n",
      "(278, 279)\n",
      "(117, 159)\n",
      "(99, 141)\n",
      "Objective Value: 13.0\n"
     ]
    },
    {
     "name": "stderr",
     "output_type": "stream",
     "text": [
      "100%|██████████| 736/736 [00:00<00:00, 2173.24it/s]\n",
      "100%|██████████| 736/736 [00:00<00:00, 2191.04it/s]\n"
     ]
    },
    {
     "name": "stdout",
     "output_type": "stream",
     "text": [
      "Optimal Solution:\n",
      "(229, 230)\n",
      "(111, 112)\n",
      "(103, 104)\n",
      "(175, 217)\n",
      "(190, 232)\n",
      "(130, 172)\n",
      "(105, 106)\n",
      "(33, 39)\n",
      "(117, 159)\n",
      "(250, 292)\n",
      "(99, 141)\n",
      "(14, 20)\n",
      "(66, 67)\n",
      "Objective Value: 13.0\n"
     ]
    },
    {
     "name": "stderr",
     "output_type": "stream",
     "text": [
      "100%|██████████| 736/736 [00:00<00:00, 1871.14it/s]\n",
      "100%|██████████| 736/736 [00:00<00:00, 1904.07it/s]\n"
     ]
    },
    {
     "name": "stdout",
     "output_type": "stream",
     "text": [
      "Optimal Solution:\n",
      "(141, 142)\n",
      "(229, 230)\n",
      "(111, 112)\n",
      "(175, 217)\n",
      "(98, 104)\n",
      "(190, 232)\n",
      "(283, 289)\n",
      "(130, 172)\n",
      "(12, 54)\n",
      "(104, 146)\n",
      "(33, 75)\n",
      "(250, 292)\n",
      "(100, 106)\n",
      "Objective Value: 13.0\n"
     ]
    },
    {
     "name": "stderr",
     "output_type": "stream",
     "text": [
      "100%|██████████| 736/736 [00:00<00:00, 2602.27it/s]\n",
      "100%|██████████| 736/736 [00:00<00:00, 2600.25it/s]\n"
     ]
    },
    {
     "name": "stdout",
     "output_type": "stream",
     "text": [
      "Optimal Solution:\n",
      "(90, 91)\n",
      "(229, 230)\n",
      "(111, 112)\n",
      "(190, 232)\n",
      "(12, 54)\n",
      "(171, 177)\n",
      "(105, 106)\n",
      "(138, 139)\n",
      "(271, 277)\n",
      "(33, 75)\n",
      "(117, 159)\n",
      "(99, 141)\n",
      "(150, 192)\n",
      "Objective Value: 13.0\n"
     ]
    },
    {
     "name": "stderr",
     "output_type": "stream",
     "text": [
      "100%|██████████| 736/736 [00:00<00:00, 2469.36it/s]\n",
      "100%|██████████| 736/736 [00:00<00:00, 2432.93it/s]\n"
     ]
    },
    {
     "name": "stdout",
     "output_type": "stream",
     "text": [
      "Optimal Solution:\n",
      "(229, 230)\n",
      "(111, 112)\n",
      "(175, 217)\n",
      "(98, 104)\n",
      "(190, 232)\n",
      "(283, 289)\n",
      "(130, 172)\n",
      "(12, 54)\n",
      "(104, 146)\n",
      "(138, 139)\n",
      "(33, 75)\n",
      "(100, 106)\n",
      "(150, 192)\n",
      "Objective Value: 13.0\n"
     ]
    },
    {
     "name": "stderr",
     "output_type": "stream",
     "text": [
      "100%|██████████| 736/736 [00:00<00:00, 2238.84it/s]\n",
      "100%|██████████| 736/736 [00:00<00:00, 2230.03it/s]\n"
     ]
    },
    {
     "name": "stdout",
     "output_type": "stream",
     "text": [
      "Optimal Solution:\n",
      "(49, 55)\n",
      "(114, 156)\n",
      "(111, 112)\n",
      "(139, 145)\n",
      "(190, 232)\n",
      "(197, 203)\n",
      "(171, 177)\n",
      "(105, 106)\n",
      "(230, 231)\n",
      "(271, 277)\n",
      "(117, 159)\n",
      "(99, 141)\n",
      "(150, 192)\n",
      "Objective Value: 13.0\n"
     ]
    },
    {
     "name": "stderr",
     "output_type": "stream",
     "text": [
      "100%|██████████| 736/736 [00:00<00:00, 1612.01it/s]\n",
      "100%|██████████| 736/736 [00:00<00:00, 1625.23it/s]\n"
     ]
    },
    {
     "name": "stdout",
     "output_type": "stream",
     "text": [
      "Optimal Solution:\n",
      "(229, 230)\n",
      "(111, 112)\n",
      "(103, 104)\n",
      "(175, 217)\n",
      "(190, 232)\n",
      "(130, 172)\n",
      "(12, 54)\n",
      "(105, 106)\n",
      "(244, 250)\n",
      "(66, 108)\n",
      "(117, 159)\n",
      "(99, 141)\n",
      "(150, 192)\n",
      "Objective Value: 13.0\n"
     ]
    },
    {
     "name": "stderr",
     "output_type": "stream",
     "text": [
      "100%|██████████| 736/736 [00:00<00:00, 3975.95it/s]\n",
      "100%|██████████| 736/736 [00:00<00:00, 3965.30it/s]\n"
     ]
    },
    {
     "name": "stdout",
     "output_type": "stream",
     "text": [
      "Optimal Solution:\n",
      "(229, 230)\n",
      "(111, 112)\n",
      "(175, 217)\n",
      "(58, 59)\n",
      "(190, 232)\n",
      "(130, 172)\n",
      "(244, 250)\n",
      "(66, 108)\n",
      "(158, 200)\n",
      "(117, 159)\n",
      "(99, 141)\n",
      "(150, 192)\n",
      "(14, 20)\n",
      "Objective Value: 13.0\n"
     ]
    },
    {
     "name": "stderr",
     "output_type": "stream",
     "text": [
      "100%|██████████| 736/736 [00:00<00:00, 2624.41it/s]\n",
      "100%|██████████| 736/736 [00:00<00:00, 2637.10it/s]\n"
     ]
    },
    {
     "name": "stdout",
     "output_type": "stream",
     "text": [
      "Optimal Solution:\n",
      "(141, 142)\n",
      "(63, 64)\n",
      "(229, 230)\n",
      "(175, 217)\n",
      "(130, 172)\n",
      "(12, 54)\n",
      "(152, 158)\n",
      "(244, 250)\n",
      "(33, 75)\n",
      "(193, 194)\n",
      "(100, 106)\n",
      "(150, 192)\n",
      "(225, 231)\n",
      "Objective Value: 13.0\n"
     ]
    },
    {
     "name": "stderr",
     "output_type": "stream",
     "text": [
      "100%|██████████| 736/736 [00:00<00:00, 1712.67it/s]\n",
      "100%|██████████| 736/736 [00:00<00:00, 1716.83it/s]\n"
     ]
    },
    {
     "ename": "KeyboardInterrupt",
     "evalue": "",
     "output_type": "error",
     "traceback": [
      "\u001b[0;31m---------------------------------------------------------------------------\u001b[0m",
      "\u001b[0;31mKeyboardInterrupt\u001b[0m                         Traceback (most recent call last)",
      "Cell \u001b[0;32mIn[54], line 5\u001b[0m\n\u001b[1;32m      3\u001b[0m \u001b[38;5;28;01mwhile\u001b[39;00m GC\u001b[38;5;241m.\u001b[39mdict_blocked_edges :\n\u001b[1;32m      4\u001b[0m     GC \u001b[38;5;241m=\u001b[39m Graph_Cycles(Blocked_edges,Marked_edges)\n\u001b[0;32m----> 5\u001b[0m     cycles,new_marked \u001b[38;5;241m=\u001b[39m \u001b[43mresolve_MIP\u001b[49m\u001b[43m(\u001b[49m\u001b[43mcycles\u001b[49m\u001b[43m,\u001b[49m\u001b[43mBlocked_edges\u001b[49m\u001b[43m,\u001b[49m\u001b[43mMarked_edges\u001b[49m\u001b[43m)\u001b[49m\n\u001b[1;32m      6\u001b[0m     Marked_edges \u001b[38;5;241m=\u001b[39m new_marked\n",
      "Cell \u001b[0;32mIn[30], line 32\u001b[0m, in \u001b[0;36mresolve_MIP\u001b[0;34m(cycles, Blocked_edges, Marked_edges)\u001b[0m\n\u001b[1;32m     29\u001b[0m     problem \u001b[38;5;241m+\u001b[39m\u001b[38;5;241m=\u001b[39m pulp\u001b[38;5;241m.\u001b[39mlpSum(x[i] \u001b[38;5;28;01mfor\u001b[39;00m i \u001b[38;5;129;01min\u001b[39;00m edge) \u001b[38;5;241m>\u001b[39m\u001b[38;5;241m=\u001b[39m \u001b[38;5;241m1\u001b[39m\n\u001b[1;32m     31\u001b[0m \u001b[38;5;66;03m# Solve the MIP problem\u001b[39;00m\n\u001b[0;32m---> 32\u001b[0m \u001b[43mproblem\u001b[49m\u001b[38;5;241;43m.\u001b[39;49m\u001b[43msolve\u001b[49m\u001b[43m(\u001b[49m\u001b[43mpulp\u001b[49m\u001b[38;5;241;43m.\u001b[39;49m\u001b[43mPULP_CBC_CMD\u001b[49m\u001b[43m(\u001b[49m\u001b[43mmsg\u001b[49m\u001b[38;5;241;43m=\u001b[39;49m\u001b[38;5;28;43;01mFalse\u001b[39;49;00m\u001b[43m)\u001b[49m\u001b[43m)\u001b[49m\n\u001b[1;32m     34\u001b[0m \u001b[38;5;66;03m# Print the optimal solution\u001b[39;00m\n\u001b[1;32m     35\u001b[0m \u001b[38;5;28mprint\u001b[39m(\u001b[38;5;124m\"\u001b[39m\u001b[38;5;124mOptimal Solution:\u001b[39m\u001b[38;5;124m\"\u001b[39m)\n",
      "File \u001b[0;32m~/.local/lib/python3.11/site-packages/pulp/pulp.py:1883\u001b[0m, in \u001b[0;36mLpProblem.solve\u001b[0;34m(self, solver, **kwargs)\u001b[0m\n\u001b[1;32m   1881\u001b[0m \u001b[38;5;66;03m# time it\u001b[39;00m\n\u001b[1;32m   1882\u001b[0m \u001b[38;5;28mself\u001b[39m\u001b[38;5;241m.\u001b[39mstartClock()\n\u001b[0;32m-> 1883\u001b[0m status \u001b[38;5;241m=\u001b[39m \u001b[43msolver\u001b[49m\u001b[38;5;241;43m.\u001b[39;49m\u001b[43mactualSolve\u001b[49m\u001b[43m(\u001b[49m\u001b[38;5;28;43mself\u001b[39;49m\u001b[43m,\u001b[49m\u001b[43m \u001b[49m\u001b[38;5;241;43m*\u001b[39;49m\u001b[38;5;241;43m*\u001b[39;49m\u001b[43mkwargs\u001b[49m\u001b[43m)\u001b[49m\n\u001b[1;32m   1884\u001b[0m \u001b[38;5;28mself\u001b[39m\u001b[38;5;241m.\u001b[39mstopClock()\n\u001b[1;32m   1885\u001b[0m \u001b[38;5;28mself\u001b[39m\u001b[38;5;241m.\u001b[39mrestoreObjective(wasNone, dummyVar)\n",
      "File \u001b[0;32m~/.local/lib/python3.11/site-packages/pulp/apis/coin_api.py:112\u001b[0m, in \u001b[0;36mCOIN_CMD.actualSolve\u001b[0;34m(self, lp, **kwargs)\u001b[0m\n\u001b[1;32m    110\u001b[0m \u001b[38;5;28;01mdef\u001b[39;00m \u001b[38;5;21mactualSolve\u001b[39m(\u001b[38;5;28mself\u001b[39m, lp, \u001b[38;5;241m*\u001b[39m\u001b[38;5;241m*\u001b[39mkwargs):\n\u001b[1;32m    111\u001b[0m \u001b[38;5;250m    \u001b[39m\u001b[38;5;124;03m\"\"\"Solve a well formulated lp problem\"\"\"\u001b[39;00m\n\u001b[0;32m--> 112\u001b[0m     \u001b[38;5;28;01mreturn\u001b[39;00m \u001b[38;5;28;43mself\u001b[39;49m\u001b[38;5;241;43m.\u001b[39;49m\u001b[43msolve_CBC\u001b[49m\u001b[43m(\u001b[49m\u001b[43mlp\u001b[49m\u001b[43m,\u001b[49m\u001b[43m \u001b[49m\u001b[38;5;241;43m*\u001b[39;49m\u001b[38;5;241;43m*\u001b[39;49m\u001b[43mkwargs\u001b[49m\u001b[43m)\u001b[49m\n",
      "File \u001b[0;32m~/.local/lib/python3.11/site-packages/pulp/apis/coin_api.py:178\u001b[0m, in \u001b[0;36mCOIN_CMD.solve_CBC\u001b[0;34m(self, lp, use_mps)\u001b[0m\n\u001b[1;32m    176\u001b[0m \u001b[38;5;28;01melse\u001b[39;00m:\n\u001b[1;32m    177\u001b[0m     cbc \u001b[38;5;241m=\u001b[39m subprocess\u001b[38;5;241m.\u001b[39mPopen(args, stdout\u001b[38;5;241m=\u001b[39mpipe, stderr\u001b[38;5;241m=\u001b[39mpipe, stdin\u001b[38;5;241m=\u001b[39mdevnull)\n\u001b[0;32m--> 178\u001b[0m \u001b[38;5;28;01mif\u001b[39;00m \u001b[43mcbc\u001b[49m\u001b[38;5;241;43m.\u001b[39;49m\u001b[43mwait\u001b[49m\u001b[43m(\u001b[49m\u001b[43m)\u001b[49m \u001b[38;5;241m!=\u001b[39m \u001b[38;5;241m0\u001b[39m:\n\u001b[1;32m    179\u001b[0m     \u001b[38;5;28;01mif\u001b[39;00m pipe:\n\u001b[1;32m    180\u001b[0m         pipe\u001b[38;5;241m.\u001b[39mclose()\n",
      "File \u001b[0;32m/cvmfs/soft.computecanada.ca/easybuild/software/2020/avx2/Core/python/3.11.5/lib/python3.11/subprocess.py:1264\u001b[0m, in \u001b[0;36mPopen.wait\u001b[0;34m(self, timeout)\u001b[0m\n\u001b[1;32m   1262\u001b[0m     endtime \u001b[38;5;241m=\u001b[39m _time() \u001b[38;5;241m+\u001b[39m timeout\n\u001b[1;32m   1263\u001b[0m \u001b[38;5;28;01mtry\u001b[39;00m:\n\u001b[0;32m-> 1264\u001b[0m     \u001b[38;5;28;01mreturn\u001b[39;00m \u001b[38;5;28;43mself\u001b[39;49m\u001b[38;5;241;43m.\u001b[39;49m\u001b[43m_wait\u001b[49m\u001b[43m(\u001b[49m\u001b[43mtimeout\u001b[49m\u001b[38;5;241;43m=\u001b[39;49m\u001b[43mtimeout\u001b[49m\u001b[43m)\u001b[49m\n\u001b[1;32m   1265\u001b[0m \u001b[38;5;28;01mexcept\u001b[39;00m \u001b[38;5;167;01mKeyboardInterrupt\u001b[39;00m:\n\u001b[1;32m   1266\u001b[0m     \u001b[38;5;66;03m# https://bugs.python.org/issue25942\u001b[39;00m\n\u001b[1;32m   1267\u001b[0m     \u001b[38;5;66;03m# The first keyboard interrupt waits briefly for the child to\u001b[39;00m\n\u001b[1;32m   1268\u001b[0m     \u001b[38;5;66;03m# exit under the common assumption that it also received the ^C\u001b[39;00m\n\u001b[1;32m   1269\u001b[0m     \u001b[38;5;66;03m# generated SIGINT and will exit rapidly.\u001b[39;00m\n\u001b[1;32m   1270\u001b[0m     \u001b[38;5;28;01mif\u001b[39;00m timeout \u001b[38;5;129;01mis\u001b[39;00m \u001b[38;5;129;01mnot\u001b[39;00m \u001b[38;5;28;01mNone\u001b[39;00m:\n",
      "File \u001b[0;32m/cvmfs/soft.computecanada.ca/easybuild/software/2020/avx2/Core/python/3.11.5/lib/python3.11/subprocess.py:2046\u001b[0m, in \u001b[0;36mPopen._wait\u001b[0;34m(self, timeout)\u001b[0m\n\u001b[1;32m   2044\u001b[0m \u001b[38;5;28;01mif\u001b[39;00m \u001b[38;5;28mself\u001b[39m\u001b[38;5;241m.\u001b[39mreturncode \u001b[38;5;129;01mis\u001b[39;00m \u001b[38;5;129;01mnot\u001b[39;00m \u001b[38;5;28;01mNone\u001b[39;00m:\n\u001b[1;32m   2045\u001b[0m     \u001b[38;5;28;01mbreak\u001b[39;00m  \u001b[38;5;66;03m# Another thread waited.\u001b[39;00m\n\u001b[0;32m-> 2046\u001b[0m (pid, sts) \u001b[38;5;241m=\u001b[39m \u001b[38;5;28;43mself\u001b[39;49m\u001b[38;5;241;43m.\u001b[39;49m\u001b[43m_try_wait\u001b[49m\u001b[43m(\u001b[49m\u001b[38;5;241;43m0\u001b[39;49m\u001b[43m)\u001b[49m\n\u001b[1;32m   2047\u001b[0m \u001b[38;5;66;03m# Check the pid and loop as waitpid has been known to\u001b[39;00m\n\u001b[1;32m   2048\u001b[0m \u001b[38;5;66;03m# return 0 even without WNOHANG in odd situations.\u001b[39;00m\n\u001b[1;32m   2049\u001b[0m \u001b[38;5;66;03m# http://bugs.python.org/issue14396.\u001b[39;00m\n\u001b[1;32m   2050\u001b[0m \u001b[38;5;28;01mif\u001b[39;00m pid \u001b[38;5;241m==\u001b[39m \u001b[38;5;28mself\u001b[39m\u001b[38;5;241m.\u001b[39mpid:\n",
      "File \u001b[0;32m/cvmfs/soft.computecanada.ca/easybuild/software/2020/avx2/Core/python/3.11.5/lib/python3.11/subprocess.py:2004\u001b[0m, in \u001b[0;36mPopen._try_wait\u001b[0;34m(self, wait_flags)\u001b[0m\n\u001b[1;32m   2002\u001b[0m \u001b[38;5;250m\u001b[39m\u001b[38;5;124;03m\"\"\"All callers to this function MUST hold self._waitpid_lock.\"\"\"\u001b[39;00m\n\u001b[1;32m   2003\u001b[0m \u001b[38;5;28;01mtry\u001b[39;00m:\n\u001b[0;32m-> 2004\u001b[0m     (pid, sts) \u001b[38;5;241m=\u001b[39m os\u001b[38;5;241m.\u001b[39mwaitpid(\u001b[38;5;28mself\u001b[39m\u001b[38;5;241m.\u001b[39mpid, wait_flags)\n\u001b[1;32m   2005\u001b[0m \u001b[38;5;28;01mexcept\u001b[39;00m \u001b[38;5;167;01mChildProcessError\u001b[39;00m:\n\u001b[1;32m   2006\u001b[0m     \u001b[38;5;66;03m# This happens if SIGCLD is set to be ignored or waiting\u001b[39;00m\n\u001b[1;32m   2007\u001b[0m     \u001b[38;5;66;03m# for child processes has otherwise been disabled for our\u001b[39;00m\n\u001b[1;32m   2008\u001b[0m     \u001b[38;5;66;03m# process.  This child is dead, we can't get the status.\u001b[39;00m\n\u001b[1;32m   2009\u001b[0m     pid \u001b[38;5;241m=\u001b[39m \u001b[38;5;28mself\u001b[39m\u001b[38;5;241m.\u001b[39mpid\n",
      "\u001b[0;31mKeyboardInterrupt\u001b[0m: "
     ]
    }
   ],
   "source": [
    "Blocked_edges = Edges\n",
    "cycles = []\n",
    "while GC.dict_blocked_edges :\n",
    "    GC = Graph_Cycles(Blocked_edges,Marked_edges)\n",
    "    cycles,new_marked = resolve_MIP(cycles,Blocked_edges,Marked_edges)\n",
    "    Marked_edges = new_marked\n",
    "    "
   ]
  },
  {
   "cell_type": "markdown",
   "metadata": {},
   "source": [
    "## Debuggage"
   ]
  },
  {
   "cell_type": "code",
   "execution_count": 5,
   "metadata": {},
   "outputs": [],
   "source": [
    "import pickle\n",
    "\n",
    "# Pickle Edges\n",
    "with open('edges.pickle', 'rb') as f:\n",
    "    Edges = pickle.load(f)\n"
   ]
  },
  {
   "cell_type": "code",
   "execution_count": 6,
   "metadata": {},
   "outputs": [
    {
     "data": {
      "text/plain": [
       "26"
      ]
     },
     "execution_count": 6,
     "metadata": {},
     "output_type": "execute_result"
    }
   ],
   "source": [
    "def find_cycle_impair(GC):\n",
    "    path = nx.shortest_path(GC.Graph_cycles,0,1)\n",
    "    tried_paths = set()\n",
    "    while not GC.get_full_cycle(path) and tuple(path) not in tried_paths:\n",
    "        cpt1 = np.random.randint(0,len(GC.dict_blocked_edges))\n",
    "        blocked_edge = list(GC.dict_blocked_edges.keys())[cpt1]\n",
    "        cycle_blocked = GC.dict_blocked_edges[blocked_edge]\n",
    "        if len(cycle_blocked) == 0:\n",
    "            print(\"---------------------\")\n",
    "            print(cpt1)\n",
    "            print(\"--------------------\")\n",
    "        cycle_blocked_index = GC.cycles_index[cycle_blocked[np.random.randint(0,len(cycle_blocked))]]\n",
    "        cycle_index = np.random.randint(0,len(GC.cycles))\n",
    "        tried_paths.add(tuple(path))\n",
    "        path = nx.shortest_path(GC.Graph_cycles,cycle_index,cycle_blocked_index)\n",
    "    return GC.get_full_cycle(path)"
   ]
  },
  {
   "cell_type": "code",
   "execution_count": null,
   "metadata": {},
   "outputs": [],
   "source": [
    "def find_impair_cycle(GC):\n",
    "    \n",
    "    for path in GC."
   ]
  },
  {
   "cell_type": "code",
   "execution_count": null,
   "metadata": {},
   "outputs": [],
   "source": []
  },
  {
   "cell_type": "code",
   "execution_count": 25,
   "metadata": {},
   "outputs": [],
   "source": [
    "Marked_edges = [[(-2, 0, 0), (-2, 0, 1)], [(0, -2, 2), (0, -1, 2)], [(1, 1, -1), (2, 1, -1)], [(1, -2, 2), (1, -1, 2)], [(2, 0, 0), (2, 0, 1)], [(1, 1, 2), (1, 1, 3)], [(-2, 0, 3), (-1, 0, 3)], [(-1, 2, 2), (-1, 2, 3)], [(0, 3, 2), (0, 3, 3)], [(-1, -1, 1), (-1, -1, 2)], [(-3, 3, 1), (-2, 3, 1)], [(2, 0, 2), (2, 0, 3)], [(1, -3, 2), (1, -3, 3)], [(1, -1, 4), (1, 0, 4)], [(2, 1, 2), (2, 1, 3)], [(-2, -1, 4), (-1, -1, 4)], [(3, -3, -1), (3, -3, 0)], [(1, 1, 0), (1, 1, 1)], [(-2, -1, 3), (-1, -1, 3)], [(-1, -2, 0), (0, -2, 0)]]\n"
   ]
  },
  {
   "cell_type": "code",
   "execution_count": 26,
   "metadata": {},
   "outputs": [
    {
     "name": "stderr",
     "output_type": "stream",
     "text": [
      " 64%|██████▍   | 467/729 [00:00<00:00, 2260.69it/s]"
     ]
    },
    {
     "name": "stderr",
     "output_type": "stream",
     "text": [
      "100%|██████████| 729/729 [00:00<00:00, 1787.85it/s]\n"
     ]
    }
   ],
   "source": [
    "GC = Graph_Cycles(Edges,Marked_edges)\n",
    "G = GraphGrid3D(Edges,[])\n",
    "cycle = find_cycle_impair(GC)"
   ]
  },
  {
   "cell_type": "code",
   "execution_count": 27,
   "metadata": {},
   "outputs": [
    {
     "data": {
      "text/plain": [
       "(-1.0, 4.0)"
      ]
     },
     "execution_count": 27,
     "metadata": {},
     "output_type": "execute_result"
    },
    {
     "data": {
      "application/vnd.jupyter.widget-view+json": {
       "model_id": "4443296247fb40869f908588372dfe19",
       "version_major": 2,
       "version_minor": 0
      },
      "image/png": "[encoded data removed]",
      "text/html": [
       "\n",
       "            <div style=\"display: inline-block;\">\n",
       "                <div class=\"jupyter-widgets widget-label\" style=\"text-align: center;\">\n",
       "                    Figure\n",
       "                </div>\n",
       "                <img src='data:image/png;base64,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' width=640.0/>\n",
       "            </div>\n",
       "        "
      ],
      "text/plain": [
       "Canvas(toolbar=Toolbar(toolitems=[('Home', 'Reset original view', 'home', 'home'), ('Back', 'Back to previous …"
      ]
     },
     "metadata": {},
     "output_type": "display_data"
    }
   ],
   "source": [
    "fig = plt.figure()\n",
    "ax = fig.add_subplot(111, projection='3d')\n",
    "ax.set_aspect('equal')\n",
    "X,Y,Z = [],[],[]\n",
    "\n",
    "# for cycle in GC.dict_blocked_edges[(62, 63)]:\n",
    "A,B,C = [],[],[]\n",
    "for point in cycle:\n",
    "    x, y, z = G.mapping[point]\n",
    "    A.append(x)\n",
    "    B.append(y)\n",
    "    C.append(z)\n",
    "    ##########\n",
    "    X.append(x)\n",
    "    Y.append(y)\n",
    "    Z.append(z)\n",
    "\n",
    "ax.plot(A, B, C,marker = \"o\") \n",
    "\n",
    "Blockii_edges = []\n",
    "for i in range(len(cycle)):\n",
    "    edge = min(cycle[i],cycle[(i+1)%len(cycle)]),max(cycle[i],cycle[(i+1)%len(cycle)])\n",
    "    if edge in G.blocked_edges:\n",
    "        Blockii_edges.append(edge)\n",
    "    \n",
    "for edge in Blockii_edges:\n",
    "    x,y,z = G.mapping[edge[0]]\n",
    "    x1,y1,z1 = G.mapping[edge[1]]\n",
    "    ax.plot([x,x1],[y,y1],[z,z1],color=\"black\")\n",
    "\n",
    "\n",
    "# origin = 180\n",
    "# x,y,z = G.mapping[origin]\n",
    "# ax.plot(x,y,z,color=\"black\",marker=\"x\")\n",
    "\n",
    "X,Y,Z = np.array(X),np.array(Y),np.array(Z)\n",
    "max_range = np.array([X.max()-X.min(), Y.max()-Y.min(), Z.max()-Z.min()]).max() / 2.0 \n",
    "\n",
    "mid_x = (X.max()+X.min()) * 0.5\n",
    "mid_y = (Y.max()+Y.min()) * 0.5\n",
    "mid_z = (Z.max()+Z.min()) * 0.5\n",
    "ax.set_xlim(mid_x - max_range, mid_x + max_range)\n",
    "ax.set_ylim(mid_y - max_range, mid_y + max_range)\n",
    "ax.set_zlim(mid_z - max_range, mid_z + max_range)"
   ]
  },
  {
   "cell_type": "code",
   "execution_count": 48,
   "metadata": {},
   "outputs": [
    {
     "name": "stderr",
     "output_type": "stream",
     "text": [
      "100%|██████████| 600/600 [00:00<00:00, 3724.61it/s]\n"
     ]
    }
   ],
   "source": [
    "G = GraphGrid3D(Edges,[])\n",
    "GC = Graph_Cycles(Edges,Marked_edges)"
   ]
  }
 ],
 "metadata": {
  "kernelspec": {
   "display_name": "Python 3",
   "language": "python",
   "name": "python3"
  },
  "language_info": {
   "codemirror_mode": {
    "name": "ipython",
    "version": 3
   },
   "file_extension": ".py",
   "mimetype": "text/x-python",
   "name": "python",
   "nbconvert_exporter": "python",
   "pygments_lexer": "ipython3",
   "version": "3.11.5"
  }
 },
 "nbformat": 4,
 "nbformat_minor": 2
}
