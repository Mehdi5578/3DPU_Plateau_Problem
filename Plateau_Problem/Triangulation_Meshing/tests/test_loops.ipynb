{
 "cells": [
  {
   "cell_type": "code",
   "execution_count": 1,
   "metadata": {},
   "outputs": [],
   "source": [
    "import sys\n",
    "import sys\n",
    "import os\n",
    "ROOT  = \"../\"\n",
    "# Add current working directory to sys.path\n",
    "sys.path.append(ROOT)\n",
    "sys.path.append(r\"C:\\Users\\oudao\\Documents\\3DPU_Plateau_Problem\")\n",
    "from PointList import *\n",
    "%matplotlib widget \n",
    "import matplotlib\n",
    "from mpl_toolkits.mplot3d import Axes3D\n",
    "import matplotlib.pyplot as plt\n",
    "from tqdm import tqdm\n",
    "import math\n",
    "from _3DLoops._3dpu_using_dfs import *\n",
    "from Block_edges.block_edges import *"
   ]
  },
  {
   "cell_type": "code",
   "execution_count": 2,
   "metadata": {},
   "outputs": [],
   "source": [
    "import pickle\n",
    "\n",
    "# Specify the file path\n",
    "file_path = r\"C:\\Users\\oudao\\Documents\\3DPU_Plateau_Problem\\Results\\ph_loops.pkl\"\n",
    "\n",
    "# Load the pickle file\n",
    "with open(file_path, \"rb\") as file:\n",
    "    C = pickle.load(file)\n",
    "\n"
   ]
  },
  {
   "cell_type": "code",
   "execution_count": 54,
   "metadata": {},
   "outputs": [],
   "source": [
    "def transform_euclidean(point):\n",
    "    i,j,k = point[0], point[1], point[2]\n",
    "    axe = point[3]\n",
    "    if axe == 0:\n",
    "        return [i,j+0.5,k+0.5]\n",
    "    if axe == 1:\n",
    "        return [i+0.5,j,k+0.5]\n",
    "    if axe == 2:\n",
    "        return [i+0.5,j+0.5,k]\n",
    "    "
   ]
  },
  {
   "cell_type": "code",
   "execution_count": 60,
   "metadata": {},
   "outputs": [],
   "source": [
    "Closed_paths = C.cycles\n",
    "Polygones = []\n",
    "for path in Closed_paths:\n",
    "    polygone = PointList()\n",
    "    for i in path:\n",
    "        polygone.add_point(transform_euclidean(C.mapping[i]))\n",
    "    Polygones.append(polygone)"
   ]
  },
  {
   "cell_type": "code",
   "execution_count": 67,
   "metadata": {},
   "outputs": [],
   "source": [
    "for polygone in Polygones:\n",
    "    M = Edge_Flipping(polygone,100*len(polygone.points))"
   ]
  }
 ],
 "metadata": {
  "kernelspec": {
   "display_name": "Python 3",
   "language": "python",
   "name": "python3"
  },
  "language_info": {
   "codemirror_mode": {
    "name": "ipython",
    "version": 3
   },
   "file_extension": ".py",
   "mimetype": "text/x-python",
   "name": "python",
   "nbconvert_exporter": "python",
   "pygments_lexer": "ipython3",
   "version": "3.11.7"
  }
 },
 "nbformat": 4,
 "nbformat_minor": 2
}
