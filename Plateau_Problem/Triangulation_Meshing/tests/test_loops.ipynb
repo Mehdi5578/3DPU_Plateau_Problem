{
 "cells": [
  {
   "cell_type": "code",
   "execution_count": 1,
   "metadata": {},
   "outputs": [],
   "source": [
    "import sys\n",
    "import sys\n",
    "import os\n",
    "ROOT  = \"../\"\n",
    "# Add current working directory to sys.path\n",
    "sys.path.append(ROOT)\n",
    "sys.path.append(r\"C:\\Users\\oudao\\Documents\\3DPU_Plateau_Problem\")\n",
    "from PointList import *\n",
    "%matplotlib widget \n",
    "import matplotlib\n",
    "from mpl_toolkits.mplot3d import Axes3D\n",
    "import matplotlib.pyplot as plt\n",
    "from tqdm import tqdm\n",
    "import math\n",
    "from _3DLoops._3dpu_using_dfs import *\n",
    "from Block_edges.block_edges import *"
   ]
  },
  {
   "cell_type": "code",
   "execution_count": 2,
   "metadata": {},
   "outputs": [],
   "source": [
    "import pickle\n",
    "\n",
    "# Specify the file path\n",
    "file_path = r\"C:\\Users\\oudao\\Documents\\3DPU_Plateau_Problem\\Results\\ph_loops.pkl\"\n",
    "\n",
    "# Load the pickle file\n",
    "with open(file_path, \"rb\") as file:\n",
    "    C = pickle.load(file)\n",
    "\n"
   ]
  },
  {
   "cell_type": "code",
   "execution_count": 3,
   "metadata": {},
   "outputs": [],
   "source": [
    "def transform_euclidean(point):\n",
    "    i,j,k = point[0], point[1], point[2]\n",
    "    axe = point[3]\n",
    "    if axe == 0:\n",
    "        return [i,j+0.5,k+0.5]\n",
    "    if axe == 1:\n",
    "        return [i+0.5,j,k+0.5]\n",
    "    if axe == 2:\n",
    "        return [i+0.5,j+0.5,k]\n",
    "    "
   ]
  },
  {
   "cell_type": "code",
   "execution_count": 9,
   "metadata": {},
   "outputs": [],
   "source": [
    "Closed_paths = C.cycles\n",
    "Polygones = []\n",
    "for path in Closed_paths:\n",
    "    polygone = PointList()\n",
    "    for i in path[:-1]:\n",
    "        polygone.add_point(transform_euclidean(C.mapping[i]))\n",
    "    Polygones.append(polygone)"
   ]
  },
  {
   "cell_type": "code",
   "execution_count": 117,
   "metadata": {},
   "outputs": [
    {
     "name": "stderr",
     "output_type": "stream",
     "text": [
      " 10%|█         | 1/10 [00:15<02:18, 15.35s/it]"
     ]
    },
    {
     "name": "stdout",
     "output_type": "stream",
     "text": [
      "77.63265802950639\n",
      "0.0\n"
     ]
    },
    {
     "name": "stderr",
     "output_type": "stream",
     "text": [
      " 30%|███       | 3/10 [00:18<00:35,  5.07s/it]"
     ]
    },
    {
     "name": "stdout",
     "output_type": "stream",
     "text": [
      "73.1519740642744\n",
      "0.0\n"
     ]
    },
    {
     "name": "stderr",
     "output_type": "stream",
     "text": [
      " 50%|█████     | 5/10 [00:19<00:14,  2.87s/it]"
     ]
    },
    {
     "name": "stdout",
     "output_type": "stream",
     "text": [
      "192.20463829214634\n"
     ]
    },
    {
     "name": "stderr",
     "output_type": "stream",
     "text": [
      " 60%|██████    | 6/10 [00:22<00:10,  2.69s/it]"
     ]
    },
    {
     "name": "stdout",
     "output_type": "stream",
     "text": [
      "121.00133902368144\n",
      "0.0\n"
     ]
    },
    {
     "name": "stderr",
     "output_type": "stream",
     "text": [
      " 80%|████████  | 8/10 [00:26<00:04,  2.45s/it]"
     ]
    },
    {
     "name": "stdout",
     "output_type": "stream",
     "text": [
      "88.44611460740074\n"
     ]
    },
    {
     "name": "stderr",
     "output_type": "stream",
     "text": [
      " 90%|█████████ | 9/10 [00:27<00:02,  2.24s/it]"
     ]
    },
    {
     "name": "stdout",
     "output_type": "stream",
     "text": [
      "268.45418829643876\n"
     ]
    },
    {
     "name": "stderr",
     "output_type": "stream",
     "text": [
      "100%|██████████| 10/10 [00:36<00:00,  3.62s/it]"
     ]
    },
    {
     "name": "stdout",
     "output_type": "stream",
     "text": [
      "170.5666604249068\n"
     ]
    },
    {
     "name": "stderr",
     "output_type": "stream",
     "text": [
      "\n"
     ]
    }
   ],
   "source": [
    "List_M = []\n",
    "for polygone in tqdm(Polygones[:10]):\n",
    "    if len(polygone.points) < 6:\n",
    "        Nbre = len(polygone.points)\n",
    "    else:\n",
    "        Nbre = 300*len(polygone.points)\n",
    "    M = Edge_Flipping(polygone,Nbre)\n",
    "    M.create_quadrilaterals()\n",
    "    M.split_quadrilateral()\n",
    "    M.canonic_representation_from_mesh()\n",
    "\n",
    "    M.update_weights()\n",
    "    area = M.calculate_area()\n",
    "    for i in (M.inside_indexes):\n",
    "        M.update_mapping(i)\n",
    "    D = M.lawson_flip()\n",
    "    new_area = M.calculate_area()\n",
    "    while  area - new_area > 0.01:\n",
    "        area = M.calculate_area()\n",
    "        M.update_weights()\n",
    "        for i in (M.inside_indexes):\n",
    "            M.update_mapping(i)\n",
    "        M.lawson_flip()\n",
    "        new_area = M.calculate_area()\n",
    "    print(M.compute_mean_curvature())\n",
    "    List_M.append(M)\n",
    "    \n"
   ]
  },
  {
   "cell_type": "code",
   "execution_count": 118,
   "metadata": {},
   "outputs": [
    {
     "ename": "ValueError",
     "evalue": "setting an array element with a sequence. The requested array has an inhomogeneous shape after 1 dimensions. The detected shape was (28705,) + inhomogeneous part.",
     "output_type": "error",
     "traceback": [
      "\u001b[1;31m---------------------------------------------------------------------------\u001b[0m",
      "\u001b[1;31mValueError\u001b[0m                                Traceback (most recent call last)",
      "Cell \u001b[1;32mIn[118], line 42\u001b[0m\n\u001b[0;32m     36\u001b[0m Y\u001b[38;5;241m.\u001b[39mappend(y)\n\u001b[0;32m     37\u001b[0m Z\u001b[38;5;241m.\u001b[39mappend(z)\n\u001b[1;32m---> 42\u001b[0m X \u001b[38;5;241m=\u001b[39m \u001b[43mnp\u001b[49m\u001b[38;5;241;43m.\u001b[39;49m\u001b[43marray\u001b[49m\u001b[43m(\u001b[49m\u001b[43mX\u001b[49m\u001b[43m)\u001b[49m\n\u001b[0;32m     43\u001b[0m Y \u001b[38;5;241m=\u001b[39m np\u001b[38;5;241m.\u001b[39marray(Y)\n\u001b[0;32m     44\u001b[0m Z \u001b[38;5;241m=\u001b[39m np\u001b[38;5;241m.\u001b[39marray(Z)\n",
      "\u001b[1;31mValueError\u001b[0m: setting an array element with a sequence. The requested array has an inhomogeneous shape after 1 dimensions. The detected shape was (28705,) + inhomogeneous part."
     ]
    }
   ],
   "source": [
    "fig = plt.figure()\n",
    "ax = fig.add_subplot(111, projection='3d')\n",
    "ax.set_aspect('equal')\n",
    "J = M\n",
    "X = []\n",
    "Y = []\n",
    "Z = []\n",
    "# for J in Meshes:\n",
    "for tr in J.triangles:\n",
    "    xs = [J.mapping[ind][0] for ind in tr] + [J.mapping[tr[0]][0]]\n",
    "    ys = [J.mapping[ind][1] for ind in tr] + [J.mapping[tr[0]][1]]\n",
    "    zs = [J.mapping[ind][2] for ind in tr] + [J.mapping[tr[0]][2]]\n",
    "    ax.plot(xs,ys,zs)\n",
    "    \n",
    "    X = X + list(xs)\n",
    "    Y = Y + list(ys)\n",
    "    Z = Z + list(zs)\n",
    "\n",
    "# for edge in edges_m:\n",
    "#     x = [edge[0][0], edge[1][0]]\n",
    "#     y = [edge[0][1], edge[1][1]]\n",
    "#     z = [edge[0][2], edge[1][2]]\n",
    "#     ax.plot(x, y, z, color =\"black\")\n",
    "\n",
    "x,y,z = [],[],[]\n",
    "for k in J.boundary.points:\n",
    "    L =  k\n",
    "    x.append(L[0])\n",
    "    y.append(L[1])\n",
    "    z.append(L[2])\n",
    "\n",
    "\n",
    "plt.plot(x+[x[0]],y+[y[0]],z+[z[0]],color='blue') \n",
    "\n",
    "X.append(x)\n",
    "Y.append(y)\n",
    "Z.append(z)\n",
    "\n",
    "\n",
    "\n",
    "\n",
    "X = np.array(X)\n",
    "Y = np.array(Y)\n",
    "Z = np.array(Z)\n",
    "max_range = np.array([X.max()-X.min(), Y.max()-Y.min(), Z.max()-Z.min()]).max() / 2.0 \n",
    "\n",
    "mid_x = (X.max()+X.min()) * 0.5\n",
    "mid_y = (Y.max()+Y.min()) * 0.5\n",
    "mid_z = (Z.max()+Z.min()) * 0.5\n",
    "ax.set_xlim(mid_x - max_range, mid_x + max_range)\n",
    "ax.set_ylim(mid_y - max_range, mid_y + max_range)\n",
    "ax.set_zlim(mid_z - max_range, mid_z + max_range)\n"
   ]
  },
  {
   "cell_type": "code",
   "execution_count": 116,
   "metadata": {},
   "outputs": [
    {
     "name": "stdout",
     "output_type": "stream",
     "text": [
      "4.880537853092016\n",
      "4.883982081038319\n",
      "4.915030627050713\n",
      "4.905982148752638\n",
      "4.945205364023377\n"
     ]
    },
    {
     "ename": "KeyboardInterrupt",
     "evalue": "",
     "output_type": "error",
     "traceback": [
      "\u001b[1;31m---------------------------------------------------------------------------\u001b[0m",
      "\u001b[1;31mKeyboardInterrupt\u001b[0m                         Traceback (most recent call last)",
      "Cell \u001b[1;32mIn[116], line 13\u001b[0m\n\u001b[0;32m     11\u001b[0m M\u001b[38;5;241m.\u001b[39mupdate_weights()\n\u001b[0;32m     12\u001b[0m \u001b[38;5;28;01mfor\u001b[39;00m i \u001b[38;5;129;01min\u001b[39;00m (M\u001b[38;5;241m.\u001b[39minside_indexes):\n\u001b[1;32m---> 13\u001b[0m     \u001b[43mM\u001b[49m\u001b[38;5;241;43m.\u001b[39;49m\u001b[43mupdate_mapping\u001b[49m\u001b[43m(\u001b[49m\u001b[43mi\u001b[49m\u001b[43m)\u001b[49m\n\u001b[0;32m     14\u001b[0m M\u001b[38;5;241m.\u001b[39mlawson_flip()\n",
      "File \u001b[1;32m~\\Documents\\3DPU_Plateau_Problem\\Plateau_Problem\\Triangulation_Meshing\\Flairing_Laplace.py:59\u001b[0m, in \u001b[0;36mUpdating_Laplace.update_mapping\u001b[1;34m(self, i)\u001b[0m\n\u001b[0;32m     57\u001b[0m P \u001b[38;5;241m=\u001b[39m np\u001b[38;5;241m.\u001b[39marray([\u001b[38;5;241m0\u001b[39m,\u001b[38;5;241m0\u001b[39m,\u001b[38;5;241m0\u001b[39m])\n\u001b[0;32m     58\u001b[0m \u001b[38;5;28;01mfor\u001b[39;00m k \u001b[38;5;129;01min\u001b[39;00m N_i :\n\u001b[1;32m---> 59\u001b[0m     P \u001b[38;5;241m=\u001b[39m P \u001b[38;5;241m+\u001b[39m (\u001b[38;5;28mself\u001b[39m\u001b[38;5;241m.\u001b[39mw[i,k])\u001b[38;5;241m*\u001b[39mnp\u001b[38;5;241m.\u001b[39marray(\u001b[38;5;28mself\u001b[39m\u001b[38;5;241m.\u001b[39mmapping[k])\n\u001b[0;32m     61\u001b[0m \u001b[38;5;28mself\u001b[39m\u001b[38;5;241m.\u001b[39mmapping[i] \u001b[38;5;241m=\u001b[39m P\n\u001b[0;32m     63\u001b[0m \u001b[38;5;28;01mfor\u001b[39;00m k \u001b[38;5;129;01min\u001b[39;00m N_i:\n",
      "\u001b[1;31mKeyboardInterrupt\u001b[0m: "
     ]
    }
   ],
   "source": [
    "\n",
    "for i in (M.inside_indexes):\n",
    "    M.update_mapping(i)\n",
    "D = M.lawson_flip()\n",
    "new_area = M.calculate_area()\n",
    "curvature = M.compute_mean_curvature()\n",
    "while  curvature > 1:\n",
    "\n",
    "    area = M.calculate_area()\n",
    "    print(area,curvature)\n",
    "    curvature = M.compute_mean_curvature()\n",
    "    M.update_weights()\n",
    "    for i in (M.inside_indexes):\n",
    "        M.update_mapping(i)\n",
    "    M.lawson_flip()\n"
   ]
  }
 ],
 "metadata": {
  "kernelspec": {
   "display_name": "Python 3",
   "language": "python",
   "name": "python3"
  },
  "language_info": {
   "codemirror_mode": {
    "name": "ipython",
    "version": 3
   },
   "file_extension": ".py",
   "mimetype": "text/x-python",
   "name": "python",
   "nbconvert_exporter": "python",
   "pygments_lexer": "ipython3",
   "version": "3.11.7"
  }
 },
 "nbformat": 4,
 "nbformat_minor": 2
}
